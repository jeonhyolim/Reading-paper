{
 "cells": [
  {
   "cell_type": "markdown",
   "id": "5adc156f",
   "metadata": {},
   "source": [
    "# 앞에 부분에서 필요한 코드 불러오기"
   ]
  },
  {
   "cell_type": "code",
   "execution_count": 1,
   "id": "bafe9032",
   "metadata": {},
   "outputs": [
    {
     "name": "stderr",
     "output_type": "stream",
     "text": [
      "/home/dsail/hyolim/hyolim_py38/lib/python3.8/site-packages/tqdm/auto.py:22: TqdmWarning: IProgress not found. Please update jupyter and ipywidgets. See https://ipywidgets.readthedocs.io/en/stable/user_install.html\n",
      "  from .autonotebook import tqdm as notebook_tqdm\n"
     ]
    }
   ],
   "source": [
    "import torch\n",
    "import torch.nn as nn\n",
    "import torch.optim as optim\n",
    "\n",
    "import torchtext\n",
    "from torchtext.datasets import TranslationDataset, Multi30k\n",
    "from torchtext import data \n",
    "from torchtext.data import Field, BucketIterator\n",
    "# from torchtext.legacy.data import Field, BucketIterator\n",
    "\n",
    "import matplotlib.pyplot as plt\n",
    "import matplotlib.ticker as ticker\n",
    "\n",
    "import spacy\n",
    "import numpy as np\n",
    "\n",
    "import random\n",
    "import math\n",
    "import time"
   ]
  },
  {
   "cell_type": "code",
   "execution_count": 2,
   "id": "de64743a",
   "metadata": {},
   "outputs": [],
   "source": [
    "SEED = 1234\n",
    "\n",
    "random.seed(SEED)\n",
    "np.random.seed(SEED)\n",
    "torch.manual_seed(SEED)\n",
    "torch.cuda.manual_seed(SEED)\n",
    "torch.backends.cudnn.deterministic = True\n",
    "\n",
    "spacy_de = spacy.load('de_core_news_sm')\n",
    "spacy_en = spacy.load('en_core_web_sm')"
   ]
  },
  {
   "cell_type": "code",
   "execution_count": 3,
   "id": "2d46c8df",
   "metadata": {},
   "outputs": [],
   "source": [
    "def tokenize_de(text):\n",
    "    return [tok.text for tok in spacy_de.tokenizer(text)]\n",
    "\n",
    "def tokenize_en(text):\n",
    "    return [tok.text for tok in spacy_en.tokenizer(text)]\n",
    "\n",
    "SRC = data.Field(tokenize = tokenize_de, init_token = '<sos>', eos_token = '<eos>', lower = True, batch_first = True)\n",
    "TRG = data.Field(tokenize = tokenize_en, init_token = '<sos>', eos_token = '<eos>', lower = True, batch_first = True)\n",
    "\n",
    "train_data, valid_data, test_data = Multi30k.splits(exts = ('.de', '.en'), fields = (SRC, TRG))\n",
    "\n",
    "SRC.build_vocab(train_data, min_freq = 2)\n",
    "TRG.build_vocab(train_data, min_freq = 2)"
   ]
  },
  {
   "cell_type": "code",
   "execution_count": 4,
   "id": "6f7b0473",
   "metadata": {},
   "outputs": [],
   "source": [
    "device = torch.device('cuda:1' if torch.cuda.is_available() else 'cpu')\n",
    "\n",
    "BATCH_SIZE = 128 # 배치 크기(batch size): 128\n",
    "\n",
    "train_iterator, valid_iterator, test_iterator = BucketIterator.splits(\n",
    "    (train_data, valid_data, test_data), \n",
    "     batch_size = BATCH_SIZE,\n",
    "     device = device)"
   ]
  },
  {
   "cell_type": "code",
   "execution_count": 5,
   "id": "759ce91f",
   "metadata": {},
   "outputs": [
    {
     "name": "stdout",
     "output_type": "stream",
     "text": [
      "<class 'torchtext.data.batch.Batch'>\n",
      "\n",
      "[torchtext.data.batch.Batch of size 128 from MULTI30K]\n",
      "\t[.src]:[torch.cuda.LongTensor of size 128x33 (GPU 1)]\n",
      "\t[.trg]:[torch.cuda.LongTensor of size 128x35 (GPU 1)]\n",
      "torch.Size([128, 33])\n"
     ]
    },
    {
     "data": {
      "text/plain": [
       "tensor([[ 2,  8, 67,  ...,  1,  1,  1],\n",
       "        [ 2, 43, 41,  ...,  1,  1,  1],\n",
       "        [ 2,  8, 16,  ...,  1,  1,  1],\n",
       "        ...,\n",
       "        [ 2,  8, 36,  ...,  1,  1,  1],\n",
       "        [ 2,  5, 13,  ...,  1,  1,  1],\n",
       "        [ 2,  8, 16,  ...,  1,  1,  1]], device='cuda:1')"
      ]
     },
     "execution_count": 5,
     "metadata": {},
     "output_type": "execute_result"
    }
   ],
   "source": [
    "for i, batch in enumerate(train_iterator):\n",
    "    src = batch.src\n",
    "    trg = batch.trg\n",
    "    break\n",
    "    \n",
    "# src 정의하기\n",
    "batch = next(iter(train_iterator))\n",
    "print(type(batch))\n",
    "print(batch)\n",
    "src = batch.src\n",
    "src\n",
    "x=src\n",
    "print(x.shape)\n",
    "x"
   ]
  },
  {
   "cell_type": "code",
   "execution_count": 6,
   "id": "6839eaf3",
   "metadata": {},
   "outputs": [],
   "source": [
    "# 정의\n",
    "INPUT_DIM = len(SRC.vocab)\n",
    "OUTPUT_DIM = len(TRG.vocab)\n",
    "HID_DIM = 256\n",
    "ENC_LAYERS = 3\n",
    "DEC_LAYERS = 3\n",
    "ENC_HEADS = 8\n",
    "DEC_HEADS = 8\n",
    "ENC_PF_DIM = 512\n",
    "DEC_PF_DIM = 512\n",
    "ENC_DROPOUT = 0.1\n",
    "DEC_DROPOUT = 0.1\n",
    "\n",
    "input_dim=INPUT_DIM\n",
    "hid_dim=HID_DIM\n",
    "n_layers=ENC_LAYERS\n",
    "n_heads=ENC_HEADS\n",
    "pf_dim=ENC_PF_DIM\n",
    "dropout=ENC_DROPOUT\n",
    "device=device\n",
    "max_length = 100\n",
    "output_dim = OUTPUT_DIM"
   ]
  },
  {
   "cell_type": "code",
   "execution_count": 7,
   "id": "e26202ce",
   "metadata": {},
   "outputs": [],
   "source": [
    "class EncoderLayer(nn.Module):\n",
    "    def __init__(self, hid_dim, n_heads, pf_dim,dropout, device):\n",
    "        super().__init__()\n",
    "        self.self_attn_layer_norm = nn.LayerNorm(hid_dim)\n",
    "        self.self_attention = MultiHeadAttentionLayer(hid_dim, n_heads, dropout, device) # 멀티-헤드 어텐션\n",
    "        self.positionwise_feedforward = PositionwiseFeedforwardLayer(hid_dim, pf_dim, dropout) # 위치인코더 -> 위치 인코딩       \n",
    "        self.ff_layer_norm = nn.LayerNorm(hid_dim) # 덧셈과 계층 정규화 \n",
    "        self.dropout = nn.Dropout(dropout)\n",
    "          \n",
    "    def forward(self, src, src_mask):\n",
    "        _src, _ = self.self_attention(src, src, src, src_mask) ##########\n",
    "        src = self.self_attn_layer_norm(src + self.dropout(_src))\n",
    "        _src = self.positionwise_feedforward(src)\n",
    "        src = self.ff_layer_norm(src + self.dropout(_src))\n",
    "        return src"
   ]
  },
  {
   "cell_type": "code",
   "execution_count": 8,
   "id": "a1c96029",
   "metadata": {},
   "outputs": [],
   "source": [
    "class Encoder(nn.Module):\n",
    "    def __init__(self,input_dim, hid_dim, n_layers, n_heads, pf_dim,dropout, device,max_length = 100):\n",
    "        super().__init__()\n",
    "        self.device = device        \n",
    "        self.tok_embedding = nn.Embedding(input_dim, hid_dim)\n",
    "        self.pos_embedding = nn.Embedding(max_length, hid_dim)        \n",
    "        self.layers = nn.ModuleList([EncoderLayer(hid_dim, n_heads, pf_dim,dropout, device) for _ in range(n_layers)])\n",
    "        self.dropout = nn.Dropout(dropout)\n",
    "        self.scale = torch.sqrt(torch.FloatTensor([hid_dim])).to(device)\n",
    "        \n",
    "    def forward(self, src, src_mask):\n",
    "        batch_size = src.shape[0]\n",
    "        src_len = src.shape[1]\n",
    "        pos = torch.arange(0, src_len).unsqueeze(0).repeat(batch_size, 1).to(self.device)\n",
    "        src = self.dropout((self.tok_embedding(src) * self.scale) + self.pos_embedding(pos))\n",
    "        for layer in self.layers:\n",
    "            src = layer(src, src_mask)\n",
    "        return src # 마지막 레이어의 출력을 반환"
   ]
  },
  {
   "cell_type": "code",
   "execution_count": 9,
   "id": "73833a0b",
   "metadata": {},
   "outputs": [],
   "source": [
    "class MultiHeadAttentionLayer(nn.Module):\n",
    "    def __init__(self, hid_dim, n_heads, dropout, device):\n",
    "        super().__init__()        \n",
    "        assert hid_dim % n_heads == 0    # assert: 가정 설정문, 뒤의 조건이 True가 아니면 error를 발생시킴\n",
    "        self.hid_dim = hid_dim \n",
    "        self.n_heads = n_heads\n",
    "        self.head_dim = hid_dim // n_heads # d_model의 차원을 n_heads개로 나누어서 병렬 어텐션 수행.\n",
    "        self.fc_q = nn.Linear(hid_dim, hid_dim)\n",
    "        self.fc_k = nn.Linear(hid_dim, hid_dim)\n",
    "        self.fc_v = nn.Linear(hid_dim, hid_dim)        \n",
    "        self.fc_o = nn.Linear(hid_dim, hid_dim) # WO(weight matrix)에 해당하는 밀집층 정의        \n",
    "        self.dropout = nn.Dropout(dropout)        \n",
    "        self.scale = torch.sqrt(torch.FloatTensor([self.head_dim])).to(device)    \n",
    "        \n",
    "    def forward(self, query, key, value, mask = None): #######        \n",
    "        batch_size = query.shape[0]                \n",
    "        Q = self.fc_q(query)\n",
    "        K = self.fc_k(key)\n",
    "        V = self.fc_v(value)\n",
    "        Q = Q.view(batch_size, -1, self.n_heads, self.head_dim).permute(0, 2, 1, 3)\n",
    "        K = K.view(batch_size, -1, self.n_heads, self.head_dim).permute(0, 2, 1, 3)\n",
    "        V = V.view(batch_size, -1, self.n_heads, self.head_dim).permute(0, 2, 1, 3)\n",
    "        energy = torch.matmul(Q, K.permute(0, 1, 3, 2)) / self.scale # Attention Energy 계산    \n",
    "        if mask is not None:\n",
    "            energy = energy.masked_fill(mask == 0, -1e10)\n",
    "        attention = torch.softmax(energy, dim = -1)\n",
    "        x = torch.matmul(self.dropout(attention), V)\n",
    "        x = x.permute(0, 2, 1, 3).contiguous()\n",
    "        x = x.view(batch_size, -1, self.hid_dim)\n",
    "        x = self.fc_o(x)\n",
    "        return x, attention"
   ]
  },
  {
   "cell_type": "code",
   "execution_count": 10,
   "id": "e9d4d604",
   "metadata": {},
   "outputs": [],
   "source": [
    "class PositionwiseFeedforwardLayer(nn.Module):\n",
    "    def __init__(self, hid_dim, pf_dim, dropout):\n",
    "        super().__init__()        \n",
    "        self.fc_1 = nn.Linear(hid_dim, pf_dim)\n",
    "        self.fc_2 = nn.Linear(pf_dim, hid_dim) # fc를 두 번 거쳐서 입력과 출력 차원이 동일하도록(인풋의 shape를 그대로 유지함) 해줌        \n",
    "        self.dropout = nn.Dropout(dropout)        \n",
    "    def forward(self, x):\n",
    "        x = self.dropout(torch.relu(self.fc_1(x)))\n",
    "        x = self.fc_2(x)\n",
    "        return x"
   ]
  },
  {
   "cell_type": "code",
   "execution_count": 11,
   "id": "9ad5e8c2",
   "metadata": {},
   "outputs": [],
   "source": [
    "class DecoderLayer(nn.Module):\n",
    "    def __init__(self, hid_dim, n_heads, pf_dim, dropout, device):\n",
    "        super().__init__()\n",
    "        self.self_attn_layer_norm = nn.LayerNorm(hid_dim)\n",
    "        self.self_attention = MultiHeadAttentionLayer(hid_dim, n_heads, dropout, device)\n",
    "        self.encoder_attention = MultiHeadAttentionLayer(hid_dim, n_heads, dropout, device)\n",
    "        self.enc_attn_layer_norm = nn.LayerNorm(hid_dim)       \n",
    "        self.positionwise_feedforward = PositionwiseFeedforwardLayer(hid_dim, pf_dim, dropout)        \n",
    "        self.ff_layer_norm = nn.LayerNorm(hid_dim)        \n",
    "        self.dropout = nn.Dropout(dropout)\n",
    "\n",
    "    def forward(self, trg, enc_src, trg_mask, src_mask):\n",
    "        _trg, _ = self.self_attention(trg, trg, trg, trg_mask)\n",
    "        trg = self.self_attn_layer_norm(trg + self.dropout(_trg))\n",
    "        _trg, attention = self.encoder_attention(trg, enc_src, enc_src, src_mask)\n",
    "        trg = self.enc_attn_layer_norm(trg + self.dropout(_trg))\n",
    "        _trg = self.positionwise_feedforward(trg)\n",
    "        trg = self.ff_layer_norm(trg + self.dropout(_trg))\n",
    "        return trg, attention"
   ]
  },
  {
   "cell_type": "markdown",
   "id": "448303d9",
   "metadata": {},
   "source": [
    "## 2.6 디코더 아키텍처\n",
    "* 하이퍼 파라미터(hyperparameter)\n",
    "    * output_dim: 하나의 단어에 대한 원 핫 인코딩 차원\n",
    "    * hidden_dim: 하나의 단어에 대한 임베딩 차원\n",
    "    * n_layers: 내부적으로 사용할 인코더 레이어의 개수\n",
    "    * n_heads: 헤드(head)의 개수 = scaled dot-product attention의 개수\n",
    "    * pf_dim: Feedforward 레이어에서의 내부 임베딩 차원\n",
    "    * dropout_ratio: 드롭아웃(dropout) 비율\n",
    "    * max_length: 문장 내 최대 단어 개수\n",
    "* 원본 논문과는 다르게 위치 임베딩(positional embedding)을 학습하는 형태로 구현.\n",
    "    * 이는 BERT와 같은 모던 트랜스포머 아키텍처에서 사용되는 방식임.\n",
    "* Seq2Seq과는 마찬가지로 실제로 추론(inference) 시기에서는 디코더를 반복적으로 넣을 필요가 있음.\n",
    "    * 학습(training) 시기에서는 한 번에 출력 문장을 구해 학습 가능.\n",
    "* 소스 문장의 pad 토큰에 대하여 마스크(mask) 값을 0으로 설정합니다.\n",
    "* 타겟 문장에서 각 단어는 다음 단어가 무엇인지 알 수 없도록(이전 단어만 보도록) 만들기 위해 마스크를 사용."
   ]
  },
  {
   "cell_type": "code",
   "execution_count": 12,
   "id": "545801b6",
   "metadata": {},
   "outputs": [],
   "source": [
    "class Decoder(nn.Module):\n",
    "    def __init__(self, output_dim, hid_dim, n_layers, n_heads, pf_dim, dropout, device,max_length = 100):\n",
    "        super().__init__()\n",
    "        \n",
    "        self.device = device\n",
    "        \n",
    "        self.tok_embedding = nn.Embedding(output_dim, hid_dim)\n",
    "        self.pos_embedding = nn.Embedding(max_length, hid_dim)\n",
    "        \n",
    "        self.layers = nn.ModuleList([DecoderLayer(hid_dim, n_heads, pf_dim, dropout, device) for _ in range(n_layers)])\n",
    "        \n",
    "        self.fc_out = nn.Linear(hid_dim, output_dim)\n",
    "        \n",
    "        self.dropout = nn.Dropout(dropout)\n",
    "        \n",
    "        self.scale = torch.sqrt(torch.FloatTensor([hid_dim])).to(device)\n",
    "        \n",
    "    def forward(self, trg, enc_src, trg_mask, src_mask):\n",
    "        \n",
    "        #trg = [batch size, trg len]\n",
    "        #enc_src = [batch size, src len, hid dim]\n",
    "        #trg_mask = [batch size, 1, trg len, trg len]\n",
    "        #src_mask = [batch size, 1, 1, src len]\n",
    "                \n",
    "        batch_size = trg.shape[0]\n",
    "        trg_len = trg.shape[1]\n",
    "        \n",
    "        pos = torch.arange(0, trg_len).unsqueeze(0).repeat(batch_size, 1).to(self.device)\n",
    "                            \n",
    "        #pos = [batch size, trg len]\n",
    "            \n",
    "        trg = self.dropout((self.tok_embedding(trg) * self.scale) + self.pos_embedding(pos))\n",
    "                \n",
    "        #trg = [batch size, trg len, hid dim]\n",
    "        \n",
    "        for layer in self.layers:\n",
    "            # 소스 마스크와 타겟 마스크 모두 사용\n",
    "            trg, attention = layer(trg, enc_src, trg_mask, src_mask)\n",
    "        \n",
    "        #trg = [batch size, trg len, hid dim]\n",
    "        #attention = [batch size, n heads, trg len, src len]\n",
    "        \n",
    "        output = self.fc_out(trg)\n",
    "        \n",
    "        #output = [batch size, trg len, output dim]\n",
    "            \n",
    "        return output, attention"
   ]
  },
  {
   "cell_type": "markdown",
   "id": "a9eea058",
   "metadata": {},
   "source": [
    "### enc_src는 encoder를 거친 src이다"
   ]
  },
  {
   "cell_type": "code",
   "execution_count": 13,
   "id": "35d3c59c",
   "metadata": {},
   "outputs": [
    {
     "name": "stdout",
     "output_type": "stream",
     "text": [
      "torch.Size([128, 33])\n"
     ]
    },
    {
     "data": {
      "text/plain": [
       "torch.Size([128, 33, 256])"
      ]
     },
     "execution_count": 13,
     "metadata": {},
     "output_type": "execute_result"
    }
   ],
   "source": [
    "#  인코더 필요한 부분 정의\n",
    "device = device\n",
    "tok_embedding = nn.Embedding(input_dim, hid_dim).to(device) # Embedding(7853, 256)\n",
    "pos_embedding = nn.Embedding(max_length, hid_dim).to(device) # Embedding(100, 256)\n",
    "layers = nn.ModuleList([EncoderLayer(hid_dim, n_heads, pf_dim,0.1, device) for _ in range(n_layers)]).to(device) \n",
    "dropout = nn.Dropout(0.1).to(device) # Dropout(p=0.1, inplace=False)\n",
    "scale = torch.sqrt(torch.FloatTensor([hid_dim])).to(device) # tensor([16.])\n",
    "\n",
    "batch_size = src.shape[0] # 128\n",
    "src_len = src.shape[1] # \n",
    "\n",
    "pos = torch.arange(0, src_len).unsqueeze(0).repeat(batch_size, 1).to(device)\n",
    "print(pos.shape)          #pos = [batch size, src len]\n",
    "\n",
    "SRC_PAD_IDX = SRC.vocab.stoi[SRC.pad_token]\n",
    "src_pad_idx=SRC_PAD_IDX\n",
    "src_mask = (src != src_pad_idx).unsqueeze(1).unsqueeze(2)\n",
    "src_mask\n",
    "src_mask.shape  #src_mask = [batch size, 1, 1, src len]\n",
    "\n",
    "src = dropout((tok_embedding(src) * scale) + pos_embedding(pos))\n",
    "src.shape\n",
    "\n",
    "for layer in layers:\n",
    "    src = layer(src, src_mask)\n",
    "src \n",
    "src.shape"
   ]
  },
  {
   "cell_type": "markdown",
   "id": "92beff52",
   "metadata": {},
   "source": [
    "### forward 시행 위한 enc_src 값 정의"
   ]
  },
  {
   "cell_type": "code",
   "execution_count": 14,
   "id": "634e83d7",
   "metadata": {},
   "outputs": [
    {
     "name": "stdout",
     "output_type": "stream",
     "text": [
      "torch.Size([128, 33, 256])\n"
     ]
    }
   ],
   "source": [
    "encoder = Encoder\n",
    "encoder = encoder\n",
    "\n",
    "enc_src =src\n",
    "print(enc_src.shape)"
   ]
  },
  {
   "cell_type": "markdown",
   "id": "c56f27d7",
   "metadata": {},
   "source": [
    "### 디코더 아키텍처 이제 코드 하기\n",
    "def __init__(self, output_dim, hid_dim, n_layers, n_heads, pf_dim, dropout, device,max_length = 100):"
   ]
  },
  {
   "cell_type": "code",
   "execution_count": 15,
   "id": "fc85edfc",
   "metadata": {},
   "outputs": [],
   "source": [
    "# 정의\n",
    "device = device\n",
    "\n",
    "tok_embedding = nn.Embedding(output_dim, hid_dim).to(device) # Embedding(5893, 256)\n",
    "pos_embedding = nn.Embedding(max_length, hid_dim).to(device) # Embedding(100, 256)\n",
    "\n",
    "layers = nn.ModuleList([DecoderLayer(hid_dim, n_heads, pf_dim, 0.1, device) for _ in range(n_layers)]).to(device)\n",
    "fc_out = nn.Linear(hid_dim, output_dim).to(device) # Linear(in_features=256, out_features=5893, bias=True)\n",
    "dropout = nn.Dropout(0.1).to(device)\n",
    "scale = torch.sqrt(torch.FloatTensor([hid_dim])).to(device)"
   ]
  },
  {
   "cell_type": "markdown",
   "id": "b7d730ee",
   "metadata": {},
   "source": [
    "trg_mask 정의 //  def make_trg_mask(self, trg):"
   ]
  },
  {
   "cell_type": "code",
   "execution_count": 16,
   "id": "2ad02168",
   "metadata": {},
   "outputs": [
    {
     "name": "stdout",
     "output_type": "stream",
     "text": [
      "1\n"
     ]
    }
   ],
   "source": [
    "# trg_mask 정의 //  def make_trg_mask(self, trg):\n",
    "TRG_PAD_IDX = TRG.vocab.stoi[TRG.pad_token]\n",
    "trg_pad_idx=TRG_PAD_IDX\n",
    "print(trg_pad_idx)"
   ]
  },
  {
   "cell_type": "code",
   "execution_count": 17,
   "id": "e2671261",
   "metadata": {
    "scrolled": false
   },
   "outputs": [
    {
     "name": "stdout",
     "output_type": "stream",
     "text": [
      "torch.Size([128, 21])\n"
     ]
    },
    {
     "data": {
      "text/plain": [
       "tensor([[   2,   14,   13,  ...,    1,    1,    1],\n",
       "        [   2,   19, 1693,  ...,    1,    1,    1],\n",
       "        [   2,    4,  192,  ...,    1,    1,    1],\n",
       "        ...,\n",
       "        [   2,    4,   38,  ...,    1,    1,    1],\n",
       "        [   2,    4,    9,  ...,    1,    1,    1],\n",
       "        [   2,    9,   22,  ...,    1,    1,    1]], device='cuda:1')"
      ]
     },
     "execution_count": 17,
     "metadata": {},
     "output_type": "execute_result"
    }
   ],
   "source": [
    "print(trg.shape)\n",
    "trg"
   ]
  },
  {
   "cell_type": "code",
   "execution_count": 18,
   "id": "af40e99d",
   "metadata": {
    "scrolled": true
   },
   "outputs": [
    {
     "name": "stdout",
     "output_type": "stream",
     "text": [
      "torch.Size([128, 1, 21])\n",
      "torch.Size([128, 1, 1, 21])\n"
     ]
    },
    {
     "data": {
      "text/plain": [
       "tensor([[[[ True,  True,  True,  ..., False, False, False]]],\n",
       "\n",
       "\n",
       "        [[[ True,  True,  True,  ..., False, False, False]]],\n",
       "\n",
       "\n",
       "        [[[ True,  True,  True,  ..., False, False, False]]],\n",
       "\n",
       "\n",
       "        ...,\n",
       "\n",
       "\n",
       "        [[[ True,  True,  True,  ..., False, False, False]]],\n",
       "\n",
       "\n",
       "        [[[ True,  True,  True,  ..., False, False, False]]],\n",
       "\n",
       "\n",
       "        [[[ True,  True,  True,  ..., False, False, False]]]], device='cuda:1')"
      ]
     },
     "execution_count": 18,
     "metadata": {},
     "output_type": "execute_result"
    }
   ],
   "source": [
    "trg_pad_mask = (trg != trg_pad_idx).unsqueeze(1).unsqueeze(2)\n",
    "print((trg != trg_pad_idx).unsqueeze(1).shape)\n",
    "print(trg_pad_mask.shape) #trg_pad_mask = [batch size, 1, 1, trg len]\n",
    "trg_pad_mask "
   ]
  },
  {
   "cell_type": "markdown",
   "id": "8052b58b",
   "metadata": {},
   "source": [
    "* torch.trill\n",
    "    * 행렬의 아래쪽 삼각형 부분을 인풋으로 반환하고 다른 요소는 0으로 바꿈\n",
    "* torch.ones\n",
    "    * 1로 찬 텐서 반환"
   ]
  },
  {
   "cell_type": "code",
   "execution_count": 19,
   "id": "de8d1a91",
   "metadata": {},
   "outputs": [],
   "source": [
    "#torch.ones((trg_len, trg_len)).shape"
   ]
  },
  {
   "cell_type": "code",
   "execution_count": 20,
   "id": "1e0448aa",
   "metadata": {
    "scrolled": true
   },
   "outputs": [
    {
     "name": "stdout",
     "output_type": "stream",
     "text": [
      "torch.Size([21, 21])\n"
     ]
    },
    {
     "data": {
      "text/plain": [
       "tensor([[ True, False, False, False, False, False, False, False, False, False,\n",
       "         False, False, False, False, False, False, False, False, False, False,\n",
       "         False],\n",
       "        [ True,  True, False, False, False, False, False, False, False, False,\n",
       "         False, False, False, False, False, False, False, False, False, False,\n",
       "         False],\n",
       "        [ True,  True,  True, False, False, False, False, False, False, False,\n",
       "         False, False, False, False, False, False, False, False, False, False,\n",
       "         False],\n",
       "        [ True,  True,  True,  True, False, False, False, False, False, False,\n",
       "         False, False, False, False, False, False, False, False, False, False,\n",
       "         False],\n",
       "        [ True,  True,  True,  True,  True, False, False, False, False, False,\n",
       "         False, False, False, False, False, False, False, False, False, False,\n",
       "         False],\n",
       "        [ True,  True,  True,  True,  True,  True, False, False, False, False,\n",
       "         False, False, False, False, False, False, False, False, False, False,\n",
       "         False],\n",
       "        [ True,  True,  True,  True,  True,  True,  True, False, False, False,\n",
       "         False, False, False, False, False, False, False, False, False, False,\n",
       "         False],\n",
       "        [ True,  True,  True,  True,  True,  True,  True,  True, False, False,\n",
       "         False, False, False, False, False, False, False, False, False, False,\n",
       "         False],\n",
       "        [ True,  True,  True,  True,  True,  True,  True,  True,  True, False,\n",
       "         False, False, False, False, False, False, False, False, False, False,\n",
       "         False],\n",
       "        [ True,  True,  True,  True,  True,  True,  True,  True,  True,  True,\n",
       "         False, False, False, False, False, False, False, False, False, False,\n",
       "         False],\n",
       "        [ True,  True,  True,  True,  True,  True,  True,  True,  True,  True,\n",
       "          True, False, False, False, False, False, False, False, False, False,\n",
       "         False],\n",
       "        [ True,  True,  True,  True,  True,  True,  True,  True,  True,  True,\n",
       "          True,  True, False, False, False, False, False, False, False, False,\n",
       "         False],\n",
       "        [ True,  True,  True,  True,  True,  True,  True,  True,  True,  True,\n",
       "          True,  True,  True, False, False, False, False, False, False, False,\n",
       "         False],\n",
       "        [ True,  True,  True,  True,  True,  True,  True,  True,  True,  True,\n",
       "          True,  True,  True,  True, False, False, False, False, False, False,\n",
       "         False],\n",
       "        [ True,  True,  True,  True,  True,  True,  True,  True,  True,  True,\n",
       "          True,  True,  True,  True,  True, False, False, False, False, False,\n",
       "         False],\n",
       "        [ True,  True,  True,  True,  True,  True,  True,  True,  True,  True,\n",
       "          True,  True,  True,  True,  True,  True, False, False, False, False,\n",
       "         False],\n",
       "        [ True,  True,  True,  True,  True,  True,  True,  True,  True,  True,\n",
       "          True,  True,  True,  True,  True,  True,  True, False, False, False,\n",
       "         False],\n",
       "        [ True,  True,  True,  True,  True,  True,  True,  True,  True,  True,\n",
       "          True,  True,  True,  True,  True,  True,  True,  True, False, False,\n",
       "         False],\n",
       "        [ True,  True,  True,  True,  True,  True,  True,  True,  True,  True,\n",
       "          True,  True,  True,  True,  True,  True,  True,  True,  True, False,\n",
       "         False],\n",
       "        [ True,  True,  True,  True,  True,  True,  True,  True,  True,  True,\n",
       "          True,  True,  True,  True,  True,  True,  True,  True,  True,  True,\n",
       "         False],\n",
       "        [ True,  True,  True,  True,  True,  True,  True,  True,  True,  True,\n",
       "          True,  True,  True,  True,  True,  True,  True,  True,  True,  True,\n",
       "          True]], device='cuda:1')"
      ]
     },
     "execution_count": 20,
     "metadata": {},
     "output_type": "execute_result"
    }
   ],
   "source": [
    "trg_len = trg.shape[1]\n",
    "trg_sub_mask = torch.tril(torch.ones((trg_len, trg_len), device = device)).bool()\n",
    "print(trg_sub_mask.shape) #trg_sub_mask = [trg len, trg len]\n",
    "trg_sub_mask"
   ]
  },
  {
   "cell_type": "code",
   "execution_count": 21,
   "id": "743d02e2",
   "metadata": {},
   "outputs": [
    {
     "name": "stdout",
     "output_type": "stream",
     "text": [
      "torch.Size([128, 1, 21, 21])\n"
     ]
    }
   ],
   "source": [
    "trg_mask = trg_pad_mask & trg_sub_mask # True, False로 이루어진 텐서\n",
    "print(trg_mask.shape) #trg_mask = [batch size, 1, trg len, trg len]"
   ]
  },
  {
   "cell_type": "markdown",
   "id": "2fa73ddd",
   "metadata": {},
   "source": [
    "def forward(self, trg, enc_src, trg_mask, src_mask):"
   ]
  },
  {
   "cell_type": "code",
   "execution_count": 22,
   "id": "59331a71",
   "metadata": {},
   "outputs": [
    {
     "name": "stdout",
     "output_type": "stream",
     "text": [
      "torch.Size([128, 21])\n",
      "torch.Size([128, 33, 256])\n",
      "torch.Size([128, 1, 21, 21])\n",
      "torch.Size([128, 1, 1, 33])\n"
     ]
    }
   ],
   "source": [
    "# forward 시행 전 shape 확인하기\n",
    "\n",
    "print(trg.shape)            #trg = [batch size, trg len],trg = batch.trg 라고 위에서 정의함\n",
    "print(enc_src.shape)        #enc_src = [batch size, src len, hid dim]\n",
    "print(trg_mask.shape)        #trg_mask = [batch size, 1, trg len, trg len]\n",
    "print(src_mask.shape)        #src_mask = [batch size, 1, 1, src len]"
   ]
  },
  {
   "cell_type": "code",
   "execution_count": 23,
   "id": "ad125d79",
   "metadata": {},
   "outputs": [],
   "source": [
    "# 1.\n",
    "batch_size = trg.shape[0]\n",
    "trg_len = trg.shape[1]"
   ]
  },
  {
   "cell_type": "code",
   "execution_count": 24,
   "id": "00da4de4",
   "metadata": {},
   "outputs": [
    {
     "name": "stdout",
     "output_type": "stream",
     "text": [
      "torch.Size([128, 21])\n"
     ]
    }
   ],
   "source": [
    "# 2.\n",
    "pos = torch.arange(0, trg_len).unsqueeze(0).repeat(batch_size, 1).to(device)\n",
    "print(pos.shape) #pos = [batch size, trg len]"
   ]
  },
  {
   "cell_type": "code",
   "execution_count": 25,
   "id": "0e8ed6e9",
   "metadata": {},
   "outputs": [
    {
     "name": "stdout",
     "output_type": "stream",
     "text": [
      "torch.Size([128, 21, 256])\n"
     ]
    }
   ],
   "source": [
    "# 3.\n",
    "trg = dropout((tok_embedding(trg) * scale) + pos_embedding(pos))\n",
    "print(trg.shape) #trg = [batch size, trg len, hid dim]"
   ]
  },
  {
   "cell_type": "code",
   "execution_count": 26,
   "id": "a47fd01e",
   "metadata": {},
   "outputs": [
    {
     "name": "stdout",
     "output_type": "stream",
     "text": [
      "torch.Size([128, 21, 256])\n",
      "torch.Size([128, 8, 21, 33])\n"
     ]
    }
   ],
   "source": [
    "# 4.\n",
    "for layer in layers:\n",
    "    # 소스 마스크와 타겟 마스크 모두 사용\n",
    "    trg, attention = layer(trg, enc_src, trg_mask, src_mask)\n",
    "    \n",
    "print(trg.shape) #trg = [batch size, trg len, hid dim]\n",
    "print(attention.shape) #attention = [batch size, n heads, trg len, src len]"
   ]
  },
  {
   "cell_type": "code",
   "execution_count": 27,
   "id": "308ff0c8",
   "metadata": {
    "scrolled": true
   },
   "outputs": [
    {
     "data": {
      "text/plain": [
       "ModuleList(\n",
       "  (0): DecoderLayer(\n",
       "    (self_attn_layer_norm): LayerNorm((256,), eps=1e-05, elementwise_affine=True)\n",
       "    (self_attention): MultiHeadAttentionLayer(\n",
       "      (fc_q): Linear(in_features=256, out_features=256, bias=True)\n",
       "      (fc_k): Linear(in_features=256, out_features=256, bias=True)\n",
       "      (fc_v): Linear(in_features=256, out_features=256, bias=True)\n",
       "      (fc_o): Linear(in_features=256, out_features=256, bias=True)\n",
       "      (dropout): Dropout(p=0.1, inplace=False)\n",
       "    )\n",
       "    (encoder_attention): MultiHeadAttentionLayer(\n",
       "      (fc_q): Linear(in_features=256, out_features=256, bias=True)\n",
       "      (fc_k): Linear(in_features=256, out_features=256, bias=True)\n",
       "      (fc_v): Linear(in_features=256, out_features=256, bias=True)\n",
       "      (fc_o): Linear(in_features=256, out_features=256, bias=True)\n",
       "      (dropout): Dropout(p=0.1, inplace=False)\n",
       "    )\n",
       "    (enc_attn_layer_norm): LayerNorm((256,), eps=1e-05, elementwise_affine=True)\n",
       "    (positionwise_feedforward): PositionwiseFeedforwardLayer(\n",
       "      (fc_1): Linear(in_features=256, out_features=512, bias=True)\n",
       "      (fc_2): Linear(in_features=512, out_features=256, bias=True)\n",
       "      (dropout): Dropout(p=0.1, inplace=False)\n",
       "    )\n",
       "    (ff_layer_norm): LayerNorm((256,), eps=1e-05, elementwise_affine=True)\n",
       "    (dropout): Dropout(p=0.1, inplace=False)\n",
       "  )\n",
       "  (1): DecoderLayer(\n",
       "    (self_attn_layer_norm): LayerNorm((256,), eps=1e-05, elementwise_affine=True)\n",
       "    (self_attention): MultiHeadAttentionLayer(\n",
       "      (fc_q): Linear(in_features=256, out_features=256, bias=True)\n",
       "      (fc_k): Linear(in_features=256, out_features=256, bias=True)\n",
       "      (fc_v): Linear(in_features=256, out_features=256, bias=True)\n",
       "      (fc_o): Linear(in_features=256, out_features=256, bias=True)\n",
       "      (dropout): Dropout(p=0.1, inplace=False)\n",
       "    )\n",
       "    (encoder_attention): MultiHeadAttentionLayer(\n",
       "      (fc_q): Linear(in_features=256, out_features=256, bias=True)\n",
       "      (fc_k): Linear(in_features=256, out_features=256, bias=True)\n",
       "      (fc_v): Linear(in_features=256, out_features=256, bias=True)\n",
       "      (fc_o): Linear(in_features=256, out_features=256, bias=True)\n",
       "      (dropout): Dropout(p=0.1, inplace=False)\n",
       "    )\n",
       "    (enc_attn_layer_norm): LayerNorm((256,), eps=1e-05, elementwise_affine=True)\n",
       "    (positionwise_feedforward): PositionwiseFeedforwardLayer(\n",
       "      (fc_1): Linear(in_features=256, out_features=512, bias=True)\n",
       "      (fc_2): Linear(in_features=512, out_features=256, bias=True)\n",
       "      (dropout): Dropout(p=0.1, inplace=False)\n",
       "    )\n",
       "    (ff_layer_norm): LayerNorm((256,), eps=1e-05, elementwise_affine=True)\n",
       "    (dropout): Dropout(p=0.1, inplace=False)\n",
       "  )\n",
       "  (2): DecoderLayer(\n",
       "    (self_attn_layer_norm): LayerNorm((256,), eps=1e-05, elementwise_affine=True)\n",
       "    (self_attention): MultiHeadAttentionLayer(\n",
       "      (fc_q): Linear(in_features=256, out_features=256, bias=True)\n",
       "      (fc_k): Linear(in_features=256, out_features=256, bias=True)\n",
       "      (fc_v): Linear(in_features=256, out_features=256, bias=True)\n",
       "      (fc_o): Linear(in_features=256, out_features=256, bias=True)\n",
       "      (dropout): Dropout(p=0.1, inplace=False)\n",
       "    )\n",
       "    (encoder_attention): MultiHeadAttentionLayer(\n",
       "      (fc_q): Linear(in_features=256, out_features=256, bias=True)\n",
       "      (fc_k): Linear(in_features=256, out_features=256, bias=True)\n",
       "      (fc_v): Linear(in_features=256, out_features=256, bias=True)\n",
       "      (fc_o): Linear(in_features=256, out_features=256, bias=True)\n",
       "      (dropout): Dropout(p=0.1, inplace=False)\n",
       "    )\n",
       "    (enc_attn_layer_norm): LayerNorm((256,), eps=1e-05, elementwise_affine=True)\n",
       "    (positionwise_feedforward): PositionwiseFeedforwardLayer(\n",
       "      (fc_1): Linear(in_features=256, out_features=512, bias=True)\n",
       "      (fc_2): Linear(in_features=512, out_features=256, bias=True)\n",
       "      (dropout): Dropout(p=0.1, inplace=False)\n",
       "    )\n",
       "    (ff_layer_norm): LayerNorm((256,), eps=1e-05, elementwise_affine=True)\n",
       "    (dropout): Dropout(p=0.1, inplace=False)\n",
       "  )\n",
       ")"
      ]
     },
     "execution_count": 27,
     "metadata": {},
     "output_type": "execute_result"
    }
   ],
   "source": [
    "layers "
   ]
  },
  {
   "cell_type": "code",
   "execution_count": 28,
   "id": "727865e1",
   "metadata": {},
   "outputs": [
    {
     "name": "stdout",
     "output_type": "stream",
     "text": [
      "torch.Size([128, 21, 5893])\n",
      "torch.Size([128, 8, 21, 33])\n"
     ]
    }
   ],
   "source": [
    "# 5.\n",
    "output = fc_out(trg)\n",
    "\n",
    "# return 값\n",
    "print(output.shape) #output = [batch size, trg len, output dim]\n",
    "print(attention.shape)"
   ]
  },
  {
   "cell_type": "markdown",
   "id": "db39a1fb",
   "metadata": {},
   "source": [
    "## 2.7 디코더(Decoder) 레이어\n",
    "* 하나의 디코더 레이어에 대해\n",
    "    * 입력과 출력 차원이 같다.\n",
    "    * 디코더 레이어를 여러 번 중첩해 사용.\n",
    "    * 두 개의 Multi-Head Attention 레이어 사용.\n",
    "* 하이퍼 파라미터(hyperparameter)\n",
    "    * hidden_dim: 하나의 단어에 대한 임베딩 차원\n",
    "    * n_heads: 헤드(head)의 개수 = scaled dot-product attention의 개수\n",
    "    * pf_dim: Feedforward 레이어에서의 내부 임베딩 차원\n",
    "    * dropout_ratio: 드롭아웃(dropout) 비율\n",
    "* 소스 문장의 pad 토큰에 대하여 마스크(mask) 값을 0으로 설정합니다.\n",
    "* 타겟 문장에서 각 단어는 다음 단어가 무엇인지 알 수 없도록(이전 단어만 보도록) 만들기 위해 마스크를 사용."
   ]
  },
  {
   "cell_type": "code",
   "execution_count": 29,
   "id": "56ddd9cc",
   "metadata": {},
   "outputs": [],
   "source": [
    "class DecoderLayer(nn.Module):\n",
    "    def __init__(self, hid_dim, n_heads, pf_dim, dropout, device):\n",
    "        super().__init__()\n",
    "        \n",
    "        ''' Multi Head self Attention'''\n",
    "        self.self_attn_layer_norm = nn.LayerNorm(hid_dim)\n",
    "\n",
    "        self.self_attention = MultiHeadAttentionLayer(hid_dim, n_heads, dropout, device)\n",
    "        \n",
    "        ''' Encoder-decoder attention'''\n",
    "        self.encoder_attention = MultiHeadAttentionLayer(hid_dim, n_heads, dropout, device)\n",
    "        self.enc_attn_layer_norm = nn.LayerNorm(hid_dim)\n",
    "        \n",
    "        ''' Positionwise FeedForward Layer'''        \n",
    "        self.positionwise_feedforward = PositionwiseFeedforwardLayer(hid_dim, pf_dim, dropout)\n",
    "        \n",
    "        self.ff_layer_norm = nn.LayerNorm(hid_dim)        \n",
    "        \n",
    "        self.dropout = nn.Dropout(dropout)\n",
    "        \n",
    "    # 인코더의 출력 값(enc_src)을 어텐션(attention)하는 구조    \n",
    "    def forward(self, trg, enc_src, trg_mask, src_mask):\n",
    "        \n",
    "        #trg = [batch size, trg len, hid dim]\n",
    "        #enc_src = [batch size, src len, hid dim]\n",
    "        #trg_mask = [batch size, 1, trg len, trg len]\n",
    "        #src_mask = [batch size, 1, 1, src len]\n",
    "        \n",
    "        #self attention: 자기 자신에 대하여 어텐션(attention)\n",
    "        _trg, _ = self.self_attention(trg, trg, trg, trg_mask)\n",
    "        \n",
    "        #dropout, residual connection and layer norm\n",
    "        trg = self.self_attn_layer_norm(trg + self.dropout(_trg))\n",
    "            \n",
    "        #trg = [batch size, trg len, hid dim]\n",
    "            \n",
    "        #encoder attention: 디코더의 쿼리(Query)를 이용해 인코더를 어텐션(attention)\n",
    "        _trg, attention = self.encoder_attention(trg, enc_src, enc_src, src_mask)\n",
    "        \n",
    "        #dropout, residual connection and layer norm\n",
    "        trg = self.enc_attn_layer_norm(trg + self.dropout(_trg))\n",
    "                    \n",
    "        #trg = [batch size, trg len, hid dim]\n",
    "        \n",
    "        #positionwise feedforward\n",
    "        _trg = self.positionwise_feedforward(trg)\n",
    "        \n",
    "        #dropout, residual and layer norm\n",
    "        trg = self.ff_layer_norm(trg + self.dropout(_trg))\n",
    "        \n",
    "        #trg = [batch size, trg len, hid dim]\n",
    "        #attention = [batch size, n heads, trg len, src len]\n",
    "        \n",
    "        return trg, attention"
   ]
  },
  {
   "cell_type": "markdown",
   "id": "085e8a57",
   "metadata": {},
   "source": [
    "def __init__(self, hid_dim, n_heads, pf_dim, dropout, device):"
   ]
  },
  {
   "cell_type": "code",
   "execution_count": 30,
   "id": "66a1dc17",
   "metadata": {},
   "outputs": [],
   "source": [
    "# 정의\n",
    "self_attn_layer_norm = nn.LayerNorm(hid_dim).to(device) # LayerNorm((256,), eps=1e-05, elementwise_affine=True)\n",
    "self_attention = MultiHeadAttentionLayer(hid_dim, n_heads, 0.1, device).to(device)\n",
    "encoder_attention = MultiHeadAttentionLayer(hid_dim, n_heads, 0.1, device).to(device)\n",
    "enc_attn_layer_norm = nn.LayerNorm(hid_dim).to(device) # LayerNorm((256,), eps=1e-05, elementwise_affine=True)\n",
    "positionwise_feedforward = PositionwiseFeedforwardLayer(hid_dim, pf_dim, 0.1).to(device)\n",
    "ff_layer_norm = nn.LayerNorm(hid_dim).to(device) # LayerNorm((256,), eps=1e-05, elementwise_affine=True)        \n",
    "dropout = nn.Dropout(0.1).to(device)"
   ]
  },
  {
   "cell_type": "markdown",
   "id": "5ccdd80b",
   "metadata": {},
   "source": [
    "* 인코더의 출력 값(enc_src)을 어텐션(attention)하는 구조    \n",
    "    def forward(self, trg, enc_src, trg_mask, src_mask):"
   ]
  },
  {
   "cell_type": "code",
   "execution_count": 31,
   "id": "5bbd8025",
   "metadata": {
    "scrolled": true
   },
   "outputs": [
    {
     "name": "stdout",
     "output_type": "stream",
     "text": [
      "torch.Size([128, 21, 256])\n",
      "torch.Size([128, 33, 256])\n",
      "torch.Size([128, 1, 21, 21])\n",
      "torch.Size([128, 1, 1, 33])\n"
     ]
    }
   ],
   "source": [
    "# forward 시행 전 shape 맞는지 확인\n",
    "print(trg.shape)        #trg = [batch size, trg len, hid dim]\n",
    "print(enc_src.shape)        #enc_src = [batch size, src len, hid dim]\n",
    "print(trg_mask.shape)        #trg_mask = [batch size, 1, trg len, trg len]\n",
    "print(src_mask.shape)        #src_mask = [batch size, 1, 1, src len]"
   ]
  },
  {
   "cell_type": "markdown",
   "id": "d3cdeeeb",
   "metadata": {},
   "source": [
    "* 디코더의 마스크드 셀프 어텐션\n",
    "    * Query =Key= Value\n",
    "    - Padding mask 마스킹은 어떻게? 어텐션 스코어 행렬의 마스킹 위치에 매우 작은 음수값을 넣어주어서\n",
    "    - 추후, 어텐션 스코어 함수가 소프트맥스를 지난 후에 작은 음수 값으로 인해 0에 가까운 값이 되고 단어 간 유사도 구하는 일에 쓰이지 않게 된다\n",
    "\n",
    "    - 앞쪽에 등장했던 단어들만 참고할 수 있도록, 뒤쪽에 나오는 단어가 무엇인지 참고하면 베끼는 것이 되어서! → 정상적인 모델의 학습을 유도)"
   ]
  },
  {
   "cell_type": "code",
   "execution_count": 32,
   "id": "873004af",
   "metadata": {},
   "outputs": [
    {
     "data": {
      "text/plain": [
       "MultiHeadAttentionLayer(\n",
       "  (fc_q): Linear(in_features=256, out_features=256, bias=True)\n",
       "  (fc_k): Linear(in_features=256, out_features=256, bias=True)\n",
       "  (fc_v): Linear(in_features=256, out_features=256, bias=True)\n",
       "  (fc_o): Linear(in_features=256, out_features=256, bias=True)\n",
       "  (dropout): Dropout(p=0.1, inplace=False)\n",
       ")"
      ]
     },
     "execution_count": 32,
     "metadata": {},
     "output_type": "execute_result"
    }
   ],
   "source": [
    "self_attention"
   ]
  },
  {
   "cell_type": "code",
   "execution_count": 33,
   "id": "a2421a2e",
   "metadata": {},
   "outputs": [
    {
     "name": "stdout",
     "output_type": "stream",
     "text": [
      "torch.Size([128, 21, 256])\n"
     ]
    }
   ],
   "source": [
    "# 1. \n",
    "# self attention: 자기 자신에 대하여 어텐션(attention)\n",
    "_trg, _ = self_attention(trg, trg, trg, trg_mask)\n",
    "print(_trg.shape)"
   ]
  },
  {
   "cell_type": "code",
   "execution_count": 34,
   "id": "f9f5fd49",
   "metadata": {},
   "outputs": [
    {
     "data": {
      "text/plain": [
       "LayerNorm((256,), eps=1e-05, elementwise_affine=True)"
      ]
     },
     "execution_count": 34,
     "metadata": {},
     "output_type": "execute_result"
    }
   ],
   "source": [
    "self_attn_layer_norm"
   ]
  },
  {
   "cell_type": "code",
   "execution_count": 35,
   "id": "e1f4c487",
   "metadata": {},
   "outputs": [
    {
     "name": "stdout",
     "output_type": "stream",
     "text": [
      "torch.Size([128, 21, 256])\n"
     ]
    }
   ],
   "source": [
    "# 2.\n",
    "# 드롭아웃, 잔차연결, 정규화\n",
    "trg = self_attn_layer_norm(trg + dropout(_trg))\n",
    "print(trg.shape) #trg = [batch size, trg len, hid dim]"
   ]
  },
  {
   "cell_type": "markdown",
   "id": "299e6241",
   "metadata": {},
   "source": [
    "* 디코더의 인코더-디코더 어텐션\n",
    "    * Query : 디코더 벡터 / Key= Value : 인코더 벡터\n",
    "    * encoder attention: 디코더의 쿼리(Query)를 이용해 인코더를 어텐션(attention)\n",
    "    *  디코더의 인코더-디코더 어텐션 : Query : 디코더 벡터 / Key= Value : 인코더 벡터\n",
    "    *  -> 그래서 trg는 디코더 벡터에서 온 쿼리, enc_src, enc_src는 인코더에서 온 키와 벡터"
   ]
  },
  {
   "cell_type": "code",
   "execution_count": 36,
   "id": "50fd87a8",
   "metadata": {},
   "outputs": [
    {
     "data": {
      "text/plain": [
       "MultiHeadAttentionLayer(\n",
       "  (fc_q): Linear(in_features=256, out_features=256, bias=True)\n",
       "  (fc_k): Linear(in_features=256, out_features=256, bias=True)\n",
       "  (fc_v): Linear(in_features=256, out_features=256, bias=True)\n",
       "  (fc_o): Linear(in_features=256, out_features=256, bias=True)\n",
       "  (dropout): Dropout(p=0.1, inplace=False)\n",
       ")"
      ]
     },
     "execution_count": 36,
     "metadata": {},
     "output_type": "execute_result"
    }
   ],
   "source": [
    "encoder_attention"
   ]
  },
  {
   "cell_type": "code",
   "execution_count": 37,
   "id": "0752e45b",
   "metadata": {
    "scrolled": true
   },
   "outputs": [
    {
     "name": "stdout",
     "output_type": "stream",
     "text": [
      "torch.Size([128, 21, 256])\n",
      "torch.Size([128, 8, 21, 33])\n"
     ]
    }
   ],
   "source": [
    "# 3.\n",
    "_trg, attention = encoder_attention(trg, enc_src, enc_src, src_mask)\n",
    "print(_trg.shape)\n",
    "print(attention.shape)"
   ]
  },
  {
   "cell_type": "code",
   "execution_count": 38,
   "id": "d026ea8b",
   "metadata": {},
   "outputs": [
    {
     "data": {
      "text/plain": [
       "LayerNorm((256,), eps=1e-05, elementwise_affine=True)"
      ]
     },
     "execution_count": 38,
     "metadata": {},
     "output_type": "execute_result"
    }
   ],
   "source": [
    "enc_attn_layer_norm"
   ]
  },
  {
   "cell_type": "code",
   "execution_count": 39,
   "id": "8d084314",
   "metadata": {},
   "outputs": [
    {
     "name": "stdout",
     "output_type": "stream",
     "text": [
      "torch.Size([128, 21, 256])\n"
     ]
    }
   ],
   "source": [
    "# 4. \n",
    "# 드롭아웃, 잔차연결, 정규화 진행\n",
    "trg = enc_attn_layer_norm(trg + dropout(_trg)) # LayerNorm((256,), eps=1e-05, elementwise_affine=True)\n",
    "print(trg.shape) #trg = [batch size, trg len, hid dim]"
   ]
  },
  {
   "cell_type": "code",
   "execution_count": 40,
   "id": "b0dc8c5e",
   "metadata": {},
   "outputs": [
    {
     "data": {
      "text/plain": [
       "PositionwiseFeedforwardLayer(\n",
       "  (fc_1): Linear(in_features=256, out_features=512, bias=True)\n",
       "  (fc_2): Linear(in_features=512, out_features=256, bias=True)\n",
       "  (dropout): Dropout(p=0.1, inplace=False)\n",
       ")"
      ]
     },
     "execution_count": 40,
     "metadata": {},
     "output_type": "execute_result"
    }
   ],
   "source": [
    "positionwise_feedforward"
   ]
  },
  {
   "cell_type": "code",
   "execution_count": 41,
   "id": "bdbdccc1",
   "metadata": {},
   "outputs": [
    {
     "name": "stdout",
     "output_type": "stream",
     "text": [
      "torch.Size([128, 21, 256])\n"
     ]
    }
   ],
   "source": [
    "# 5. \n",
    "# positionwise feedforward\n",
    "_trg = positionwise_feedforward(trg)\n",
    "print(_trg.shape)"
   ]
  },
  {
   "cell_type": "code",
   "execution_count": 42,
   "id": "a23a11ea",
   "metadata": {},
   "outputs": [
    {
     "data": {
      "text/plain": [
       "LayerNorm((256,), eps=1e-05, elementwise_affine=True)"
      ]
     },
     "execution_count": 42,
     "metadata": {},
     "output_type": "execute_result"
    }
   ],
   "source": [
    "ff_layer_norm"
   ]
  },
  {
   "cell_type": "code",
   "execution_count": 43,
   "id": "a810ea6d",
   "metadata": {},
   "outputs": [
    {
     "name": "stdout",
     "output_type": "stream",
     "text": [
      "torch.Size([128, 21, 256])\n",
      "torch.Size([128, 8, 21, 33])\n"
     ]
    }
   ],
   "source": [
    "# 6. \n",
    "# 드롭아웃, 잔차연결, 정규화 진행\n",
    "trg = ff_layer_norm(trg + dropout(_trg))\n",
    "\n",
    "# return 값\n",
    "print(trg.shape) #trg = [batch size, trg len, hid dim]\n",
    "print(attention.shape) #attention = [batch size, n heads, trg len, src len]"
   ]
  },
  {
   "cell_type": "markdown",
   "id": "56bd54bd",
   "metadata": {},
   "source": [
    "## 2.8 트랜스포머 아키텍처 정의\n",
    "* 최종적인 전체 트랜스포머(Transformer) 모델을 정의합니다.\n",
    "* 입력이 들어왔을 때 앞서 정의한 인코더와 디코더를 거쳐 출력 문장을 생성합니다."
   ]
  },
  {
   "cell_type": "code",
   "execution_count": 44,
   "id": "94ffd0b6",
   "metadata": {},
   "outputs": [],
   "source": [
    "class Transformer(nn.Module):\n",
    "    def __init__(self, encoder, decoder, src_pad_idx, trg_pad_idx, device):\n",
    "        super().__init__()\n",
    "        \n",
    "        self.encoder = encoder\n",
    "        self.decoder = decoder\n",
    "        self.src_pad_idx = src_pad_idx\n",
    "        self.trg_pad_idx = trg_pad_idx\n",
    "        self.device = device\n",
    "        \n",
    "    # 소스 문장의 <pad> 토큰에 대하여 마스크(mask) 값을 0으로 설정    \n",
    "    def make_src_mask(self, src):\n",
    "        \n",
    "        #src = [batch size, src len]\n",
    "        \n",
    "        src_mask = (src != self.src_pad_idx).unsqueeze(1).unsqueeze(2)\n",
    "\n",
    "        #src_mask = [batch size, 1, 1, src len]\n",
    "\n",
    "        return src_mask\n",
    "    \n",
    "    # 타겟 문장에서 각 단어는 다음 단어가 무엇인지 알 수 없도록(이전 단어만 보도록) 만들기 위해 마스크를 사용\n",
    "    def make_trg_mask(self, trg):\n",
    "        \n",
    "        #trg = [batch size, trg len]\n",
    "        \n",
    "        \"\"\" (마스크 예시)\n",
    "        1 0 0 0 0\n",
    "        1 1 0 0 0\n",
    "        1 1 1 0 0\n",
    "        1 1 1 0 0\n",
    "        1 1 1 0 0\n",
    "        \"\"\"\n",
    "        trg_pad_mask = (trg != self.trg_pad_idx).unsqueeze(1).unsqueeze(2)\n",
    "        \n",
    "        #trg_pad_mask = [batch size, 1, 1, trg len]\n",
    "        \n",
    "        trg_len = trg.shape[1]\n",
    "        \n",
    "        \"\"\" (마스크 예시)\n",
    "        1 0 0 0 0\n",
    "        1 1 0 0 0\n",
    "        1 1 1 0 0\n",
    "        1 1 1 1 0\n",
    "        1 1 1 1 1\n",
    "        \"\"\"\n",
    "        trg_sub_mask = torch.tril(torch.ones((trg_len, trg_len), device = self.device)).bool()\n",
    "        \n",
    "        #trg_sub_mask = [trg len, trg len]\n",
    "            \n",
    "        trg_mask = trg_pad_mask & trg_sub_mask\n",
    "        \n",
    "        #trg_mask = [batch size, 1, trg len, trg len]\n",
    "        \n",
    "        return trg_mask\n",
    "\n",
    "    def forward(self, src, trg):\n",
    "        \n",
    "        #src = [batch size, src len]\n",
    "        #trg = [batch size, trg len]\n",
    "                \n",
    "        src_mask = self.make_src_mask(src)\n",
    "        trg_mask = self.make_trg_mask(trg)\n",
    "        \n",
    "        #src_mask = [batch size, 1, 1, src len]\n",
    "        #trg_mask = [batch size, 1, trg len, trg len]\n",
    "        \n",
    "        enc_src = self.encoder(src, src_mask)\n",
    "        \n",
    "        #enc_src = [batch size, src len, hid dim]\n",
    "                \n",
    "        output, attention = self.decoder(trg, enc_src, trg_mask, src_mask)\n",
    "        \n",
    "        #output = [batch size, trg len, output dim]\n",
    "        #attention = [batch size, n heads, trg len, src len]\n",
    "        \n",
    "        return output, attention"
   ]
  },
  {
   "cell_type": "markdown",
   "id": "ff09d26e",
   "metadata": {},
   "source": [
    "def __init__(self, encoder, decoder, src_pad_idx, trg_pad_idx, device):"
   ]
  },
  {
   "cell_type": "code",
   "execution_count": 45,
   "id": "9338d7e8",
   "metadata": {},
   "outputs": [],
   "source": [
    "# 정의\n",
    "encoder = encoder\n",
    "decoder = Decoder\n",
    "decoder = decoder\n",
    "src_pad_idx = src_pad_idx\n",
    "trg_pad_idx = trg_pad_idx\n",
    "device = device\n",
    "\n",
    "# 소스 문장의 <pad> 토큰에 대하여 마스크(mask) 값을 0으로 설정  \n",
    "def make_src_mask(self, src):\n",
    "    src_mask = (src != self.src_pad_idx).unsqueeze(1).unsqueeze(2)\n",
    "    return src_mask\n",
    "\n",
    "# 타겟 문장에서 각 단어는 다음 단어가 무엇인지 알 수 없도록(이전 단어만 보도록) 만들기 위해 마스크를 사용        \n",
    "def make_trg_mask(self, trg):\n",
    "    trg_pad_mask = (trg != self.trg_pad_idx).unsqueeze(1).unsqueeze(2)\n",
    "    trg_len = trg.shape[1]\n",
    "    trg_sub_mask = torch.tril(torch.ones((trg_len, trg_len), device = self.device)).bool()\n",
    "    trg_mask = trg_pad_mask & trg_sub_mask\n",
    "    return trg_mask"
   ]
  },
  {
   "cell_type": "code",
   "execution_count": 46,
   "id": "aae58d68",
   "metadata": {
    "scrolled": false
   },
   "outputs": [
    {
     "name": "stdout",
     "output_type": "stream",
     "text": [
      "torch.Size([128, 1, 1, 33])\n",
      "torch.Size([128, 1, 21, 21])\n",
      "torch.Size([128, 33, 256])\n",
      "torch.Size([128, 21, 5893])\n",
      "torch.Size([128, 8, 21, 33])\n"
     ]
    }
   ],
   "source": [
    "# 이미 앞에서 시행했기 때문에 잘되었는지 shape만 확인\n",
    "# src_mask = make_src_mask(src)\n",
    "print(src_mask.shape) #src_mask = [batch size, 1, 1, src len]\n",
    "\n",
    "# trg_mask = make_trg_mask(trg)\n",
    "print(trg_mask.shape) #trg_mask = [batch size, 1, trg len, trg len]\n",
    "\n",
    "# enc_src = encoder(src, src_mask)\n",
    "print(enc_src.shape) #enc_src = [batch size, src len, hid dim]\n",
    "\n",
    "print(output.shape) #output = [batch size, trg len, output dim]\n",
    "print(attention.shape) #attention = [batch size, n heads, trg len, src len]"
   ]
  },
  {
   "cell_type": "markdown",
   "id": "73b5d3f6",
   "metadata": {},
   "source": [
    "# 3. 훈련"
   ]
  },
  {
   "cell_type": "code",
   "execution_count": 47,
   "id": "3d345497",
   "metadata": {},
   "outputs": [],
   "source": [
    "INPUT_DIM = len(SRC.vocab)\n",
    "OUTPUT_DIM = len(TRG.vocab)\n",
    "HID_DIM = 256\n",
    "ENC_LAYERS = 3\n",
    "DEC_LAYERS = 3\n",
    "ENC_HEADS = 8\n",
    "DEC_HEADS = 8\n",
    "ENC_PF_DIM = 512\n",
    "DEC_PF_DIM = 512\n",
    "ENC_DROPOUT = 0.1\n",
    "DEC_DROPOUT = 0.1\n",
    "\n",
    "# 인코더(encoder)와 디코더(decoder) 객체 선언\n",
    "enc = Encoder(INPUT_DIM, HID_DIM, ENC_LAYERS, ENC_HEADS, ENC_PF_DIM, ENC_DROPOUT, device)\n",
    "dec = Decoder(OUTPUT_DIM, HID_DIM, DEC_LAYERS, DEC_HEADS, DEC_PF_DIM, DEC_DROPOUT, device)"
   ]
  },
  {
   "cell_type": "code",
   "execution_count": 48,
   "id": "71357edb",
   "metadata": {},
   "outputs": [],
   "source": [
    "SRC_PAD_IDX = SRC.vocab.stoi[SRC.pad_token]\n",
    "TRG_PAD_IDX = TRG.vocab.stoi[TRG.pad_token]\n",
    "\n",
    "# Transformer 객체 선언\n",
    "model = Transformer(enc, dec, SRC_PAD_IDX, TRG_PAD_IDX, device).to(device)"
   ]
  },
  {
   "cell_type": "code",
   "execution_count": 49,
   "id": "271b5ea7",
   "metadata": {},
   "outputs": [
    {
     "data": {
      "text/plain": [
       "Transformer(\n",
       "  (encoder): Encoder(\n",
       "    (tok_embedding): Embedding(7853, 256)\n",
       "    (pos_embedding): Embedding(100, 256)\n",
       "    (layers): ModuleList(\n",
       "      (0): EncoderLayer(\n",
       "        (self_attn_layer_norm): LayerNorm((256,), eps=1e-05, elementwise_affine=True)\n",
       "        (self_attention): MultiHeadAttentionLayer(\n",
       "          (fc_q): Linear(in_features=256, out_features=256, bias=True)\n",
       "          (fc_k): Linear(in_features=256, out_features=256, bias=True)\n",
       "          (fc_v): Linear(in_features=256, out_features=256, bias=True)\n",
       "          (fc_o): Linear(in_features=256, out_features=256, bias=True)\n",
       "          (dropout): Dropout(p=0.1, inplace=False)\n",
       "        )\n",
       "        (positionwise_feedforward): PositionwiseFeedforwardLayer(\n",
       "          (fc_1): Linear(in_features=256, out_features=512, bias=True)\n",
       "          (fc_2): Linear(in_features=512, out_features=256, bias=True)\n",
       "          (dropout): Dropout(p=0.1, inplace=False)\n",
       "        )\n",
       "        (ff_layer_norm): LayerNorm((256,), eps=1e-05, elementwise_affine=True)\n",
       "        (dropout): Dropout(p=0.1, inplace=False)\n",
       "      )\n",
       "      (1): EncoderLayer(\n",
       "        (self_attn_layer_norm): LayerNorm((256,), eps=1e-05, elementwise_affine=True)\n",
       "        (self_attention): MultiHeadAttentionLayer(\n",
       "          (fc_q): Linear(in_features=256, out_features=256, bias=True)\n",
       "          (fc_k): Linear(in_features=256, out_features=256, bias=True)\n",
       "          (fc_v): Linear(in_features=256, out_features=256, bias=True)\n",
       "          (fc_o): Linear(in_features=256, out_features=256, bias=True)\n",
       "          (dropout): Dropout(p=0.1, inplace=False)\n",
       "        )\n",
       "        (positionwise_feedforward): PositionwiseFeedforwardLayer(\n",
       "          (fc_1): Linear(in_features=256, out_features=512, bias=True)\n",
       "          (fc_2): Linear(in_features=512, out_features=256, bias=True)\n",
       "          (dropout): Dropout(p=0.1, inplace=False)\n",
       "        )\n",
       "        (ff_layer_norm): LayerNorm((256,), eps=1e-05, elementwise_affine=True)\n",
       "        (dropout): Dropout(p=0.1, inplace=False)\n",
       "      )\n",
       "      (2): EncoderLayer(\n",
       "        (self_attn_layer_norm): LayerNorm((256,), eps=1e-05, elementwise_affine=True)\n",
       "        (self_attention): MultiHeadAttentionLayer(\n",
       "          (fc_q): Linear(in_features=256, out_features=256, bias=True)\n",
       "          (fc_k): Linear(in_features=256, out_features=256, bias=True)\n",
       "          (fc_v): Linear(in_features=256, out_features=256, bias=True)\n",
       "          (fc_o): Linear(in_features=256, out_features=256, bias=True)\n",
       "          (dropout): Dropout(p=0.1, inplace=False)\n",
       "        )\n",
       "        (positionwise_feedforward): PositionwiseFeedforwardLayer(\n",
       "          (fc_1): Linear(in_features=256, out_features=512, bias=True)\n",
       "          (fc_2): Linear(in_features=512, out_features=256, bias=True)\n",
       "          (dropout): Dropout(p=0.1, inplace=False)\n",
       "        )\n",
       "        (ff_layer_norm): LayerNorm((256,), eps=1e-05, elementwise_affine=True)\n",
       "        (dropout): Dropout(p=0.1, inplace=False)\n",
       "      )\n",
       "    )\n",
       "    (dropout): Dropout(p=0.1, inplace=False)\n",
       "  )\n",
       "  (decoder): Decoder(\n",
       "    (tok_embedding): Embedding(5893, 256)\n",
       "    (pos_embedding): Embedding(100, 256)\n",
       "    (layers): ModuleList(\n",
       "      (0): DecoderLayer(\n",
       "        (self_attn_layer_norm): LayerNorm((256,), eps=1e-05, elementwise_affine=True)\n",
       "        (self_attention): MultiHeadAttentionLayer(\n",
       "          (fc_q): Linear(in_features=256, out_features=256, bias=True)\n",
       "          (fc_k): Linear(in_features=256, out_features=256, bias=True)\n",
       "          (fc_v): Linear(in_features=256, out_features=256, bias=True)\n",
       "          (fc_o): Linear(in_features=256, out_features=256, bias=True)\n",
       "          (dropout): Dropout(p=0.1, inplace=False)\n",
       "        )\n",
       "        (encoder_attention): MultiHeadAttentionLayer(\n",
       "          (fc_q): Linear(in_features=256, out_features=256, bias=True)\n",
       "          (fc_k): Linear(in_features=256, out_features=256, bias=True)\n",
       "          (fc_v): Linear(in_features=256, out_features=256, bias=True)\n",
       "          (fc_o): Linear(in_features=256, out_features=256, bias=True)\n",
       "          (dropout): Dropout(p=0.1, inplace=False)\n",
       "        )\n",
       "        (enc_attn_layer_norm): LayerNorm((256,), eps=1e-05, elementwise_affine=True)\n",
       "        (positionwise_feedforward): PositionwiseFeedforwardLayer(\n",
       "          (fc_1): Linear(in_features=256, out_features=512, bias=True)\n",
       "          (fc_2): Linear(in_features=512, out_features=256, bias=True)\n",
       "          (dropout): Dropout(p=0.1, inplace=False)\n",
       "        )\n",
       "        (ff_layer_norm): LayerNorm((256,), eps=1e-05, elementwise_affine=True)\n",
       "        (dropout): Dropout(p=0.1, inplace=False)\n",
       "      )\n",
       "      (1): DecoderLayer(\n",
       "        (self_attn_layer_norm): LayerNorm((256,), eps=1e-05, elementwise_affine=True)\n",
       "        (self_attention): MultiHeadAttentionLayer(\n",
       "          (fc_q): Linear(in_features=256, out_features=256, bias=True)\n",
       "          (fc_k): Linear(in_features=256, out_features=256, bias=True)\n",
       "          (fc_v): Linear(in_features=256, out_features=256, bias=True)\n",
       "          (fc_o): Linear(in_features=256, out_features=256, bias=True)\n",
       "          (dropout): Dropout(p=0.1, inplace=False)\n",
       "        )\n",
       "        (encoder_attention): MultiHeadAttentionLayer(\n",
       "          (fc_q): Linear(in_features=256, out_features=256, bias=True)\n",
       "          (fc_k): Linear(in_features=256, out_features=256, bias=True)\n",
       "          (fc_v): Linear(in_features=256, out_features=256, bias=True)\n",
       "          (fc_o): Linear(in_features=256, out_features=256, bias=True)\n",
       "          (dropout): Dropout(p=0.1, inplace=False)\n",
       "        )\n",
       "        (enc_attn_layer_norm): LayerNorm((256,), eps=1e-05, elementwise_affine=True)\n",
       "        (positionwise_feedforward): PositionwiseFeedforwardLayer(\n",
       "          (fc_1): Linear(in_features=256, out_features=512, bias=True)\n",
       "          (fc_2): Linear(in_features=512, out_features=256, bias=True)\n",
       "          (dropout): Dropout(p=0.1, inplace=False)\n",
       "        )\n",
       "        (ff_layer_norm): LayerNorm((256,), eps=1e-05, elementwise_affine=True)\n",
       "        (dropout): Dropout(p=0.1, inplace=False)\n",
       "      )\n",
       "      (2): DecoderLayer(\n",
       "        (self_attn_layer_norm): LayerNorm((256,), eps=1e-05, elementwise_affine=True)\n",
       "        (self_attention): MultiHeadAttentionLayer(\n",
       "          (fc_q): Linear(in_features=256, out_features=256, bias=True)\n",
       "          (fc_k): Linear(in_features=256, out_features=256, bias=True)\n",
       "          (fc_v): Linear(in_features=256, out_features=256, bias=True)\n",
       "          (fc_o): Linear(in_features=256, out_features=256, bias=True)\n",
       "          (dropout): Dropout(p=0.1, inplace=False)\n",
       "        )\n",
       "        (encoder_attention): MultiHeadAttentionLayer(\n",
       "          (fc_q): Linear(in_features=256, out_features=256, bias=True)\n",
       "          (fc_k): Linear(in_features=256, out_features=256, bias=True)\n",
       "          (fc_v): Linear(in_features=256, out_features=256, bias=True)\n",
       "          (fc_o): Linear(in_features=256, out_features=256, bias=True)\n",
       "          (dropout): Dropout(p=0.1, inplace=False)\n",
       "        )\n",
       "        (enc_attn_layer_norm): LayerNorm((256,), eps=1e-05, elementwise_affine=True)\n",
       "        (positionwise_feedforward): PositionwiseFeedforwardLayer(\n",
       "          (fc_1): Linear(in_features=256, out_features=512, bias=True)\n",
       "          (fc_2): Linear(in_features=512, out_features=256, bias=True)\n",
       "          (dropout): Dropout(p=0.1, inplace=False)\n",
       "        )\n",
       "        (ff_layer_norm): LayerNorm((256,), eps=1e-05, elementwise_affine=True)\n",
       "        (dropout): Dropout(p=0.1, inplace=False)\n",
       "      )\n",
       "    )\n",
       "    (fc_out): Linear(in_features=256, out_features=5893, bias=True)\n",
       "    (dropout): Dropout(p=0.1, inplace=False)\n",
       "  )\n",
       ")"
      ]
     },
     "execution_count": 49,
     "metadata": {},
     "output_type": "execute_result"
    }
   ],
   "source": [
    "# 모델 가중치 파라미터 초기화\n",
    "def initialize_weights(m):\n",
    "    if hasattr(m, 'weight') and m.weight.dim() > 1:\n",
    "        nn.init.xavier_uniform_(m.weight.data)\n",
    "\n",
    "model.apply(initialize_weights)"
   ]
  },
  {
   "cell_type": "markdown",
   "id": "44448dbe",
   "metadata": {},
   "source": [
    "## 함수 및 평가 함수 정의"
   ]
  },
  {
   "cell_type": "code",
   "execution_count": 50,
   "id": "5d8c514a",
   "metadata": {
    "scrolled": true
   },
   "outputs": [
    {
     "data": {
      "text/plain": [
       "Adam (\n",
       "Parameter Group 0\n",
       "    amsgrad: False\n",
       "    betas: (0.9, 0.999)\n",
       "    eps: 1e-08\n",
       "    lr: 0.0005\n",
       "    weight_decay: 0\n",
       ")"
      ]
     },
     "execution_count": 50,
     "metadata": {},
     "output_type": "execute_result"
    }
   ],
   "source": [
    "# Adam optimizer로 학습 최적화\n",
    "LEARNING_RATE = 0.0005\n",
    "optimizer = torch.optim.Adam(model.parameters(), lr=LEARNING_RATE)\n",
    "optimizer"
   ]
  },
  {
   "cell_type": "markdown",
   "id": "42eccdf8",
   "metadata": {},
   "source": [
    "* nn.CrossEntropyLoss\n",
    "    * 다중분류를 위한 대표적인 손실함수\n",
    "    * nn.LogSoftmax와 nn.NLLLoss의 연산의 조합\n",
    "        *  nn.LogSoftmax: 신경망 말단의 결과 값들을 확률개념으로 해석하기 위한 Softmax 함수의 결과에 log 값을 취한 연산\n",
    "        * nn.NLLLoss: nn.LogSoftmax의 log 결과값에 대한 교차 엔트로피 손실 연산(Cross Entropy Loss|Error)"
   ]
  },
  {
   "cell_type": "code",
   "execution_count": 51,
   "id": "dc74a592",
   "metadata": {},
   "outputs": [
    {
     "data": {
      "text/plain": [
       "CrossEntropyLoss()"
      ]
     },
     "execution_count": 51,
     "metadata": {},
     "output_type": "execute_result"
    }
   ],
   "source": [
    "# 손실함수(loss function) 정의\n",
    "# 뒷 부분의 패딩(padding)에 대해서는 값 무시(<pad> 토큰에 대해서 loss 계산하지 않도록 조건 부여)\n",
    "criterion = nn.CrossEntropyLoss(ignore_index = TRG_PAD_IDX)\n",
    "criterion"
   ]
  },
  {
   "cell_type": "code",
   "execution_count": 52,
   "id": "4b42f553",
   "metadata": {},
   "outputs": [],
   "source": [
    "# 모델 학습(train) 함수\n",
    "def train(model, iterator, optimizer, criterion, clip):\n",
    "    model.train() # 학습 모드\n",
    "    epoch_loss = 0\n",
    "\n",
    "    # 전체 학습 데이터를 확인하며\n",
    "    for i, batch in enumerate(iterator):\n",
    "        src = batch.src\n",
    "        trg = batch.trg\n",
    "\n",
    "        optimizer.zero_grad()\n",
    "\n",
    "        # 출력 단어의 마지막 인덱스(<eos>)는 제외\n",
    "        # 입력을 할 때는 <sos>부터 시작하도록 처리\n",
    "        output, _ = model(src, trg[:,:-1])\n",
    "\n",
    "        # output: [배치 크기, trg_len - 1, output_dim]\n",
    "        # trg: [배치 크기, trg_len]\n",
    "\n",
    "        output_dim = output.shape[-1]\n",
    "\n",
    "        output = output.contiguous().view(-1, output_dim)\n",
    "        # 출력 단어의 인덱스 0(<sos>)은 제외\n",
    "        trg = trg[:,1:].contiguous().view(-1)\n",
    "\n",
    "        # output: [배치 크기 * trg_len - 1, output_dim]\n",
    "        # trg: [배치 크기 * trg len - 1]\n",
    "\n",
    "        # 모델의 출력 결과와 타겟 문장을 비교하여 손실 계산\n",
    "        loss = criterion(output, trg)\n",
    "        loss.backward() # 기울기(gradient) 계산\n",
    "\n",
    "        # 기울기(gradient) clipping 진행\n",
    "        torch.nn.utils.clip_grad_norm_(model.parameters(), clip)\n",
    "\n",
    "        # 파라미터 업데이트\n",
    "        optimizer.step()\n",
    "\n",
    "        # 전체 손실 값 계산\n",
    "        epoch_loss += loss.item()\n",
    "\n",
    "    return epoch_loss / len(iterator)"
   ]
  },
  {
   "cell_type": "code",
   "execution_count": 53,
   "id": "f3da5c4e",
   "metadata": {},
   "outputs": [],
   "source": [
    "# 모델 평가(evaluate) 함수\n",
    "def evaluate(model, iterator, criterion):\n",
    "    model.eval() # 평가 모드\n",
    "    epoch_loss = 0\n",
    "\n",
    "    with torch.no_grad():\n",
    "        # 전체 평가 데이터를 확인하며\n",
    "        for i, batch in enumerate(iterator):\n",
    "            src = batch.src\n",
    "            trg = batch.trg\n",
    "\n",
    "            # 출력 단어의 마지막 인덱스(<eos>)는 제외\n",
    "            # 입력을 할 때는 <sos>부터 시작하도록 처리\n",
    "            output, _ = model(src, trg[:,:-1])\n",
    "\n",
    "            # output: [배치 크기, trg_len - 1, output_dim]\n",
    "            # trg: [배치 크기, trg_len]\n",
    "\n",
    "            output_dim = output.shape[-1]\n",
    "\n",
    "            output = output.contiguous().view(-1, output_dim)\n",
    "            # 출력 단어의 인덱스 0(<sos>)은 제외\n",
    "            trg = trg[:,1:].contiguous().view(-1)\n",
    "\n",
    "            # output: [배치 크기 * trg_len - 1, output_dim]\n",
    "            # trg: [배치 크기 * trg len - 1]\n",
    "\n",
    "            # 모델의 출력 결과와 타겟 문장을 비교하여 손실 계산\n",
    "            loss = criterion(output, trg)\n",
    "\n",
    "            # 전체 손실 값 계산\n",
    "            epoch_loss += loss.item()\n",
    "\n",
    "    return epoch_loss / len(iterator)"
   ]
  },
  {
   "cell_type": "markdown",
   "id": "0736fc67",
   "metadata": {},
   "source": [
    "## 학습(training) 및 검증(validation) 진행\n",
    "학습 횟수(epoch): 10"
   ]
  },
  {
   "cell_type": "code",
   "execution_count": 54,
   "id": "cb4a21e0",
   "metadata": {},
   "outputs": [],
   "source": [
    "def epoch_time(start_time, end_time):\n",
    "    elapsed_time = end_time - start_time\n",
    "    elapsed_mins = int(elapsed_time / 60)\n",
    "    elapsed_secs = int(elapsed_time - (elapsed_mins * 60))\n",
    "    return elapsed_mins, elapsed_secs"
   ]
  },
  {
   "cell_type": "code",
   "execution_count": 55,
   "id": "9bf79b42",
   "metadata": {},
   "outputs": [
    {
     "name": "stdout",
     "output_type": "stream",
     "text": [
      "\tTrain Loss: 4.236 | Train PPL: 69.117\n",
      "\tValidation Loss: 3.033 | Validation PPL: 20.764\n"
     ]
    }
   ],
   "source": [
    "N_EPOCHS = 1\n",
    "CLIP = 1\n",
    "best_valid_loss = float('inf')\n",
    "\n",
    "for epoch in range(N_EPOCHS):\n",
    "\n",
    "    train_loss = train(model, train_iterator, optimizer, criterion, CLIP)\n",
    "    valid_loss = evaluate(model, valid_iterator, criterion)\n",
    "\n",
    "    if valid_loss < best_valid_loss:\n",
    "        best_valid_loss = valid_loss\n",
    "        torch.save(model.state_dict(), 'transformer_german_to_english.pt')\n",
    "\n",
    "    print(f'\\tTrain Loss: {train_loss:.3f} | Train PPL: {math.exp(train_loss):.3f}')\n",
    "    print(f'\\tValidation Loss: {valid_loss:.3f} | Validation PPL: {math.exp(valid_loss):.3f}')"
   ]
  },
  {
   "cell_type": "markdown",
   "id": "266d735d",
   "metadata": {},
   "source": [
    "## 최종 결과 확인"
   ]
  },
  {
   "cell_type": "code",
   "execution_count": 56,
   "id": "749e6939",
   "metadata": {},
   "outputs": [
    {
     "name": "stdout",
     "output_type": "stream",
     "text": [
      "| Test Loss: 3.048 | Test PPL:  21.081 |\n"
     ]
    }
   ],
   "source": [
    "test_loss = evaluate(model, test_iterator, criterion)\n",
    "\n",
    "print(f'| Test Loss: {test_loss:.3f} | Test PPL: {math.exp(test_loss):7.3f} |')"
   ]
  }
 ],
 "metadata": {
  "kernelspec": {
   "display_name": "hyolim_py38",
   "language": "python",
   "name": "hyolim_py38"
  },
  "language_info": {
   "codemirror_mode": {
    "name": "ipython",
    "version": 3
   },
   "file_extension": ".py",
   "mimetype": "text/x-python",
   "name": "python",
   "nbconvert_exporter": "python",
   "pygments_lexer": "ipython3",
   "version": "3.8.10"
  }
 },
 "nbformat": 4,
 "nbformat_minor": 5
}
