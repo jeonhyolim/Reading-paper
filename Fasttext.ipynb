{
 "cells": [
  {
   "cell_type": "markdown",
   "id": "762a2e8d",
   "metadata": {},
   "source": [
    "# Fast text\n",
    "#### https://github.com/bentrevett/pytorch-sentiment-analysis/blob/master/3%20-%20Faster%20Sentiment%20Analysis.ipynb"
   ]
  },
  {
   "cell_type": "markdown",
   "id": "1e1928e8",
   "metadata": {},
   "source": [
    "# 1. Preparing Data"
   ]
  },
  {
   "cell_type": "markdown",
   "id": "e52d0fc4",
   "metadata": {},
   "source": [
    "* 입력 문장의 마지막에 문장 구성 토큰들의 n-gram을 추가로 넣자! \n",
    "* n-grams가 아닌 bi-grams를 사용할 것\n",
    "* bi-gram: a pair of words/tokens that appear consecutively within a sentence.\n",
    "* 예)  \"how are you ?\" -- \"how are\", \"are you\" and \"you ?\""
   ]
  },
  {
   "cell_type": "code",
   "execution_count": 2,
   "id": "f41dc801",
   "metadata": {},
   "outputs": [],
   "source": [
    "def generate_bigrams(x):\n",
    "    n_grams = set(zip(*[x[i:] for i in range(2)]))\n",
    "    for n_gram in n_grams:\n",
    "        x.append(' '.join(n_gram))\n",
    "    return x"
   ]
  },
  {
   "cell_type": "code",
   "execution_count": 3,
   "id": "927fe742",
   "metadata": {
    "scrolled": false
   },
   "outputs": [
    {
     "data": {
      "text/plain": [
       "['This', 'film', 'is', 'terrible', 'is terrible', 'film is', 'This film']"
      ]
     },
     "execution_count": 3,
     "metadata": {},
     "output_type": "execute_result"
    }
   ],
   "source": [
    "generate_bigrams(['This', 'film', 'is', 'terrible'])"
   ]
  },
  {
   "cell_type": "markdown",
   "id": "e18d3089",
   "metadata": {},
   "source": [
    "torchtext의 Field는 preprocessing 과정이 있어서 여기에 generate_bigrams 함수를 넣어 토크나이징 후 적용되도록 하였다. "
   ]
  },
  {
   "cell_type": "code",
   "execution_count": 4,
   "id": "5edfd4e9",
   "metadata": {},
   "outputs": [],
   "source": [
    "import torch\n",
    "from torchtext import data\n",
    "from torchtext import datasets\n",
    "\n",
    "SEED = 1234\n",
    "\n",
    "torch.manual_seed(SEED)\n",
    "torch.backends.cudnn.deterministic = True # CUDA와 CuDNN에서 Randomness 제어를 위한 설정법\n",
    "\n",
    "# 실제 텍스트를 위한 TEXT 객체\n",
    "TEXT = data.Field(tokenize = 'spacy', # 어떤 토큰화 함수를 사용할 것인지 지정(string.split이 기본값)\n",
    "                  tokenizer_language = 'en_core_web_sm',\n",
    "                  preprocessing = generate_bigrams)\n",
    "\n",
    "# 레이블 데이터를 위한 LABEL 객체\n",
    "LABEL = data.LabelField(dtype = torch.float)"
   ]
  },
  {
   "cell_type": "markdown",
   "id": "d85a2a82",
   "metadata": {},
   "source": [
    "* IMDB dataset load와 split"
   ]
  },
  {
   "cell_type": "code",
   "execution_count": 5,
   "id": "1472e029",
   "metadata": {},
   "outputs": [],
   "source": [
    "import random\n",
    "\n",
    "train_data, test_data = datasets.IMDB.splits(TEXT, LABEL)\n",
    "\n",
    "train_data, valid_data = train_data.split(random_state = random.seed(SEED))"
   ]
  },
  {
   "cell_type": "markdown",
   "id": "1501d606",
   "metadata": {},
   "source": [
    "vocab을 만들고 pre-trainde word embeddings load"
   ]
  },
  {
   "cell_type": "code",
   "execution_count": 6,
   "id": "345dc508",
   "metadata": {},
   "outputs": [],
   "source": [
    "MAX_VOCAB_SIZE = 25000\n",
    "\n",
    "# 단어 집합 생성\n",
    "TEXT.build_vocab(train_data, \n",
    "                 max_size = MAX_VOCAB_SIZE, # 단어 집합의 최대 크기를 지정\n",
    "                 vectors = \"glove.6B.100d\", \n",
    "                 unk_init = torch.Tensor.normal_)\n",
    "\n",
    "LABEL.build_vocab(train_data)"
   ]
  },
  {
   "cell_type": "markdown",
   "id": "e6dfbd8a",
   "metadata": {},
   "source": [
    "iterators 생성하기(데이터로더 만들기)"
   ]
  },
  {
   "cell_type": "code",
   "execution_count": 7,
   "id": "f6bd8b36",
   "metadata": {},
   "outputs": [],
   "source": [
    "BATCH_SIZE = 64\n",
    "\n",
    "# device = torch.device('cuda' if torch.cuda.is_available() else 'cpu')\n",
    "\n",
    "train_iterator, valid_iterator, test_iterator = data.BucketIterator.splits(\n",
    "    (train_data, valid_data, test_data), \n",
    "    batch_size = BATCH_SIZE) #,device = device)"
   ]
  },
  {
   "cell_type": "markdown",
   "id": "dc4ec511",
   "metadata": {},
   "source": [
    "# 2. Build the model"
   ]
  },
  {
   "cell_type": "code",
   "execution_count": 8,
   "id": "36c511ab",
   "metadata": {},
   "outputs": [],
   "source": [
    "import torch.nn as nn\n",
    "import torch.nn.functional as F\n",
    "\n",
    "class FastText(nn.Module):\n",
    "    def __init__(self, vocab_size, embedding_dim, output_dim, pad_idx):\n",
    "        \n",
    "        super().__init__()\n",
    "        \n",
    "        self.embedding = nn.Embedding(vocab_size, embedding_dim, padding_idx=pad_idx)\n",
    "        \n",
    "        self.fc = nn.Linear(embedding_dim, output_dim)\n",
    "        \n",
    "    def forward(self, text):\n",
    "        \n",
    "        #text = [sent len, batch size]\n",
    "        \n",
    "        embedded = self.embedding(text)\n",
    "                \n",
    "        #embedded = [sent len, batch size, emb dim]\n",
    "        \n",
    "        embedded = embedded.permute(1, 0, 2)\n",
    "        \n",
    "        #embedded = [batch size, sent len, emb dim]\n",
    "        \n",
    "        pooled = F.avg_pool2d(embedded, (embedded.shape[1], 1)).squeeze(1) \n",
    "        \n",
    "        #pooled = [batch size, embedding_dim]\n",
    "                \n",
    "        return self.fc(pooled)"
   ]
  },
  {
   "cell_type": "code",
   "execution_count": 9,
   "id": "91277989",
   "metadata": {},
   "outputs": [],
   "source": [
    "# 필요한 부분 정의하기\n",
    "\n",
    "INPUT_DIM = len(TEXT.vocab)\n",
    "EMBEDDING_DIM = 100\n",
    "OUTPUT_DIM = 1\n",
    "PAD_IDX = TEXT.vocab.stoi[TEXT.pad_token]\n",
    "\n",
    "model = FastText(INPUT_DIM, EMBEDDING_DIM, OUTPUT_DIM, PAD_IDX)\n",
    "\n",
    "vocab_size=INPUT_DIM\n",
    "embedding_dim=EMBEDDING_DIM\n",
    "pad_idx=PAD_IDX \n",
    "output_dim=OUTPUT_DIM\n",
    "\n",
    "embedding = nn.Embedding(vocab_size, embedding_dim, padding_idx=pad_idx)\n",
    "fc=nn.Linear(embedding_dim, output_dim)"
   ]
  },
  {
   "cell_type": "markdown",
   "id": "b692961b",
   "metadata": {},
   "source": [
    "*  def forward(self, text) 시행하기"
   ]
  },
  {
   "cell_type": "code",
   "execution_count": 10,
   "id": "e7e589c7",
   "metadata": {},
   "outputs": [
    {
     "data": {
      "text/plain": [
       "torch.Size([2225, 64])"
      ]
     },
     "execution_count": 10,
     "metadata": {},
     "output_type": "execute_result"
    }
   ],
   "source": [
    "for batch in train_iterator:\n",
    "    text = batch.text\n",
    "    \n",
    "text.shape #text = [sent len, batch size]"
   ]
  },
  {
   "cell_type": "code",
   "execution_count": 11,
   "id": "20873d49",
   "metadata": {},
   "outputs": [
    {
     "data": {
      "text/plain": [
       "tensor([[ 2953,     0,   551,  ...,   178,    11,    25],\n",
       "        [11739, 13877,     2,  ...,  5019,    34,  4009],\n",
       "        [  195,  3964,   153,  ...,     3,    99,     7],\n",
       "        ...,\n",
       "        [    1,     1,     1,  ...,     1,     1,     1],\n",
       "        [    1,     1,     1,  ...,     1,     1,     1],\n",
       "        [    1,     1,     1,  ...,     1,     1,     1]])"
      ]
     },
     "execution_count": 11,
     "metadata": {},
     "output_type": "execute_result"
    }
   ],
   "source": [
    "text"
   ]
  },
  {
   "cell_type": "code",
   "execution_count": 12,
   "id": "261edd08",
   "metadata": {},
   "outputs": [
    {
     "data": {
      "text/plain": [
       "torch.Size([2225, 64, 100])"
      ]
     },
     "execution_count": 12,
     "metadata": {},
     "output_type": "execute_result"
    }
   ],
   "source": [
    "embedded = embedding(text)\n",
    "embedded.shape # #embedded = [sent len, batch size, emb dim]"
   ]
  },
  {
   "cell_type": "code",
   "execution_count": 13,
   "id": "863ae945",
   "metadata": {
    "scrolled": true
   },
   "outputs": [
    {
     "data": {
      "text/plain": [
       "tensor([[[-1.3625, -0.8420,  0.2043,  ...,  2.1156, -0.4357,  0.8511],\n",
       "         [ 0.1372,  1.2721, -2.2575,  ...,  0.2783, -0.8423, -0.1621],\n",
       "         [-1.3672,  0.0165, -0.3256,  ..., -1.2031, -0.9534,  1.0318],\n",
       "         ...,\n",
       "         [ 0.2830, -0.0760,  0.2256,  ..., -0.0775, -0.5676, -1.0094],\n",
       "         [-0.9970, -0.3779, -1.0603,  ..., -0.0518,  0.2768, -2.7892],\n",
       "         [-0.7995, -0.4348,  0.7561,  ..., -0.5735, -0.4235, -0.2271]],\n",
       "\n",
       "        [[ 1.9615, -1.0437,  0.3060,  ..., -0.5402,  1.9692, -1.0461],\n",
       "         [ 0.6536,  0.6243,  0.3493,  ...,  1.0296,  0.4269,  0.1809],\n",
       "         [ 0.4591,  0.5450, -0.7152,  ...,  0.1359, -0.8589,  1.6946],\n",
       "         ...,\n",
       "         [-0.2882,  0.3293, -0.0051,  ..., -0.4664,  0.3850,  1.8702],\n",
       "         [-0.4237,  1.0587,  0.3736,  ...,  0.0263, -0.4617, -1.8794],\n",
       "         [ 0.8797, -0.2252,  0.1204,  ..., -0.2871,  1.1661,  0.1121]],\n",
       "\n",
       "        [[-1.1513,  0.8139,  0.8720,  ..., -0.1208,  0.1230, -0.7933],\n",
       "         [ 0.1780, -0.2542, -1.3582,  ..., -0.7664, -1.0240,  1.1870],\n",
       "         [-1.3001,  0.2392, -0.5993,  ...,  0.5263,  0.4453,  0.1456],\n",
       "         ...,\n",
       "         [-0.6501, -1.3927, -1.6573,  ..., -0.1823,  0.8853,  0.5583],\n",
       "         [-0.5157, -0.1418, -0.6758,  ..., -0.2998,  1.4111,  0.2480],\n",
       "         [-0.3270, -0.1085,  0.9687,  ...,  0.4129,  0.7447,  0.0056]],\n",
       "\n",
       "        ...,\n",
       "\n",
       "        [[ 0.0000,  0.0000,  0.0000,  ...,  0.0000,  0.0000,  0.0000],\n",
       "         [ 0.0000,  0.0000,  0.0000,  ...,  0.0000,  0.0000,  0.0000],\n",
       "         [ 0.0000,  0.0000,  0.0000,  ...,  0.0000,  0.0000,  0.0000],\n",
       "         ...,\n",
       "         [ 0.0000,  0.0000,  0.0000,  ...,  0.0000,  0.0000,  0.0000],\n",
       "         [ 0.0000,  0.0000,  0.0000,  ...,  0.0000,  0.0000,  0.0000],\n",
       "         [ 0.0000,  0.0000,  0.0000,  ...,  0.0000,  0.0000,  0.0000]],\n",
       "\n",
       "        [[ 0.0000,  0.0000,  0.0000,  ...,  0.0000,  0.0000,  0.0000],\n",
       "         [ 0.0000,  0.0000,  0.0000,  ...,  0.0000,  0.0000,  0.0000],\n",
       "         [ 0.0000,  0.0000,  0.0000,  ...,  0.0000,  0.0000,  0.0000],\n",
       "         ...,\n",
       "         [ 0.0000,  0.0000,  0.0000,  ...,  0.0000,  0.0000,  0.0000],\n",
       "         [ 0.0000,  0.0000,  0.0000,  ...,  0.0000,  0.0000,  0.0000],\n",
       "         [ 0.0000,  0.0000,  0.0000,  ...,  0.0000,  0.0000,  0.0000]],\n",
       "\n",
       "        [[ 0.0000,  0.0000,  0.0000,  ...,  0.0000,  0.0000,  0.0000],\n",
       "         [ 0.0000,  0.0000,  0.0000,  ...,  0.0000,  0.0000,  0.0000],\n",
       "         [ 0.0000,  0.0000,  0.0000,  ...,  0.0000,  0.0000,  0.0000],\n",
       "         ...,\n",
       "         [ 0.0000,  0.0000,  0.0000,  ...,  0.0000,  0.0000,  0.0000],\n",
       "         [ 0.0000,  0.0000,  0.0000,  ...,  0.0000,  0.0000,  0.0000],\n",
       "         [ 0.0000,  0.0000,  0.0000,  ...,  0.0000,  0.0000,  0.0000]]],\n",
       "       grad_fn=<EmbeddingBackward>)"
      ]
     },
     "execution_count": 13,
     "metadata": {},
     "output_type": "execute_result"
    }
   ],
   "source": [
    "embedded"
   ]
  },
  {
   "cell_type": "code",
   "execution_count": 14,
   "id": "b1e7d429",
   "metadata": {},
   "outputs": [
    {
     "data": {
      "text/plain": [
       "torch.Size([64, 2225, 100])"
      ]
     },
     "execution_count": 14,
     "metadata": {},
     "output_type": "execute_result"
    }
   ],
   "source": [
    "embedded = embedded.permute(1, 0, 2)\n",
    "embedded.shape #embedded = [batch size, sent len, emb dim]"
   ]
  },
  {
   "cell_type": "code",
   "execution_count": 15,
   "id": "caf2b215",
   "metadata": {},
   "outputs": [
    {
     "data": {
      "text/plain": [
       "torch.Size([64, 100])"
      ]
     },
     "execution_count": 15,
     "metadata": {},
     "output_type": "execute_result"
    }
   ],
   "source": [
    "pooled = F.avg_pool2d(embedded, (embedded.shape[1], 1)).squeeze(1) \n",
    "pooled.shape # pooled = [batch size, embedding_dim]"
   ]
  },
  {
   "cell_type": "code",
   "execution_count": 16,
   "id": "f7fbd32a",
   "metadata": {},
   "outputs": [
    {
     "data": {
      "text/plain": [
       "torch.Size([64, 1])"
      ]
     },
     "execution_count": 16,
     "metadata": {},
     "output_type": "execute_result"
    }
   ],
   "source": [
    "fc(pooled).shape "
   ]
  },
  {
   "cell_type": "markdown",
   "id": "e2659985",
   "metadata": {},
   "source": [
    "# 3. Train & Test"
   ]
  },
  {
   "cell_type": "code",
   "execution_count": 17,
   "id": "ce7b9bfb",
   "metadata": {},
   "outputs": [],
   "source": [
    "import torch.optim as optim\n",
    "\n",
    "optimizer = optim.Adam(model.parameters())\n",
    "criterion = nn.BCEWithLogitsLoss()"
   ]
  },
  {
   "cell_type": "code",
   "execution_count": 21,
   "id": "4bd6c486",
   "metadata": {},
   "outputs": [],
   "source": [
    "def binary_accuracy(preds, y):\n",
    "    \"\"\"\n",
    "    Returns accuracy per batch, i.e. if you get 8/10 right, this returns 0.8, NOT 8\n",
    "    \"\"\"\n",
    "    #round predictions to the closest integer\n",
    "    rounded_preds = torch.round(torch.sigmoid(preds))\n",
    "    correct = (rounded_preds == y).float() #convert into float for division \n",
    "    acc = correct.sum() / len(correct)\n",
    "    return acc"
   ]
  },
  {
   "cell_type": "code",
   "execution_count": 18,
   "id": "7562be3b",
   "metadata": {},
   "outputs": [],
   "source": [
    "def train(model, iterator, optimizer, criterion):\n",
    "    \n",
    "    epoch_loss = 0\n",
    "    epoch_acc = 0\n",
    "    \n",
    "    model.train()\n",
    "    \n",
    "    for batch in iterator:\n",
    "        \n",
    "        optimizer.zero_grad()\n",
    "        \n",
    "        predictions = model(batch.text).squeeze(1)\n",
    "        \n",
    "        loss = criterion(predictions, batch.label)\n",
    "        \n",
    "        acc = binary_accuracy(predictions, batch.label)\n",
    "        \n",
    "        loss.backward()\n",
    "        \n",
    "        optimizer.step()\n",
    "        \n",
    "        epoch_loss += loss.item()\n",
    "        epoch_acc += acc.item()\n",
    "        \n",
    "    return epoch_loss / len(iterator), epoch_acc / len(iterator)"
   ]
  },
  {
   "cell_type": "code",
   "execution_count": 19,
   "id": "9f53233c",
   "metadata": {},
   "outputs": [],
   "source": [
    "def evaluate(model, iterator, criterion):\n",
    "    \n",
    "    epoch_loss = 0\n",
    "    epoch_acc = 0\n",
    "    \n",
    "    model.eval()\n",
    "    \n",
    "    with torch.no_grad():\n",
    "    \n",
    "        for batch in iterator:\n",
    "\n",
    "            predictions = model(batch.text).squeeze(1)\n",
    "            \n",
    "            loss = criterion(predictions, batch.label)\n",
    "            \n",
    "            acc = binary_accuracy(predictions, batch.label)\n",
    "\n",
    "            epoch_loss += loss.item()\n",
    "            epoch_acc += acc.item()\n",
    "        \n",
    "    return epoch_loss / len(iterator), epoch_acc / len(iterator)"
   ]
  },
  {
   "cell_type": "code",
   "execution_count": 22,
   "id": "a428be24",
   "metadata": {},
   "outputs": [
    {
     "name": "stdout",
     "output_type": "stream",
     "text": [
      "\tTrain Loss: 0.689 | Train Acc: 54.80%\n",
      "\t Val. Loss: 0.653 |  Val. Acc: 66.94%\n",
      "\tTrain Loss: 0.663 | Train Acc: 68.30%\n",
      "\t Val. Loss: 0.547 |  Val. Acc: 75.20%\n",
      "\tTrain Loss: 0.607 | Train Acc: 77.18%\n",
      "\t Val. Loss: 0.447 |  Val. Acc: 78.90%\n",
      "\tTrain Loss: 0.540 | Train Acc: 82.25%\n",
      "\t Val. Loss: 0.406 |  Val. Acc: 82.24%\n",
      "\tTrain Loss: 0.475 | Train Acc: 85.17%\n",
      "\t Val. Loss: 0.385 |  Val. Acc: 84.31%\n"
     ]
    }
   ],
   "source": [
    "N_EPOCHS = \n",
    "\n",
    "best_valid_loss = float('inf')\n",
    "\n",
    "for epoch in range(N_EPOCHS):\n",
    "    \n",
    "    train_loss, train_acc = train(model, train_iterator, optimizer, criterion)\n",
    "    valid_loss, valid_acc = evaluate(model, valid_iterator, criterion)\n",
    "    \n",
    "    \n",
    "    if valid_loss < best_valid_loss:\n",
    "        best_valid_loss = valid_loss\n",
    "\n",
    "    print(f'\\tTrain Loss: {train_loss:.3f} | Train Acc: {train_acc*100:.2f}%')\n",
    "    print(f'\\t Val. Loss: {valid_loss:.3f} |  Val. Acc: {valid_acc*100:.2f}%')"
   ]
  },
  {
   "cell_type": "code",
   "execution_count": 23,
   "id": "e0f287b3",
   "metadata": {},
   "outputs": [
    {
     "name": "stdout",
     "output_type": "stream",
     "text": [
      "Test Loss: 0.393 | Test Acc: 83.86%\n"
     ]
    }
   ],
   "source": [
    "test_loss, test_acc = evaluate(model, test_iterator, criterion)\n",
    "\n",
    "print(f'Test Loss: {test_loss:.3f} | Test Acc: {test_acc*100:.2f}%')"
   ]
  },
  {
   "cell_type": "markdown",
   "id": "0f025317",
   "metadata": {},
   "source": [
    "# 4. User Input"
   ]
  },
  {
   "cell_type": "code",
   "execution_count": 24,
   "id": "ece9f01b",
   "metadata": {},
   "outputs": [],
   "source": [
    "import spacy\n",
    "nlp = spacy.load('en_core_web_sm')\n",
    "\n",
    "def predict_sentiment(model, sentence):\n",
    "    model.eval()\n",
    "    tokenized = generate_bigrams([tok.text for tok in nlp.tokenizer(sentence)])\n",
    "    indexed = [TEXT.vocab.stoi[t] for t in tokenized]\n",
    "    tensor = torch.LongTensor(indexed)#.to(device)\n",
    "    tensor = tensor.unsqueeze(1)\n",
    "    prediction = torch.sigmoid(model(tensor))\n",
    "    return prediction.item()"
   ]
  },
  {
   "cell_type": "code",
   "execution_count": 25,
   "id": "423bbe2a",
   "metadata": {},
   "outputs": [
    {
     "data": {
      "text/plain": [
       "1.7625741577376175e-07"
      ]
     },
     "execution_count": 25,
     "metadata": {},
     "output_type": "execute_result"
    }
   ],
   "source": [
    "predict_sentiment(model, \"This film is terrible\") # negative review"
   ]
  },
  {
   "cell_type": "code",
   "execution_count": 26,
   "id": "9078aa45",
   "metadata": {},
   "outputs": [
    {
     "data": {
      "text/plain": [
       "1.0"
      ]
     },
     "execution_count": 26,
     "metadata": {},
     "output_type": "execute_result"
    }
   ],
   "source": [
    "predict_sentiment(model, \"This film is great\") # positive review"
   ]
  }
 ],
 "metadata": {
  "kernelspec": {
   "display_name": "hyolim_py38",
   "language": "python",
   "name": "hyolim_py38"
  },
  "language_info": {
   "codemirror_mode": {
    "name": "ipython",
    "version": 3
   },
   "file_extension": ".py",
   "mimetype": "text/x-python",
   "name": "python",
   "nbconvert_exporter": "python",
   "pygments_lexer": "ipython3",
   "version": "3.8.10"
  }
 },
 "nbformat": 4,
 "nbformat_minor": 5
}
