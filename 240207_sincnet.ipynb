{
 "cells": [
  {
   "cell_type": "markdown",
   "id": "a2f57f80-8f1d-4245-94f8-c82bf104fdba",
   "metadata": {},
   "source": [
    "# #SincNet Code Review\n",
    "* 발표일자: 2024.02.08\n",
    "* SincNet은 첫번째 레이어(싱크 함수로 1D conv를 실시)만 특이함 (첫번째 레이어에 대한 설명)\n",
    "\n",
    "* ratsgo https://ratsgo.github.io/speechbook/docs/neuralfe/sincnet 를 참고했습니다\n",
    "\n",
    "* https://github.com/mravanelli/SincNet/blob/master/dnn_models.py 여기에 있는 SincConv_fast class를 다룹니다"
   ]
  },
  {
   "cell_type": "markdown",
   "id": "fa0b322d-d318-4652-87b7-79e885ce1f43",
   "metadata": {},
   "source": [
    "## 1. 필요한 라이브러리 import"
   ]
  },
  {
   "cell_type": "code",
   "execution_count": 12,
   "id": "17d7a352-148f-4ce9-b36a-4a3f482c3a6c",
   "metadata": {},
   "outputs": [],
   "source": [
    "import torch, math\n",
    "import torch.nn.functional as F\n",
    "import numpy as np\n",
    "\n",
    "out_channels = 80 # 첫번째 레이어의 컨볼루션 필터(즉, 싱크 함수) 개수\n",
    "kernel_size = 251 # 싱크 함수의 길이  L (계산 효율성을 위해 싱크 함수를 좌우 대칭하는데 이때 center 값 앞 뒤로 같은 값 n개 씩 두어야 해서 L은 홀수로 설정)\n",
    "sample_rate = 16000 # SincNet이 주로 보는 주파수 영역대\n",
    "in_channels = 1 # 첫번째 레이어의 입력 채널 수, raw wave form이 입력되기 때문에 채널 수는 1이 됨\n",
    "stride = 1 # 1d conv 하이퍼파라메터\n",
    "padding = 0 # 1d conv 하이퍼파라메터\n",
    "dilation = 1\n",
    "bias = False # 1d conv 하이퍼파라메터\n",
    "groups = 1 # 1d conv 하이퍼파라메터\n",
    "min_low_hz = 50\n",
    "min_band_hz = 50\n",
    "low_hz = 30 # 싱크 함수가 보는 주파수 구간의 lower bound,  low cut-off frequency  f1의 초기값\n",
    "high_hz = sample_rate / 2 - (min_low_hz + min_band_hz) # 싱크 함수가 보는 주파수 구간의 upper bound"
   ]
  },
  {
   "cell_type": "markdown",
   "id": "1271f44f-0898-4a11-9021-4ed40a382aba",
   "metadata": {},
   "source": [
    "## 2. kernel_size (251) 만큼 컨볼루션 필터(=싱크 함수) 만들기\n",
    "\n",
    "* to_mel : 헤르츠 단위의 주파수를 mel scale로 변환하는 함수\n",
    "* to_hz : mel scale 주파수를 다시 헤르츠로 변환하는 함수"
   ]
  },
  {
   "cell_type": "code",
   "execution_count": 13,
   "id": "671ccfa7-685a-46c1-8848-a3d667b0b7ab",
   "metadata": {},
   "outputs": [],
   "source": [
    "def to_mel(hz):\n",
    "    return 2595 * np.log10(1 + hz / 700)\n",
    "\n",
    "def to_hz(mel):\n",
    "    return 700 * (10 ** (mel / 2595) - 1)"
   ]
  },
  {
   "cell_type": "markdown",
   "id": "d11601a1-f56d-4479-aec0-df1e7c29cad3",
   "metadata": {},
   "source": [
    "## 3. low cut-off frequency  f1 의 초기값 만들기\n",
    "* numpy의 np.linspace 사용 -> 1차원 배열 만들기 함수\n",
    "* np.linspace(start, stop, num) # start는 배열 시작 값, stop는 배열 끝값, num은 start와 stop 사이를 몇 개의 일정한 간격으로 요소 만들 것인지 결정"
   ]
  },
  {
   "cell_type": "code",
   "execution_count": 16,
   "id": "a08f4c1d-0725-4150-a5f5-02ea12329818",
   "metadata": {},
   "outputs": [
    {
     "data": {
      "text/plain": [
       "(47.293408175586656, 2826.994067140062)"
      ]
     },
     "execution_count": 16,
     "metadata": {},
     "output_type": "execute_result"
    }
   ],
   "source": [
    "to_mel(low_hz), to_mel(high_hz)"
   ]
  },
  {
   "cell_type": "code",
   "execution_count": 3,
   "id": "9d9bcdcb-7ab3-4c8f-b815-253911aa7871",
   "metadata": {},
   "outputs": [],
   "source": [
    "# to_mel(low_hz)에서 to_mel(high_hz) 사이로 80+1개 배열 만들어라\n",
    "\n",
    "mel = np.linspace(to_mel(low_hz), # 47.293408175586656\n",
    "                  to_mel(high_hz), # 2826.994067140062\n",
    "                  out_channels + 1) # 80+1개로 해라\n",
    "\n",
    "hz = to_hz(mel)"
   ]
  },
  {
   "cell_type": "code",
   "execution_count": 22,
   "id": "f3b15e93-40c4-4f7e-9f56-a3dc66e2e71b",
   "metadata": {},
   "outputs": [
    {
     "data": {
      "text/plain": [
       "((81,), (81,))"
      ]
     },
     "execution_count": 22,
     "metadata": {},
     "output_type": "execute_result"
    }
   ],
   "source": [
    "mel.shape, hz.shape"
   ]
  },
  {
   "cell_type": "code",
   "execution_count": 20,
   "id": "4ea7009a-e403-4cbe-94e7-a3464562fa5a",
   "metadata": {
    "collapsed": true,
    "jupyter": {
     "outputs_hidden": true
    },
    "tags": []
   },
   "outputs": [
    {
     "data": {
      "text/plain": [
       "array([  47.29340818,   82.03966641,  116.78592465,  151.53218289,\n",
       "        186.27844112,  221.02469936,  255.7709576 ,  290.51721583,\n",
       "        325.26347407,  360.00973231,  394.75599055,  429.50224878,\n",
       "        464.24850702,  498.99476526,  533.74102349,  568.48728173,\n",
       "        603.23353997,  637.97979821,  672.72605644,  707.47231468,\n",
       "        742.21857292,  776.96483115,  811.71108939,  846.45734763,\n",
       "        881.20360586,  915.9498641 ,  950.69612234,  985.44238058,\n",
       "       1020.18863881, 1054.93489705, 1089.68115529, 1124.42741352,\n",
       "       1159.17367176, 1193.91993   , 1228.66618824, 1263.41244647,\n",
       "       1298.15870471, 1332.90496295, 1367.65122118, 1402.39747942,\n",
       "       1437.14373766, 1471.88999589, 1506.63625413, 1541.38251237,\n",
       "       1576.12877061, 1610.87502884, 1645.62128708, 1680.36754532,\n",
       "       1715.11380355, 1749.86006179, 1784.60632003, 1819.35257827,\n",
       "       1854.0988365 , 1888.84509474, 1923.59135298, 1958.33761121,\n",
       "       1993.08386945, 2027.83012769, 2062.57638592, 2097.32264416,\n",
       "       2132.0689024 , 2166.81516064, 2201.56141887, 2236.30767711,\n",
       "       2271.05393535, 2305.80019358, 2340.54645182, 2375.29271006,\n",
       "       2410.0389683 , 2444.78522653, 2479.53148477, 2514.27774301,\n",
       "       2549.02400124, 2583.77025948, 2618.51651772, 2653.26277595,\n",
       "       2688.00903419, 2722.75529243, 2757.50155067, 2792.2478089 ,\n",
       "       2826.99406714])"
      ]
     },
     "execution_count": 20,
     "metadata": {},
     "output_type": "execute_result"
    }
   ],
   "source": [
    "mel"
   ]
  },
  {
   "cell_type": "markdown",
   "id": "aa34d49d-1327-43a9-8966-aec564397837",
   "metadata": {},
   "source": [
    "### Q. out_channels +1을 해주는 이유가 뭘까?\n",
    "[주파수 구간을 81개 토막으로 자른 결과인 \"hz\"]\n",
    "\n",
    "  - 토막 구간들의 길이가 일정하지 않고, 점점 길어지는 걸 확인 가능\n",
    "  - 불균등한 이유 -> 사람의 소리 인식 특성과 관련 (사람은 저주파수 영역대는 세밀하게 잘 인식하는데 고주파수는 상대적으로 덜 세밀하게 인식하는 경향이 있음)\n",
    "  * SincNet이 말소리를 사람이 인식하는 것처럼 만드는데 주목적이 있기에 사람의 소리 인식과 비슷하게 만들어주는 과정이 필요함 =>  low cut-off frequency  f1  의 초기값을 멜 스케일 기준으로 out_channels + 1개 구간으로 나누는 이유"
   ]
  },
  {
   "cell_type": "code",
   "execution_count": 21,
   "id": "85122945-6847-44b2-b0d8-0b26253d3495",
   "metadata": {
    "collapsed": true,
    "jupyter": {
     "outputs_hidden": true
    },
    "tags": []
   },
   "outputs": [
    {
     "data": {
      "text/plain": [
       "array([  30.        ,   52.85710786,   76.42989706,  100.74077638,\n",
       "        125.81285623,  151.66997065,  178.33669994,  205.83839403,\n",
       "        234.2011966 ,  263.45206991,  293.61882043,  324.73012529,\n",
       "        356.81555954,  389.90562424,  424.03177549,  459.22645429,\n",
       "        495.52311744,  532.95626929,  571.56149454,  611.37549211,\n",
       "        652.43611001,  694.7823813 ,  738.4545612 ,  783.49416539,\n",
       "        829.94400943,  877.84824949,  927.25242431,  978.20349853,\n",
       "       1030.74990726, 1084.94160221, 1140.83009909, 1198.46852666,\n",
       "       1257.91167718, 1319.21605853, 1382.4399479 , 1447.64344722,\n",
       "       1514.88854026, 1584.23915157, 1655.76120728, 1729.5226977 ,\n",
       "       1805.59374201, 1884.0466549 , 1964.95601532, 2048.39873735,\n",
       "       2134.45414336, 2223.20403935, 2314.73279281, 2409.12741283,\n",
       "       2506.47763286, 2606.87599601, 2710.41794303, 2817.20190298,\n",
       "       2927.3293869 , 3040.90508422, 3158.0369623 , 3278.83636911,\n",
       "       3403.41813904, 3531.90070205, 3664.40619629, 3801.06058419,\n",
       "       3941.99377222, 4087.33973432, 4237.23663934, 4391.82698235,\n",
       "       4551.25772007, 4715.68041062, 4885.25135758, 5060.13175854,\n",
       "       5240.48785839, 5426.49110732, 5618.31832381, 5816.15186274,\n",
       "       6020.17978871, 6230.59605483, 6447.6006871 , 6671.39997455,\n",
       "       6902.20666536, 7140.24016909, 7385.72676524, 7638.89981839,\n",
       "       7900.        ])"
      ]
     },
     "execution_count": 21,
     "metadata": {},
     "output_type": "execute_result"
    }
   ],
   "source": [
    "hz"
   ]
  },
  {
   "cell_type": "markdown",
   "id": "b9d3db97-19bc-42cf-85b1-9f3790bd0287",
   "metadata": {},
   "source": [
    "## 4. f1 의 초기값을 활용해 2개의 learnable parameter 만들기\n",
    "* 3번에서 만든 hz (81,)를 가지고 다음 과정 진행\n",
    "\n",
    "* 3번에서 f1 초기값은 +1을 해주었지만 \n",
    "  * low_hz : [:-1]을 이용해서 마지막 값을 버리고 out_channels개로 돌림 =-> 마지막 버림 !!!\n",
    "  * band_hz: np.diff(hz)로 인접 원소 간 차이 계산해서 (80,)이 됨, 그 후 Tesnsor로 변경되고, view(-1,1)해서 [80,1]이 되게 됨 => 각 요소 값 간 차이 !!!!"
   ]
  },
  {
   "cell_type": "code",
   "execution_count": 30,
   "id": "61fad310-6f74-405c-800c-43130dfdd55f",
   "metadata": {},
   "outputs": [
    {
     "data": {
      "text/plain": [
       "(80,)"
      ]
     },
     "execution_count": 30,
     "metadata": {},
     "output_type": "execute_result"
    }
   ],
   "source": [
    "np.diff(hz).shape"
   ]
  },
  {
   "cell_type": "code",
   "execution_count": 5,
   "id": "49b0b2c8-5222-4ff9-b9be-b678a70861e2",
   "metadata": {},
   "outputs": [],
   "source": [
    "low_hz_ = torch.nn.Parameter(torch.Tensor(hz[:-1]).view(-1, 1))\n",
    "band_hz_ = torch.nn.Parameter(torch.Tensor(np.diff(hz)).view(-1, 1))"
   ]
  },
  {
   "cell_type": "code",
   "execution_count": 25,
   "id": "7fa320a9-729b-4cf0-8fda-56101d3cfb40",
   "metadata": {},
   "outputs": [
    {
     "data": {
      "text/plain": [
       "(torch.Size([80, 1]), torch.Size([80, 1]))"
      ]
     },
     "execution_count": 25,
     "metadata": {},
     "output_type": "execute_result"
    }
   ],
   "source": [
    "low_hz_.shape, band_hz_.shape # 둘 다 차원수는 (out_channels, 1)"
   ]
  },
  {
   "cell_type": "code",
   "execution_count": 23,
   "id": "abb31fbf-6b36-4753-b336-de6f64399396",
   "metadata": {
    "collapsed": true,
    "jupyter": {
     "outputs_hidden": true
    },
    "tags": []
   },
   "outputs": [
    {
     "data": {
      "text/plain": [
       "Parameter containing:\n",
       "tensor([[  30.0000],\n",
       "        [  52.8571],\n",
       "        [  76.4299],\n",
       "        [ 100.7408],\n",
       "        [ 125.8129],\n",
       "        [ 151.6700],\n",
       "        [ 178.3367],\n",
       "        [ 205.8384],\n",
       "        [ 234.2012],\n",
       "        [ 263.4521],\n",
       "        [ 293.6188],\n",
       "        [ 324.7301],\n",
       "        [ 356.8156],\n",
       "        [ 389.9056],\n",
       "        [ 424.0318],\n",
       "        [ 459.2264],\n",
       "        [ 495.5231],\n",
       "        [ 532.9563],\n",
       "        [ 571.5615],\n",
       "        [ 611.3755],\n",
       "        [ 652.4361],\n",
       "        [ 694.7824],\n",
       "        [ 738.4546],\n",
       "        [ 783.4941],\n",
       "        [ 829.9440],\n",
       "        [ 877.8483],\n",
       "        [ 927.2524],\n",
       "        [ 978.2035],\n",
       "        [1030.7499],\n",
       "        [1084.9417],\n",
       "        [1140.8301],\n",
       "        [1198.4685],\n",
       "        [1257.9116],\n",
       "        [1319.2161],\n",
       "        [1382.4399],\n",
       "        [1447.6434],\n",
       "        [1514.8885],\n",
       "        [1584.2391],\n",
       "        [1655.7612],\n",
       "        [1729.5227],\n",
       "        [1805.5938],\n",
       "        [1884.0466],\n",
       "        [1964.9561],\n",
       "        [2048.3987],\n",
       "        [2134.4541],\n",
       "        [2223.2041],\n",
       "        [2314.7329],\n",
       "        [2409.1274],\n",
       "        [2506.4775],\n",
       "        [2606.8760],\n",
       "        [2710.4180],\n",
       "        [2817.2019],\n",
       "        [2927.3293],\n",
       "        [3040.9050],\n",
       "        [3158.0369],\n",
       "        [3278.8364],\n",
       "        [3403.4182],\n",
       "        [3531.9006],\n",
       "        [3664.4062],\n",
       "        [3801.0605],\n",
       "        [3941.9937],\n",
       "        [4087.3398],\n",
       "        [4237.2368],\n",
       "        [4391.8271],\n",
       "        [4551.2578],\n",
       "        [4715.6802],\n",
       "        [4885.2515],\n",
       "        [5060.1318],\n",
       "        [5240.4878],\n",
       "        [5426.4912],\n",
       "        [5618.3184],\n",
       "        [5816.1519],\n",
       "        [6020.1797],\n",
       "        [6230.5962],\n",
       "        [6447.6006],\n",
       "        [6671.3999],\n",
       "        [6902.2065],\n",
       "        [7140.2402],\n",
       "        [7385.7266],\n",
       "        [7638.8999]], requires_grad=True)"
      ]
     },
     "execution_count": 23,
     "metadata": {},
     "output_type": "execute_result"
    }
   ],
   "source": [
    "low_hz_"
   ]
  },
  {
   "cell_type": "code",
   "execution_count": 31,
   "id": "1e7aae08-5836-41ad-a897-8300ed1c3f56",
   "metadata": {
    "collapsed": true,
    "jupyter": {
     "outputs_hidden": true
    },
    "tags": []
   },
   "outputs": [
    {
     "data": {
      "text/plain": [
       "Parameter containing:\n",
       "tensor([[ 22.8571],\n",
       "        [ 23.5728],\n",
       "        [ 24.3109],\n",
       "        [ 25.0721],\n",
       "        [ 25.8571],\n",
       "        [ 26.6667],\n",
       "        [ 27.5017],\n",
       "        [ 28.3628],\n",
       "        [ 29.2509],\n",
       "        [ 30.1667],\n",
       "        [ 31.1113],\n",
       "        [ 32.0854],\n",
       "        [ 33.0901],\n",
       "        [ 34.1262],\n",
       "        [ 35.1947],\n",
       "        [ 36.2967],\n",
       "        [ 37.4332],\n",
       "        [ 38.6052],\n",
       "        [ 39.8140],\n",
       "        [ 41.0606],\n",
       "        [ 42.3463],\n",
       "        [ 43.6722],\n",
       "        [ 45.0396],\n",
       "        [ 46.4498],\n",
       "        [ 47.9042],\n",
       "        [ 49.4042],\n",
       "        [ 50.9511],\n",
       "        [ 52.5464],\n",
       "        [ 54.1917],\n",
       "        [ 55.8885],\n",
       "        [ 57.6384],\n",
       "        [ 59.4431],\n",
       "        [ 61.3044],\n",
       "        [ 63.2239],\n",
       "        [ 65.2035],\n",
       "        [ 67.2451],\n",
       "        [ 69.3506],\n",
       "        [ 71.5221],\n",
       "        [ 73.7615],\n",
       "        [ 76.0710],\n",
       "        [ 78.4529],\n",
       "        [ 80.9094],\n",
       "        [ 83.4427],\n",
       "        [ 86.0554],\n",
       "        [ 88.7499],\n",
       "        [ 91.5288],\n",
       "        [ 94.3946],\n",
       "        [ 97.3502],\n",
       "        [100.3984],\n",
       "        [103.5419],\n",
       "        [106.7840],\n",
       "        [110.1275],\n",
       "        [113.5757],\n",
       "        [117.1319],\n",
       "        [120.7994],\n",
       "        [124.5818],\n",
       "        [128.4826],\n",
       "        [132.5055],\n",
       "        [136.6544],\n",
       "        [140.9332],\n",
       "        [145.3460],\n",
       "        [149.8969],\n",
       "        [154.5903],\n",
       "        [159.4307],\n",
       "        [164.4227],\n",
       "        [169.5710],\n",
       "        [174.8804],\n",
       "        [180.3561],\n",
       "        [186.0033],\n",
       "        [191.8272],\n",
       "        [197.8335],\n",
       "        [204.0279],\n",
       "        [210.4163],\n",
       "        [217.0046],\n",
       "        [223.7993],\n",
       "        [230.8067],\n",
       "        [238.0335],\n",
       "        [245.4866],\n",
       "        [253.1730],\n",
       "        [261.1002]], requires_grad=True)"
      ]
     },
     "execution_count": 31,
     "metadata": {},
     "output_type": "execute_result"
    }
   ],
   "source": [
    "band_hz_ # 나중에 high cut-off frequency  f2를 만들 때 사용"
   ]
  },
  {
   "cell_type": "markdown",
   "id": "d703f42d-da47-4959-a427-e582999266ba",
   "metadata": {},
   "source": [
    "결과적으로 컨볼루션 필터(싱크 함수)의 learnable parameter는  f1 과  f2  두 스칼라 값 뿐이다!"
   ]
  },
  {
   "cell_type": "code",
   "execution_count": null,
   "id": "99d00a63-5ffb-43f7-907b-e06b8daf3a0c",
   "metadata": {},
   "outputs": [],
   "source": [
    "band_hz_"
   ]
  },
  {
   "attachments": {
    "0cb55b64-7245-45d9-9e8f-b7534796b1a7.png": {
     "image/png": "[encoded data removed]"
    }
   },
   "cell_type": "markdown",
   "id": "2392f145-9756-4daf-8b7b-2c117d531608",
   "metadata": {},
   "source": [
    "band_hz_는 뒤에서 f2 의 \"f2−f1\" 역할을 수행\n",
    "\n",
    "수식 A.  컷오프 주파수에 대한 제약\n",
    "![image.png](attachment:0cb55b64-7245-45d9-9e8f-b7534796b1a7.png)\n",
    "\n",
    "band_hz_ 초기값을 지금처럼 설정해두면, 첫번째 컨볼루션 필터의  f2 는 다음 두번째 컨볼루션 필터의  f1 이 됨 (diff로 계산한거여서 그런것같은데 맞나???)\n",
    "\n",
    "이는 결과적으로 목표로 하는 주파수  f(16000)의 절반에 해당하는 범위(7900)에서 out_channels=80개의 컨볼루션 필터들이 비는 주파수 영역대가 없이 촘촘하게 입력 신호를 커버한다는 이야기임\n",
    "\n",
    "(여기서 목표 주파수  f 의 절반의 범위에서 입력 신호를 커버하는 것은 나이퀴스트 정리(Nyquist Theorem)와 관련이 있는 것 같다 (ratsgo에 따르면))\n",
    "* 나이퀴스트 정리: 원 신호를 목표 주파수로 복원하기 위해서는 해당 주파수 2배 이상의 sample rate로 샘플해야 한다는 정리"
   ]
  },
  {
   "cell_type": "markdown",
   "id": "3fac8ef6-0d5d-4b1b-a56a-7614aaad631c",
   "metadata": {},
   "source": [
    "## 5. 해밍 윈도우 만들기\n",
    "\n",
    "* 컨볼루션 필터(싱크 함수) 길이  L 에 절반에 해당하는 구간에 대해서만 해밍 윈도우를 만듦\n",
    "* 해밍 윈도우는 함수 모양이 좌우 대칭(symmetric)이므로 절반만 만들어 놓고 이미 만든 절반(window_)과 이를 뒤집은 값들을 계산해 이어붙이면(concatnate) 같은 연산을 빠르게 수행 가능"
   ]
  },
  {
   "cell_type": "code",
   "execution_count": 32,
   "id": "f71c2f24-d9cf-47a0-8154-29d9e1046372",
   "metadata": {},
   "outputs": [],
   "source": [
    "n_lin = torch.linspace(0, (kernel_size / 2) - 1, steps=int((kernel_size / 2)))\n",
    "window_ = 0.54 - 0.46 * torch.cos(2 * math.pi * n_lin / kernel_size)\n",
    "n = (kernel_size - 1) / 2.0\n",
    "n_ = 2 * math.pi * torch.arange(-n, 0).view(1, -1) / sample_rate"
   ]
  },
  {
   "cell_type": "code",
   "execution_count": 33,
   "id": "ce58727d-3772-450c-b38c-7f4658672113",
   "metadata": {},
   "outputs": [
    {
     "data": {
      "text/plain": [
       "251"
      ]
     },
     "execution_count": 33,
     "metadata": {},
     "output_type": "execute_result"
    }
   ],
   "source": [
    "kernel_size"
   ]
  },
  {
   "cell_type": "code",
   "execution_count": 36,
   "id": "67a7cb60-9068-4284-a2bc-279934762766",
   "metadata": {
    "collapsed": true,
    "jupyter": {
     "outputs_hidden": true
    },
    "tags": []
   },
   "outputs": [
    {
     "data": {
      "text/plain": [
       "tensor([  0.0000,   1.0040,   2.0081,   3.0121,   4.0161,   5.0202,   6.0242,\n",
       "          7.0282,   8.0323,   9.0363,  10.0403,  11.0444,  12.0484,  13.0524,\n",
       "         14.0565,  15.0605,  16.0645,  17.0685,  18.0726,  19.0766,  20.0806,\n",
       "         21.0847,  22.0887,  23.0927,  24.0968,  25.1008,  26.1048,  27.1089,\n",
       "         28.1129,  29.1169,  30.1210,  31.1250,  32.1290,  33.1331,  34.1371,\n",
       "         35.1411,  36.1452,  37.1492,  38.1532,  39.1573,  40.1613,  41.1653,\n",
       "         42.1694,  43.1734,  44.1774,  45.1814,  46.1855,  47.1895,  48.1936,\n",
       "         49.1976,  50.2016,  51.2056,  52.2097,  53.2137,  54.2177,  55.2218,\n",
       "         56.2258,  57.2298,  58.2339,  59.2379,  60.2419,  61.2460,  62.2500,\n",
       "         63.2540,  64.2581,  65.2621,  66.2661,  67.2702,  68.2742,  69.2782,\n",
       "         70.2823,  71.2863,  72.2903,  73.2944,  74.2984,  75.3024,  76.3064,\n",
       "         77.3105,  78.3145,  79.3186,  80.3226,  81.3266,  82.3306,  83.3347,\n",
       "         84.3387,  85.3427,  86.3468,  87.3508,  88.3548,  89.3589,  90.3629,\n",
       "         91.3669,  92.3710,  93.3750,  94.3790,  95.3831,  96.3871,  97.3911,\n",
       "         98.3952,  99.3992, 100.4032, 101.4073, 102.4113, 103.4153, 104.4194,\n",
       "        105.4234, 106.4274, 107.4315, 108.4355, 109.4395, 110.4436, 111.4476,\n",
       "        112.4516, 113.4556, 114.4597, 115.4637, 116.4677, 117.4718, 118.4758,\n",
       "        119.4798, 120.4839, 121.4879, 122.4919, 123.4960, 124.5000])"
      ]
     },
     "execution_count": 36,
     "metadata": {},
     "output_type": "execute_result"
    }
   ],
   "source": [
    "n_lin"
   ]
  },
  {
   "cell_type": "code",
   "execution_count": 43,
   "id": "b9964435-09be-41c5-a5e0-62297946781e",
   "metadata": {},
   "outputs": [
    {
     "data": {
      "text/plain": [
       "(torch.Size([125]), torch.Size([125]), 125.0, torch.Size([1, 125]))"
      ]
     },
     "execution_count": 43,
     "metadata": {},
     "output_type": "execute_result"
    }
   ],
   "source": [
    "n_lin.shape, window_.shape, n, n_.shape"
   ]
  },
  {
   "cell_type": "code",
   "execution_count": 38,
   "id": "2c95d6d6-b3ee-447d-8d64-ff1059641021",
   "metadata": {
    "collapsed": true,
    "jupyter": {
     "outputs_hidden": true
    },
    "tags": []
   },
   "outputs": [
    {
     "data": {
      "text/plain": [
       "tensor([0.0800, 0.0801, 0.0806, 0.0813, 0.0823, 0.0836, 0.0852, 0.0871, 0.0893,\n",
       "        0.0917, 0.0945, 0.0975, 0.1008, 0.1043, 0.1082, 0.1123, 0.1167, 0.1214,\n",
       "        0.1263, 0.1315, 0.1369, 0.1426, 0.1485, 0.1547, 0.1612, 0.1679, 0.1748,\n",
       "        0.1819, 0.1893, 0.1969, 0.2047, 0.2127, 0.2209, 0.2294, 0.2380, 0.2468,\n",
       "        0.2558, 0.2650, 0.2743, 0.2838, 0.2935, 0.3034, 0.3134, 0.3235, 0.3338,\n",
       "        0.3442, 0.3547, 0.3653, 0.3761, 0.3869, 0.3979, 0.4089, 0.4200, 0.4312,\n",
       "        0.4425, 0.4538, 0.4652, 0.4766, 0.4881, 0.4996, 0.5111, 0.5227, 0.5342,\n",
       "        0.5458, 0.5574, 0.5689, 0.5804, 0.5919, 0.6034, 0.6148, 0.6262, 0.6375,\n",
       "        0.6488, 0.6600, 0.6711, 0.6822, 0.6931, 0.7040, 0.7147, 0.7254, 0.7359,\n",
       "        0.7463, 0.7566, 0.7667, 0.7767, 0.7865, 0.7962, 0.8057, 0.8151, 0.8242,\n",
       "        0.8332, 0.8421, 0.8507, 0.8591, 0.8673, 0.8753, 0.8832, 0.8907, 0.8981,\n",
       "        0.9053, 0.9122, 0.9188, 0.9253, 0.9315, 0.9374, 0.9431, 0.9486, 0.9537,\n",
       "        0.9587, 0.9633, 0.9677, 0.9718, 0.9757, 0.9793, 0.9825, 0.9856, 0.9883,\n",
       "        0.9907, 0.9929, 0.9948, 0.9964, 0.9977, 0.9987, 0.9994, 0.9999])"
      ]
     },
     "execution_count": 38,
     "metadata": {},
     "output_type": "execute_result"
    }
   ],
   "source": [
    "window_"
   ]
  },
  {
   "cell_type": "code",
   "execution_count": 41,
   "id": "3763e674-6da5-41c4-9b93-49ca1cf9c959",
   "metadata": {
    "collapsed": true,
    "jupyter": {
     "outputs_hidden": true
    },
    "tags": []
   },
   "outputs": [
    {
     "data": {
      "text/plain": [
       "tensor([[-0.0491, -0.0487, -0.0483, -0.0479, -0.0475, -0.0471, -0.0467, -0.0463,\n",
       "         -0.0459, -0.0456, -0.0452, -0.0448, -0.0444, -0.0440, -0.0436, -0.0432,\n",
       "         -0.0428, -0.0424, -0.0420, -0.0416, -0.0412, -0.0408, -0.0404, -0.0401,\n",
       "         -0.0397, -0.0393, -0.0389, -0.0385, -0.0381, -0.0377, -0.0373, -0.0369,\n",
       "         -0.0365, -0.0361, -0.0357, -0.0353, -0.0350, -0.0346, -0.0342, -0.0338,\n",
       "         -0.0334, -0.0330, -0.0326, -0.0322, -0.0318, -0.0314, -0.0310, -0.0306,\n",
       "         -0.0302, -0.0298, -0.0295, -0.0291, -0.0287, -0.0283, -0.0279, -0.0275,\n",
       "         -0.0271, -0.0267, -0.0263, -0.0259, -0.0255, -0.0251, -0.0247, -0.0243,\n",
       "         -0.0240, -0.0236, -0.0232, -0.0228, -0.0224, -0.0220, -0.0216, -0.0212,\n",
       "         -0.0208, -0.0204, -0.0200, -0.0196, -0.0192, -0.0188, -0.0185, -0.0181,\n",
       "         -0.0177, -0.0173, -0.0169, -0.0165, -0.0161, -0.0157, -0.0153, -0.0149,\n",
       "         -0.0145, -0.0141, -0.0137, -0.0134, -0.0130, -0.0126, -0.0122, -0.0118,\n",
       "         -0.0114, -0.0110, -0.0106, -0.0102, -0.0098, -0.0094, -0.0090, -0.0086,\n",
       "         -0.0082, -0.0079, -0.0075, -0.0071, -0.0067, -0.0063, -0.0059, -0.0055,\n",
       "         -0.0051, -0.0047, -0.0043, -0.0039, -0.0035, -0.0031, -0.0027, -0.0024,\n",
       "         -0.0020, -0.0016, -0.0012, -0.0008, -0.0004]])"
      ]
     },
     "execution_count": 41,
     "metadata": {},
     "output_type": "execute_result"
    }
   ],
   "source": [
    "n_"
   ]
  },
  {
   "cell_type": "markdown",
   "id": "d7d4f184-5176-4372-8187-6a548a768c96",
   "metadata": {},
   "source": [
    "# 6. 컷오프 주파수  f1 과  f2  만들기"
   ]
  },
  {
   "cell_type": "markdown",
   "id": "7ac42021-dce9-4dd6-b763-c2ca1a277b2e",
   "metadata": {},
   "source": [
    "여기서부터는 깃허브 코드에서 입력 음성 신호를 받아서 태스크(화자 인식) 수행에 적절한 방향으로  f1\n",
    " 과  f2 를 갱신해 가는 파트다 !"
   ]
  },
  {
   "attachments": {
    "16703050-7a42-45cf-8971-074170ddb228.png": {
     "image/png": "[encoded data removed]"
    }
   },
   "cell_type": "markdown",
   "id": "bdfcd329-c893-4ec1-b4fe-b6b143660f44",
   "metadata": {},
   "source": [
    "![image.png](attachment:16703050-7a42-45cf-8971-074170ddb228.png)"
   ]
  },
  {
   "cell_type": "code",
   "execution_count": 44,
   "id": "59b6e921-79cd-4dcf-828b-3e3d1c1065ca",
   "metadata": {},
   "outputs": [],
   "source": [
    "low = min_low_hz + torch.abs(low_hz_)\n",
    "high = torch.clamp(input=low + min_band_hz + torch.abs(band_hz_),\n",
    "                   min=min_low_hz,\n",
    "                   max=sample_rate / 2)\n",
    "band = (high - low)[:, 0]"
   ]
  },
  {
   "cell_type": "markdown",
   "id": "9335a663-dd57-47b5-b233-9919e4abaa94",
   "metadata": {},
   "source": [
    "* low (f1)은 앞서 만든 low_hz_의 절대값을 취해서 만듦\n",
    "  * 이 때 위 수식과 다른 점은  min_low_hz=50을 더해준 것\n",
    "* high (f2)는 low(f1)이고, torch.abs(band_hz_)가 아까 4번에서 구해둔 절대값임\n",
    "  * 이 때 위 수식과 다른 점은 min_band_hz =50을 더해준 것\n",
    "  * torch.clamp 함수는 입력이 min보다 작으면 min, max보다 크면 max, 그 사이이면 입력 그대로 리턴\n",
    "* band는 추후를 위해 미리 짜둔 코드임 (싱크 함수를 대칭으로 만들기 위해 정의한 것)\n",
    "  * 싱크 함수는 주로 통과시키는 주파수 영역대에서 최고치를 가짐"
   ]
  },
  {
   "cell_type": "code",
   "execution_count": 49,
   "id": "f8151f4c-0eb1-49f8-9ef0-1e96952e8148",
   "metadata": {
    "tags": []
   },
   "outputs": [
    {
     "data": {
      "text/plain": [
       "(torch.Size([80, 1]), torch.Size([80, 1]))"
      ]
     },
     "execution_count": 49,
     "metadata": {},
     "output_type": "execute_result"
    }
   ],
   "source": [
    "low.shape, high.shape"
   ]
  },
  {
   "cell_type": "code",
   "execution_count": 54,
   "id": "730f9d72-6edc-4547-90ec-3de889177c4a",
   "metadata": {},
   "outputs": [
    {
     "data": {
      "text/plain": [
       "torch.Size([80])"
      ]
     },
     "execution_count": 54,
     "metadata": {},
     "output_type": "execute_result"
    }
   ],
   "source": [
    "band.shape # torch.Size([80, 1])의 shape를 [:, 0]으로 바꾸어준거네 "
   ]
  },
  {
   "cell_type": "markdown",
   "id": "95d6ab18-c60c-41c6-a8df-0cd8fdea875a",
   "metadata": {},
   "source": [
    "## 7. 싱크 함수 만들기 -1"
   ]
  },
  {
   "attachments": {
    "5d69ea03-41d4-4394-a06f-a4306b610001.png": {
     "image/png": "[encoded data removed]"
    }
   },
   "cell_type": "markdown",
   "id": "4a84d9c8-6bc3-4513-a83f-e65c9b61790b",
   "metadata": {},
   "source": [
    "수식 B. 이상적인 BANDPASS FILTER - 시간 도메인\n",
    "![image.png](attachment:5d69ea03-41d4-4394-a06f-a4306b610001.png)"
   ]
  },
  {
   "cell_type": "markdown",
   "id": "5ca60b79-c9bc-4405-b44d-f05ac38a6592",
   "metadata": {},
   "source": [
    "수식 B에서, 주파수( f )와 시간( t ), 샘플 인덱스( n )은 n=ft가 성립함 \n",
    "\n",
    "수식 B를 계산하기 위해서는 수식 B의 n에 대응하는 값이 필요함 (=주파수(f)와 시간인덱스(t) 곱하기, torch.matmul)"
   ]
  },
  {
   "cell_type": "code",
   "execution_count": 58,
   "id": "985c704e-6357-4b07-ae9f-7d296c49acf1",
   "metadata": {},
   "outputs": [
    {
     "data": {
      "text/plain": [
       "(torch.Size([80, 1]), torch.Size([80, 1]), torch.Size([1, 125]))"
      ]
     },
     "execution_count": 58,
     "metadata": {},
     "output_type": "execute_result"
    }
   ],
   "source": [
    "low.shape, high.shape, n_.shape # 원래 값"
   ]
  },
  {
   "cell_type": "code",
   "execution_count": 61,
   "id": "791c5278-9c67-4f6b-9be0-e345f07f88a8",
   "metadata": {},
   "outputs": [],
   "source": [
    "# 여기서 n_ 는 앞서 5번에서 해밍윈도우를 만들때 진행한 코드로 다시 살펴보면 다음과 같음\n",
    "\n",
    "n = (kernel_size - 1) / 2.0 # 125\n",
    "n_ = 2 * math.pi * torch.arange(-n, 0).view(1, -1) / sample_rate"
   ]
  },
  {
   "cell_type": "markdown",
   "id": "01d7c33b-b70b-46ec-8379-26a22d09cae7",
   "metadata": {},
   "source": [
    "torch.arange(-n, 0).view(1, -1)을 수행하면 시간 인덱스 (t)에 대응하게 됨\n",
    "\n",
    "이 벡터에 low, high를 내적한 결과가 수식B. 싱크 함수 내부에 있는 각각의  n이 됨\n",
    "\n",
    "여기서 n_를 계산할 때, 2π(2 * math.pi)를 곱하고 sample_rate(f)로 나누어주었는데, 2π(2 * math.pi)는 싱크 함수 내에 있는 2π임 (4)"
   ]
  },
  {
   "cell_type": "code",
   "execution_count": 55,
   "id": "01ac0f74-89aa-4d74-afba-f43bf1397f89",
   "metadata": {},
   "outputs": [],
   "source": [
    "f_times_t_low = torch.matmul(low, n_)\n",
    "f_times_t_high = torch.matmul(high, n_) # 계산 곱해보자 !"
   ]
  },
  {
   "cell_type": "code",
   "execution_count": 60,
   "id": "5b6e3db7-47fa-4974-b8da-b35c5bb3f29c",
   "metadata": {},
   "outputs": [
    {
     "data": {
      "text/plain": [
       "(torch.Size([80, 125]), torch.Size([80, 125]))"
      ]
     },
     "execution_count": 60,
     "metadata": {},
     "output_type": "execute_result"
    }
   ],
   "source": [
    "f_times_t_low.shape, f_times_t_high.shape # 결과값"
   ]
  },
  {
   "cell_type": "markdown",
   "id": "3bab6ab6-7b72-4f18-860e-4101687395bd",
   "metadata": {},
   "source": [
    "## 8. 싱크함수 만들기 - 2"
   ]
  },
  {
   "attachments": {
    "d92d213c-965b-4740-822d-26037f02a1f3.png": {
     "image/png": "[encoded data removed]"
    },
    "f10278b4-4a6e-401f-b060-35bff49960de.png": {
     "image/png": "[encoded data removed]"
    }
   },
   "cell_type": "markdown",
   "id": "a4864069-420a-4408-846c-10bb44c0dcea",
   "metadata": {},
   "source": [
    "싱크 함수가  sinc(x)=sin(x)/x임을 고려하자\n",
    "\n",
    "그러면, ![image.png](attachment:d92d213c-965b-4740-822d-26037f02a1f3.png) 이므로\n",
    "시간 인덱스에  2π  가 이미 곱해진 n_에 2로 나눈 값을 다시 나눠주면 수식 B가 된다, -> 이게 무슨 뜻인지 아무리 봐도 모르겠다,, 일단 넘어가자\n",
    "\n",
    "여기에 해밍윈도우를 곱한다 (5번)\n",
    "![image.png](attachment:f10278b4-4a6e-401f-b060-35bff49960de.png)"
   ]
  },
  {
   "cell_type": "markdown",
   "id": "5399970d-f32a-4778-8a8a-a69b8fdf91ff",
   "metadata": {},
   "source": [
    "이것이 바로 컨볼루션 필터(싱크 함수)의 좌측 부분, 즉 band_pass_left이다"
   ]
  },
  {
   "cell_type": "code",
   "execution_count": 62,
   "id": "41fe9f76-16f3-4da1-8e2f-22821d527af0",
   "metadata": {},
   "outputs": [],
   "source": [
    "band_pass_left = ((torch.sin(f_times_t_high) - torch.sin(f_times_t_low)) / (n_ / 2)) * window_ # (4),(7)식을 실제로 수행한거네"
   ]
  },
  {
   "cell_type": "code",
   "execution_count": 63,
   "id": "e2047c9b-95a1-4ae1-a801-1eb66e138c81",
   "metadata": {},
   "outputs": [
    {
     "data": {
      "text/plain": [
       "torch.Size([80, 125])"
      ]
     },
     "execution_count": 63,
     "metadata": {},
     "output_type": "execute_result"
    }
   ],
   "source": [
    "band_pass_left.shape"
   ]
  },
  {
   "cell_type": "markdown",
   "id": "d60630af-6824-41bb-9f29-47a6b24b56c0",
   "metadata": {},
   "source": [
    "이제, 좌우 대칭(symmetric)인 싱크 함수를 만들고 있으므로 이를 뒤집어(torch.flip) 오른쪽 부분인 (1) band_pass_right을 만들고 (2) 중간값(band_pass_center) 역시 만들 수 있다"
   ]
  },
  {
   "cell_type": "code",
   "execution_count": 64,
   "id": "cc9ad389-f6c5-4ecd-aedb-17d89dc08fa7",
   "metadata": {},
   "outputs": [],
   "source": [
    "band_pass_center = 2 * band.view(-1, 1)\n",
    "band_pass_right = torch.flip(band_pass_left, dims=[1])"
   ]
  },
  {
   "cell_type": "markdown",
   "id": "33f61853-92a1-4938-8719-cbc25a6be946",
   "metadata": {},
   "source": [
    "그 다음에 concat으로 다 합치는거구나, 이렇게 나누어서 cat하는 이유는 아까 얘기한대로 연산 줄이려고인거겠지.//\n",
    "아무튼 최종적으로는 이를 이어붙여(concatenate) 필터 계산이 끝난다 !!!!!"
   ]
  },
  {
   "cell_type": "code",
   "execution_count": 65,
   "id": "1ed59a4c-e81d-426b-b41c-7d14db3ef4d3",
   "metadata": {},
   "outputs": [],
   "source": [
    "band_pass = torch.cat([band_pass_left, band_pass_center, band_pass_right], dim=1)"
   ]
  },
  {
   "cell_type": "code",
   "execution_count": 66,
   "id": "03dcc792-9a00-4227-8531-edaee91f2381",
   "metadata": {},
   "outputs": [
    {
     "data": {
      "text/plain": [
       "torch.Size([80, 251])"
      ]
     },
     "execution_count": 66,
     "metadata": {},
     "output_type": "execute_result"
    }
   ],
   "source": [
    "band_pass.shape"
   ]
  },
  {
   "cell_type": "code",
   "execution_count": 67,
   "id": "de9d3b1c-6cfc-4a7a-9fb8-cae37c3438be",
   "metadata": {},
   "outputs": [],
   "source": [
    "band_pass = band_pass / (2 * band[:, None]) #  생성된 band_pass 텐서를 정규화 (필터를 정규화하여 특정 주파수 범위에서의 에너지를 보존하도록 함)"
   ]
  },
  {
   "cell_type": "code",
   "execution_count": 68,
   "id": "c18ea69b-5d93-4b8b-8dd7-2322f30c4800",
   "metadata": {},
   "outputs": [
    {
     "data": {
      "text/plain": [
       "torch.Size([80, 251])"
      ]
     },
     "execution_count": 68,
     "metadata": {},
     "output_type": "execute_result"
    }
   ],
   "source": [
    "band_pass.shape"
   ]
  },
  {
   "cell_type": "code",
   "execution_count": 69,
   "id": "5834ed59-0ae5-4c57-bcf4-efcde4bd9aa4",
   "metadata": {},
   "outputs": [],
   "source": [
    "filters = (band_pass).view(out_channels, 1, kernel_size)"
   ]
  },
  {
   "cell_type": "code",
   "execution_count": 71,
   "id": "e409ac70-23d4-4454-ae07-e5808afc22b6",
   "metadata": {},
   "outputs": [
    {
     "data": {
      "text/plain": [
       "torch.Size([80, 1, 251])"
      ]
     },
     "execution_count": 71,
     "metadata": {},
     "output_type": "execute_result"
    }
   ],
   "source": [
    "filters.shape # 우와 !!!!!!!!! 필터가 나왔다"
   ]
  },
  {
   "cell_type": "markdown",
   "id": "1776a9db-8779-4f1e-bc7b-19f873385ec3",
   "metadata": {},
   "source": [
    "# 9. 필터는 어떻게 쓰일까?"
   ]
  },
  {
   "cell_type": "raw",
   "id": "ac031944-b38a-4b04-abde-4d11d4279964",
   "metadata": {},
   "source": [
    "이 필터들을 입력 음성 신호에 대한 1D 컨볼루션 연산에 사용된다.\n",
    "태스크 학습 과정에서 역전파(backpropagation)되어 전달된 그래디언트(gradient)를 받아  f1과  f2 를 학습한다.\n",
    "컨볼루션 필터 수(out_channels)가 80일 경우 총 160개의 스칼라값이 SincNet 첫번째 레이어의 학습 대상 파라메터가 되게 되는 것이다."
   ]
  },
  {
   "cell_type": "raw",
   "id": "73e7de52-6fb7-418a-a86e-ae6a3b7c76a1",
   "metadata": {},
   "source": [
    "# 이후 이 80개 필터들이 각각 입력 raw wave에 대해 1d conv 실시\n",
    "\n",
    "sincnet_result = F.conv1d(waveforms, filters, stride=stride,\n",
    "                          padding=padding, dilation=dilation,\n",
    "                          bias=None, groups=1)"
   ]
  },
  {
   "cell_type": "code",
   "execution_count": null,
   "id": "116b8cde-b226-44d3-8fd0-0c36696f7b8f",
   "metadata": {},
   "outputs": [],
   "source": []
  }
 ],
 "metadata": {
  "kernelspec": {
   "display_name": "ap_py38",
   "language": "python",
   "name": "ap_py38"
  },
  "language_info": {
   "codemirror_mode": {
    "name": "ipython",
    "version": 3
   },
   "file_extension": ".py",
   "mimetype": "text/x-python",
   "name": "python",
   "nbconvert_exporter": "python",
   "pygments_lexer": "ipython3",
   "version": "3.8.10"
  }
 },
 "nbformat": 4,
 "nbformat_minor": 5
}
