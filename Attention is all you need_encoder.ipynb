{
 "cells": [
  {
   "cell_type": "markdown",
   "id": "a0411089",
   "metadata": {},
   "source": [
    "# 참고자료"
   ]
  },
  {
   "cell_type": "markdown",
   "id": "75706366",
   "metadata": {},
   "source": [
    "https://colab.research.google.com/github/bentrevett/pytorch-seq2seq/blob/master/6%20-%20Attention%20is%20All%20You%20Need.ipynb#scrollTo=Lf9uw2MKe-Yb\n",
    "\n",
    "https://wikidocs.net/60314\n",
    "\n",
    "https://wikidocs.net/64517\n",
    "\n",
    "https://codlingual.tistory.com/91"
   ]
  },
  {
   "cell_type": "markdown",
   "id": "a6ed9ab6",
   "metadata": {},
   "source": [
    "# 0.라이브러리 import"
   ]
  },
  {
   "cell_type": "code",
   "execution_count": 1,
   "id": "21b266b8",
   "metadata": {},
   "outputs": [
    {
     "name": "stderr",
     "output_type": "stream",
     "text": [
      "/home/dsail/hyolim/hyolim_py38/lib/python3.8/site-packages/tqdm/auto.py:22: TqdmWarning: IProgress not found. Please update jupyter and ipywidgets. See https://ipywidgets.readthedocs.io/en/stable/user_install.html\n",
      "  from .autonotebook import tqdm as notebook_tqdm\n"
     ]
    }
   ],
   "source": [
    "import torch\n",
    "import torch.nn as nn\n",
    "import torch.optim as optim\n",
    "\n",
    "import torchtext\n",
    "from torchtext.datasets import TranslationDataset, Multi30k\n",
    "from torchtext import data \n",
    "from torchtext.data import Field, BucketIterator\n",
    "# from torchtext.legacy.data import Field, BucketIterator\n",
    "\n",
    "import matplotlib.pyplot as plt\n",
    "import matplotlib.ticker as ticker\n",
    "\n",
    "import spacy\n",
    "import numpy as np\n",
    "\n",
    "import random\n",
    "import math\n",
    "import time"
   ]
  },
  {
   "cell_type": "code",
   "execution_count": 2,
   "id": "f91a6b13",
   "metadata": {},
   "outputs": [],
   "source": [
    "SEED = 1234\n",
    "\n",
    "random.seed(SEED)\n",
    "np.random.seed(SEED)\n",
    "torch.manual_seed(SEED)\n",
    "torch.cuda.manual_seed(SEED)\n",
    "torch.backends.cudnn.deterministic = True"
   ]
  },
  {
   "cell_type": "markdown",
   "id": "8f3be34a",
   "metadata": {},
   "source": [
    "# 1. 전처리\n",
    "## 1.1 tokenizer 만들기\n",
    "* 토큰화\n",
    "    * 주어진 텍스트를 단어 또는 문자 단위로 자르는 것\n",
    "    * 영어의 경우, 토큰화 도구로 spacy와 NLTK를 주로 사용"
   ]
  },
  {
   "cell_type": "markdown",
   "id": "47c7804c",
   "metadata": {},
   "source": [
    "* 설치 코드\n",
    "    * python -m spacy download en\n",
    "    * python -m spacy download de"
   ]
  },
  {
   "cell_type": "code",
   "execution_count": 3,
   "id": "a730f21f",
   "metadata": {},
   "outputs": [],
   "source": [
    "# 각 언어에 맞는 tokenizer 불러오기 \n",
    "spacy_de = spacy.load('de_core_news_sm')\n",
    "spacy_en = spacy.load('en_core_web_sm')"
   ]
  },
  {
   "cell_type": "code",
   "execution_count": 4,
   "id": "d5e7aba9",
   "metadata": {},
   "outputs": [],
   "source": [
    "# 문장을 토큰화 해주는 함수\n",
    "def tokenize_de(text):\n",
    "    \"\"\"\n",
    "    Tokenizes German text from a string into a list of strings\n",
    "    \"\"\"\n",
    "    return [tok.text for tok in spacy_de.tokenizer(text)]\n",
    "\n",
    "def tokenize_en(text):\n",
    "    \"\"\"\n",
    "    Tokenizes English text from a string into a list of strings\n",
    "    \"\"\"\n",
    "    return [tok.text for tok in spacy_en.tokenizer(text)]"
   ]
  },
  {
   "cell_type": "code",
   "execution_count": 5,
   "id": "45e5e1e1",
   "metadata": {},
   "outputs": [
    {
     "name": "stdout",
     "output_type": "stream",
     "text": [
      "['A', 'Dog', 'Run', 'back', 'corner', 'near', 'spare', 'bedrooms']\n"
     ]
    }
   ],
   "source": [
    "# 영어 문장이 주어졌을 때 토큰화 되는 것을 확인 가능\n",
    "text = \"A Dog Run back corner near spare bedrooms\"\n",
    "print(tokenize_en(text))"
   ]
  },
  {
   "cell_type": "markdown",
   "id": "d0368af0",
   "metadata": {},
   "source": [
    "* 필드 정의하기(torchtext.data)\n",
    "    * 앞으로 어떤 전처리를 할 것인지를 정의\n",
    "    * tokenize : 어떤 토큰화 함수를 사용할 것인지 지정. (string.split이 기본값)\n",
    "    * lower : 영어 데이터를 전부 소문자화한다. (False가 기본값)\n",
    "    * batch_first : 미니 배치 차원을 맨 앞으로 하여 데이터를 불러올 것인지 여부. (False가 기본값)"
   ]
  },
  {
   "cell_type": "code",
   "execution_count": 6,
   "id": "3023131c",
   "metadata": {},
   "outputs": [],
   "source": [
    "SRC = data.Field(tokenize = tokenize_de, \n",
    "            init_token = '<sos>', \n",
    "            eos_token = '<eos>', \n",
    "            lower = True, \n",
    "            batch_first = True)\n",
    "\n",
    "TRG = data.Field(tokenize = tokenize_en, \n",
    "            init_token = '<sos>', \n",
    "            eos_token = '<eos>', \n",
    "            lower = True, \n",
    "            batch_first = True)"
   ]
  },
  {
   "cell_type": "markdown",
   "id": "71cf415b",
   "metadata": {},
   "source": [
    "## 1.2 Multi30k 데이터 로드\n",
    "* 데이터셋 만들기\n",
    "    * exts : 어떤 언어 사용할지 명시 (input 언어를 먼저 씀)\n",
    "    * fields = (입력, 출력) "
   ]
  },
  {
   "cell_type": "code",
   "execution_count": 7,
   "id": "4c67d152",
   "metadata": {},
   "outputs": [
    {
     "name": "stdout",
     "output_type": "stream",
     "text": [
      "학습 데이터셋(training dataset) 크기: 29000개\n",
      "평가 데이터셋(validation dataset) 크기: 1014개\n",
      "테스트 데이터셋(testing dataset) 크기: 1000개\n"
     ]
    }
   ],
   "source": [
    "train_data, valid_data, test_data = Multi30k.splits(exts = ('.de', '.en'), fields = (SRC, TRG))\n",
    "\n",
    "print(f\"학습 데이터셋(training dataset) 크기: {len(train_data.examples)}개\")\n",
    "print(f\"평가 데이터셋(validation dataset) 크기: {len(valid_data.examples)}개\")\n",
    "print(f\"테스트 데이터셋(testing dataset) 크기: {len(test_data.examples)}개\")"
   ]
  },
  {
   "cell_type": "code",
   "execution_count": 8,
   "id": "6a336a00",
   "metadata": {},
   "outputs": [
    {
     "name": "stdout",
     "output_type": "stream",
     "text": [
      "{'src': ['zwei', 'junge', 'weiße', 'männer', 'sind', 'im', 'freien', 'in', 'der', 'nähe', 'vieler', 'büsche', '.'], 'trg': ['two', 'young', ',', 'white', 'males', 'are', 'outside', 'near', 'many', 'bushes', '.']}\n"
     ]
    }
   ],
   "source": [
    "# 데이터 확인\n",
    "print(vars(train_data.examples[0]))\n",
    "# -> 여기서 독일어의 경우 단어 순서가 거꾸로 출력"
   ]
  },
  {
   "cell_type": "markdown",
   "id": "ad680010",
   "metadata": {},
   "source": [
    "* 단어 집합(vocabulary) 만들기\n",
    "    * 토큰화 전처리를 끝낸 후, 각 단어에 고유한 정수를 맵핑해주는 정수 인코딩(Integer enoding) 작업이 필요. 이 전처리를 위해서 우선 단어 집합을 만들어야 하는데 이는 -> unique한 토큰들을 index에 대응시키는 과정\n",
    "    * min_freq : 단어 집합에 추가 시 단어의 최소 등장 빈도 조건을 추가. 2로 설정한 경우 한 번만 나오는 단어는 unk 토큰으로 처리"
   ]
  },
  {
   "cell_type": "code",
   "execution_count": 9,
   "id": "fa28fa47",
   "metadata": {},
   "outputs": [
    {
     "name": "stdout",
     "output_type": "stream",
     "text": [
      "단어 집합의 크기 : 7853\n",
      "단어 집합의 크기 : 5893\n"
     ]
    }
   ],
   "source": [
    "SRC.build_vocab(train_data, min_freq = 2)\n",
    "TRG.build_vocab(train_data, min_freq = 2)\n",
    "\n",
    "# 생성된 단어 집합 크기 확인\n",
    "print('단어 집합의 크기 : {}'.format(len(SRC.vocab)))\n",
    "print('단어 집합의 크기 : {}'.format(len(TRG.vocab)))"
   ]
  },
  {
   "cell_type": "markdown",
   "id": "2e77e7aa",
   "metadata": {},
   "source": [
    "* 생성된 단어 집합 내의 단어들 .stoi로 확인 가능\n",
    "    * 토치텍스트가 임의로 특별 토큰인 'unk': 0, 'pad': 1를 추가함\n",
    "    * unk는 단어 집합에 없는 단어를 표현할 때, pad는 길이를 맞추는 패딩 작업을 할 때 사용"
   ]
  },
  {
   "cell_type": "code",
   "execution_count": 10,
   "id": "fd0b4335",
   "metadata": {},
   "outputs": [
    {
     "name": "stdout",
     "output_type": "stream",
     "text": [
      "defaultdict(<bound method Vocab._default_unk_index of <torchtext.vocab.Vocab object at 0x7fe81329fa60>>, {'<unk>': 0, '<pad>': 1, '<sos>': 2, '<eos>': 3, '.': 4, 'ein': 5, 'einem': 6, 'in': 7, 'eine': 8, ',': 9, 'und': 10, 'mit': 11, 'auf': 12, 'mann': 13, 'einer': 14, 'der': 15, 'frau': 16, 'die': 17, 'zwei': 18, 'einen': 19, 'im': 20, 'an': 21, 'von': 22, 'sich': 23, 'dem': 24, 'mädchen': 25, 'junge': 26, 'vor': 27, 'zu': 28, 'steht': 29, 'männer': 30, 'sitzt': 31, 'hund': 32, 'den': 33, 'straße': 34, 'während': 35, 'gruppe': 36, 'hält': 37, 'spielt': 38, 'das': 39, 'hemd': 40, 'personen': 41, 'über': 42, 'drei': 43, 'eines': 44, 'frauen': 45, 'blauen': 46, 'neben': 47, 'ist': 48, 'kind': 49, 'roten': 50, 'weißen': 51, 'stehen': 52, 'sitzen': 53, 'menschen': 54, 'am': 55, 'aus': 56, 'spielen': 57, 'durch': 58, 'bei': 59, 'geht': 60, 'trägt': 61, 'fährt': 62, 'wasser': 63, 'um': 64, 'kinder': 65, 'kleines': 66, 'person': 67, 'macht': 68, 'springt': 69, 'kleiner': 70, 'schwarzen': 71, 'entlang': 72, 'leute': 73, 'gehen': 74, 'etwas': 75, 'mehrere': 76, 'seinem': 77, 'großen': 78, 'oberteil': 79, 'jungen': 80, 'hand': 81, 'grünen': 82, 'läuft': 83, 'sind': 84, 'für': 85, 'hintergrund': 86, 'fahrrad': 87, 'freien': 88, 'jacke': 89, 'luft': 90, 'strand': 91, 'ball': 92, 'hat': 93, 'anderen': 94, 'schaut': 95, 'junger': 96, 'kleidung': 97, 'hinter': 98, 'sie': 99, 'nach': 100, 'andere': 101, 'gelben': 102, 'kleine': 103, 'gebäude': 104, 'vier': 105, 'hut': 106, 'tisch': 107, 'wird': 108, 'beim': 109, 'nähe': 110, 'essen': 111, 'kleinen': 112, 'menschenmenge': 113, 'schwarzer': 114, 'kamera': 115, 'paar': 116, 'vorbei': 117, 'gras': 118, 'hoch': 119, 't-shirt': 120, 'hunde': 121, 'boden': 122, 'schnee': 123, 'rennt': 124, 'ihre': 125, 'unter': 126, 'ihren': 127, 'kleid': 128, 'gitarre': 129, 'älterer': 130, 'draußen': 131, 'sein': 132, 'zusammen': 133, 'ihr': 134, 'feld': 135, 'bühne': 136, 'fahren': 137, 'brille': 138, 'seine': 139, 'herum': 140, 'rennen': 141, 'gehweg': 142, 'kopf': 143, 'sehen': 144, 'er': 145, 'blickt': 146, 'dabei': 147, 'foto': 148, 'seinen': 149, 'weißer': 150, 'des': 151, 'stadt': 152, 'braunen': 153, 'hinunter': 154, 'park': 155, 'liegt': 156, 'laufen': 157, 'versucht': 158, 'arbeitet': 159, 'jeans': 160, 'als': 161, 'bank': 162, 'tragen': 163, 'baby': 164, 'dame': 165, 'wie': 166, 'machen': 167, 'große': 168, 'lächelt': 169, 'schauen': 170, 'brauner': 171, 'ihrem': 172, 'schwarz': 173, 'ältere': 174, 'orangefarbenen': 175, 'ihm': 176, 'junges': 177, 'bürgersteig': 178, 'arbeiten': 179, 'hose': 180, 'zeigt': 181, 'sieht': 182, 'spricht': 183, 'liest': 184, 'unterhalten': 185, 'skateboard': 186, 'halten': 187, 'haaren': 188, 'wand': 189, 'weg': 190, 'viele': 191, 'sonnenbrille': 192, 'zum': 193, 'boot': 194, 'pferd': 195, 'gekleidete': 196, 'seiner': 197, 'hosen': 198, 'rosa': 199, 'tag': 200, 'helm': 201, 'weißem': 202, 'grauen': 203, 'singt': 204, 'ihnen': 205, 'blauem': 206, 'gesicht': 207, '„': 208, 'bild': 209, 'mantel': 210, 'auto': 211, 'posiert': 212, 'darauf': 213, 'felsen': 214, 'fußball': 215, 'fünf': 216, 'klettert': 217, 'führt': 218, 'shorts': 219, 'befindet': 220, 'einige': 221, 'sand': 222, 'mikrofon': 223, 'baum': 224, 'blauer': 225, 'schwarzem': 226, 'sehr': 227, 'wirft': 228, 'gekleideter': 229, 'band': 230, 'es': 231, 'weiß': 232, '“': 233, 'blau': 234, 'meer': 235, 'oder': 236, 'rotem': 237, 'isst': 238, 'restaurant': 239, 'wald': 240, 'arbeiter': 241, 'männern': 242, 'schwarze': 243, 'anderer': 244, 'kindern': 245, 'raum': 246, 'wiese': 247, 'fenster': 248, 'langen': 249, 'pullover': 250, 'roter': 251, 'wartet': 252, 'weiße': 253, 'ins': 254, 'anzug': 255, 'bluse': 256, 'gestreiften': 257, 'posieren': 258, 'motorrad': 259, 'haar': 260, 'springen': 261, 'tanzen': 262, 'trikot': 263, 'werden': 264, 'oberkörper': 265, 'voller': 266, 'bereitet': 267, 'stuhl': 268, 'spieler': 269, 'betrachtet': 270, 'rot': 271, 'alter': 272, 'hügel': 273, 'blonde': 274, 'schild': 275, 'zwischen': 276, 'handy': 277, 'oben': 278, 'warten': 279, 'leuten': 280, 'schläft': 281, 'berg': 282, 'zieht': 283, 'ab': 284, 'mütze': 285, 'buch': 286, 'lehnt': 287, 'reitet': 288, 'händen': 289, 'beobachtet': 290, 'maul': 291, 'miteinander': 292, 'stock': 293, 'bäumen': 294, 'fluss': 295, 'ihrer': 296, 'tanzt': 297, 'bauarbeiter': 298, 'kleinkind': 299, 'rucksack': 300, 'arm': 301, 'lächeln': 302, 'schiebt': 303, 'vom': 304, 'befinden': 305, 'gegen': 306, 'haben': 307, 'radfahrer': 308, 'küche': 309, 'see': 310, 'seite': 311, 'spielzeug': 312, 'kurzen': 313, 'schwimmbecken': 314, 'asiatische': 315, 'welle': 316, 'rücken': 317, 'spiel': 318, 'treppe': 319, 'zaun': 320, 'verkauft': 321, 'zur': 322, 'familie': 323, 'fangen': 324, 'jemand': 325, 'mitten': 326, 'trinkt': 327, 'versammelt': 328, 'großer': 329, 'erwachsene': 330, 'rosafarbenen': 331, 'blumen': 332, 'hängt': 333, 'ihn': 334, 'schneidet': 335, 'geschäft': 336, 'gerade': 337, 'markt': 338, 'telefoniert': 339, 'belebten': 340, 'bunten': 341, 'malt': 342, 'spazieren': 343, 'umgeben': 344, 'nimmt': 345, 'reihe': 346, 'blicken': 347, 'gewässer': 348, 'rote': 349, 'schwimmt': 350, 'zug': 351, 'autos': 352, 'bus': 353, 'denen': 354, 'freiem': 355, 'schneebedeckten': 356, 'vielen': 357, 'gekleidet': 358, 'schlägt': 359, 'brücke': 360, 'fuß': 361, 'gebäudes': 362, 'hände': 363, 'mutter': 364, 'sonnigen': 365, 'wagen': 366, 'fliegt': 367, 'himmel': 368, 'publikum': 369, 'bart': 370, 'fußballspieler': 371, 'hebt': 372, 'kämpfen': 373, 'richtung': 374, 'tasche': 375, 'dunklen': 376, 'hemden': 377, 'herunter': 378, 'geländer': 379, 'grünem': 380, 'weste': 381, 'hohen': 382, 'platz': 383, 'asiatischer': 384, 'blondes': 385, 'graffiti': 386, 'haus': 387, 'weißes': 388, 'zuschauer': 389, 'alte': 390, 'kopfbedeckung': 391, 'seil': 392, 'zeitung': 393, 'überqueren': 394, 'mannes': 395, 'hinauf': 396, 'sprung': 397, 'teil': 398, 'zuschauen': 399, 'bereiten': 400, 'musik': 401, 'tritt': 402, 'davon': 403, 'genießt': 404, 'orangen': 405, 'basketball': 406, 'blaue': 407, 'decke': 408, 'hof': 409, 'karierten': 410, 'lacht': 411, 'mittleren': 412, 'sechs': 413, 'shirt': 414, 'benutzt': 415, 'da': 416, 'schirm': 417, 'zuschauern': 418, 'alten': 419, 'fest': 420, 'kunststück': 421, 'mauer': 422, 'menge': 423, 'papier': 424, 'stück': 425, 'einigen': 426, 'großes': 427, 'unterhält': 428, 'alters': 429, 'blick': 430, 'mensch': 431, 'rasen': 432, 'spielplatz': 433, 'zusieht': 434, 'baseballspieler': 435, 'mitte': 436, 'nahe': 437, 'nebeneinander': 438, 'schaukel': 439, 'sofa': 440, 'zuschaut': 441, 'armen': 442, 'lässt': 443, 'nachts': 444, 'trinken': 445, '–': 446, 'bereit': 447, 'fotos': 448, 'lila': 449, 'pool': 450, 'rock': 451, 'typ': 452, 'zusehen': 453, 'augen': 454, 'dach': 455, 'gegenstand': 456, 'gelber': 457, 'hinten': 458, 'versuchen': 459, 'zigarette': 460, 'bier': 461, 'gibt': 462, 'mehreren': 463, 'scheint': 464, 'sonne': 465, 'beobachten': 466, 'mund': 467, 'surfer': 468, 'treten': 469, 'beide': 470, 'flagge': 471, 'fängt': 472, 'kniet': 473, 'nummer': 474, 'outfit': 475, 'raucht': 476, 'schal': 477, 'uniform': 478, 'öffentlichen': 479, 'betrachten': 480, 'ferne': 481, 'nicht': 482, 'schürze': 483, 'stange': 484, 'stufen': 485, 'trikots': 486, 'verschneiten': 487, 'führen': 488, 'liegen': 489, 'wanderer': 490, 'blonden': 491, 'diese': 492, 'erwachsener': 493, 'frisbee': 494, 'gehsteig': 495, 'rotes': 496, 'außerhalb': 497, 'einander': 498, 'holz': 499, 'lachen': 500, 'rampe': 501, 'snowboarder': 502, 'teenager': 503, 'tennisball': 504, 'unten': 505, 'gemüse': 506, 'u-bahn': 507, 'bett': 508, 'greift': 509, 'männliche': 510, 'reden': 511, 'rutscht': 512, 'veranstaltung': 513, 'aufschrift': 514, 'braune': 515, 'bärtiger': 516, 'fotografiert': 517, 'grün': 518, 'hilft': 519, 'kleidern': 520, 'nacht': 521, 'schwarz-weißer': 522, 'beiden': 523, 'hüten': 524, 'sonnenuntergang': 525, 'surft': 526, 'werfen': 527, 'dass': 528, 'gelbe': 529, 'gelbem': 530, 'grüner': 531, 'haare': 532, 'herr': 533, 'kostümen': 534, 'leiter': 535, 'man': 536, 'musiker': 537, 'skifahrer': 538, 'überquert': 539, 'art': 540, 'damen': 541, 'legt': 542, 'nacktem': 543, 'polizisten': 544, 'statue': 545, 'städtischen': 546, 'ufer': 547, 'versammeln': 548, 'zelt': 549, 'basketballspieler': 550, 'blonder': 551, 'erwachsenen': 552, 'maschine': 553, 'nehmen': 554, 'orange': 555, 'tür': 556, 'bar': 557, 'blaues': 558, 'kommt': 559, 'leine': 560, 'mannschaft': 561, 'rutsche': 562, 'tor': 563, 'brunnen': 564, 'genießen': 565, 'guckt': 566, 'pfad': 567, 'polizist': 568, 'schreibt': 569, 'stellt': 570, 'sweatshirt': 571, 'vater': 572, 'westen': 573, 'asiatischen': 574, 'eimer': 575, 'fisch': 576, 'gelb': 577, 'leeren': 578, 'lesen': 579, 'läufer': 580, 'stühlen': 581, 'braut': 582, 'ende': 583, 'feuer': 584, 'gekleideten': 585, 'gestreiftem': 586, 'getränk': 587, 'grill': 588, 'her': 589, 'inmitten': 590, 'kaufen': 591, 'klettern': 592, 'obst': 593, 'ohne': 594, 'regen': 595, 'schlagzeug': 596, 'sprechen': 597, 'streckt': 598, 'umgebung': 599, 'verschiedene': 600, 'wobei': 601, 'badeanzug': 602, 'eis': 603, 'fahrzeug': 604, 'riesigen': 605, 'schuhen': 606, 'schutzhelm': 607, 'schwingt': 608, 'wellen': 609, 'anderes': 610, 'arme': 611, 'gegend': 612, 'gelbes': 613, 'gemeinsam': 614, 'grauem': 615, 'handschuhen': 616, 'instrument': 617, 'motorradfahrer': 618, 'parade': 619, 'parkplatz': 620, 'regenschirm': 621, 'schlagen': 622, 'singen': 623, 'sohn': 624, 'soldaten': 625, 'trick': 626, 'uniformen': 627, 'älteren': 628, 'bergen': 629, 'gebäuden': 630, 'hört': 631, 'jugendlicher': 632, 'kinderwagen': 633, 'korb': 634, 'offenen': 635, 'schwarzes': 636, 'starrt': 637, 'straßenecke': 638, 'straßenrand': 639, '\\xa0': 640, 'arbeit': 641, 'baustelle': 642, 'bereich': 643, 'dieser': 644, 'jagt': 645, 'lächelnd': 646, 'mikrophon': 647, 'pinkfarbenen': 648, 'schoß': 649, 'straßen': 650, 'umarmt': 651, 'zurück': 652, 'computer': 653, 'dunkelhäutiger': 654, 'gleich': 655, 'grüne': 656, 'jacken': 657, 'kostüm': 658, 'krawatte': 659, 'laden': 660, 'orangefarbener': 661, 'pause': 662, 'waren': 663, ' ': 664, '\"': 665, 'kurz': 666, 'repariert': 667, 'schreibtisch': 668, 'volleyball': 669, 'vordergrund': 670, 'alle': 671, 'baseball': 672, 'ganz': 673, 'garten': 674, 'gegeneinander': 675, 'gekleidetes': 676, 'gut': 677, 'konzert': 678, 'kuchen': 679, 'kurzer': 680, 'putzt': 681, 'schatten': 682, 'vogel': 683, 'asiatisches': 684, 'balanciert': 685, 'bedeckt': 686, 'fahrradfahrer': 687, 'fahrrädern': 688, 'grünes': 689, 'jemandem': 690, 'kunden': 691, 'lächelnde': 692, 'pflanzen': 693, 'sandalen': 694, 'verkaufen': 695, 'beugt': 696, 'bikini': 697, 'erde': 698, 'fell': 699, 'gegenüber': 700, 'land': 701, 'lkw': 702, 'netz': 703, 'party': 704, 'pferden': 705, 'setzt': 706, 'stein': 707, 'stiefeln': 708, 'weibliche': 709, 'winkt': 710, 'ziehen': 711, 'dreht': 712, 'einkaufswagen': 713, 'felswand': 714, 'football': 715, 'football-spieler': 716, 'footballspieler': 717, 'fällt': 718, 'glas': 719, 'halsband': 720, 'klassenzimmer': 721, 'mobiltelefon': 722, 'orangefarbenem': 723, 'reiten': 724, 'schiedsrichter': 725, 'schulter': 726, 'schüler': 727, 'snowboard': 728, 'surfbrett': 729, 'wo': 730, 'badehose': 731, 'belebte': 732, 'dessen': 733, 'hellbrauner': 734, 'höhe': 735, 'schlitten': 736, 'schläger': 737, 'team': 738, 'unbefestigten': 739, 'aussieht': 740, 'bein': 741, 'braunem': 742, 'davor': 743, 'durchs': 744, 'kajak': 745, 'kanu': 746, 'leuchtend': 747, 'oberteilen': 748, 'rad': 749, 'redet': 750, 'schuhe': 751, 'schwimmen': 752, 'seines': 753, 'stand': 754, 'was': 755, 'zeigen': 756, 'ecke': 757, 'küssen': 758, 'küsst': 759, 'loch': 760, 'schlange': 761, 'schnauze': 762, 'spiegel': 763, 'tischen': 764, 'verschiedenen': 765, 'asiatisch': 766, 'base': 767, 'bäume': 768, 'farbenfrohen': 769, 'grasbewachsenen': 770, 'hin': 771, 'kreis': 772, 'künstler': 773, 'laptop': 774, 'lilafarbenen': 775, 'mikroskop': 776, 'männlicher': 777, 'rennstrecke': 778, 'schultern': 779, 'schönen': 780, 'seifenblasen': 781, 'skateboarder': 782, 'spaß': 783, 't-shirts': 784, 'taschen': 785, 'telefon': 786, 'tochter': 787, 'akkordeon': 788, 'flasche': 789, 'gepflasterten': 790, 'gerüst': 791, 'haufen': 792, 'kai': 793, 'kirche': 794, 'kocht': 795, 'spielfeld': 796, 'tanktop': 797, 'tasse': 798, 'zimmer': 799, 'aussehende': 800, 'bedient': 801, 'bemalt': 802, 'café': 803, 'farben': 804, 'freunde': 805, 'freunden': 806, 'gegnerischen': 807, 'hellen': 808, 'hunden': 809, 'kappe': 810, 'küste': 811, 'nur': 812, 'parkbank': 813, 'rodeo': 814, 'schaukelt': 815, 'tennis': 816, 'unterwegs': 817, 'beleuchteten': 818, 'bis': 819, 'braun-weißer': 820, 'damit': 821, 'entspannt': 822, 'fleisch': 823, 'gasse': 824, 'geige': 825, 'grauer': 826, 'helmen': 827, 'katze': 828, 'sachen': 829, 'schaufel': 830, 'schutzhelmen': 831, 'schwimmbrille': 832, 'sieben': 833, 'ski': 834, 'stadion': 835, 'steine': 836, 'teich': 837, 'trampolin': 838, 'umarmen': 839, 'violetten': 840, 'berge': 841, 'cowboy': 842, 'hang': 843, 'holt': 844, 'hüpft': 845, 'jongliert': 846, 'kopfhörer': 847, 'langem': 848, 'maske': 849, 'overall': 850, 'rand': 851, 'schlamm': 852, 'schüssel': 853, 'skiern': 854, 'so': 855, 'steigt': 856, 'strecke': 857, 'tänzer': 858, 'verwendet': 859, 'voll': 860, ';': 861, 'barfuß': 862, 'braun': 863, 'couch': 864, 'dunkler': 865, 'feldweg': 866, 'flaggen': 867, 'fotografieren': 868, 'fußballspiel': 869, 'kaffee': 870, 'kauft': 871, 'klippe': 872, 'landschaft': 873, 'lastwagen': 874, 'links': 875, 'lächelnder': 876, 'rechts': 877, 'reifen': 878, 'reparieren': 879, 'roller': 880, 'schießt': 881, 'tanz': 882, 'anzügen': 883, 'asiate': 884, 'aussehender': 885, 'bekommt': 886, 'berührt': 887, 'bläst': 888, 'cowboyhut': 889, 'dunkelhäutige': 890, 'fahnen': 891, 'grillt': 892, 'heben': 893, 'hellblauen': 894, 'hockt': 895, 'instrumenten': 896, 'kopftuch': 897, 'objekt': 898, 'ringen': 899, 'ruht': 900, 'schüttelt': 901, 'sitzende': 902, 'teller': 903, 'verfolgt': 904, 'wandert': 905, 'wüste': 906, 'beinen': 907, 'bilder': 908, 'clown': 909, 'flugzeug': 910, 'geschlossenen': 911, 'handtasche': 912, 'hängen': 913, 'instrumente': 914, 'linken': 915, 'mahlzeit': 916, 'metall': 917, 'nase': 918, 'new': 919, 'personengruppe': 920, 'reinigt': 921, 'springbrunnen': 922, 'veranda': 923, 'überfüllten': 924, 'asiaten': 925, 'asiatin': 926, 'auch': 927, 'bauen': 928, 'blatt': 929, 'diesem': 930, 'felsigen': 931, 'geländemotorrad': 932, 'gezogen': 933, 'gucken': 934, 'hauses': 935, 'heraus': 936, 'hinab': 937, 'marathon': 938, 'müll': 939, 'pinkfarbenem': 940, 'salto': 941, 'tennisspieler': 942, 'traditioneller': 943, 'öffnet': 944, 'üben': 945, 'auftritt': 946, 'balkon': 947, 'dieses': 948, 'fahrräder': 949, 'kann': 950, 'kerl': 951, 'lederjacke': 952, 'nachdem': 953, 'reiter': 954, 'rothaarige': 955, 'schneiden': 956, 'schnell': 957, 'steinen': 958, 'sänger': 959, 'taucht': 960, 'umzug': 961, 'untersucht': 962, 'winterkleidung': 963, 'wäscht': 964, 'zeit': 965, 'allein': 966, 'amerikanische': 967, 'bach': 968, 'bahn': 969, 'beieinander': 970, 'bunte': 971, 'finger': 972, 'gebiet': 973, 'geld': 974, 'gelegt': 975, 'gießt': 976, 'hellbraunen': 977, 'kickt': 978, 'kurve': 979, 'passanten': 980, 'pferde': 981, 'schießen': 982, 'schlafen': 983, 'schlauch': 984, 'sitzender': 985, 'skateboardfahrer': 986, 'teams': 987, 'teppich': 988, 'terrasse': 989, 'tuch': 990, 'vollen': 991, 'weitere': 992, 'wurde': 993, 'wurf': 994, 'zunge': 995, 'zähne': 996, 'übt': 997, 'ausrüstung': 998, 'beton': 999, 'bringt': 1000, 'bräutigam': 1001, 'brünette': 1002, 'büro': 1003, 'frisch': 1004, 'fußgänger': 1005, 'gezeigt': 1006, 'hals': 1007, 'helfen': 1008, 'kampfsport': 1009, 'koch': 1010, 'kommen': 1011, 'nassen': 1012, 'ob': 1013, 'rasiert': 1014, 'steigen': 1015, 'touristen': 1016, 'viel': 1017, 'vollführt': 1018, 'wettkampf': 1019, 'york': 1020, 'angelt': 1021, 'arbeitskleidung': 1022, 'baumstamm': 1023, 'benutzen': 1024, 'besen': 1025, 'bullen': 1026, 'darunter': 1027, 'geben': 1028, 'getränke': 1029, 'gleitet': 1030, 'grau': 1031, 'hellhäutiger': 1032, 'hinaus': 1033, 'hinterher': 1034, 'hockeyspieler': 1035, 'karren': 1036, 'kissen': 1037, 'kuh': 1038, 'können': 1039, 'lebensmittel': 1040, 'licht': 1041, 'matte': 1042, 'neoprenanzug': 1043, 'paddelt': 1044, 'schreit': 1045, 'schwimmer': 1046, 'schöne': 1047, 'sitzenden': 1048, 'skater': 1049, 'sportler': 1050, 'straßenkünstler': 1051, 'tunnel': 1052, 'wasserfall': 1053, 'acht': 1054, 'alleine': 1055, 'berges': 1056, 'bewegt': 1057, 'braunhaarige': 1058, 'chinesischen': 1059, 'entfernt': 1060, 'fast': 1061, 'feiern': 1062, 'glücklich': 1063, 'handtuch': 1064, 'jungs': 1065, 'kapuzenpulli': 1066, 'kehrt': 1067, 'kochen': 1068, 'konzentriert': 1069, 'mänteln': 1070, 'nahaufnahme': 1071, 'ort': 1072, 'rechten': 1073, 'rollstuhl': 1074, 'runden': 1075, 'stoff': 1076, 'teleskop': 1077, 'tennisschläger': 1078, 'theke': 1079, 'tier': 1080, 'turnhalle': 1081, 'umher': 1082, 'verkleidet': 1083, 'vorbeigehen': 1084, 'ärmellosen': 1085, '2': 1086, 'afrikanische': 1087, 'becher': 1088, 'befestigt': 1089, 'braunes': 1090, 'fahrer': 1091, 'farbe': 1092, 'fläche': 1093, 'folgt': 1094, 'fotograf': 1095, 'freund': 1096, 'gegenstände': 1097, 'gerät': 1098, 'geschäftigen': 1099, 'gewand': 1100, 'gräbt': 1101, 'handstand': 1102, 'indische': 1103, 'jagen': 1104, 'jemanden': 1105, 'kalten': 1106, 'keyboard': 1107, 'lassen': 1108, 'lehnen': 1109, 'lächelndes': 1110, 'offenem': 1111, 'rolltreppe': 1112, 'rot-weißen': 1113, 'sees': 1114, 'stapel': 1115, 'stark': 1116, 'trainiert': 1117, 'verkehr': 1118, 'waldgebiet': 1119, 'weihnachtsbaum': 1120, 'weit': 1121, 'wohnzimmer': 1122, 'angezogen': 1123, 'ballons': 1124, 'baseballkappe': 1125, 'baut': 1126, 'blondem': 1127, 'blätter': 1128, 'bringen': 1129, 'bushaltestelle': 1130, 'daumen': 1131, 'dunkelhaarige': 1132, 'fischen': 1133, 'füßen': 1134, 'gelehnt': 1135, 'gemälde': 1136, 'geschenk': 1137, 'geworfen': 1138, 'hocke': 1139, 'hölzernen': 1140, 'hören': 1141, 'ihres': 1142, 'jugendliche': 1143, 'kahlköpfiger': 1144, 'komplett': 1145, 'kunststücke': 1146, 'nähert': 1147, 'pfütze': 1148, 'rast': 1149, 'schaufelt': 1150, 'schlag': 1151, 'schäferhund': 1152, 'sonnenbrillen': 1153, 'spitze': 1154, 'stehenden': 1155, 'steilen': 1156, 'streichelt': 1157, 'trommel': 1158, 'trägerhemd': 1159, 'weint': 1160, 'werbung': 1161, ':': 1162, 'abend': 1163, 'ausgestreckten': 1164, 'behälter': 1165, 'brust': 1166, 'cheerleader': 1167, 'dreadlocks': 1168, 'eingang': 1169, 'eins': 1170, 'fans': 1171, 'gassi': 1172, 'geparkt': 1173, 'geschirr': 1174, 'goldenen': 1175, 'graffitis': 1176, 'hammer': 1177, 'heißen': 1178, 'hürde': 1179, 'ich': 1180, 'joggen': 1181, 'joggt': 1182, 'jüngeren': 1183, 'kisten': 1184, 'klavier': 1185, 'kletterer': 1186, 'kopfhörern': 1187, 'langhaariger': 1188, 'menschengruppe': 1189, 'motorrädern': 1190, 'pfosten': 1191, 'projekt': 1192, 'pärchen': 1193, 'restaurants': 1194, 'scheinen': 1195, 'schmutzigen': 1196, 'schnurrbart': 1197, 'schwarz-weißen': 1198, 'skatepark': 1199, 'speisen': 1200, 'spritzt': 1201, 'stadtstraße': 1202, 'steinmauer': 1203, 'teilen': 1204, 'vorn': 1205, 'wandbild': 1206, 'wunderschönen': 1207, 'wäsche': 1208, 'zeichnet': 1209, 'zuschauermenge': 1210, '(': 1211, ')': 1212, 'amerikanischen': 1213, 'anlegestelle': 1214, 'bahnsteig': 1215, 'balls': 1216, 'baseballmütze': 1217, 'beschäftigt': 1218, 'bildschirm': 1219, 'bowlingbahn': 1220, 'decken': 1221, 'dies': 1222, 'direkt': 1223, 'e-gitarre': 1224, 'einzelner': 1225, 'fischer': 1226, 'fliegen': 1227, 'flughafen': 1228, 'füße': 1229, 'gelände': 1230, 'gepäck': 1231, 'gesäumten': 1232, 'getränken': 1233, 'hell': 1234, 'hindernis': 1235, 'hula-hoop-reifen': 1236, 'kids': 1237, 'knien': 1238, 'koffer': 1239, 'kreuzung': 1240, 'laub': 1241, 'luftballons': 1242, 'mädchens': 1243, 'nickerchen': 1244, 'nähmaschine': 1245, 'rede': 1246, 'rosafarbenem': 1247, 'rudert': 1248, 'schuh': 1249, 'schutzbrille': 1250, 'seiten': 1251, 'silbernen': 1252, 'soldat': 1253, 'stellen': 1254, 'treffen': 1255, 'typen': 1256, 'vorbeifährt': 1257, 'zeichen': 1258, 'älteres': 1259, 'aber': 1260, 'afrikanischer': 1261, 'amüsieren': 1262, 'angelrute': 1263, 'anhat': 1264, 'arena': 1265, 'aufblasbaren': 1266, 'aufs': 1267, 'balken': 1268, 'bauch': 1269, 'bearbeitet': 1270, 'bedeckten': 1271, 'berühren': 1272, 'blume': 1273, 'bowlingkugel': 1274, 'brett': 1275, 'bänken': 1276, 'bücher': 1277, 'dinge': 1278, 'einkaufszentrum': 1279, 'feuerwehrmänner': 1280, 'fotografen': 1281, 'gang': 1282, 'geblümten': 1283, 'gewässers': 1284, 'graben': 1285, 'heu': 1286, 'hinterhof': 1287, 'hütte': 1288, 'kunstwerk': 1289, 'lachend': 1290, 'marschiert': 1291, 'mithilfe': 1292, 'mountainbike': 1293, 'outfits': 1294, 'pier': 1295, 'regenschirmen': 1296, 'rucksäcken': 1297, 'rädern': 1298, 'schlagzeuger': 1299, 'schule': 1300, 'schwach': 1301, 'schwarz-weiß': 1302, 'socken': 1303, 'steinigen': 1304, 'strohhut': 1305, 'studenten': 1306, 'städtische': 1307, 'trompete': 1308, 'verkauf': 1309, 'violettem': 1310, 'wettbewerb': 1311, 'wänden': 1312, 'ziel': 1313, '!': 1314, 'abendessen': 1315, 'backsteingebäude': 1316, 'beigefarbenen': 1317, 'bestehende': 1318, 'blau-weißen': 1319, 'bluejeans': 1320, 'daneben': 1321, 'dicht': 1322, 'drachen': 1323, 'dreck': 1324, 'dunkelblauen': 1325, 'fahrt': 1326, 'feier': 1327, 'flachen': 1328, 'flüssigkeit': 1329, 'füllt': 1330, 'gegenseitig': 1331, 'geländemotorradfahrer': 1332, 'gespräch': 1333, 'gewehr': 1334, 'gitarrist': 1335, 'grillen': 1336, 'gruppen': 1337, 'herd': 1338, 'hochzeit': 1339, 'jahrmarkt': 1340, 'jüngere': 1341, 'kariertem': 1342, 'kaut': 1343, 'klettergerüst': 1344, 'kopfüber': 1345, 'labor': 1346, 'mannschaften': 1347, 'moped': 1348, 'offenbar': 1349, 'picknicktisch': 1350, 'plattform': 1351, 'rennwagen': 1352, 'richtet': 1353, 'riesige': 1354, 'rollerblades': 1355, 'sandstrand': 1356, 'saxophon': 1357, 'schirmen': 1358, 'schwarz-brauner': 1359, 'schwenkt': 1360, 'schwimmbad': 1361, 'setzen': 1362, 'skulptur': 1363, 'steckt': 1364, 'stift': 1365, 'sucht': 1366, 'teig': 1367, 'wein': 1368, 'zeitschrift': 1369, 'becken': 1370, 'begutachtet': 1371, 'beißt': 1372, 'bewölkten': 1373, 'brandung': 1374, 'brot': 1375, 'bunt': 1376, 'bunter': 1377, 'dunkelhaariger': 1378, 'eltern': 1379, 'entspannen': 1380, 'fahne': 1381, 'farbenfroher': 1382, 'fegt': 1383, 'feuerwehrmann': 1384, 'findet': 1385, 'frisbeescheibe': 1386, 'fußballfeld': 1387, 'füttert': 1388, 'geldbörse': 1389, 'geschäften': 1390, 'geschäftskleidung': 1391, 'grasfläche': 1392, 'grimasse': 1393, 'herab': 1394, 'hilfe': 1395, 'jeansjacke': 1396, 'kalb': 1397, 'kerzen': 1398, 'lehrer': 1399, 'leicht': 1400, 'lied': 1401, 'malen': 1402, 'noch': 1403, 'orchester': 1404, 'paddeln': 1405, 'parkt': 1406, 'planscht': 1407, 'puck': 1408, 'reinigen': 1409, 'rennauto': 1410, 'robe': 1411, 'rollt': 1412, 'röcken': 1413, 'sanddüne': 1414, 'schlafanzug': 1415, 'schweißt': 1416, 'spielkleidung': 1417, 'sportveranstaltung': 1418, 'sportwagen': 1419, 'stier': 1420, 'straßenhändler': 1421, 'surfboard': 1422, 'sängerin': 1423, 'tafel': 1424, 'tief': 1425, 'trainieren': 1426, 'traktor': 1427, 'treppen': 1428, 'tricks': 1429, 'turnerin': 1430, 'umhang': 1431, 'untersuchen': 1432, 'verlassen': 1433, 'vorne': 1434, 'wandern': 1435, 'waschsalon': 1436, 'wasserflasche': 1437, 'will': 1438, '3': 1439, 'afroamerikaner': 1440, 'ast': 1441, 'badewanne': 1442, 'bahnhof': 1443, 'ballon': 1444, 'baumes': 1445, 'beine': 1446, 'bekommen': 1447, 'bespritzt': 1448, 'bewundert': 1449, 'blumenmuster': 1450, 'bogen': 1451, 'braun-schwarzer': 1452, 'bückt': 1453, 'büschen': 1454, 'dazu': 1455, 'diskutieren': 1456, 'eingezäunten': 1457, 'einrad': 1458, 'eishockeyspieler': 1459, 'engen': 1460, 'esel': 1461, 'fahrgeschäft': 1462, 'fallschirm': 1463, 'festhält': 1464, 'flur': 1465, 'fußgängerüberweg': 1466, 'gefüllt': 1467, 'gleichen': 1468, 'graue': 1469, 'hinein': 1470, 'jockey': 1471, 'kapuze': 1472, 'kegel': 1473, 'köpfen': 1474, 'körper': 1475, 'lange': 1476, 'marschieren': 1477, 'maulkorb': 1478, 'messer': 1479, 'mittag': 1480, 'mittagessen': 1481, 'motorroller': 1482, 'motorräder': 1483, 'näht': 1484, 'orangefarbene': 1485, 'palmen': 1486, 'piste': 1487, 'podium': 1488, 'runter': 1489, 'sammelt': 1490, 'scheinbar': 1491, 'schildern': 1492, 'schubkarre': 1493, 'seilen': 1494, 'silhouette': 1495, 'sportkleidung': 1496, 'stehende': 1497, 'stirn': 1498, 'stufe': 1499, 'teenageralter': 1500, 'topf': 1501, 'treibt': 1502, 'turner': 1503, 'verkleidete': 1504, 'verlässt': 1505, 'vielleicht': 1506, 'violine': 1507, 'vorüber': 1508, 'vögel': 1509, 'waldweg': 1510, 'welpen': 1511, 'werkzeug': 1512, 'wettrennen': 1513, 'wischt': 1514, 'zahlreiche': 1515, 'ziegelmauer': 1516, 'überprüft': 1517, 'afroamerikanische': 1518, 'akustikgitarre': 1519, 'asiatinnen': 1520, 'aufführung': 1521, 'aussehenden': 1522, 'baseballspiel': 1523, 'beginnt': 1524, 'bekleidung': 1525, 'bewegen': 1526, 'bibliothek': 1527, 'blättern': 1528, 'cafe': 1529, 'chor': 1530, 'drinnen': 1531, 'einsamer': 1532, 'entlanggeht': 1533, 'fahrrads': 1534, 'farbigen': 1535, 'feiert': 1536, 'fernglas': 1537, 'gegner': 1538, 'gehalten': 1539, 'gehende': 1540, 'geschäfts': 1541, 'gestreiftes': 1542, 'gewändern': 1543, 'glatzköpfiger': 1544, 'gleichzeitig': 1545, 'greifen': 1546, 'grimassen': 1547, 'hier': 1548, 'häusern': 1549, 'indischer': 1550, 'jubeln': 1551, 'kameras': 1552, 'khakifarbenen': 1553, 'kiste': 1554, 'klassenraum': 1555, 'köche': 1556, 'landet': 1557, 'lockigen': 1558, 'london': 1559, 'ländlichen': 1560, 'löffel': 1561, 'mitglieder': 1562, 'moment': 1563, 'neue': 1564, 'neugeborenes': 1565, 'nächsten': 1566, 'plakat': 1567, 'poster': 1568, 'radrennen': 1569, 'rande': 1570, 'reifenschaukel': 1571, 'rettungswesten': 1572, 'rosafarbene': 1573, 'rothaariges': 1574, 'ruhigen': 1575, 'schaufeln': 1576, 'schaufenster': 1577, 'schieben': 1578, 'schmutz': 1579, 'snowboardfahrer': 1580, 'softball': 1581, 'spiels': 1582, 'stangen': 1583, 'starren': 1584, 'statt': 1585, 'stehender': 1586, 'stirnband': 1587, 'tauben': 1588, 'taucher': 1589, 'teilweise': 1590, 'tennisspielerin': 1591, 'the': 1592, 'torhüter': 1593, 'trommeln': 1594, 'verdeckt': 1595, 'verkäufer': 1596, 'vorbeigeht': 1597, 'webt': 1598, 'wendet': 1599, 'zubereitet': 1600, 'zöpfen': 1601, 'abends': 1602, 'achterbahn': 1603, 'asien': 1604, 'aufmerksam': 1605, 'bandana': 1606, 'barfüßige': 1607, 'basketballspiel': 1608, 'bauarbeiten': 1609, 'bilden': 1610, 'brauen': 1611, 'bällen': 1612, 'club': 1613, 'computerbildschirm': 1614, 'deck': 1615, 'elefanten': 1616, 'figur': 1617, 'fingern': 1618, 'floß': 1619, 'flöte': 1620, 'geparkten': 1621, 'gesichtsbemalung': 1622, 'gestikuliert': 1623, 'gewickelt': 1624, 'halstuch': 1625, 'handschuh': 1626, 'hindurch': 1627, 'händler': 1628, 'inlineskates': 1629, 'jubelt': 1630, 'karte': 1631, 'kettensäge': 1632, 'kindes': 1633, 'klatscht': 1634, 'langhaarige': 1635, 'lebensmittelgeschäft': 1636, 'leckt': 1637, 'manche': 1638, 'marktplatz': 1639, 'meeres': 1640, 'mülltonne': 1641, 'mützen': 1642, 'nah': 1643, 'ohr': 1644, 'ohren': 1645, 'olympischen': 1646, 'ozean': 1647, 'papiere': 1648, 'plastiktüte': 1649, 'radfahrern': 1650, 'ring': 1651, 'rosafarbener': 1652, 'schaukeln': 1653, 'schilder': 1654, 'schreiben': 1655, 'schwert': 1656, 'show': 1657, 'sowie': 1658, 'stehend': 1659, 'streicht': 1660, 'streifen': 1661, 'strickmütze': 1662, 'stühle': 1663, 'szene': 1664, 'taxi': 1665, 'trainer': 1666, 'tribüne': 1667, 'u-bahn-station': 1668, 'unbefestigte': 1669, 'verheiratetes': 1670, 'versammlung': 1671, 'vorbereitet': 1672, 'wange': 1673, 'werkstatt': 1674, 'altes': 1675, 'ansieht': 1676, 'aufgestellt': 1677, 'ausgestellt': 1678, 'aussehen': 1679, 'badeanzügen': 1680, 'badezimmer': 1681, 'begleitet': 1682, 'beisammen': 1683, 'beleuchtung': 1684, 'bemalten': 1685, 'betonwand': 1686, 'bewegung': 1687, 'bike': 1688, 'blasen': 1689, 'blau-gelben': 1690, 'booten': 1691, 'braun-weiße': 1692, 'breakdance': 1693, 'computern': 1694, 'cowboys': 1695, 'dorf': 1696, 'dudelsack': 1697, 'dunklem': 1698, 'fallen': 1699, 'feuerwehrleute': 1700, 'freundin': 1701, 'fänger': 1702, 'gebeugt': 1703, 'geräten': 1704, 'gesichtern': 1705, 'gestreifter': 1706, 'geöffneten': 1707, 'glänzenden': 1708, 'gold': 1709, 'golfball': 1710, 'haltung': 1711, 'hart': 1712, 'heißluftballon': 1713, 'hellhäutige': 1714, 'herumstehen': 1715, 'hocker': 1716, 'hockey': 1717, 'hundes': 1718, 'hüte': 1719, 'jackett': 1720, 'karten': 1721, 'kette': 1722, 'kleider': 1723, 'knöpfen': 1724, 'kreide': 1725, 'kunstwerke': 1726, 'köpfe': 1727, 'kümmert': 1728, 'legen': 1729, 'lernt': 1730, 'linie': 1731, 'maschendrahtzaun': 1732, 'mountainbiker': 1733, 'museum': 1734, 'männliches': 1735, 'nebel': 1736, 'nieder': 1737, 'packt': 1738, 'pink': 1739, 'pitcher': 1740, 'produkte': 1741, 'prüft': 1742, 'pudel': 1743, 'putzen': 1744, 'rauch': 1745, 'sandigen': 1746, 'schafe': 1747, 'schiff': 1748, 'schleife': 1749, 'schmuck': 1750, 'schneeanzug': 1751, 'schnitzt': 1752, 'schwimmweste': 1753, 'schüsseln': 1754, 'selbst': 1755, 'sonnenschirm': 1756, 'spaziergang': 1757, 'spielerisch': 1758, 'sprungbrett': 1759, 'suchen': 1760, 'tarnkleidung': 1761, 'traditionellen': 1762, 'trainingsanzug': 1763, 'treiben': 1764, 'treppenstufen': 1765, 'tut': 1766, 'tänzerin': 1767, 'tätowierung': 1768, 'tätowierungen': 1769, 'türen': 1770, 'uhr': 1771, 'vergnügungspark': 1772, 'verschneite': 1773, 'waschbecken': 1774, 'waschen': 1775, 'wassers': 1776, 'watet': 1777, 'welpe': 1778, 'winter': 1779, 'wir': 1780, '2012': 1781, 'abgeworfen': 1782, 'afroamerikanischer': 1783, 'auge': 1784, 'babys': 1785, 'banner': 1786, 'bau': 1787, 'bekleidet': 1788, 'bekleidete': 1789, 'bekleideter': 1790, 'besteht': 1791, 'bietet': 1792, 'blocken': 1793, 'bmx-fahrer': 1794, 'bordstein': 1795, 'bowling': 1796, 'braunhaariger': 1797, 'brettspiel': 1798, 'bälle': 1799, 'city': 1800, 'dock': 1801, 'dritte': 1802, 'drückt': 1803, 'einkaufstasche': 1804, 'eiscreme': 1805, 'entgegen': 1806, 'erklimmen': 1807, 'flaschen': 1808, 'flauschiger': 1809, 'freude': 1810, 'fußballdress': 1811, 'fußgängern': 1812, 'gefüllten': 1813, 'gegenständen': 1814, 'gehender': 1815, 'geländewagen': 1816, 'gemacht': 1817, 'gepunkteten': 1818, 'gesprungen': 1819, 'gläsern': 1820, 'gürtel': 1821, 'hafen': 1822, 'helme': 1823, 'herren': 1824, 'hohe': 1825, 'hoher': 1826, 'holzbank': 1827, 'händchen': 1828, 'indem': 1829, 'innenstadt': 1830, 'japanischen': 1831, 'jeder': 1832, 'jugendlichen': 1833, 'jüngerer': 1834, 'kante': 1835, 'karussell': 1836, 'kerle': 1837, 'kleineren': 1838, 'kleinkinder': 1839, 'laborkittel': 1840, 'langärmeligen': 1841, 'laptops': 1842, 'lebensmitteln': 1843, 'leuchtenden': 1844, 'lieferwagen': 1845, 'löschen': 1846, 'mitarbeiter': 1847, 'muster': 1848, 'männlichen': 1849, 'möglicherweise': 1850, 'namen': 1851, 'netze': 1852, 'oberen': 1853, 'obststand': 1854, 'operation': 1855, 'orientalische': 1856, 'paare': 1857, 'passenden': 1858, 'pferdeschwanz': 1859, 'pinkfarbener': 1860, 'präsentiert': 1861, 'rahmen': 1862, 'ringer': 1863, 'ruhen': 1864, 'rutschen': 1865, 'rückwärts': 1866, 'sammeln': 1867, 'scheibe': 1868, 'schwebt': 1869, 'schütteln': 1870, 'seltsamen': 1871, 'serviert': 1872, 'shirts': 1873, 'silberfarbenen': 1874, 'sport': 1875, 'spärlich': 1876, 'straßenverkäufer': 1877, 'stöcke': 1878, 'stößt': 1879, 'säugling': 1880, 'säulen': 1881, 'süßigkeiten': 1882, 'tablett': 1883, 'tiere': 1884, 'transportiert': 1885, 'turnschuhen': 1886, 'türöffnung': 1887, 'unterschiedlichen': 1888, 'verteilt': 1889, 'verwenden': 1890, 'videospiel': 1891, 'vorderseite': 1892, 'waffe': 1893, 'wasserrutsche': 1894, 'weihnachtsmann': 1895, 'weil': 1896, 'weiter': 1897, 'wette': 1898, 'wirbelt': 1899, 'wunderschöne': 1900, 'zement': 1901, 'örtlichen': 1902, 'überall': 1903, '4': 1904, '5': 1905, 'a': 1906, 'abgebildet': 1907, 'abgestellt': 1908, 'afrikanischen': 1909, 'amüsiert': 1910, 'aneinander': 1911, 'angeboten': 1912, 'angebracht': 1913, 'anhänger': 1914, 'arzt': 1915, 'aufgeregt': 1916, 'aufgereiht': 1917, 'axt': 1918, 'ballerina': 1919, 'baseballschläger': 1920, 'beladen': 1921, 'bergsteiger': 1922, 'bestellen': 1923, 'bevor': 1924, 'biker': 1925, 'bildern': 1926, 'bootes': 1927, 'boxer': 1928, 'deren': 1929, 'dreirad': 1930, 'dämmerung': 1931, 'ebenfalls': 1932, 'eimern': 1933, 'eingeschlafen': 1934, 'ente': 1935, 'entfernung': 1936, 'erdhügel': 1937, 'erreichen': 1938, 'erzeugnisse': 1939, 'filmt': 1940, 'fischt': 1941, 'fliegenden': 1942, 'formt': 1943, 'freizeitpark': 1944, 'fremden': 1945, 'frisbee-scheibe': 1946, 'fröhlich': 1947, 'früchte': 1948, 'fußballmannschaft': 1949, 'gefolgt': 1950, 'gesehen': 1951, 'gitarren': 1952, 'gitarristen': 1953, 'gleisen': 1954, 'größeren': 1955, 'halskette': 1956, 'handschuhe': 1957, 'herkunft': 1958, 'herrn': 1959, 'holzboden': 1960, 'home': 1961, 'karton': 1962, 'kasse': 1963, 'kauert': 1964, 'klappstuhl': 1965, 'klasse': 1966, 'konferenz': 1967, 'kostüme': 1968, 'kran': 1969, 'krankenhaus': 1970, 'kratzt': 1971, 'kugel': 1972, 'kurze': 1973, 'kurzem': 1974, 'körben': 1975, 'lachende': 1976, 'lagerfeuer': 1977, 'landstraße': 1978, 'lasso': 1979, 'leggings': 1980, 'leinwand': 1981, 'liegenden': 1982, 'ließt': 1983, 'locken': 1984, 'luftballon': 1985, 'lächelnden': 1986, 'meisten': 1987, 'menschenansammlung': 1988, 'mischt': 1989, 'motorhaube': 1990, 'mülleimer': 1991, 'namens': 1992, 'nasser': 1993, 'niedrigen': 1994, 'obdachloser': 1995, 'ofen': 1996, 'oranger': 1997, 'overalls': 1998, 'partie': 1999, 'perlen': 2000, 'pflanze': 2001, 'präsentation': 2002, 'puppe': 2003, 'rechte': 2004, 'regnerischen': 2005, 'richtungen': 2006, 'rückseite': 2007, 'rücksitz': 2008, 'schlauchboot': 2009, 'schminkt': 2010, 'schneeschuhen': 2011, 'schneit': 2012, 'schulkinder': 2013, 'schutzausrüstung': 2014, 'schutzkleidung': 2015, 'schwarzhaarige': 2016, 'schwingen': 2017, 'sicht': 2018, 'sieg': 2019, 'soll': 2020, 'spring': 2021, 'staubigen': 2022, 'stelzen': 2023, 'stolz': 2024, 'strecken': 2025, 'streichen': 2026, 'stöcken': 2027, 'surfen': 2028, 'swimmingpool': 2029, 'säule': 2030, 'teilnehmer': 2031, 'texas': 2032, 'tracht': 2033, 'trifft': 2034, 'turban': 2035, 'ungewöhnlichen': 2036, 'unordentlichen': 2037, 'unterrichtet': 2038, 'unterwäsche': 2039, 'vergnügt': 2040, 'vorrichtung': 2041, 'vortrag': 2042, 'webstuhl': 2043, 'windhund': 2044, 'ziegelsteinen': 2045, 'ziegelwand': 2046, 'ziellinie': 2047, 'zylinder': 2048, 'öffentlichkeit': 2049, 'übergewichtiger': 2050, 'amerikanischer': 2051, 'ampel': 2052, 'angezogener': 2053, 'anhaben': 2054, 'apfel': 2055, 'asiat': 2056, 'attraktive': 2057, 'aufnahme': 2058, 'ausgestreckt': 2059, 'ausgezogen': 2060, 'aussehendes': 2061, 'aussicht': 2062, 'autobahn': 2063, 'außenbereich': 2064, 'bad': 2065, 'banjo': 2066, 'bauernmarkt': 2067, 'bedienen': 2068, 'bedruckten': 2069, 'befahrenen': 2070, 'begeisterung': 2071, 'beleuchtet': 2072, 'besucht': 2073, 'betrachter': 2074, 'betreten': 2075, 'bewaldeten': 2076, 'bildes': 2077, 'bindet': 2078, 'board': 2079, 'boxen': 2080, 'bruder': 2081, 'bzw.': 2082, 'cello': 2083, 'chinesische': 2084, 'clowns': 2085, 'dahinter': 2086, 'daran': 2087, 'darbietung': 2088, 'darin': 2089, 'diesen': 2090, 'dribbelt': 2091, 'dritten': 2092, 'dritter': 2093, 'einkaufen': 2094, 'einkaufstüten': 2095, 'elektrischen': 2096, 'entfernen': 2097, 'erhobenen': 2098, 'erleuchteten': 2099, 'essensstand': 2100, 'etwa': 2101, 'experiment': 2102, 'fahrzeuge': 2103, 'fass': 2104, 'fasst': 2105, 'felsbrocken': 2106, 'felsvorsprung': 2107, 'fenstern': 2108, 'fertig': 2109, 'festgebunden': 2110, 'feuerwehrauto': 2111, 'fische': 2112, 'fischernetz': 2113, 'flipflops': 2114, 'flusses': 2115, 'flussufer': 2116, 'flügeln': 2117, 'formeller': 2118, 'frisur': 2119, 'füllen': 2120, 'gegnerische': 2121, 'gelangen': 2122, 'geschnitten': 2123, 'geschwindigkeit': 2124, 'gespannt': 2125, 'getroffen': 2126, 'geöffnet': 2127, 'golf': 2128, 'heller': 2129, 'herbst': 2130, 'heruntergekommenen': 2131, 'hinterbeinen': 2132, 'hohem': 2133, 'hohes': 2134, 'holen': 2135, 'holzzaun': 2136, 'hoodie': 2137, 'hula-hoop': 2138, 'hübsche': 2139, 'hübschen': 2140, 'irokesenschnitt': 2141, 'jeep': 2142, 'jeweils': 2143, 'kampf': 2144, 'kapuzenpullover': 2145, 'karohemd': 2146, 'kartons': 2147, 'klaren': 2148, 'kneipe': 2149, 'knie': 2150, 'kopfschmuck': 2151, 'kreuz': 2152, 'kricket': 2153, 'lampe': 2154, 'laufbahn': 2155, 'lippen': 2156, 'los': 2157, 'maler': 2158, 'maschinen': 2159, 'mitglied': 2160, 'musikgruppe': 2161, 'musikinstrumente': 2162, 'mäht': 2163, 'namensschild': 2164, 'nass': 2165, 'oberfläche': 2166, 'orangefarbenes': 2167, 'orientalisch': 2168, 'parcours': 2169, 'passiert': 2170, 'patienten': 2171, 'plate': 2172, 'platte': 2173, 'protestiert': 2174, 'pullunder': 2175, 'rasenfläche': 2176, 'rauchen': 2177, 'regenmantel': 2178, 'reihen': 2179, 'reklametafel': 2180, 'rennens': 2181, 'rohr': 2182, 'rudern': 2183, 'röhre': 2184, 'sauber': 2185, 'saxofon': 2186, 'schach': 2187, 'schachtel': 2188, 'schlagmann': 2189, 'schlammigen': 2190, 'schlendert': 2191, 'schneebedeckte': 2192, 'schneebedecktes': 2193, 'schnur': 2194, 'schwarz-weiße': 2195, 'schwarz-weißem': 2196, 'schürzen': 2197, 'schützen': 2198, 'schützt': 2199, 'segelboot': 2200, 'seichten': 2201, 'sessel': 2202, 'sicherheitsweste': 2203, 'skateboards': 2204, 'spaziert': 2205, 'stab': 2206, 'station': 2207, 'steile': 2208, 'steintreppe': 2209, 'strands': 2210, 'straßenarbeiter': 2211, 'straßenmusiker': 2212, 'straßenseite': 2213, 'stromschnellen': 2214, 'stürzt': 2215, 'tagsüber': 2216, 'tanzfläche': 2217, 'tee': 2218, 'teilnehmen': 2219, 'top': 2220, 'treppenhaus': 2221, 'tätowierte': 2222, 'umringt': 2223, 'uniformierte': 2224, 'uniformierter': 2225, 'unteren': 2226, 'vergnügen': 2227, 'verzierten': 2228, 'violett': 2229, 'vorführt': 2230, 'völlig': 2231, 'warm': 2232, 'warmen': 2233, 'wasserfläche': 2234, 'wasserski': 2235, 'weiteren': 2236, 'wenn': 2237, 'werfer': 2238, 'würde': 2239, 'zauns': 2240, 'ähnlich': 2241, 'öffnen': 2242, 'überprüfen': 2243, 'altmodischen': 2244, 'angehalten': 2245, 'angezogene': 2246, 'ansehen': 2247, 'anweisungen': 2248, 'anzahl': 2249, 'arbeitern': 2250, 'aufblasbare': 2251, 'aufzug': 2252, 'auslage': 2253, 'backsteinmauer': 2254, 'baseballfeld': 2255, 'beachvolleyball': 2256, 'begeistert': 2257, 'beißen': 2258, 'bestehend': 2259, 'betet': 2260, 'betonmauer': 2261, 'blaskapelle': 2262, 'blau-grünen': 2263, 'blockt': 2264, 'bockenden': 2265, 'bord': 2266, 'breiten': 2267, 'brennende': 2268, 'brillen': 2269, 'buchstaben': 2270, 'busses': 2271, 'bündel': 2272, 'bürstet': 2273, 'china': 2274, 'darüber': 2275, 'dekoriert': 2276, 'demonstranten': 2277, 'dicken': 2278, 'dieselbe': 2279, 'dunkelheit': 2280, 'eingewickelt': 2281, 'einiger': 2282, 'eishockey': 2283, 'elektronischen': 2284, 'erhält': 2285, 'erklimmt': 2286, 'esstisch': 2287, 'europa': 2288, 'fabrik': 2289, 'fahrradhelm': 2290, 'fahrzeugen': 2291, 'faulenzen': 2292, 'fels': 2293, 'fernsehen': 2294, 'fernseher': 2295, 'feuerstelle': 2296, 'figuren': 2297, 'fliege': 2298, 'flip-flops': 2299, 'flugzeugs': 2300, 'folgen': 2301, 'fontäne': 2302, 'footballspiel': 2303, 'forscher': 2304, 'frischem': 2305, 'fußgängerübergang': 2306, 'fächer': 2307, 'garage': 2308, 'gehstock': 2309, 'gelb-schwarzen': 2310, 'geldautomaten': 2311, 'gelegenen': 2312, 'gepflasterte': 2313, 'gericht': 2314, 'geschmückt': 2315, 'gespielt': 2316, 'gewinnen': 2317, 'gießen': 2318, 'gipfel': 2319, 'glatze': 2320, 'gleichgewicht': 2321, 'grünfläche': 2322, 'halle': 2323, 'hamburger': 2324, 'handys': 2325, 'hause': 2326, 'hellgrünen': 2327, 'heraushängender': 2328, 'hochstuhl': 2329, 'hockeyspiel': 2330, 'holzkonstruktion': 2331, 'horizont': 2332, 'hosenträgern': 2333, 'hängematte': 2334, 'hüfte': 2335, 'indien': 2336, 'irgendeinem': 2337, 'jockeys': 2338, 'kajakfahrer': 2339, 'kampfsportler': 2340, 'karate': 2341, 'kies': 2342, 'kompletter': 2343, 'kopfbedeckungen': 2344, 'kämpft': 2345, 'ladefläche': 2346, 'laster': 2347, 'legerer': 2348, 'lernen': 2349, 'lokal': 2350, 'läuferin': 2351, 'marathonläufer': 2352, 'meißelt': 2353, 'metallstange': 2354, 'mitspieler': 2355, 'muskulöser': 2356, 'möchte': 2357, 'nahen': 2358, 'natur': 2359, 'of': 2360, 'orientalischer': 2361, 'osten': 2362, 'ozeans': 2363, 'passagiere': 2364, 'passt': 2365, 'peace-zeichen': 2366, 'pfanne': 2367, 'pfeil': 2368, 'pilot': 2369, 'pizza': 2370, 'polohemd': 2371, 'probiert': 2372, 'richten': 2373, 'rikscha': 2374, 'rollen': 2375, 'rosaroten': 2376, 'rostigen': 2377, 'rot-schwarzen': 2378, 'rothaariger': 2379, 'ruder': 2380, 'rugbyspieler': 2381, 'ruhig': 2382, 'rührt': 2383, 'sandburg': 2384, 'sandwich': 2385, 'saugt': 2386, 'schachteln': 2387, 'schaf': 2388, 'schlucht': 2389, 'schmalen': 2390, 'schnappt': 2391, 'schnüffelt': 2392, 'schwenken': 2393, 'schwere': 2394, 'schöner': 2395, 'seifenblase': 2396, 'servieren': 2397, 'sicherheitswesten': 2398, 'silberne': 2399, 'skatet': 2400, 'smoking': 2401, 'soeben': 2402, 'sommertag': 2403, 'sonnenlicht': 2404, 'spiegelbild': 2405, 'spielsachen': 2406, 'sporthalle': 2407, 'spritzen': 2408, 'sprüht': 2409, 'späht': 2410, 'stadtpark': 2411, 'stativ': 2412, 'staub': 2413, 'steinbank': 2414, 'stiefel': 2415, 'straßenfest': 2416, 'straßenszene': 2417, 'strumpfhose': 2418, 'studio': 2419, 'stunt': 2420, 'sägt': 2421, 'tal': 2422, 'tattoo': 2423, 'taube': 2424, 'teenagern': 2425, 'telefonieren': 2426, 'telefonzelle': 2427, 'tennisplatz': 2428, 'times': 2429, 'tomaten': 2430, 'ton': 2431, 'trockenen': 2432, 'tun': 2433, 'turm': 2434, 'tüten': 2435, 'umgebenen': 2436, 'unterhemd': 2437, 'usa': 2438, 'verkaufsstand': 2439, 'verschieden': 2440, 'verschränkten': 2441, 'vorderen': 2442, 'vorführung': 2443, 'vorsichtig': 2444, 'vögeln': 2445, 'wachmann': 2446, 'waschmaschine': 2447, 'wasserbecken': 2448, 'wassersprenger': 2449, 'weiterer': 2450, 'wildnis': 2451, 'windhunde': 2452, 'wolken': 2453, 'wollmütze': 2454, 'yoga': 2455, 'zahnbürste': 2456, 'zeitschriften': 2457, 'zelten': 2458, 'zeremonie': 2459, 'ziegelbau': 2460, 'ziegelgebäude': 2461, 'zuhause': 2462, 'zuhört': 2463, '?': 2464, 'absperrung': 2465, 'afrikaner': 2466, 'afroamerikanisches': 2467, 'aktentasche': 2468, 'albern': 2469, 'alkohol': 2470, 'aller': 2471, 'anderem': 2472, 'angefeuert': 2473, 'angeln': 2474, 'ansicht': 2475, 'anzusehen': 2476, 'aufeinander': 2477, 'ausgebreitet': 2478, 'ausgebreiteten': 2479, 'ausstellung': 2480, 'backflip': 2481, 'backsteinstraße': 2482, 'badehosen': 2483, 'badekappe': 2484, 'barfüßiger': 2485, 'baskenmütze': 2486, 'basketballfeld': 2487, 'baumstumpf': 2488, 'baumstämmen': 2489, 'bauwerk': 2490, 'beginn': 2491, 'begriff': 2492, 'berglandschaft': 2493, 'beten': 2494, 'betonstufen': 2495, 'beutel': 2496, 'binden': 2497, 'blazer': 2498, 'bleiben': 2499, 'bleibt': 2500, 'blondhaariger': 2501, 'bohrmaschine': 2502, 'boote': 2503, 'braunhaariges': 2504, 'brautjungfern': 2505, 'brennenden': 2506, 'burgunderroten': 2507, 'cheerleaderin': 2508, 'cheerleadern': 2509, 'chinesischer': 2510, 'demonstration': 2511, 'denkt': 2512, 'deutsche': 2513, 'dirigiert': 2514, 'dose': 2515, 'dosen': 2516, 'drink': 2517, 'dunkel': 2518, 'dünnen': 2519, 'eier': 2520, 'einfachen': 2521, 'einheimischer': 2522, 'einkaufstaschen': 2523, 'einkäufer': 2524, 'einsamen': 2525, 'eislaufen': 2526, 'enten': 2527, 'entweder': 2528, 'ereignis': 2529, 'fackel': 2530, 'fahrzeugs': 2531, 'farbige': 2532, 'fassade': 2533, 'faulenzt': 2534, 'felsens': 2535, 'felsklippe': 2536, 'fischmarkt': 2537, 'flammen': 2538, 'fliesen': 2539, 'football-spiel': 2540, 'footballfeld': 2541, 'friedenszeichen': 2542, 'frische': 2543, 'frischen': 2544, 'friseur': 2545, 'fröhliche': 2546, 'ganzen': 2547, 'gefallen': 2548, 'gefangen': 2549, 'gefleckter': 2550, 'geflochtenen': 2551, 'geldbeutel': 2552, 'gemusterten': 2553, 'gesichtsausdruck': 2554, 'gestreifte': 2555, 'gesäumte': 2556, 'getragen': 2557, 'getreide': 2558, 'gletscher': 2559, 'glückliche': 2560, 'golden': 2561, 'habseligkeiten': 2562, 'hacken': 2563, 'hackt': 2564, 'halb': 2565, 'handtaschen': 2566, 'handwerker': 2567, 'haut': 2568, 'hervor': 2569, 'herzen': 2570, 'hinteren': 2571, 'hinweg': 2572, 'historischen': 2573, 'hochhackigen': 2574, 'hochzuklettern': 2575, 'hocken': 2576, 'holzbrett': 2577, 'horn': 2578, 'hotel': 2579, 'huhn': 2580, 'hundespielzeug': 2581, 'hüpfen': 2582, 'innenraum': 2583, 'interagieren': 2584, 'irgendeiner': 2585, 'irgendwo': 2586, 'jeansshorts': 2587, 'john': 2588, 'kabine': 2589, 'kaffeetasse': 2590, 'kajaks': 2591, 'kamel': 2592, 'kameramann': 2593, 'kamm': 2594, 'kanus': 2595, 'karierter': 2596, 'kehren': 2597, 'kellner': 2598, 'khakifarbener': 2599, 'kilt': 2600, 'konstruktion': 2601, 'kontrolle': 2602, 'kostümierte': 2603, 'krabbelt': 2604, 'kraft': 2605, 'kunstgalerie': 2606, 'käfig': 2607, 'kümmern': 2608, 'kürbis': 2609, 'ladens': 2610, 'lampen': 2611, 'langes': 2612, 'laternen': 2613, 'laufband': 2614, 'lebensmittelmarkt': 2615, 'leitet': 2616, 'lilafarbener': 2617, 'linke': 2618, 'lädt': 2619, 'mehr': 2620, 'mehrfarbigen': 2621, 'motocrossfahrer': 2622, 'motor': 2623, 'musikinstrument': 2624, 'musikinstrumenten': 2625, 'muss': 2626, 'möwen': 2627, 'müllcontainer': 2628, 'nassem': 2629, 'neuen': 2630, 'nummern': 2631, 'objekte': 2632, 'palme': 2633, 'papa': 2634, 'parken': 2635, 'passagieren': 2636, 'pfadfinder': 2637, 'pfeife': 2638, 'pflasterstraße': 2639, 'pinsel': 2640, 'pistole': 2641, 'pizzeria': 2642, 'plüschtier': 2643, 'porträt': 2644, 'probieren': 2645, 'pullovern': 2646, 'pult': 2647, 'quarterback': 2648, 'randstein': 2649, 'reflektierenden': 2650, 'regelt': 2651, 'regnet': 2652, 'reicht': 2653, 'ringkampf': 2654, 'rockband': 2655, 'rodeoreiter': 2656, 'ruderboot': 2657, 'sack': 2658, 'sandhügel': 2659, 'schals': 2660, 'schenkt': 2661, 'schlafend': 2662, 'schlafendes': 2663, 'schleift': 2664, 'schlittschuhen': 2665, 'schuss': 2666, 'schutt': 2667, 'schwebebalken': 2668, 'segelt': 2669, 'seichtem': 2670, 'sims': 2671, 'sitz': 2672, 'smartphone': 2673, 'snack': 2674, 'sortiert': 2675, 'spielenden': 2676, 'spielern': 2677, 'spielers': 2678, 'square': 2679, 'st.': 2680, 'stadtszene': 2681, 'staffelei': 2682, 'stammeskleidung': 2683, 'startlinie': 2684, 'steuert': 2685, 'stil': 2686, 'straßenrennen': 2687, 'student': 2688, 'supermarkt': 2689, 'säge': 2690, 'säubert': 2691, 'tankstelle': 2692, 'tauziehen': 2693, 'teilt': 2694, 'tippt': 2695, 'traditionelle': 2696, 'tropischen': 2697, 'trottet': 2698, 'trüben': 2699, 'türkisen': 2700, 'u-bahnstation': 2701, 'umzäunten': 2702, 'uns': 2703, 'untergrund': 2704, 'versteckt': 2705, 'versuch': 2706, 'verteidiger': 2707, 'violetter': 2708, 'vogelperspektive': 2709, 'volleyballspieler': 2710, 'voran': 2711, 'vorstellung': 2712, 'waffel': 2713, 'wahrscheinlich': 2714, 'wanne': 2715, 'war': 2716, 'warnweste': 2717, 'wassermelonen': 2718, 'wasserstraße': 2719, 'weiblichen': 2720, 'wetter': 2721, 'wieder': 2722, 'wilden': 2723, 'winterjacke': 2724, 'wintertag': 2725, 'wippe': 2726, 'xylophon': 2727, 'zahl': 2728, 'zeichnen': 2729, 'ziege': 2730, 'ziegel': 2731, 'zielt': 2732, 'zigarre': 2733, 'zurecht': 2734, 'zweite': 2735, '-': 2736, '10': 2737, 'abgedunkelten': 2738, 'abgesperrten': 2739, 'akustische': 2740, 'amboss': 2741, 'anschauen': 2742, 'anschaut': 2743, 'aquarium': 2744, 'aufgeblasenen': 2745, 'aufgenommen': 2746, 'aufhat': 2747, 'aufmerksamkeit': 2748, 'aufrecht': 2749, 'aufschlag': 2750, 'aufwärmen': 2751, 'ausschau': 2752, 'auswahl': 2753, 'autositz': 2754, 'außen': 2755, 'badekleidung': 2756, 'bagger': 2757, 'bahngleisen': 2758, 'balgen': 2759, 'bandmitglieder': 2760, 'baseballkleidung': 2761, 'baums': 2762, 'beamte': 2763, 'bedeckter': 2764, 'beendet': 2765, 'befahrene': 2766, 'befindlichen': 2767, 'begutachten': 2768, 'beigen': 2769, 'bestellt': 2770, 'besuchen': 2771, 'beteiligt': 2772, 'betonbank': 2773, 'betonplatte': 2774, 'bikini-oberteil': 2775, 'bikinis': 2776, 'billard': 2777, 'blumenstrauß': 2778, 'blühenden': 2779, 'bohrt': 2780, 'bordsteinkante': 2781, 'braun-weißen': 2782, 'bricht': 2783, 'bulle': 2784, 'bullenreiter': 2785, 'buntem': 2786, 'buntes': 2787, 'bücherregal': 2788, 'bürste': 2789, 'day': 2790, 'dekorationen': 2791, 'dekorativen': 2792, 'dekorierten': 2793, 'deutscher': 2794, 'digitalkamera': 2795, 'dj': 2796, 'dreiköpfige': 2797, 'dress': 2798, 'du': 2799, 'dunkeln': 2800, 'durchsucht': 2801, 'ei': 2802, 'einkaufspassage': 2803, 'einsatz': 2804, 'einzelne': 2805, 'einzufangen': 2806, 'eisbahn': 2807, 'eiswaffeln': 2808, 'eiswagen': 2809, 'eng': 2810, 'engel': 2811, 'erreicht': 2812, 'erwischt': 2813, 'essend': 2814, 'essenswagen': 2815, 'eventuell': 2816, 'fahrenden': 2817, 'fahrradrennen': 2818, 'farbenfroh': 2819, 'farbenfrohe': 2820, 'fasziniert': 2821, 'fechten': 2822, 'feuert': 2823, 'feuerwerk': 2824, 'filzhut': 2825, 'fitnessstudio': 2826, 'freizeitkleidung': 2827, 'freut': 2828, 'fröhliches': 2829, 'fußballspielen': 2830, 'fußballteam': 2831, 'fußballteams': 2832, 'fußballtrikot': 2833, 'fußgängerbrücke': 2834, 'fußweg': 2835, 'füttern': 2836, 'garn': 2837, 'gebaut': 2838, 'gefahren': 2839, 'gegenüberliegenden': 2840, 'gehoben': 2841, 'gehwegs': 2842, 'gehüllt': 2843, 'gelbbrauner': 2844, 'genau': 2845, 'geradeaus': 2846, 'gerichtet': 2847, 'geschminkt': 2848, 'geschminkten': 2849, 'geschrieben': 2850, 'geschäftige': 2851, 'gesenktem': 2852, 'gesichter': 2853, 'gesichts': 2854, 'gewehren': 2855, 'geöffnetem': 2856, 'glastür': 2857, 'gleis': 2858, 'glückliches': 2859, 'goldfarbenen': 2860, 'golfplatz': 2861, 'großstadt': 2862, 'grün-weißen': 2863, 'gürteln': 2864, 'haken': 2865, 'haltend': 2866, 'helle': 2867, 'hellgelben': 2868, 'hemdbluse': 2869, 'herz': 2870, 'hindernisparcours': 2871, 'hochgehoben': 2872, 'hochhält': 2873, 'hochspringt': 2874, 'hochzeitskleidung': 2875, 'hochzeitstorte': 2876, 'holztisch': 2877, 'hotdogs': 2878, 'hubschrauber': 2879, 'hydranten': 2880, 'hörsaal': 2881, 'hüpfburg': 2882, 'inhalt': 2883, 'inline': 2884, 'innenhof': 2885, 'inspizieren': 2886, 'inspiziert': 2887, 'ipod': 2888, 'irgendetwas': 2889, 'japan': 2890, 'jogger': 2891, 'jüngeres': 2892, 'kabel': 2893, 'kabeln': 2894, 'kaninchen': 2895, 'karateanzug': 2896, 'karateanzügen': 2897, 'kartenspiel': 2898, 'kathedrale': 2899, 'kegeln': 2900, 'keine': 2901, 'khakihose': 2902, 'kicken': 2903, 'kiefern': 2904, 'kittel': 2905, 'klappstühlen': 2906, 'kleinere': 2907, 'konfetti': 2908, 'kopfsteinpflasterstraße': 2909, 'kragen': 2910, 'krankenschwestern': 2911, 'kunde': 2912, 'kunst': 2913, 'kunstvollen': 2914, 'körbe': 2915, 'küchentresen': 2916, 'lacrosse': 2917, 'landkarte': 2918, 'lauf': 2919, 'liegende': 2920, 'liegestühlen': 2921, 'limousine': 2922, 'lippenstift': 2923, 'marineblauen': 2924, 'maulkörben': 2925, 'mehrfarbige': 2926, 'metallzaun': 2927, 'mikrofone': 2928, 'mikrofonen': 2929, 'mindestens': 2930, 'modell': 2931, 'modellflugzeug': 2932, 'modernen': 2933, 'monopoly': 2934, 'mopp': 2935, 'motocross-fahrer': 2936, 'motorradfahrern': 2937, 'musikern': 2938, 'möbelstück': 2939, 'mülltüte': 2940, 'nachbarschaft': 2941, 'nachmittag': 2942, 'nachtclub': 2943, 'nackte': 2944, 'nackten': 2945, 'nackter': 2946, 'nacktes': 2947, 'nasse': 2948, 'neun': 2949, 'nichts': 2950, 'notizen': 2951, 'näher': 2952, 'obwohl': 2953, 'ochsen': 2954, 'offener': 2955, 'packen': 2956, 'parasailing': 2957, 'pass': 2958, 'perücke': 2959, 'pflückt': 2960, 'pinken': 2961, 'platziert': 2962, 'polizei': 2963, 'pony': 2964, 'popcorn': 2965, 'pose': 2966, 'position': 2967, 'produkt': 2968, 'professor': 2969, 'promenade': 2970, 'punkten': 2971, 'puppen': 2972, 'pyramide': 2973, 'quad': 2974, 'radrennfahrer': 2975, 'rasenmäher': 2976, 'rauchend': 2977, 'raufen': 2978, 'rennfahrer': 2979, 'rollern': 2980, 'rot-schwarzer': 2981, 'rot-weiß': 2982, 'rot-weißes': 2983, 'rothaarigen': 2984, 'ruft': 2985, 'ruhigem': 2986, 'saal': 2987, 'saiteninstrument': 2988, 'schale': 2989, 'schaufensterfront': 2990, 'schaulustige': 2991, 'schippt': 2992, 'schlafzimmer': 2993, 'schlecht': 2994, 'schlendern': 2995, 'schlittschuh': 2996, 'schmetterling': 2997, 'schmettert': 2998, 'schmutziges': 2999, 'schnuller': 3000, 'schotterstraße': 3001, 'schotterweg': 3002, 'schritt': 3003, 'schwanz': 3004, 'schwarz-braune': 3005, 'schwarz-braunen': 3006, 'schwarz-roten': 3007, 'schwarzweißer': 3008, 'schweren': 3009, 'schwimmflügeln': 3010, 'schwimmwesten': 3011, 'schält': 3012, 'schülern': 3013, 'seilspringen': 3014, 'seitenlinie': 3015, 'seitlich': 3016, 'skateboardpark': 3017, 'sms': 3018, 'sorgfältig': 3019, 'spazierstock': 3020, 'speer': 3021, 'speisekarte': 3022, 'spielerin': 3023, 'spielzeugauto': 3024, 'spielzeuge': 3025, 'spült': 3026, 'steg': 3027, 'stelle': 3028, 'stern': 3029, 'strandpromenade': 3030, 'straßenmarkt': 3031, 'strickt': 3032, 'struktur': 3033, 'studiert': 3034, 'stöbern': 3035, 'stücke': 3036, 'tackelt': 3037, 'taucheranzug': 3038, 'teenagerin': 3039, 'teilnimmt': 3040, 'tempel': 3041, 'tennisschuhen': 3042, 'thema': 3043, 'tiefen': 3044, 'tischdecke': 3045, 'tische': 3046, 'trenchcoat': 3047, 'trocknet': 3048, 'tänzerinnen': 3049, 'tänzern': 3050, 'tätowierter': 3051, 'türkisfarbenen': 3052, 'ufers': 3053, 'umgestürzten': 3054, 'umhängen': 3055, 'unaufgeräumten': 3056, 'untergeht': 3057, 'unterschiedlicher': 3058, 'verfolgen': 3059, 'verkleideter': 3060, 'verlassenen': 3061, 'verlegt': 3062, 'verteilen': 3063, 'verärgert': 3064, 'video': 3065, 'videokamera': 3066, 'videospiele': 3067, 'volleyballspiel': 3068, 'vorbeifahren': 3069, 'wakeboard': 3070, 'wanderweg': 3071, 'wandmalerei': 3072, 'warnwesten': 3073, 'wegen': 3074, 'weihnachten': 3075, 'weihnachtsmannkostüm': 3076, 'weinendes': 3077, 'weiß-schwarzer': 3078, 'weißhaariger': 3079, 'wenig': 3080, 'werkzeugen': 3081, 'wettlauf': 3082, 'wiegt': 3083, 'wohnung': 3084, 'wurden': 3085, 'wählt': 3086, 'wände': 3087, 'wäre': 3088, 'zebrastreifen': 3089, 'zeitungen': 3090, 'zelte': 3091, 'zuckerwatte': 3092, 'zutaten': 3093, 'zähnen': 3094, 'zündet': 3095, 'ärmellosem': 3096, 'überblickt': 3097, 'überdachten': 3098, '&': 3099, \"'\": 3100, '/': 3101, '6': 3102, 'abhang': 3103, 'abstammung': 3104, 'afroamerikanerin': 3105, 'angel': 3106, 'angemaltem': 3107, 'ans': 3108, 'ansammlung': 3109, 'anscheinend': 3110, 'anzugreifen': 3111, 'anzuziehen': 3112, 'arbeitende': 3113, 'artikel': 3114, 'asphalt': 3115, 'aufgabe': 3116, 'aufgeregte': 3117, 'ausflug': 3118, 'ausgestrecktem': 3119, 'auszeichnung': 3120, 'außenseite': 3121, 'außerdem': 3122, 'babyschaukel': 3123, 'backsteinwand': 3124, 'bademantel': 3125, 'baden': 3126, 'bahnen': 3127, 'balkonen': 3128, 'ballbesitz': 3129, 'bambus': 3130, 'bananen': 3131, 'barfüßiges': 3132, 'barkeeper': 3133, 'bass': 3134, 'bastelt': 3135, 'bauer': 3136, 'bauernhof': 3137, 'beaufsichtigt': 3138, 'beenden': 3139, 'befestigen': 3140, 'befragt': 3141, 'begleiter': 3142, 'bekleidungsgeschäft': 3143, 'beladenen': 3144, 'berghang': 3145, 'bergsteigen': 3146, 'besitz': 3147, 'betonrampe': 3148, 'betritt': 3149, 'bettelt': 3150, 'bewundern': 3151, 'blattwerk': 3152, 'blau-roten': 3153, 'blaugrünen': 3154, 'blond': 3155, 'blondhaarige': 3156, 'blondhaariges': 3157, 'blumenwiese': 3158, 'blätterhaufen': 3159, 'bmx-rad': 3160, 'boots': 3161, 'brechen': 3162, 'brunnens': 3163, 'brät': 3164, 'bräunlicher': 3165, 'brünettes': 3166, 'buckelnden': 3167, 'bulldozer': 3168, 'busch': 3169, 'büchern': 3170, 'büsche': 3171, 'coach': 3172, 'collie': 3173, 'dafür': 3174, 'deckt': 3175, 'derby': 3176, 'deutet': 3177, 'diadem': 3178, 'dicker': 3179, 'drängen': 3180, 'dschungel': 3181, 'dunk': 3182, 'dunkelhaariges': 3183, 'durchgang': 3184, 'dünne': 3185, 'ebene': 3186, 'einfahrt': 3187, 'einrichtung': 3188, 'einschließlich': 3189, 'eishockeyspiel': 3190, 'eisschnellläufer': 3191, 'eiswaffel': 3192, 'elternteil': 3193, 'endzone': 3194, 'enge': 3195, 'erdboden': 3196, 'erhalten': 3197, 'erhöhten': 3198, 'erledigen': 3199, 'erleuchtet': 3200, 'erzielen': 3201, 'erzählt': 3202, 'fackeln': 3203, 'fahrradreifen': 3204, 'federn': 3205, 'feldhockey': 3206, 'felsblock': 3207, 'felsige': 3208, 'fensterputzer': 3209, 'fernrohr': 3210, 'fertigen': 3211, 'fertigt': 3212, 'festival': 3213, 'film': 3214, 'flaches': 3215, 'flauschigen': 3216, 'fliesenboden': 3217, 'food': 3218, 'for': 3219, 'freuen': 3220, 'freundinnen': 3221, 'funktioniert': 3222, 'fußboden': 3223, 'fußtritt': 3224, 'führung': 3225, 'gabel': 3226, 'garagentor': 3227, 'gartenstuhl': 3228, 'gedrängt': 3229, 'geholfen': 3230, 'geiger': 3231, 'gejagt': 3232, 'geländefahrzeug': 3233, 'gemalt': 3234, 'gemütlich': 3235, 'geschlagen': 3236, 'geschminktem': 3237, 'geschmückten': 3238, 'geschoben': 3239, 'geschäftsmann': 3240, 'gespritzt': 3241, 'geste': 3242, 'gesteckt': 3243, 'gestützt': 3244, 'gewonnen': 3245, 'gleiche': 3246, 'golfspieler': 3247, 'graues': 3248, 'grauhaarige': 3249, 'grauhaariger': 3250, 'grills': 3251, 'großem': 3252, 'gurt': 3253, 'gute': 3254, 'gymnastik': 3255, 'haarschnitt': 3256, 'halfpipe': 3257, 'halsketten': 3258, 'harfe': 3259, 'harten': 3260, 'hechtet': 3261, 'heißluftballons': 3262, 'heißt': 3263, 'hellbraune': 3264, 'hellbraunem': 3265, 'hellrosa': 3266, 'herrlichen': 3267, 'hochklettert': 3268, 'hochzeitsfeier': 3269, 'hochzeitsgesellschaft': 3270, 'hochzeitskleid': 3271, 'holzstuhl': 3272, 'huckepack': 3273, 'hängebrücke': 3274, 'indianer': 3275, 'informationen': 3276, 'inneren': 3277, 'intensiv': 3278, 'interessanten': 3279, 'interviewt': 3280, 'irgendeine': 3281, 'jahre': 3282, 'jemandes': 3283, 'jenga': 3284, 'kahl': 3285, 'kamelen': 3286, 'kamin': 3287, 'kanadischen': 3288, 'kastanienbraunen': 3289, 'katzen': 3290, 'kein': 3291, 'kerze': 3292, 'kindergruppe': 3293, 'kinn': 3294, 'klarinette': 3295, 'klatschen': 3296, 'klein': 3297, 'kleinigkeit': 3298, 'kleinstadt': 3299, 'kletterwand': 3300, 'knallbunten': 3301, 'kollegen': 3302, 'konferenztisch': 3303, 'kopftüchern': 3304, 'korridor': 3305, 'kragenhemd': 3306, 'krankenhausbett': 3307, 'krankenschwester': 3308, 'krug': 3309, 'kulisse': 3310, 'kunstausstellung': 3311, 'kutsche': 3312, 'käse': 3313, 'labrador': 3314, 'lackiert': 3315, 'ladung': 3316, 'landung': 3317, 'langärmligen': 3318, 'lappen': 3319, 'lastwagens': 3320, 'lautsprecher': 3321, 'ledermantel': 3322, 'leere': 3323, 'leger': 3324, 'lehrerin': 3325, 'lehrt': 3326, 'leidenschaftlich': 3327, 'lenkt': 3328, 'letzten': 3329, 'lichtern': 3330, 'live': 3331, 'lohfarbener': 3332, 'love': 3333, 'läufern': 3334, 'make-up': 3335, 'mannschaftskollegen': 3336, 'marathonlauf': 3337, 'marktstand': 3338, 'mast': 3339, 'matratze': 3340, 'mcdonalds': 3341, 'medizinische': 3342, 'medizinischen': 3343, 'mehl': 3344, 'metallgegenstand': 3345, 'miami': 3346, 'militärische': 3347, 'minigolf': 3348, 'misst': 3349, 'montur': 3350, 'morgen': 3351, 'motorboot': 3352, 'motorradrennen': 3353, 'mönch': 3354, 'müde': 3355, 'navigiert': 3356, 'nebligen': 3357, 'nippt': 3358, 'noten': 3359, 'nudeln': 3360, 'nächtlichen': 3361, 'oberhemd': 3362, 'oldtimer': 3363, 'operationssaal': 3364, 'orangensaft': 3365, 'paket': 3366, 'pinata': 3367, 'pinkfarbene': 3368, 'pitch': 3369, 'plakatwand': 3370, 'plane': 3371, 'plantscht': 3372, 'plastik': 3373, 'poliert': 3374, 'politischen': 3375, 'polizistin': 3376, 'poloshirt': 3377, 'priester': 3378, 'probt': 3379, 'pustet': 3380, 'pyjama': 3381, 'radfahren': 3382, 'radio': 3383, 'rangeln': 3384, 'rasieren': 3385, 'reagieren': 3386, 'recht': 3387, 'redner': 3388, 'rednerpult': 3389, 'regenbogen': 3390, 'reis': 3391, 'reisen': 3392, 'rennbahn': 3393, 'restaurantküche': 3394, 'richtig': 3395, 'roboter': 3396, 'rollerskates': 3397, 'rollschuh': 3398, 'rollstühlen': 3399, 'rosafarbenes': 3400, 'rosen': 3401, 'rot-blauen': 3402, 'rucksäcke': 3403, 'rugby': 3404, 'ruinen': 3405, 'runde': 3406, 'rundes': 3407, 'räumt': 3408, 'rückwärtssalto': 3409, 'sackhüpfen': 3410, 'salat': 3411, 'sandskulptur': 3412, 'sari': 3413, 'sattel': 3414, 'schalter': 3415, 'schanze': 3416, 'schattigen': 3417, 'schaufenstern': 3418, 'schaumbad': 3419, 'schauspieler': 3420, 'scheinwerferlicht': 3421, 'schienen': 3422, 'schlafenden': 3423, 'schlafender': 3424, 'schloss': 3425, 'schminke': 3426, 'schmutzige': 3427, 'schneeball': 3428, 'schneehaufen': 3429, 'schnorchel': 3430, 'schreiendes': 3431, 'schusswaffe': 3432, 'schutzwesten': 3433, 'schwarz-blauen': 3434, 'schwarzweißen': 3435, 'schweißen': 3436, 'schwertern': 3437, 'schwierigkeiten': 3438, 'schwimmenden': 3439, 'schwimmerin': 3440, 'schülerin': 3441, 'seattle': 3442, 'seife': 3443, 'seilschaukel': 3444, 'senioren': 3445, 'sitzend': 3446, 'sitzendes': 3447, 'skate-park': 3448, 'skateboardrampe': 3449, 'skateboardtrick': 3450, 'skigebiet': 3451, 'skulpturen': 3452, 'sortieren': 3453, 'spanischer': 3454, 'spielende': 3455, 'spielzug': 3456, 'sprache': 3457, 'springenden': 3458, 'stabhochsprung': 3459, 'stadtplatz': 3460, 'staffellauf': 3461, 'stamm': 3462, 'staubsauger': 3463, 'stecken': 3464, 'steinernen': 3465, 'stofftier': 3466, 'stolpert': 3467, 'stoßen': 3468, 'straßencafé': 3469, 'streicheln': 3470, 'stroh': 3471, 'strom': 3472, 'stützt': 3473, 'subway': 3474, 'tauchausrüstung': 3475, 'teddybär': 3476, 'tellern': 3477, 'tennisspielen': 3478, 'textnachricht': 3479, 'theater': 3480, 'tischtennis': 3481, 'torbogen': 3482, 'toreinfahrt': 3483, 'tourist': 3484, 'training': 3485, 'transporter': 3486, 'traurig': 3487, 'trommelt': 3488, 'turnier': 3489, 'türeingang': 3490, 'tüte': 3491, 'uferweg': 3492, 'ultimate': 3493, 'umklammert': 3494, 'unfall': 3495, 'unglücklich': 3496, 'unterhalb': 3497, 'unterricht': 3498, 'unterschiedliche': 3499, 'ureinwohner': 3500, 'van': 3501, 'vaters': 3502, 'verbringen': 3503, 'verbundenen': 3504, 'verdunkelten': 3505, 'vereisten': 3506, 'verkehrt': 3507, 'verlassene': 3508, 'verletzt': 3509, 'verliert': 3510, 'vermutlich': 3511, 'verschiedenfarbigen': 3512, 'versehen': 3513, 'verwirrt': 3514, 'verzieht': 3515, 'vierköpfige': 3516, 'vorbereiten': 3517, 'vordach': 3518, 'vorlesung': 3519, 'wadet': 3520, 'waffen': 3521, 'wangen': 3522, 'warenkorb': 3523, 'wasserfahrzeug': 3524, 'wasserlauf': 3525, 'wassermelone': 3526, 'wasserskifahrer': 3527, 'waten': 3528, 'weingläsern': 3529, 'weiß-braune': 3530, 'weiß-brauner': 3531, 'welt': 3532, 'wetteifern': 3533, 'wheelie': 3534, 'wintermantel': 3535, 'würden': 3536, 'zeichnung': 3537, 'ziegen': 3538, 'zigaretten': 3539, 'zugeht': 3540, 'zugewandt': 3541, 'zugucken': 3542, 'zuguckt': 3543, 'zuhören': 3544, 'zupft': 3545, 'zweiten': 3546, 'zweiter': 3547, 'älter': 3548, 'ärmel': 3549, 'ärmeln': 3550, 'überkreuzten': 3551, 'übung': 3552, 'übungen': 3553, '#': 3554, '11': 3555, '12': 3556, '9': 3557, 'abenddämmerung': 3558, 'abgewandt': 3559, 'absatzschuhen': 3560, 'absolventen': 3561, 'absperrband': 3562, 'abwärts': 3563, 'abzuwehren': 3564, 'abzuwerfen': 3565, 'afrikanisches': 3566, 'akkordeonspieler': 3567, 'akrobatische': 3568, 'aktion': 3569, 'albernen': 3570, 'altmodischer': 3571, 'ananas': 3572, 'anblick': 3573, 'and': 3574, 'angelehnt': 3575, 'angelruten': 3576, 'angelschnur': 3577, 'angerichtet': 3578, 'angesicht': 3579, 'angestellte': 3580, 'angezeigt': 3581, 'angezogenes': 3582, 'anlage': 3583, 'ansetzt': 3584, 'antiken': 3585, 'anweisung': 3586, 'anzüge': 3587, 'armband': 3588, 'armee': 3589, 'aufdruck': 3590, 'aufgaben': 3591, 'aufnahmen': 3592, 'aufzuheben': 3593, 'aufzunehmen': 3594, 'ausblick': 3595, 'ausdruck': 3596, 'ausführung': 3597, 'ausgeschnittenen': 3598, 'ausländische': 3599, 'ausländischen': 3600, 'auszuführen': 3601, 'backen': 3602, 'backsteingebäudes': 3603, 'badebekleidung': 3604, 'badesachen': 3605, 'badet': 3606, 'bahngleise': 3607, 'balancieren': 3608, 'banane': 3609, 'bandmitgliedern': 3610, 'barren': 3611, 'baseballkappen': 3612, 'baseballspiels': 3613, 'baseballwerfer': 3614, 'bassgitarre': 3615, 'baufälligen': 3616, 'baumgesäumten': 3617, 'bauprojekt': 3618, 'bedienung': 3619, 'befestigten': 3620, 'befreit': 3621, 'befördert': 3622, 'beginnen': 3623, 'belebter': 3624, 'bequem': 3625, 'bereits': 3626, 'berggipfel': 3627, 'bergigen': 3628, 'beschnüffelt': 3629, 'besprechen': 3630, 'besprühten': 3631, 'besuch': 3632, 'besuchten': 3633, 'betrieb': 3634, 'bewegungen': 3635, 'biegt': 3636, 'bieten': 3637, 'bikinioberteil': 3638, 'blase': 3639, 'blau-weiß': 3640, 'bleistift': 3641, 'block': 3642, 'blue': 3643, 'blumenfeld': 3644, 'blumenkleid': 3645, 'blumenmädchen': 3646, 'blusen': 3647, 'blättert': 3648, 'blöcken': 3649, 'boston': 3650, 'bowling-kugel': 3651, 'brautkleid': 3652, 'breitkrempigen': 3653, 'broschüre': 3654, 'brünett': 3655, 'buffet': 3656, 'bäckerei': 3657, 'bärten': 3658, 'bärtige': 3659, 'bügelt': 3660, 'chips': 3661, 'chirurgen': 3662, 'cockpit': 3663, 'concert': 3664, 'cremefarbenen': 3665, 'daraus': 3666, 'deckel': 3667, 'demonstriert': 3668, 'denkmal': 3669, 'deutschen': 3670, 'dicke': 3671, 'dingen': 3672, 'dirigent': 3673, 'dirtbike': 3674, 'diskutiert': 3675, 'domino': 3676, 'dorfbewohner': 3677, 'dritte-welt-land': 3678, 'drähten': 3679, 'dunkelbrauner': 3680, 'dunkelgrünen': 3681, 'dunking': 3682, 'dunkles': 3683, 'duscht': 3684, 'edlen': 3685, 'eiern': 3686, 'eigenen': 3687, 'eingegraben': 3688, 'einkäufern': 3689, 'einsame': 3690, 'einsames': 3691, 'einteiler': 3692, 'eisenbahnschienen': 3693, 'elektriker': 3694, 'elektrogitarre': 3695, 'elf': 3696, 'elmo': 3697, 'empor': 3698, 'entgegengesetzte': 3699, 'enthält': 3700, 'entladen': 3701, 'entlanggehen': 3702, 'erhebt': 3703, 'erklärt': 3704, 'ersten': 3705, 'erwischen': 3706, 'essstäbchen': 3707, 'esszimmer': 3708, 'euro': 3709, 'fahrbaren': 3710, 'fahrradgeschäft': 3711, 'fahrradtrick': 3712, 'fall': 3713, 'fallschirmspringen': 3714, 'fan': 3715, 'fang': 3716, 'feder': 3717, 'fein': 3718, 'feldes': 3719, 'felsenklippe': 3720, 'felsformation': 3721, 'festzug': 3722, 'feuerleiter': 3723, 'feuerwehrwagen': 3724, 'fingernägel': 3725, 'fischerboot': 3726, 'flag': 3727, 'flanellhemd': 3728, 'flanke': 3729, 'flecken': 3730, 'fliegende': 3731, 'flügel': 3732, 'football-feld': 3733, 'footballteam': 3734, 'form': 3735, 'fotograph': 3736, 'fotographen': 3737, 'free': 3738, 'freiluftmarkt': 3739, 'friedhof': 3740, 'frustriert': 3741, 'fröhlicher': 3742, 'fundament': 3743, 'funken': 3744, 'fußballmannschaften': 3745, 'fußballplatz': 3746, 'fuße': 3747, 'fällen': 3748, 'förmlicher': 3749, 'führenden': 3750, 'gabelstapler': 3751, 'geburtstag': 3752, 'geburtstagskuchen': 3753, 'gebückter': 3754, 'gedanken': 3755, 'geduldig': 3756, 'gefilmt': 3757, 'gefliesten': 3758, 'gefrorenen': 3759, 'gefällten': 3760, 'gefärbten': 3761, 'gegenspieler': 3762, 'gehören': 3763, 'geküsst': 3764, 'gelb-grünen': 3765, 'gelb-weißen': 3766, 'gelbbraunen': 3767, 'geländern': 3768, 'gemalten': 3769, 'genüsslich': 3770, 'gepflegten': 3771, 'gerätschaften': 3772, 'geschichte': 3773, 'geschlossen': 3774, 'geschossen': 3775, 'gesichert': 3776, 'gesichtsmaske': 3777, 'gespreizten': 3778, 'gestalteten': 3779, 'gestrüpp': 3780, 'gesäumt': 3781, 'getackelt': 3782, 'glasgebäude': 3783, 'glatzenansatz': 3784, 'gleiten': 3785, 'glücklicher': 3786, 'goldener': 3787, 'grasbewachsene': 3788, 'grasbewachsenes': 3789, 'griff': 3790, 'grinst': 3791, 'groß': 3792, 'großküche': 3793, 'größe': 3794, 'grün-gelben': 3795, 'grün-weiß': 3796, 'grüßen': 3797, 'guten': 3798, 'gähnt': 3799, 'gäste': 3800, 'hafengebiet': 3801, 'halbkreis': 3802, 'halt': 3803, 'haltestelle': 3804, 'happen': 3805, 'harmonika': 3806, 'hatte': 3807, 'hauptsächlich': 3808, 'hausaufgaben': 3809, 'hausmeister': 3810, 'heiraten': 3811, 'hellhäutigen': 3812, 'hellroten': 3813, 'hemdchen': 3814, 'herauf': 3815, 'herstellt': 3816, 'high': 3817, 'hinterteil': 3818, 'hinunterfährt': 3819, 'holzboot': 3820, 'holzpfahl': 3821, 'holzplattform': 3822, 'holzrampe': 3823, 'hot': 3824, 'hotdog': 3825, 'hula': 3826, 'hundeshow': 3827, 'häuser': 3828, 'höhle': 3829, 'hölle': 3830, 'hübsch': 3831, 'i': 3832, 'idyllischen': 3833, 'inder': 3834, 'indianischer': 3835, 'indischen': 3836, 'ineinander': 3837, 'inklusive': 3838, 'innenseite': 3839, 'innerhalb': 3840, 'irgendein': 3841, 'jeansrock': 3842, 'jetski': 3843, 'kahlen': 3844, 'kalte': 3845, 'kanal': 3846, 'kanone': 3847, 'kaputten': 3848, 'kargen': 3849, 'kariertes': 3850, 'karikatur': 3851, 'kastenwagen': 3852, 'kauern': 3853, 'kaufhaus': 3854, 'kaum': 3855, 'keller': 3856, 'kellnerin': 3857, 'ketten': 3858, 'khakihosen': 3859, 'kickboxen': 3860, 'kiefer': 3861, 'kimonos': 3862, 'kleidungsstücke': 3863, 'knabbert': 3864, 'knallgelben': 3865, 'knappen': 3866, 'kniehohen': 3867, 'kopfball': 3868, 'kostet': 3869, 'kranich': 3870, 'krawatten': 3871, 'kreisförmigen': 3872, 'kricketspieler': 3873, 'kriecht': 3874, 'kronen': 3875, 'krücken': 3876, 'kunstmuseum': 3877, 'kunststoff': 3878, 'kuss': 3879, 'kälte': 3880, 'kämpfer': 3881, 'küchentheke': 3882, 'küchentisch': 3883, 'kühen': 3884, 'künstlerin': 3885, 'lama': 3886, 'landen': 3887, 'langarmhemd': 3888, 'langer': 3889, 'langsam': 3890, 'last': 3891, 'lasters': 3892, 'laubbedeckten': 3893, 'laubbläser': 3894, 'laubhaufen': 3895, 'laufende': 3896, 'leben': 3897, 'lebensmittelgeschäfts': 3898, 'leitern': 3899, 'lenker': 3900, 'leopardenmuster': 3901, 'letzte': 3902, 'liebkost': 3903, 'liegestütze': 3904, 'lilafarbene': 3905, 'lkws': 3906, 'lobby': 3907, 'lockigem': 3908, 'logo': 3909, 'lokalen': 3910, 'luftsprung': 3911, 'lustigen': 3912, 'lötet': 3913, 'maiskolben': 3914, 'mal': 3915, 'mama': 3916, 'masken': 3917, 'massen': 3918, 'match': 3919, 'material': 3920, 'matsch': 3921, 'matten': 3922, 'maulesel': 3923, 'meeresufer': 3924, 'meerjungfrau': 3925, 'meerwasser': 3926, 'melonen': 3927, 'menschenschlange': 3928, 'messe': 3929, 'messen': 3930, 'metallkonstruktion': 3931, 'meter': 3932, 'mexikanische': 3933, 'mexikanischen': 3934, 'militärangehörige': 3935, 'militärs': 3936, 'militäruniform': 3937, 'militäruniformen': 3938, 'mittelgroßen': 3939, 'mixt': 3940, 'mobilen': 3941, 'motorrollern': 3942, 'mundharmonika': 3943, 'musizieren': 3944, 'männergruppe': 3945, 'möwe': 3946, 'müllbeutel': 3947, 'nacheinander': 3948, 'nachrichten': 3949, 'nagel': 3950, 'nasses': 3951, 'neigt': 3952, 'neongrünen': 3953, 'notenständer': 3954, 'notizbuch': 3955, 'nähen': 3956, 'nähern': 3957, 'obdachlose': 3958, 'oberhalb': 3959, 'oberteile': 3960, 'objekten': 3961, 'obst-': 3962, 'offene': 3963, 'offiziellen': 3964, 'ohrhörern': 3965, 'op-kittel': 3966, 'ordnet': 3967, 'ordnung': 3968, 'orientalischen': 3969, 'outfielder': 3970, 'packung': 3971, 'parks': 3972, 'pelzmantel': 3973, 'pendler': 3974, 'pfannen': 3975, 'pferderennen': 3976, 'pferdes': 3977, 'pflanzt': 3978, 'pflaster': 3979, 'pflügt': 3980, 'pfoten': 3981, 'picknick': 3982, 'piers': 3983, 'planschen': 3984, 'platten': 3985, 'podest': 3986, 'pokal': 3987, 'poolbillard': 3988, 'posaune': 3989, 'prachtvollen': 3990, 'projektor': 3991, 'protestieren': 3992, 'protestschild': 3993, 'prüfen': 3994, 'prüfung': 3995, 'pub': 3996, 'punkt': 3997, 'radfahrerin': 3998, 'ragt': 3999, 'rallyeauto': 4000, 'rasierten': 4001, 'raums': 4002, 'raus': 4003, 'red': 4004, 'regal': 4005, 'regenschirme': 4006, 'reist': 4007, 'reitern': 4008, 'religiöse': 4009, 'reparaturen': 4010, 'rettungsschwimmer': 4011, 'rettungsweste': 4012, 'riemen': 4013, 'riesiger': 4014, 'roben': 4015, 'rolle': 4016, 'roller-derby-spiel': 4017, 'rot-weiß-blauen': 4018, 'rot-weiße': 4019, 'rudel': 4020, 'ruhige': 4021, 'rum': 4022, 'rustikalen': 4023, 'rängen': 4024, 'räumen': 4025, 'rückenschwimmen': 4026, 'rückhand': 4027, 'sakko': 4028, 'saris': 4029, 'saust': 4030, 'schafen': 4031, 'schaffen': 4032, 'schau': 4033, 'schaufensterpuppe': 4034, 'scheinwerfer': 4035, 'schere': 4036, 'schickes': 4037, 'schiene': 4038, 'schiffs': 4039, 'schildkröte': 4040, 'schippen': 4041, 'schlanke': 4042, 'schlanker': 4043, 'schleifen': 4044, 'schließen': 4045, 'schließt': 4046, 'schlummert': 4047, 'schläfchen': 4048, 'schmettern': 4049, 'schmutziger': 4050, 'schnauzer': 4051, 'schneeengel': 4052, 'schneehügel': 4053, 'schneemann': 4054, 'schneidebrett': 4055, 'schnitzen': 4056, 'schokoladeneis': 4057, 'school': 4058, 'schreien': 4059, 'schuhgeschäft': 4060, 'schulbus': 4061, 'schwan': 4062, 'schwangere': 4063, 'schwarzhaariger': 4064, 'schwer': 4065, 'schwerer': 4066, 'schwester': 4067, 'schwimmhilfe': 4068, 'schwung': 4069, 'schädel': 4070, 'schärpen': 4071, 'schönes': 4072, 'schüttet': 4073, 'segelboote': 4074, 'seile': 4075, 'seltsam': 4076, 'seltsames': 4077, 'sesseln': 4078, 'shop': 4079, 'sicher': 4080, 'sicherheitsausrüstung': 4081, 'sicherheitskleidung': 4082, 'sichtbar': 4083, 'skiausrüstung': 4084, 'skilift': 4085, 'skimütze': 4086, 'skipiste': 4087, 'skyline': 4088, 'slam': 4089, 'snacks': 4090, 'sodass': 4091, 'softballspielerin': 4092, 'sollen': 4093, 'sommerkleid': 4094, 'sonnen': 4095, 'sonnenhut': 4096, 'sonnenschein': 4097, 'sonnenschirmen': 4098, 'sowohl': 4099, 'spagat': 4100, 'spielend': 4101, 'spielmannszug': 4102, 'spielplatzgerät': 4103, 'spielzeugen': 4104, 'spielzeugpferd': 4105, 'spinnrad': 4106, 'sportereignis': 4107, 'sportlerin': 4108, 'sportliche': 4109, 'sportplatz': 4110, 'sportspiel': 4111, 'sprühfarbe': 4112, 'spüle': 4113, 'stadtviertel': 4114, 'stapelt': 4115, 'starbucks': 4116, 'statuen': 4117, 'staubwolke': 4118, 'stehendes': 4119, 'steingebäude': 4120, 'steinstufen': 4121, 'steinwand': 4122, 'stiel': 4123, 'stimmt': 4124, 'strafzettel': 4125, 'strahlend': 4126, 'strandes': 4127, 'strauß': 4128, 'straßenarbeiten': 4129, 'street': 4130, 'streiten': 4131, 'strickjacke': 4132, 'strohhalm': 4133, 'strähnen': 4134, 'stäbchen': 4135, 'städtischer': 4136, 'suv': 4137, 'symbol': 4138, 'sägen': 4139, 'tages': 4140, 'talent': 4141, 'tanzende': 4142, 'tassen': 4143, 'tattoo-künstler': 4144, 'tauchen': 4145, 'taucherbrille': 4146, 'taxis': 4147, 'teile': 4148, 'telefonmasten': 4149, 'tennisbällen': 4150, 'tenniskleidung': 4151, 'terrier': 4152, 'tisches': 4153, 'toiletten': 4154, 'tollen': 4155, 'toter': 4156, 'treppengeländer': 4157, 'trockenem': 4158, 'trockenes': 4159, 'trocknen': 4160, 'tropischer': 4161, 'truthahn': 4162, 'tutu': 4163, 'töpfen': 4164, 'töpferscheibe': 4165, 'töpferwaren': 4166, 'u-bahn-tunnel': 4167, 'umeinander': 4168, 'umgedrehten': 4169, 'umhängetasche': 4170, 'unbefestigtem': 4171, 'unfertigen': 4172, 'ungefähr': 4173, 'unruhigem': 4174, 'unterbricht': 4175, 'untergrundbahn': 4176, 'unterhaltung': 4177, 'unterseite': 4178, 'us': 4179, 'verbringt': 4180, 'verbunden': 4181, 'verdienen': 4182, 'verhindern': 4183, 'verkleiden': 4184, 'verschiedener': 4185, 'verschiedenfarbige': 4186, 'verspritzt': 4187, 'verstecken': 4188, 'verstärker': 4189, 'verteidigen': 4190, 'violettes': 4191, 'volksfest': 4192, 'vorbeigehenden': 4193, 'vorbereitung': 4194, 'vorhang': 4195, 'vorliest': 4196, 'vorwärts': 4197, 'vorübergehen': 4198, 'wachsen': 4199, 'wagens': 4200, 'waldes': 4201, 'walmart': 4202, 'wanderung': 4203, 'washington': 4204, 'wasserfontäne': 4205, 'wasserkante': 4206, 'wasserschlauch': 4207, 'weggeht': 4208, 'weihnachtsgeschenke': 4209, 'welche': 4210, 'welcome': 4211, 'wenige': 4212, 'werbetafel': 4213, 'werkzeuge': 4214, 'wildwasser': 4215, 'wind': 4216, 'windjacke': 4217, 'winken': 4218, 'wintermänteln': 4219, 'winzigen': 4220, 'wirbt': 4221, 'wirken': 4222, 'wischen': 4223, 'wissenschaftler': 4224, 'wissenschaftliches': 4225, 'wolkigen': 4226, 'wäschekorb': 4227, 'wäscheleine': 4228, 'zentrum': 4229, 'ziegeln': 4230, 'zitronen': 4231, 'zoo': 4232, 'zubereiten': 4233, 'zueinander': 4234, 'zugs': 4235, 'zuläuft': 4236, 'zweier': 4237, 'zweiteiligen': 4238, 'zwölf': 4239, 'zügen': 4240, 'ärzte': 4241, 'öffentliche': 4242, 'übergibt': 4243, 'überwiegend': 4244, '24': 4245, '8': 4246, 'abfälle': 4247, 'abgelegt': 4248, 'abgeschnittenen': 4249, 'abgestimmten': 4250, 'abschlag': 4251, 'abschleppwagen': 4252, 'abseits': 4253, 'absätzen': 4254, 'abzufangen': 4255, 'abzunehmen': 4256, 'actionfoto': 4257, 'affen': 4258, 'afrikanerin': 4259, 'afroamerikanischen': 4260, 'aktivität': 4261, 'akustischen': 4262, 'albert': 4263, 'all': 4264, 'allen': 4265, 'alltag': 4266, 'alt': 4267, 'altmodische': 4268, 'america': 4269, 'anbietet': 4270, 'angebunden': 4271, 'angegriffen': 4272, 'angekettet': 4273, 'angeleint': 4274, 'angels': 4275, 'angemalt': 4276, 'angemalten': 4277, 'angeschaut': 4278, 'angeschnallt': 4279, 'angler': 4280, 'angucken': 4281, 'anhält': 4282, 'ankommenden': 4283, 'anlass': 4284, 'anleitung': 4285, 'anorak': 4286, 'anschneiden': 4287, 'anzeige': 4288, 'anziehen': 4289, 'apparat': 4290, 'arabischer': 4291, 'arbeitsplatz': 4292, 'arkade': 4293, 'arten': 4294, 'aschenbahn': 4295, 'asphaltstraße': 4296, 'atem': 4297, 'athlet': 4298, 'athleten': 4299, 'attackieren': 4300, 'au': 4301, 'aufgebaut': 4302, 'aufgehängt': 4303, 'aufgemalt': 4304, 'aufgesetzten': 4305, 'aufgestellten': 4306, 'aufhalten': 4307, 'aufkleber': 4308, 'aufnahmestudio': 4309, 'aufnehmen': 4310, 'aufnimmt': 4311, 'auftreten': 4312, 'ausführt': 4313, 'ausgefransten': 4314, 'ausgelassen': 4315, 'ausgelegt': 4316, 'ausgeschnittene': 4317, 'ausgestopfte': 4318, 'ausgestopften': 4319, 'ausland': 4320, 'aussichtspunkt': 4321, 'ausstreckt': 4322, 'auswirft': 4323, 'auszuruhen': 4324, 'auszuziehen': 4325, 'außentreppe': 4326, 'außenwand': 4327, 'backwaren': 4328, 'balance': 4329, 'ballett': 4330, 'bandkollegen': 4331, 'barett': 4332, 'barriere': 4333, 'baseballplatz': 4334, 'baseballs': 4335, 'baseman': 4336, 'baserunner': 4337, 'basketballkorb': 4338, 'basketballplatz': 4339, 'basketballwurf': 4340, 'basketbälle': 4341, 'basteln': 4342, 'bauarbeiterhelm': 4343, 'bauarbeitern': 4344, 'baumaschinen': 4345, 'baumgruppe': 4346, 'beagle': 4347, 'beamten': 4348, 'bedeckte': 4349, 'bedruckt': 4350, 'beeindruckende': 4351, 'beigefarbener': 4352, 'beisammensein': 4353, 'beleibter': 4354, 'beleuchtete': 4355, 'bellen': 4356, 'bemalte': 4357, 'bergab': 4358, 'bergpfad': 4359, 'berufskleidung': 4360, 'beruhigt': 4361, 'beschmiert': 4362, 'beschädigtes': 4363, 'besetzte': 4364, 'besitzer': 4365, 'bespritzen': 4366, 'bestehenden': 4367, 'besteigen': 4368, 'bestellung': 4369, 'betreibt': 4370, 'betreut': 4371, 'beugen': 4372, 'bewachen': 4373, 'bewertet': 4374, 'bewölktem': 4375, 'bezeichnet': 4376, 'bierflaschen': 4377, 'biergläsern': 4378, 'bikini-unterteil': 4379, 'bildet': 4380, 'bildhauer': 4381, 'bittet': 4382, 'blau-braunen': 4383, 'blau-rosa': 4384, 'blau-schwarzen': 4385, 'blau-weißer': 4386, 'blaugrünem': 4387, 'bleckt': 4388, 'blickfeld': 4389, 'bloßen': 4390, 'blumendruck': 4391, 'blumentopf': 4392, 'blut': 4393, 'blutdruck': 4394, 'bmw': 4395, 'bmx': 4396, 'bohrer': 4397, 'boje': 4398, 'bootsanlegestelle': 4399, 'bowlingspieler': 4400, 'boxkampf': 4401, 'braun-weißem': 4402, 'braunhaarigen': 4403, 'brechenden': 4404, 'breit': 4405, 'breites': 4406, 'breitet': 4407, 'brennt': 4408, 'brettern': 4409, 'briefkasten': 4410, 'bronzestatue': 4411, 'broschüren': 4412, 'brustkorb': 4413, 'bräunlichen': 4414, 'bucht': 4415, 'buden': 4416, 'bummeln': 4417, 'bustier': 4418, 'butterbrot': 4419, 'bändern': 4420, 'bärtigen': 4421, 'bücherei': 4422, 'bühnenauftritt': 4423, 'bürgersteigs': 4424, 'bürogebäude': 4425, 'cafeteria': 4426, 'camcorder': 4427, 'campern': 4428, 'cheerleaders': 4429, 'chinatown': 4430, 'choreografie': 4431, 'clubs': 4432, 'coney': 4433, 'couchtisch': 4434, 'cowboyhüten': 4435, 'cowboykleidung': 4436, 'cowboystiefeln': 4437, 'cowgirl': 4438, 'dalmatiner': 4439, 'dampf': 4440, 'danach': 4441, 'darsteller': 4442, 'darstellt': 4443, 'darum': 4444, 'dasselbe': 4445, 'dehnt': 4446, 'denken': 4447, 'designs': 4448, 'dessert': 4449, 'deutlich': 4450, 'diashow': 4451, 'dog': 4452, 'dokumente': 4453, 'donuts': 4454, 'dort': 4455, 'drachenkostüm': 4456, 'drahtseil': 4457, 'drahtzaun': 4458, 'dreckigen': 4459, 'drein': 4460, 'dreiräder': 4461, 'drinks': 4462, 'drummer': 4463, 'drängeln': 4464, 'drängt': 4465, 'duckt': 4466, 'dunkelhaarigen': 4467, 'dunkelhäutiges': 4468, 'durcheinander': 4469, 'dusche': 4470, 'dutzend': 4471, 'dutzende': 4472, 'dünner': 4473, 'east': 4474, 'ehemann': 4475, 'eierkuchen': 4476, 'eilen': 4477, 'einfach': 4478, 'eingangshalle': 4479, 'eingepacktes': 4480, 'eingerahmte': 4481, 'einzigartigen': 4482, 'eiscrem': 4483, 'eisenbahn': 4484, 'eiskrem': 4485, 'eisskulptur': 4486, 'eisstand': 4487, 'eistüten': 4488, 'eiswagens': 4489, 'el': 4490, 'em': 4491, 'enkelin': 4492, 'entdeckt': 4493, 'entfernten': 4494, 'entlangfahren': 4495, 'entlangfährt': 4496, 'entscheiden': 4497, 'erfahrener': 4498, 'erhebung': 4499, 'erklettert': 4500, 'erkunden': 4501, 'erkundet': 4502, 'ernte': 4503, 'ernten': 4504, 'errichten': 4505, 'errichtet': 4506, 'erscheint': 4507, 'erste': 4508, 'eseln': 4509, 'essensverkäufer': 4510, 'esswaren': 4511, 'europäisches': 4512, 'explosion': 4513, 'fabrikarbeiter': 4514, 'fahrgäste': 4515, 'fahrgästen': 4516, 'fallenden': 4517, 'fallschirme': 4518, 'fallschirmen': 4519, 'fallschirmspringer': 4520, 'farbiger': 4521, 'farblich': 4522, 'farbstiften': 4523, 'faust': 4524, 'fechter': 4525, 'fechtkampf': 4526, 'fechtwettkampf': 4527, 'fegen': 4528, 'felds': 4529, 'felsformationen': 4530, 'fensterbank': 4531, 'fern': 4532, 'festlichen': 4533, 'feuerwehrfahrzeug': 4534, 'feuerwehrleuten': 4535, 'filmen': 4536, 'filmset': 4537, 'finden': 4538, 'first': 4539, 'flache': 4540, 'flachem': 4541, 'fleck': 4542, 'flohmarkt': 4543, 'flug': 4544, 'flughafens': 4545, 'fond': 4546, 'football-mannschaften': 4547, 'ford': 4548, 'formellen': 4549, 'formen': 4550, 'fotoshooting': 4551, 'frankreich': 4552, 'französischen': 4553, 'frei': 4554, 'freiheitsstatue': 4555, 'freiluftkonzert': 4556, 'freiluftveranstaltung': 4557, 'freundes': 4558, 'frisches': 4559, 'friseursalon': 4560, 'fußballnetz': 4561, 'fußballspiels': 4562, 'fußballtrikots': 4563, 'fähre': 4564, 'fässer': 4565, 'fäuste': 4566, 'föhnt': 4567, 'förmlichen': 4568, 'galerie': 4569, 'galoppiert': 4570, 'ganze': 4571, 'gartenstühlen': 4572, 'gartenwerkzeug': 4573, 'gasmaske': 4574, 'gebauten': 4575, 'gebirge': 4576, 'geblockt': 4577, 'gebunden': 4578, 'geburtstagsfeier': 4579, 'gebäck': 4580, 'gebäudeeingang': 4581, 'gebückt': 4582, 'gedeckten': 4583, 'gedruckt': 4584, 'geduckter': 4585, 'gefließten': 4586, 'gefrorene': 4587, 'gefüttert': 4588, 'gegnerischer': 4589, 'gehenden': 4590, 'gehendes': 4591, 'geholt': 4592, 'gehörschutz': 4593, 'geisha': 4594, 'gekauft': 4595, 'gekreuzten': 4596, 'gelandet': 4597, 'gelb-blauen': 4598, 'geldbörsen': 4599, 'geländemaschine': 4600, 'gemeinde': 4601, 'gemeinsame': 4602, 'gemeinsamen': 4603, 'gemusterte': 4604, 'gemüsemarkt': 4605, 'gemüsestand': 4606, 'geometrischen': 4607, 'geparkte': 4608, 'gepolsterten': 4609, 'gepäckstücken': 4610, 'gern': 4611, 'gerüsten': 4612, 'geschirrspüler': 4613, 'geschminkte': 4614, 'geschminkter': 4615, 'geschnitzte': 4616, 'geschäftsanzug': 4617, 'gesellschaft': 4618, 'gesenkt': 4619, 'gesichtsmasken': 4620, 'gesichtsschutz': 4621, 'gestapelt': 4622, 'gestellt': 4623, 'gestrichenen': 4624, 'gestürzt': 4625, 'getaucht': 4626, 'getraut': 4627, 'getupften': 4628, 'gewandt': 4629, 'gewaschen': 4630, 'gewehre': 4631, 'gewicht': 4632, 'gewinnt': 4633, 'geworfenen': 4634, 'gewächshaus': 4635, 'gewänder': 4636, 'gezogenen': 4637, 'gitarrenspieler': 4638, 'gitarrespieler': 4639, 'glasur': 4640, 'gleichauf': 4641, 'gleicher': 4642, 'gläser': 4643, 'glätten': 4644, 'glättet': 4645, 'glücklichen': 4646, 'gokart': 4647, 'goldfarbener': 4648, 'golfschläger': 4649, 'gottesdienst': 4650, 'grau-weiße': 4651, 'grau-weißer': 4652, 'green': 4653, 'grindet': 4654, 'großmutter': 4655, 'grube': 4656, 'grundschulkinder': 4657, 'gruppenbild': 4658, 'gruppenfoto': 4659, 'größer': 4660, 'größerer': 4661, 'grüßt': 4662, 'guitar': 4663, 'gummistiefeln': 4664, 'haarnetz': 4665, 'haarsalon': 4666, 'habe': 4667, 'hahn': 4668, 'halbwilden': 4669, 'halloween-kostümen': 4670, 'handbewegungen': 4671, 'handgelenk': 4672, 'handgerät': 4673, 'handgriff': 4674, 'handtüchern': 4675, 'handvoll': 4676, 'harkt': 4677, 'hawaii-hemd': 4678, 'headset': 4679, 'hecke': 4680, 'helfer': 4681, 'hellblauem': 4682, 'hellblauer': 4683, 'hellem': 4684, 'henna-tattoo': 4685, 'heran': 4686, 'herausragen': 4687, 'herauszufinden': 4688, 'herbsttag': 4689, 'herde': 4690, 'hero': 4691, 'herrenfriseur': 4692, 'hindernisse': 4693, 'hingesetzt': 4694, 'hinterbeine': 4695, 'hintere': 4696, 'hintereinander': 4697, 'hintern': 4698, 'hinterrad': 4699, 'hispanoamerikaner': 4700, 'hochgelegten': 4701, 'hochspringen': 4702, 'hochstart': 4703, 'hochzeitstag': 4704, 'hochzuheben': 4705, 'hockeymannschaften': 4706, 'holzgebäude': 4707, 'holzkohlegrill': 4708, 'holztür': 4709, 'hunderennen': 4710, 'hunderte': 4711, 'hundeschau': 4712, 'husky': 4713, 'hämmert': 4714, 'hängegleiter': 4715, 'hätte': 4716, 'hölzernes': 4717, 'hörnern': 4718, 'hübscher': 4719, 'hübsches': 4720, 'hügeligen': 4721, 'identisch': 4722, 'ignoriert': 4723, 'imbissstand': 4724, 'inderin': 4725, 'indisches': 4726, 'industriegebäude': 4727, 'inlineskater': 4728, 'inne': 4729, 'innen': 4730, 'interagiert': 4731, 'interessantes': 4732, 'interessierten': 4733, 'internet': 4734, 'irgendwelchen': 4735, 'irokesenfrisur': 4736, 'island': 4737, 'jack': 4738, 'jahren': 4739, 'japaner': 4740, 'jedoch': 4741, 'jogginganzug': 4742, 'jogginghose': 4743, 'kaffeetisch': 4744, 'kahlköpfigen': 4745, 'kaltes': 4746, 'kamele': 4747, 'kampfrichter': 4748, 'kampfsportkleidung': 4749, 'kanadische': 4750, 'kapuzenjacke': 4751, 'kapuzenteil': 4752, 'karaoke': 4753, 'karneval': 4754, 'kartoffeln': 4755, 'karussel': 4756, 'kaukasische': 4757, 'kaukasischer': 4758, 'keep': 4759, 'kekse': 4760, 'kelle': 4761, 'khakis': 4762, 'kid': 4763, 'kiesweg': 4764, 'kinds': 4765, 'kino': 4766, 'klammert': 4767, 'klarem': 4768, 'kleinbus': 4769, 'kleinem': 4770, 'kleinerer': 4771, 'kletterausrüstung': 4772, 'klettergurt': 4773, 'kniend': 4774, 'knieschonern': 4775, 'knieschützern': 4776, 'kniestrümpfen': 4777, 'knochen': 4778, 'knurrt': 4779, 'kochkleidung': 4780, 'kokosnüsse': 4781, 'komischen': 4782, 'kommunizieren': 4783, 'kommuniziert': 4784, 'komplizierten': 4785, 'kontrollieren': 4786, 'kontrolliert': 4787, 'korbleger': 4788, 'korbstuhl': 4789, 'krabbe': 4790, 'krankenwagen': 4791, 'kreuzfahrtschiff': 4792, 'krone': 4793, 'kugeln': 4794, 'kundschaft': 4795, 'kurs': 4796, 'kurzhaarige': 4797, 'kurzhaariger': 4798, 'kurzärmeligen': 4799, 'kuscheln': 4800, 'käfer': 4801, 'küchenboden': 4802, 'künstlern': 4803, 'kürbisfeld': 4804, 'küstenlinie': 4805, 'la': 4806, 'laderampe': 4807, 'lager': 4808, 'landebahn': 4809, 'langärmigen': 4810, 'laterne': 4811, 'latz': 4812, 'laufbekleidung': 4813, 'laufender': 4814, 'lauschen': 4815, 'lauter': 4816, 'lebensmittelverkäufer': 4817, 'lebhaft': 4818, 'lederkleidung': 4819, 'lego': 4820, 'leichtathlet': 4821, 'leisten': 4822, 'lenkrad': 4823, 'leotard': 4824, 'lesend': 4825, 'leuchten': 4826, 'leuchtende': 4827, 'lichter': 4828, 'liebe': 4829, 'liegender': 4830, 'lilafarbenes': 4831, 'lindgrünen': 4832, 'linien': 4833, 'lugt': 4834, 'lupe': 4835, 'läden': 4836, 'löcher': 4837, 'löwen': 4838, 'machete': 4839, 'mais': 4840, 'malerische': 4841, 'manövrieren': 4842, 'manövriert': 4843, 'marathonläuferin': 4844, 'marke': 4845, 'markisen': 4846, 'marktstraße': 4847, 'marschkapelle': 4848, 'mascara': 4849, 'matschigen': 4850, 'mauern': 4851, 'maultier': 4852, 'maus': 4853, 'mechaniker': 4854, 'mechanischen': 4855, 'meditiert': 4856, 'medizinisches': 4857, 'meeresfrüchten': 4858, 'megafon': 4859, 'megaphon': 4860, 'mehrerer': 4861, 'mehrfarbigem': 4862, 'meine': 4863, 'menschlichen': 4864, 'menü': 4865, 'metallgeländer': 4866, 'metallschüssel': 4867, 'metallstück': 4868, 'mets': 4869, 'mikrophonen': 4870, 'mikroskope': 4871, 'militärangehöriger': 4872, 'militärischer': 4873, 'militärkleidung': 4874, 'minivan': 4875, 'mischung': 4876, 'mittelalterlichen': 4877, 'mittelalterlicher': 4878, 'mittelstreifen': 4879, 'mobile': 4880, 'modisch': 4881, 'modischen': 4882, 'monstertruck': 4883, 'mosaik': 4884, 'moschee': 4885, 'motorisierten': 4886, 'motorradrennfahrer': 4887, 'mountainbikes': 4888, 'muscheln': 4889, 'musikfestival': 4890, 'musikkapelle': 4891, 'musikstück': 4892, 'möbel': 4893, 'mönche': 4894, 'mündern': 4895, 'müssen': 4896, 'mütter': 4897, 'nachbarschaftsladen': 4898, 'nadelstreifenanzug': 4899, 'nagellack': 4900, 'nahost': 4901, 'neoprenanzügen': 4902, 'netzen': 4903, 'neu': 4904, 'neues': 4905, 'niedliches': 4906, 'nintendo': 4907, 'nonne': 4908, 'ny': 4909, 'oberhemden': 4910, 'oberkörpern': 4911, 'obstkarren': 4912, 'offen': 4913, 'offiziere': 4914, 'ohio': 4915, 'ohrring': 4916, 'ollie': 4917, 'operieren': 4918, 'orange-weiß': 4919, 'orange-weißen': 4920, 'oranges': 4921, 'outdoor-veranstaltung': 4922, 'oxford': 4923, 'paddelboot': 4924, 'papiertüte': 4925, 'pappkarton': 4926, 'parallel': 4927, 'parkettboden': 4928, 'parkweg': 4929, 'passant': 4930, 'patientin': 4931, 'per': 4932, 'personal': 4933, 'pfahl': 4934, 'pferderücken': 4935, 'pferds': 4936, 'pflücken': 4937, 'picknickbank': 4938, 'picknickdecke': 4939, 'picknicktischen': 4940, 'pinkfarbenes': 4941, 'pirat': 4942, 'piraten': 4943, 'piñata': 4944, 'planschbecken': 4945, 'plastikrutsche': 4946, 'plastikstuhl': 4947, 'plastiktüten': 4948, 'plattenspieler': 4949, 'platzes': 4950, 'po': 4951, 'polizeibeamte': 4952, 'polospieler': 4953, 'poncho': 4954, 'posen': 4955, 'prahlt': 4956, 'proben': 4957, 'produkten': 4958, 'professioneller': 4959, 'programm': 4960, 'protest': 4961, 'protestkundgebung': 4962, 'prozession': 4963, 'prunkvollen': 4964, 'präsentieren': 4965, 'pulli': 4966, 'puzzle': 4967, 'quadraten': 4968, 'qualmt': 4969, 'r': 4970, 'radsportler': 4971, 'radweg': 4972, 'rampenlicht': 4973, 'rastet': 4974, 'rechen': 4975, 'redend': 4976, 'reflektierender': 4977, 'regenstiefeln': 4978, 'reh': 4979, 'reibt': 4980, 'reiher': 4981, 'reise': 4982, 'reißt': 4983, 'reklame': 4984, 'religiösen': 4985, 'rennautos': 4986, 'rennhunde': 4987, 'rennkleidung': 4988, 'renoviert': 4989, 'reparatur': 4990, 'rest': 4991, 'restauranttisch': 4992, 'retriever': 4993, 'riesiges': 4994, 'rings': 4995, 'ringträger': 4996, 'rockt': 4997, 'rodeo-arena': 4998, 'rohre': 4999, 'rollkoffer': 5000, 'rollkragenpullover': 5001, 'rollschuhen': 5002, 'rosarot': 5003, 'rot-gelber': 5004, 'rot-weißer': 5005, 'rotbraunen': 5006, 'rotweißen': 5007, 'rugby-spieler': 5008, 'rugbyspiel': 5009, 'rummel': 5010, 'rundherum': 5011, 'rötlichen': 5012, 'rückt': 5013, 'rüstung': 5014, 'saft': 5015, 'sagen': 5016, 'saiten': 5017, 'saiteninstrumente': 5018, 'salon': 5019, 'sandale': 5020, 'sanddünen': 5021, 'sandplatz': 5022, 'sandwiches': 5023, 'sattelzug': 5024, 'satz': 5025, 'sauna': 5026, 'schalen': 5027, 'scharfe': 5028, 'schaum': 5029, 'scheiben': 5030, 'scheren': 5031, 'schicken': 5032, 'schickt': 5033, 'schiffes': 5034, 'schildkappe': 5035, 'schindeln': 5036, 'schlachtet': 5037, 'schlammgrube': 5038, 'schlammpfütze': 5039, 'schlauchbooten': 5040, 'schlepper': 5041, 'schleudert': 5042, 'schluck': 5043, 'schlägern': 5044, 'schläuchen': 5045, 'schmerzen': 5046, 'schmutzigem': 5047, 'schnappschuss': 5048, 'schneebedecktem': 5049, 'schneewehe': 5050, 'schottenrock': 5051, 'schrank': 5052, 'schreibtischen': 5053, 'schreitet': 5054, 'schrift': 5055, 'schriftzug': 5056, 'schräg': 5057, 'schubsen': 5058, 'schuhputzer': 5059, 'schulband': 5060, 'schultertasche': 5061, 'schutthaufen': 5062, 'schutzbrillen': 5063, 'schutzweste': 5064, 'schwamm': 5065, 'schwarm': 5066, 'schwarz-gelben': 5067, 'schwarzhaarigen': 5068, 'schwein': 5069, 'schwerem': 5070, 'schwestern': 5071, 'schwimmanzug': 5072, 'schwimmbeckens': 5073, 'schwimmbrillen': 5074, 'schwimmern': 5075, 'schwitzt': 5076, 'schöpft': 5077, 'schützend': 5078, 'seesack': 5079, 'seetang': 5080, 'segeln': 5081, 'seht': 5082, 'seichtes': 5083, 'seilrutsche': 5084, 'seilspielzeug': 5085, 'seitenstraße': 5086, 'seltsamer': 5087, 'senffarbenen': 5088, 'senkrecht': 5089, 'sichtbaren': 5090, 'sieb': 5091, 'silbernes': 5092, 'skaten': 5093, 'skates': 5094, 'skijacke': 5095, 'skiläufer': 5096, 'skistöcken': 5097, 'smokings': 5098, 'sofas': 5099, 'softballspiel': 5100, 'softballspieler': 5101, 'softballspiels': 5102, 'solo': 5103, 'sombrero': 5104, 'sommer': 5105, 'sonnendurchfluteten': 5106, 'sonnenschild': 5107, 'sonnentag': 5108, 'sonnt': 5109, 'spanien': 5110, 'spanische': 5111, 'spazierstöcken': 5112, 'spektakulären': 5113, 'spielautomaten': 5114, 'spielgerät': 5115, 'spielhalle': 5116, 'spielzeugzug': 5117, 'spitz': 5118, 'spitzbart': 5119, 'spitzen': 5120, 'sport-bh': 5121, 'sportbekleidung': 5122, 'sportgeschäft': 5123, 'sporthose': 5124, 'sprintet': 5125, 'spritzwasser': 5126, 'sprungs': 5127, 'sprungtritt': 5128, 'sprungwurf': 5129, 'spuren': 5130, 'spülen': 5131, 'stacheligen': 5132, 'stadtbild': 5133, 'stadtgebiet': 5134, 'stapeln': 5135, 'start': 5136, 'state': 5137, 'staubsaugerschlauch': 5138, 'steaks': 5139, 'steigung': 5140, 'steindenkmal': 5141, 'stemmt': 5142, 'stirnbändern': 5143, 'stoffe': 5144, 'stoffhut': 5145, 'stofftiere': 5146, 'stop': 5147, 'stoppen': 5148, 'stoß': 5149, 'stramm': 5150, 'straßenbahn': 5151, 'straßenkleidung': 5152, 'straßenlampe': 5153, 'straßenlaterne': 5154, 'straßenschild': 5155, 'straßenstand': 5156, 'streut': 5157, 'stricken': 5158, 'strümpfen': 5159, 'sturzhelm': 5160, 'stutzt': 5161, 'stämmige': 5162, 'ständen': 5163, 'stückchen': 5164, 'substanz': 5165, 'summer': 5166, 'sumpfgebiet': 5167, 'sweatshirts': 5168, 'synchron': 5169, 'säcken': 5170, 'säubern': 5171, 'söhne': 5172, 'tabak': 5173, 'tabletts': 5174, 'tackeln': 5175, 'tandem': 5176, 'tank': 5177, 'tanktops': 5178, 'tanzenden': 5179, 'tarnhose': 5180, 'tarnmuster': 5181, 'tastatur': 5182, 'tattoos': 5183, 'tauscht': 5184, 'teamkollegen': 5185, 'teammitglied': 5186, 'teddybären': 5187, 'tennisspiel': 5188, 'teppichboden': 5189, 'teppiche': 5190, 'teppichen': 5191, 'testen': 5192, 'tiefe': 5193, 'tiefes': 5194, 'tiger': 5195, 'to': 5196, 'toilette': 5197, 'tonstudio': 5198, 'torte': 5199, 'torwart': 5200, 'touristengruppe': 5201, 'tragend': 5202, 'transportieren': 5203, 'transportmittel': 5204, 'transportwagen': 5205, 'traurigen': 5206, 'trauriges': 5207, 'trauzeugen': 5208, 'treppenhauses': 5209, 'trikotnummer': 5210, 'trompeter': 5211, 'truppe': 5212, 'trübes': 5213, 'tulpen': 5214, 'tunika': 5215, 'turnschuhe': 5216, 'tutus': 5217, 'twister': 5218, 'täglichen': 5219, 'tätowiert': 5220, 'töpferware': 5221, 'türkis': 5222, 'u-bahn-wagen': 5223, 'u-bahnhof': 5224, 'ukulele': 5225, 'umgedreht': 5226, 'umgekippten': 5227, 'umgibt': 5228, 'unbekannten': 5229, 'unechten': 5230, 'ungewöhnlich': 5231, 'unicef': 5232, 'university': 5233, 'universität': 5234, 'unkraut': 5235, 'unterlagen': 5236, 'unterstützung': 5237, 'unüberdachten': 5238, 'urbanen': 5239, 'us-armee': 5240, 'veranstaltungsort': 5241, 'verheiratete': 5242, 'verkehrsmittel': 5243, 'verkehrsreichen': 5244, 'verletzte': 5245, 'verletzten': 5246, 'verloren': 5247, 'verläuft': 5248, 'vermähltes': 5249, 'verrichtet': 5250, 'verrückter': 5251, 'verschwommen': 5252, 'versenkt': 5253, 'versetzt': 5254, 'verstreut': 5255, 'verteidigt': 5256, 'vervollständigt': 5257, 'verwendung': 5258, 'verzerrtes': 5259, 'vieh': 5260, 'vielzahl': 5261, 'viertel': 5262, 'vogelschwarm': 5263, 'volkswagen': 5264, 'volle': 5265, 'volleyballspielerin': 5266, 'vollständig': 5267, 'voneinander': 5268, 'vorbeilaufen': 5269, 'vordere': 5270, 'vorführen': 5271, 'vorm': 5272, 'vorschlaghammer': 5273, 'vortragssaal': 5274, 'vorübergeht': 5275, 'waage': 5276, 'wache': 5277, 'wade': 5278, 'waldhorn': 5279, 'walkie-talkie': 5280, 'wanderausrüstung': 5281, 'wanderern': 5282, 'wanderin': 5283, 'wanderstöcke': 5284, 'wandtafel': 5285, 'ware': 5286, 'warmer': 5287, 'wartebereich': 5288, 'wartenden': 5289, 'wartungsarbeiten': 5290, 'wartungsarbeiter': 5291, 'wasserball': 5292, 'wasserfalls': 5293, 'wassernähe': 5294, 'wasserpfütze': 5295, 'wasserpistole': 5296, 'wasserpistolen': 5297, 'wasserweg': 5298, 'weht': 5299, 'weiblicher': 5300, 'weicht': 5301, 'weihnachtszeit': 5302, 'weinglas': 5303, 'weise': 5304, 'weite': 5305, 'weiten': 5306, 'weiteres': 5307, 'weizen': 5308, 'weiß-blauen': 5309, 'weiß-grauen': 5310, 'weiß-grünen': 5311, 'weiß-roten': 5312, 'werbeanzeige': 5313, 'werdender': 5314, 'werkzeuggürtel': 5315, 'wildblumen': 5316, 'windsurfer': 5317, 'winterjacken': 5318, 'wissenschaftlichen': 5319, 'wochenmarkt': 5320, 'wohngegend': 5321, 'wohnmobil': 5322, 'wohnwagen': 5323, 'wok': 5324, 'wollen': 5325, 'worauf': 5326, 'wort': 5327, 'wunderkerze': 5328, 'wunderkerzen': 5329, 'wunderschönes': 5330, 'wählen': 5331, 'wäldern': 5332, 'wärmen': 5333, 'wörter': 5334, 'wühlt': 5335, 'würstchen': 5336, 'zahlen': 5337, 'zahlreichen': 5338, 'zahnspange': 5339, 'zeichnungen': 5340, 'zeigefinger': 5341, 'zementmischer': 5342, 'zerren': 5343, 'ziegelstraße': 5344, 'zielen': 5345, 'zombies': 5346, 'zopf': 5347, 'zugabteil': 5348, 'zusammengedrängt': 5349, 'zusammengefunden': 5350, 'zusammenkunft': 5351, 'zweck': 5352, 'zweig': 5353, 'zweige': 5354, 'zweigen': 5355, 'zwickt': 5356, 'ähnlicher': 5357, 'ändert': 5358, 'äpfeln': 5359, 'ärmelloses': 5360, 'ästen': 5361, 'öffentlicher': 5362, 'öffnung': 5363, 'örtlicher': 5364, 'übereinander': 5365, 'übergeben': 5366, 'übergewichtige': 5367, 'übergroßen': 5368, 'übernimmt': 5369, 'überreicht': 5370, 'übers': 5371, 'übersäten': 5372, '”': 5373, '%': 5374, '..': 5375, '1': 5376, '13': 5377, '14': 5378, '2.': 5379, '25.': 5380, '30ern': 5381, '38': 5382, '50': 5383, '63': 5384, '7': 5385, '96.': 5386, '@@': 5387, 'a.': 5388, 'abdeckplane': 5389, 'abdeckung': 5390, 'abendbrottisch': 5391, 'abendlichen': 5392, 'abfahrt': 5393, 'abfall': 5394, 'abfallenden': 5395, 'abflug': 5396, 'abgefeuert': 5397, 'abgelassen': 5398, 'abgeleckt': 5399, 'abgelenkt': 5400, 'abhebt': 5401, 'abhängen': 5402, 'abkühlen': 5403, 'abprallen': 5404, 'absatz': 5405, 'abschluss': 5406, 'absolvieren': 5407, 'absperrungen': 5408, 'abwischt': 5409, 'abzeichen': 5410, 'abzuspielen': 5411, 'achten': 5412, 'acker': 5413, 'ackerland': 5414, 'afrika': 5415, 'afro': 5416, 'afro-amerikanischer': 5417, 'aggressiv': 5418, 'ahornblatt': 5419, 'air': 5420, 'akrobatik': 5421, 'akrobatin': 5422, 'aktiv': 5423, 'aktivitäten': 5424, 'algen': 5425, 'allee': 5426, 'allem': 5427, 'alles': 5428, 'allradfahrzeug': 5429, 'altar': 5430, 'american': 5431, 'amische': 5432, 'amp': 5433, 'angefahren': 5434, 'angehobenen': 5435, 'angehört': 5436, 'angelausflug': 5437, 'angelegt': 5438, 'angeles': 5439, 'angeleuchtet': 5440, 'angeseilt': 5441, 'angestarrt': 5442, 'angestrengt': 5443, 'angreifer': 5444, 'angriff': 5445, 'angst': 5446, 'anguckt': 5447, 'anhören': 5448, 'ankunft': 5449, 'ansichten': 5450, 'anspiel': 5451, 'anstatt': 5452, 'antworten': 5453, 'anzugucken': 5454, 'anzuschauen': 5455, 'anzuzünden': 5456, 'apartment': 5457, 'apotheke': 5458, 'applaudiert': 5459, 'apple': 5460, 'apple-computer': 5461, 'arbeitenden': 5462, 'arbeitender': 5463, 'arbeitsbank': 5464, 'arbeitshandschuhe': 5465, 'arbeitsort': 5466, 'arbeitstag': 5467, 'arbeitswesten': 5468, 'arcade-spiel': 5469, 'architektonischen': 5470, 'archäologen': 5471, 'are': 5472, 'armbanduhr': 5473, 'armbändern': 5474, 'armut': 5475, 'arrangiert': 5476, 'asphaltbelag': 5477, 'astronautenanzug': 5478, 'atmet': 5479, 'attackiert': 5480, 'auditorium': 5481, 'aufbäumenden': 5482, 'aufgehenden': 5483, 'aufgeregtes': 5484, 'aufgesetztem': 5485, 'aufgesetzter': 5486, 'aufgespannt': 5487, 'aufgewühlte': 5488, 'aufklebern': 5489, 'aufsicht': 5490, 'aufsitzmäher': 5491, 'aufstellt': 5492, 'auftragen': 5493, 'aufträgt': 5494, 'aufwirbelt': 5495, 'aufwärts': 5496, 'aufzufallen': 5497, 'aufzuführen': 5498, 'aufzuschlagen': 5499, 'augen-makeup': 5500, 'augenbraue': 5501, 'augenschein': 5502, 'augenschutz': 5503, 'auseinander': 5504, 'ausgefallenem': 5505, 'ausgehen': 5506, 'ausgestreckter': 5507, 'ausgetragen': 5508, 'auspackt': 5509, 'ausrichten': 5510, 'ausruhen': 5511, 'aussteigen': 5512, 'ausstellungsraum': 5513, 'auszeit': 5514, 'auszuprobieren': 5515, 'autodach': 5516, 'autofahrer': 5517, 'autofenster': 5518, 'automaten': 5519, 'autor': 5520, 'außenanlage': 5521, 'außer': 5522, 'backsteinweg': 5523, 'badeshorts': 5524, 'badezeug': 5525, 'badminton': 5526, 'badmintonspieler': 5527, 'bagel-laden': 5528, 'bahnarbeiter': 5529, 'bahngleis': 5530, 'bahnhofs': 5531, 'bahnhofsgebäude': 5532, 'bahnrennen': 5533, 'bahnschienen': 5534, 'bahntunnel': 5535, 'ballerinas': 5536, 'ballettklasse': 5537, 'balletttänzer': 5538, 'balletttänzerinnen': 5539, 'ballonfiguren': 5540, 'ballontier': 5541, 'bande': 5542, 'bandmitglied': 5543, 'banjospieler': 5544, 'barbecue': 5545, 'barkeeperin': 5546, 'baseballcap': 5547, 'baseballhandschuh': 5548, 'baseballstadion': 5549, 'baseballteam': 5550, 'baseballuniform': 5551, 'basketballkorbs': 5552, 'basketballmannschaft': 5553, 'basketballspielerin': 5554, 'bassist': 5555, 'batik-muster': 5556, 'batik-oberteil': 5557, 'batman': 5558, 'batter': 5559, 'bauchtänzerin': 5560, 'bauern': 5561, 'baugerät': 5562, 'baumaschine': 5563, 'baumbestandenen': 5564, 'baumbewachsenen': 5565, 'baumgrenze': 5566, 'baumlosen': 5567, 'baumreichen': 5568, 'baumstamms': 5569, 'bauten': 5570, 'be-': 5571, 'beamter': 5572, 'beanie': 5573, 'bearbeiten': 5574, 'bears': 5575, 'becherglas': 5576, 'bechern': 5577, 'bedecktem': 5578, 'bedruckter': 5579, 'beeindrucken': 5580, 'beeindruckenden': 5581, 'befindliche': 5582, 'befreien': 5583, 'befördern': 5584, 'begeistertes': 5585, 'beginnender': 5586, 'begleitung': 5587, 'behandelt': 5588, 'behinderte': 5589, 'beiderseits': 5590, 'beige': 5591, 'beigebracht': 5592, 'beigefarben': 5593, 'beigem': 5594, 'beil': 5595, 'beinhaltet': 5596, 'beispiel': 5597, 'bekannten': 5598, 'bekannter': 5599, 'bekleideten': 5600, 'bekleidetes': 5601, 'beladenes': 5602, 'belag': 5603, 'belegten': 5604, 'beleuchteter': 5605, 'beleuchtetes': 5606, 'bellt': 5607, 'bemalen': 5608, 'bemaltem': 5609, 'benzin': 5610, 'benötigt': 5611, 'beobachter': 5612, 'bergauf': 5613, 'berggipfeln': 5614, 'bergkette': 5615, 'bergspitze': 5616, 'bergwand': 5617, 'bergwanderweg': 5618, 'bergweg': 5619, 'berieselungsanlage': 5620, 'berittener': 5621, 'berlin': 5622, 'bernsteinfarbener': 5623, 'berät': 5624, 'berühmten': 5625, 'beschließen': 5626, 'beschmierte': 5627, 'beschneidet': 5628, 'beschreibt': 5629, 'beschreibung': 5630, 'beschädigten': 5631, 'beschäftigter': 5632, 'beseitigen': 5633, 'besetztes': 5634, 'besichtigen': 5635, 'besonderen': 5636, 'besonders': 5637, 'besprechung': 5638, 'bespricht': 5639, 'besprüht': 5640, 'besseren': 5641, 'bestaunen': 5642, 'besteck': 5643, 'besten': 5644, 'bestimmte': 5645, 'bestimmten': 5646, 'besucher': 5647, 'besuchern': 5648, 'beteiligen': 5649, 'betonblock': 5650, 'betongebäude': 5651, 'betonierten': 5652, 'betonkonstruktion': 5653, 'betonsperren': 5654, 'betreiben': 5655, 'betrieben': 5656, 'betrunken': 5657, 'bettdecke': 5658, 'betten': 5659, 'bevölkerten': 5660, 'bewachsenen': 5661, 'bewaffneten': 5662, 'bewegungslos': 5663, 'bewirft': 5664, 'beworfen': 5665, 'bewölkter': 5666, 'biene': 5667, 'biergarten': 5668, 'big': 5669, 'bikes': 5670, 'bikinioberteile': 5671, 'bilderbuch': 5672, 'bilds': 5673, 'bill': 5674, 'bin': 5675, 'birthday': 5676, 'bisschen': 5677, 'bissen': 5678, 'blasinstrument': 5679, 'blasinstrumente': 5680, 'blasinstrumenten': 5681, 'blau-gelber': 5682, 'blau-weiße': 5683, 'blau-weißem': 5684, 'blau-weißes': 5685, 'blech': 5686, 'bleistiftrock': 5687, 'blondine': 5688, 'blumengeschäft': 5689, 'blumenladen': 5690, 'blumentöpfe': 5691, 'blutender': 5692, 'blühender': 5693, 'blüte': 5694, 'blütenblätter': 5695, 'boa': 5696, 'boards': 5697, 'bockendes': 5698, 'bodenball': 5699, 'bodennähe': 5700, 'body': 5701, 'bodyboard': 5702, 'bodybuilder': 5703, 'bodysuit': 5704, 'bohnen': 5705, 'bongos': 5706, 'boogie': 5707, 'boogieboard': 5708, 'bootsdeck': 5709, 'bootsfahrern': 5710, 'bordercollie': 5711, 'boss': 5712, 'bottich': 5713, 'boutique': 5714, 'bowlt': 5715, 'box': 5716, 'boxershorts': 5717, 'boxring': 5718, 'boxt': 5719, 'boy': 5720, 'boys': 5721, 'brand': 5722, 'braucht': 5723, 'braun-schwarz-weißer': 5724, 'braun-schwarze': 5725, 'braunschwarzer': 5726, 'brautpaar': 5727, 'brautstrauß': 5728, 'breakdancer': 5729, 'breite': 5730, 'brennen': 5731, 'brennendes': 5732, 'bretter': 5733, 'brezeln': 5734, 'brieftasche': 5735, 'britischen': 5736, 'brokkoli': 5737, 'brotlaib': 5738, 'brotstand': 5739, 'brusttief': 5740, 'brötchen': 5741, 'brüder': 5742, 'brünetter': 5743, 'brüsten': 5744, 'brüstung': 5745, 'buches': 5746, 'buchladen': 5747, 'buckelndes': 5748, 'buckelt': 5749, 'buddeln': 5750, 'bukett': 5751, 'bulldogge': 5752, 'bummelt': 5753, 'buntstiften': 5754, 'burg': 5755, 'burger': 5756, 'burgunderfarbener': 5757, 'burka': 5758, 'busfahrer': 5759, 'busfenster': 5760, 'busse': 5761, 'bussen': 5762, 'button-down-hemd': 5763, 'bäcker': 5764, 'bäckt': 5765, 'bänder': 5766, 'bären': 5767, 'bäuchlings': 5768, 'bögen': 5769, 'büchertasche': 5770, 'bühnenlicht': 5771, 'bühnenmitte': 5772, 'bündeln': 5773, 'bürgerkriegs': 5774, 'bürgerstein': 5775, 'büroarbeit': 5776, 'bürogebäudes': 5777, 'cadillac': 5778, 'campen': 5779, 'camper': 5780, 'campingausrüstung': 5781, 'campingstuhl': 5782, 'campingstühlen': 5783, 'canyon': 5784, 'caprihosen': 5785, 'capris': 5786, 'care': 5787, 'cellospieler': 5788, 'center': 5789, 'champagner': 5790, 'cheerleader-gruppe': 5791, 'cheerleader-outfit': 5792, 'chef': 5793, 'chefkoch': 5794, 'chefs': 5795, 'chevrolet': 5796, 'children': 5797, 'chinese': 5798, 'chinesen': 5799, 'chirurgischen': 5800, 'circus': 5801, 'clear': 5802, 'cocktails': 5803, 'cola': 5804, 'college-studenten': 5805, 'collegestudenten': 5806, 'comicfigur': 5807, 'company': 5808, 'computers': 5809, 'cool': 5810, 'coolen': 5811, 'corgi': 5812, 'cowboy-hut': 5813, 'cowboy-kleidung': 5814, 'cowboyhüte': 5815, 'cowgirl-hut': 5816, 'crew': 5817, 'crocs': 5818, 'cupcakes': 5819, 'dachdecker': 5820, 'dachziegel': 5821, 'damenunterwäsche': 5822, 'danebenstehen': 5823, 'dann': 5824, 'dar': 5825, 'dargestellt': 5826, 'darth': 5827, 'dasteht': 5828, 'davidstern': 5829, 'de': 5830, 'dead': 5831, 'deckeln': 5832, 'deere': 5833, 'deere-traktor': 5834, 'defense': 5835, 'defensive': 5836, 'dehnen': 5837, 'delfin': 5838, 'deli': 5839, 'demselben': 5840, 'denselben': 5841, 'design': 5842, 'desserts': 5843, 'dichten': 5844, 'dickem': 5845, 'dient': 5846, 'dinosaurier': 5847, 'dir': 5848, 'display': 5849, 'diverse': 5850, 'diversen': 5851, 'djs': 5852, 'dogge': 5853, 'dojo': 5854, 'doktor': 5855, 'dominiert': 5856, 'doppeldeckerbus': 5857, 'drache': 5858, 'drachenflieger': 5859, 'dramatisch': 5860, 'drauf': 5861, 'dreckige': 5862, 'drehen': 5863, 'dreifarbiger': 5864, 'dreirädern': 5865, 'driftet': 5866, 'drittes': 5867, 'ds': 5868, 'dummes': 5869, 'dung': 5870, 'dunkelgrüner': 5871, 'dunkle': 5872, 'dunkleren': 5873, 'durchnässt': 5874, 'durchquert': 5875, 'durchschnittlich': 5876, 'durchsichtige': 5877, 'durchsichtigen': 5878, 'durchsuchen': 5879, 'durchtrennt': 5880, 'dösen': 5881, 'döst': 5882, 'dünnes': 5883, 'e': 5884, 'ebenso': 5885, 'ehepaar': 5886, 'eichhörnchen': 5887, 'eien': 5888, 'eiffelturm': 5889, 'eifrig': 5890, 'eilt': 5891, 'ein-': 5892, 'einbruch': 5893, 'eindruck': 5894, 'einfährt': 5895, 'eingebuddelt': 5896, 'eingehüllt': 5897, 'eingelassenen': 5898, 'eingepackt': 5899, 'eingezäunte': 5900, 'einheimische': 5901, 'einheimischen': 5902, 'einhändigen': 5903, 'einkaufskorb': 5904, 'einkaufstüte': 5905, 'einkaufszentrums': 5906, 'einsatzkräfte': 5907, 'einstellt': 5908, 'einzelnen': 5909, 'einzelpersonen': 5910, 'einzusteigen': 5911, 'eisenstange': 5912, 'eisfläche': 5913, 'eisigen': 5914, 'eiskunstläufer': 5915, 'eisläufer': 5916, 'eistee': 5917, 'eiszapfen': 5918, 'ekstatisch': 5919, 'elefant': 5920, 'eleganten': 5921, 'elektrische': 5922, 'elektrogerät': 5923, 'elektronisches': 5924, 'elementary': 5925, 'ellbogen': 5926, 'ellenbogen': 5927, 'elmo-motiv': 5928, 'elmo-puppe': 5929, 'empfang': 5930, 'end': 5931, 'enden': 5932, 'engelskostümen': 5933, 'engelsstatue': 5934, 'englische': 5935, 'entgehen': 5936, 'entleert': 5937, 'entlädt': 5938, 'entscheidung': 5939, 'entschlossen': 5940, 'entsetzt': 5941, 'entsorgt': 5942, 'entwirft': 5943, 'entwirren': 5944, 'erdbeere': 5945, 'erforschen': 5946, 'erfrischenden': 5947, 'erhöht': 5948, 'erhöhte': 5949, 'erinnern': 5950, 'erkennen': 5951, 'erklären': 5952, 'erlangen': 5953, 'erledigt': 5954, 'ernstem': 5955, 'erobern': 5956, 'erregt': 5957, 'errichteten': 5958, 'erschöpft': 5959, 'erstellt': 5960, 'erwachsenes': 5961, 'erzeugt': 5962, 'erörtert': 5963, 'espresso': 5964, 'essenstisch': 5965, 'essenszubereitung': 5966, 'esstischen': 5967, 'ethnischen': 5968, 'ethnischer': 5969, 'etliche': 5970, 'europäischen': 5971, 'europäischer': 5972, 'exponat': 5973, 'express': 5974, 'eyeliner': 5975, 'fachkräfte': 5976, 'faden': 5977, 'fahrbahn': 5978, 'fahrersitz': 5979, 'fahrgast': 5980, 'fahrrad-': 5981, 'fahrradfahren': 5982, 'fahrradhelme': 5983, 'fahrradhelmen': 5984, 'fahrradkleidung': 5985, 'fahrradmechaniker': 5986, 'fahrradrahmen': 5987, 'fahrradständer': 5988, 'fahrradtaxi': 5989, 'fahrradtour': 5990, 'falke': 5991, 'falken': 5992, 'fallschirmsegeln': 5993, 'falsch': 5994, 'falsche': 5995, 'falten': 5996, 'faltet': 5997, 'familien': 5998, 'familienmitglieder': 5999, 'fanghandschuh': 6000, 'farbdose': 6001, 'farbenprächtigen': 6002, 'farbspritzern': 6003, 'farbwalze': 6004, 'farm': 6005, 'farn': 6006, 'fassen': 6007, 'fau': 6008, 'federhut': 6009, 'fee': 6010, 'fehlt': 6011, 'feierlicher': 6012, 'feiertage': 6013, 'feil': 6014, 'felder': 6015, 'feldern': 6016, 'feldhockeyspieler': 6017, 'felsblocks': 6018, 'fensterfront': 6019, 'fensters': 6020, 'ferkel': 6021, 'ferngesteuerten': 6022, 'fersen': 6023, 'fertiggestellten': 6024, 'festgehalten': 6025, 'festgemacht': 6026, 'festlich': 6027, 'festsaal': 6028, 'festumzugs': 6029, 'festzuhalten': 6030, 'fetzen': 6031, 'feuchtgebiet': 6032, 'feuerball': 6033, 'feuerhydranten': 6034, 'feuern': 6035, 'feuers': 6036, 'feuerwehr': 6037, 'feuerwehrangehöriger': 6038, 'feuerwehrhelm': 6039, 'feuerwehrmitarbeiter': 6040, 'feuerwehrschlauch': 6041, 'feuerwerkskörper': 6042, 'filmcrew': 6043, 'filmplakat': 6044, 'fingernägeln': 6045, 'fingerspitzen': 6046, 'fire': 6047, 'fischernetze': 6048, 'fischzug': 6049, 'fitte': 6050, 'flankiert': 6051, 'flattern': 6052, 'flattert': 6053, 'flauschige': 6054, 'fleißig': 6055, 'flickt': 6056, 'fliederfarbenen': 6057, 'fliederfarbener': 6058, 'fliegender': 6059, 'fliegenfischen': 6060, 'fließenden': 6061, 'flucht': 6062, 'flugbegleitung': 6063, 'flugblatt': 6064, 'fluggäste': 6065, 'flussabwärts': 6066, 'flyer': 6067, 'flößen': 6068, 'flüstern': 6069, 'flüstert': 6070, 'fontänen': 6071, 'football-coach': 6072, 'footballs': 6073, 'footballteams': 6074, 'force': 6075, 'formalitäten': 6076, 'formation': 6077, 'formelle': 6078, 'formiert': 6079, 'fort': 6080, 'fotoalbum': 6081, 'fototermin': 6082, 'fotovorlage': 6083, 'foyer': 6084, 'frack': 6085, 'fragen': 6086, 'francisco': 6087, 'frauengruppe': 6088, 'freibad': 6089, 'freie': 6090, 'freies': 6091, 'freiluftbühne': 6092, 'freiwurf': 6093, 'fremde': 6094, 'fremdländischer': 6095, 'frequentierten': 6096, 'fressen': 6097, 'freue': 6098, 'freundesgruppe': 6099, 'freundlich': 6100, 'frisbee-spiel': 6101, 'frisbees': 6102, 'friseurladen': 6103, 'friseurstuhl': 6104, 'frisst': 6105, 'frog': 6106, 'front': 6107, 'frontscheibe': 6108, 'frucht': 6109, 'frühen': 6110, 'frühlingstag': 6111, 'frühstück': 6112, 'fußballer': 6113, 'fußballs': 6114, 'fußballspielern': 6115, 'fußbrücke': 6116, 'fußbälle': 6117, 'fußgängerüberwegs': 6118, 'fußspuren': 6119, 'fäden': 6120, 'fähigkeiten': 6121, 'fässern': 6122, 'fäustlingen': 6123, 'föhn': 6124, 'förderband': 6125, 'förmlich': 6126, 'fügt': 6127, 'führer': 6128, 'fülle': 6129, 'gangs': 6130, 'gap-geschäft': 6131, 'garnelen': 6132, 'gart': 6133, 'gartenarbeit': 6134, 'gasgrill': 6135, 'gast': 6136, 'gastronomiebereich': 6137, 'gebadet': 6138, 'gebeugten': 6139, 'gebeugter': 6140, 'gebiets': 6141, 'gebilde': 6142, 'gebildet': 6143, 'geblieben': 6144, 'gebogen': 6145, 'gebräunte': 6146, 'gebäudekomplex': 6147, 'gebüsch': 6148, 'gedeckt': 6149, 'gedicht': 6150, 'gedreht': 6151, 'geeigneten': 6152, 'gefaltet': 6153, 'gefalteten': 6154, 'gefertigt': 6155, 'gefleckte': 6156, 'gefleckten': 6157, 'geflügel': 6158, 'gefährt': 6159, 'gefälle': 6160, 'gefärbter': 6161, 'gefüllte': 6162, 'gegangen': 6163, 'gegnerin': 6164, 'gegnern': 6165, 'gegners': 6166, 'gehaltenen': 6167, 'gehe': 6168, 'gehege': 6169, 'geheimnisvoller': 6170, 'gehgestell': 6171, 'gehört': 6172, 'geigenspieler': 6173, 'geklettert': 6174, 'geknöpften': 6175, 'gekrönt': 6176, 'gekühlten': 6177, 'gelangweilt': 6178, 'gelassen': 6179, 'gelbbraunem': 6180, 'geländefahrer': 6181, 'geländefahrzeugs': 6182, 'gemauerten': 6183, 'gemessen': 6184, 'gemischte': 6185, 'gemischter': 6186, 'gemustertem': 6187, 'gemähte': 6188, 'gemäldes': 6189, 'gemüseauslage': 6190, 'geneigtem': 6191, 'geneigten': 6192, 'genommen': 6193, 'gepolsterte': 6194, 'gepolsterter': 6195, 'gepäcktasche': 6196, 'gerahmte': 6197, 'gereicht': 6198, 'gerichteten': 6199, 'geringer': 6200, 'geräte': 6201, 'geräts': 6202, 'gescheckter': 6203, 'geschenken': 6204, 'geschenkpapier': 6205, 'geschieht': 6206, 'geschleudert': 6207, 'geschlungen': 6208, 'geschnittenen': 6209, 'geschnitzten': 6210, 'geschäfte': 6211, 'geschäftsviertel': 6212, 'geselligen': 6213, 'gesenkten': 6214, 'gesichtsfarbe': 6215, 'gesprüht': 6216, 'gestalt': 6217, 'getreten': 6218, 'getrocknet': 6219, 'getönten': 6220, 'gewalt': 6221, 'gewebe': 6222, 'gewebten': 6223, 'gewichte': 6224, 'gewundenen': 6225, 'gewürze': 6226, 'gezeichneten': 6227, 'gipfeln': 6228, 'gips': 6229, 'gitarrenkoffer': 6230, 'gitarrespielen': 6231, 'gitarristin': 6232, 'glasbehälter': 6233, 'glasbläser': 6234, 'glasflasche': 6235, 'glasflaschen': 6236, 'glasgebäudes': 6237, 'glasscheibe': 6238, 'glatten': 6239, 'glatzköpfige': 6240, 'glitzernden': 6241, 'glocke': 6242, 'goalie': 6243, 'gokart-fahrer': 6244, 'goldene': 6245, 'goldfarbenes': 6246, 'goldgelbe': 6247, 'goldschmuck': 6248, 'golfen': 6249, 'grabenbagger': 6250, 'grand': 6251, 'grasbahn': 6252, 'grasbedeckten': 6253, 'grasen': 6254, 'grashügel': 6255, 'grass': 6256, 'grasweg': 6257, 'grillrestaurant': 6258, 'grinsender': 6259, 'grob': 6260, 'großartige': 6261, 'großartigen': 6262, 'großeltern': 6263, 'großmarkt': 6264, 'großvater': 6265, 'grundstück': 6266, 'grün-blauem': 6267, 'grün-schwarzen': 6268, 'grün-weiße': 6269, 'grün-weißem': 6270, 'gummiball': 6271, 'gummihammer': 6272, 'gummischuhen': 6273, 'gurtzeug': 6274, 'guter': 6275, 'gänse': 6276, 'gässchen': 6277, 'hab': 6278, 'hacke': 6279, 'hafenbecken': 6280, 'hafenbeckens': 6281, 'halben': 6282, 'halbhohen': 6283, 'halbnackte': 6284, 'halbwüchsiger': 6285, 'hallenlaufbahn': 6286, 'halloween': 6287, 'halsbändern': 6288, 'halstüchern': 6289, 'haltegurt': 6290, 'handarbeit': 6291, 'handbewegung': 6292, 'handgemachten': 6293, 'handmixer': 6294, 'handtrommel': 6295, 'handtücher': 6296, 'hantiert': 6297, 'harlem': 6298, 'hartholzboden': 6299, 'hasen': 6300, 'hasenkostüm': 6301, 'hasenohren': 6302, 'haube': 6303, 'hausparty': 6304, 'haustür': 6305, 'hawaiianischer': 6306, 'hawaiihemd': 6307, 'head': 6308, 'hebebühne': 6309, 'hebevorrichtung': 6310, 'heck': 6311, 'hecken': 6312, 'heckklappe': 6313, 'heels': 6314, 'heimatlandes': 6315, 'heimischen': 6316, 'heimweg': 6317, 'heiße': 6318, 'heißes': 6319, 'helikopter': 6320, 'hellblaues': 6321, 'helles': 6322, 'hellgrauen': 6323, 'hellgrüner': 6324, 'hellhäutig': 6325, 'hellhäutiges': 6326, 'hellorangefarbenen': 6327, 'hellrosafarbenen': 6328, 'hellrotem': 6329, 'hellrotes': 6330, 'herabgelassen': 6331, 'herabhängenden': 6332, 'herannahenden': 6333, 'heranrollenden': 6334, 'herausgestreckter': 6335, 'herausholt': 6336, 'herbstlaub': 6337, 'herbstlichen': 6338, 'here': 6339, 'hereinbrechenden': 6340, 'hergeht': 6341, 'hergestellt': 6342, 'herrlich': 6343, 'herrscht': 6344, 'herstellung': 6345, 'herumlaufen': 6346, 'herumläuft': 6347, 'heruntergefallen': 6348, 'heruntergefallenen': 6349, 'heruntergelassen': 6350, 'herunterkommt': 6351, 'herzförmigen': 6352, 'herzschlag': 6353, 'herzustellen': 6354, 'heuballen': 6355, 'high-five': 6356, 'highschool-basketballspieler': 6357, 'hinaufgehen': 6358, 'hindern': 6359, 'hindernispfad': 6360, 'hingefallen': 6361, 'hinterlässt': 6362, 'hinuntergehen': 6363, 'hinunterrutscht': 6364, 'hippie': 6365, 'hirtenhund': 6366, 'hispanisch': 6367, 'historische': 6368, 'hitze': 6369, 'hochdruckreiniger': 6370, 'hochgehalten': 6371, 'hochgeschobener': 6372, 'hochklettern': 6373, 'hochkommt': 6374, 'hochsteigt': 6375, 'hochzeitsfoto': 6376, 'hochzeitsfotos': 6377, 'hochzeitskuchen': 6378, 'hockern': 6379, 'hockey-goalie': 6380, 'hockeyfeld': 6381, 'hockeyschläger': 6382, 'hockeyschlägern': 6383, 'hockeyspielern': 6384, 'hockeytorhüter': 6385, 'holzbalken': 6386, 'holzblöcke': 6387, 'holzbrücke': 6388, 'holzdeck': 6389, 'holzfußboden': 6390, 'holzfäller': 6391, 'holzgeländer': 6392, 'holzhaus': 6393, 'holzhütte': 6394, 'holzkiste': 6395, 'holzkisten': 6396, 'holzklötzen': 6397, 'holzkreuz': 6398, 'holzleiter': 6399, 'holzmöbeln': 6400, 'holzpfosten': 6401, 'holzstamm': 6402, 'holzsteg': 6403, 'holzstruktur': 6404, 'holzstäbe': 6405, 'holzstück': 6406, 'holzstücken': 6407, 'holztreppe': 6408, 'holzveranda': 6409, 'holzwand': 6410, 'hoop': 6411, 'hoops': 6412, 'hopper': 6413, 'hornspieler': 6414, 'hosentasche': 6415, 'hosentaschen': 6416, 'hugs': 6417, 'hunderennbahn': 6418, 'hundeschlitten': 6419, 'hunds': 6420, 'hunt': 6421, 'händlern': 6422, 'hängende': 6423, 'hüften': 6424, 'hügeln': 6425, 'hügels': 6426, 'hühner': 6427, 'hündin': 6428, 'hütchen': 6429, 'hütet': 6430, 'hütten': 6431, 'ice': 6432, 'iglu': 6433, 'imbiss': 6434, 'imbissbude': 6435, 'imbisswagen': 6436, 'immer': 6437, 'inderinnen': 6438, 'indianischen': 6439, 'informell': 6440, 'informellen': 6441, 'inline-skater': 6442, 'inline-skates': 6443, 'innenräumen': 6444, 'innenstadtbereich': 6445, 'insassen': 6446, 'insekt': 6447, 'insekten': 6448, 'interessant': 6449, 'interviewen': 6450, 'iowa': 6451, 'ipad': 6452, 'irgendeinen': 6453, 'irgendeines': 6454, 'irgendwelche': 6455, 'irgendwohin': 6456, 'irokesenhaarschnitt': 6457, 'italien': 6458, 'jahr': 6459, 'jalousien': 6460, 'james': 6461, 'japanerinnen': 6462, 'japanische': 6463, 'japanisches': 6464, 'jeans-shorts': 6465, 'jeansanzug': 6466, 'jede': 6467, 'jeden': 6468, 'jerseys': 6469, 'jerusalem': 6470, 'jim': 6471, 'joe': 6472, 'jongleur': 6473, 'jump': 6474, 'jungenmannschaft': 6475, 'jury': 6476, 'juweliergeschäft': 6477, 'jüdische': 6478, 'jüdischen': 6479, 'jüdischer': 6480, 'kabinen': 6481, 'kaffeehaus': 6482, 'kahlem': 6483, 'kahlrasiertem': 6484, 'kais': 6485, 'kalifornien': 6486, 'kaltem': 6487, 'kameracrew': 6488, 'kameraobjektiv': 6489, 'kampfanzügen': 6490, 'kampfsportturnier': 6491, 'kampfsportveranstaltung': 6492, 'kanals': 6493, 'kanne': 6494, 'kaputter': 6495, 'karate-klasse': 6496, 'karatekampf': 6497, 'karateturnier': 6498, 'karge': 6499, 'kartoffelchip': 6500, 'kasino': 6501, 'kastanienbraunes': 6502, 'katzenbabies': 6503, 'katzenbaby': 6504, 'kauen': 6505, 'kawasaki': 6506, 'kegelförmigen': 6507, 'kegelhut': 6508, 'keks': 6509, 'kennzeichnet': 6510, 'kennzeichnung': 6511, 'kettenkarussell': 6512, 'khaki-hosen': 6513, 'kieselsteine': 6514, 'kieshügel': 6515, 'kiesstrand': 6516, 'kimono': 6517, 'kinderbett': 6518, 'kinderbuch': 6519, 'kinderschaukel': 6520, 'kindertisch': 6521, 'king': 6522, 'kiosk': 6523, 'kippt': 6524, 'kirchenchor': 6525, 'kirmesattraktion': 6526, 'kissenschlacht': 6527, 'kitchenaid': 6528, 'kitesurfer': 6529, 'kitteln': 6530, 'kitzelt': 6531, 'klare': 6532, 'klassischen': 6533, 'kleidungsstück': 6534, 'kleinbusses': 6535, 'kleinkinds': 6536, 'kliff': 6537, 'klimpert': 6538, 'klippen': 6539, 'klub': 6540, 'klötze': 6541, 'knapp': 6542, 'knielangen': 6543, 'kniender': 6544, 'kniestrümpfe': 6545, 'knietief': 6546, 'knietiefes': 6547, 'knipst': 6548, 'knöpfe': 6549, 'kochjacke': 6550, 'kochmütze': 6551, 'kochtopf': 6552, 'koffern': 6553, 'kombis': 6554, 'komisch': 6555, 'komischer': 6556, 'komisches': 6557, 'kommunikationsgerät': 6558, 'kongress': 6559, 'konserven': 6560, 'konzertaufführung': 6561, 'kopf-an-kopf-rennen': 6562, 'kopfstand': 6563, 'kopie': 6564, 'korbs': 6565, 'koreanische': 6566, 'korken': 6567, 'korpulentes': 6568, 'kosten': 6569, 'kostenlose': 6570, 'kostümierter': 6571, 'krankenhauskleidung': 6572, 'krankenpfleger': 6573, 'kreativ': 6574, 'kreischt': 6575, 'kreuzen': 6576, 'krieg': 6577, 'kristallklaren': 6578, 'kräftige': 6579, 'krügen': 6580, 'kugelbad': 6581, 'kultur': 6582, 'kulturellen': 6583, 'kundgebung': 6584, 'kunstartikeln': 6585, 'kunsthandwerk': 6586, 'kunstprojekt': 6587, 'kunststoffbehälter': 6588, 'kunststofffolie': 6589, 'kunststofftasse': 6590, 'kunstvoll': 6591, 'kurven': 6592, 'kurzes': 6593, 'kätzchen': 6594, 'könnte': 6595, 'küchenmaschine': 6596, 'küchenutensilien': 6597, 'kühe': 6598, 'kühlbox': 6599, 'kühlboxen': 6600, 'kühlen': 6601, 'künstlerische': 6602, 'künstlerischen': 6603, 'künstlichem': 6604, 'kürbissen': 6605, 'kürzlich': 6606, 'küstenwache': 6607, 'laborant': 6608, 'laborkitteln': 6609, 'labradoodle': 6610, 'lachenden': 6611, 'lachsfarbenen': 6612, 'lacrosse-spieler': 6613, 'lacrossespieler': 6614, 'ladenfenster': 6615, 'ladengeschäft': 6616, 'lagerhalle': 6617, 'lagerraum': 6618, 'laken': 6619, 'lakers': 6620, 'lametta': 6621, 'landungssteg': 6622, 'landwirt': 6623, 'landwirtschaftlichen': 6624, 'lang': 6625, 'langgeht': 6626, 'langhaarigen': 6627, 'langlauf': 6628, 'langärmeligem': 6629, 'langärmligem': 6630, 'las': 6631, 'lateinamerikaner': 6632, 'lateinamerikanischen': 6633, 'laternenpfahl': 6634, 'latexhandschuhen': 6635, 'lattenzaun': 6636, 'latzhose': 6637, 'latzhosen': 6638, 'laubwerk': 6639, 'laufenden': 6640, 'laufgitter': 6641, 'laufhosen': 6642, 'laufkleidung': 6643, 'laufoberteil': 6644, 'laufschuhen': 6645, 'laufstrecke': 6646, 'lauscht': 6647, 'laut': 6648, 'lautsprechern': 6649, 'le': 6650, 'leadsänger': 6651, 'lebendigen': 6652, 'lebens': 6653, 'lebensmittelbereich': 6654, 'lebensmittelladen': 6655, 'lebhafte': 6656, 'lebron': 6657, 'leckerbissen': 6658, 'leckeren': 6659, 'lederoberteil': 6660, 'lederschuhe': 6661, 'lederstühlen': 6662, 'lederweste': 6663, 'leeres': 6664, 'leerstehenden': 6665, 'lehnstuhl': 6666, 'leht': 6667, 'leitplanken': 6668, 'leitung': 6669, 'leitungen': 6670, 'lenken': 6671, 'lesenden': 6672, 'leuchtendem': 6673, 'leuchtender': 6674, 'leuchtreklame': 6675, 'leuchtturm': 6676, 'lichts': 6677, 'lichtung': 6678, 'lieben': 6679, 'liefern': 6680, 'life': 6681, 'lift': 6682, 'liga': 6683, 'lilafarbenem': 6684, 'lilane': 6685, 'limo': 6686, 'limonaden': 6687, 'lineal': 6688, 'linkes': 6689, 'linkshändiger': 6690, 'linse': 6691, 'linsen': 6692, 'livekonzert': 6693, 'lohfarbenen': 6694, 'lokomotive': 6695, 'lokomotiven': 6696, 'lolli': 6697, 'londoner': 6698, 'louvre': 6699, 'luftballontiere': 6700, 'luftmatratzen': 6701, 'lungern': 6702, 'lungert': 6703, 'lustiges': 6704, 'lutscher': 6705, 'lutscht': 6706, 'ländliche': 6707, 'ländlicher': 6708, 'längsstreifen': 6709, 'lässig': 6710, 'lätzchen': 6711, 'löffeln': 6712, 'löwenzahnblüte': 6713, 'lümmelt': 6714, 'm': 6715, 'mac-computer': 6716, 'mach': 6717, 'magazin': 6718, 'mahl': 6719, 'mahlzeiten': 6720, 'majestätischen': 6721, 'makeup': 6722, 'malerischen': 6723, 'mammutbaum': 6724, 'mandel': 6725, 'mannequin': 6726, 'manns': 6727, 'marathonläufern': 6728, 'marathons': 6729, 'marineblau': 6730, 'marineblauer': 6731, 'marker': 6732, 'markierung': 6733, 'marmor': 6734, 'maschendraht': 6735, 'maskierter': 6736, 'maskottchen': 6737, 'masse': 6738, 'massiert': 6739, 'matador': 6740, 'matrosen': 6741, 'matrosenanzug': 6742, \"mcdonald's\": 6743, 'medaillen': 6744, 'meeresfrüchte': 6745, 'meeresstrand': 6746, 'meereswellen': 6747, 'mehrfamilienhaus': 6748, 'mehrfarbiger': 6749, 'meist': 6750, 'meißel': 6751, 'menschenleeren': 6752, 'menschenmassen': 6753, 'menschliche': 6754, 'metallabsperrung': 6755, 'metallarbeiter': 6756, 'metallbank': 6757, 'metallbauwerk': 6758, 'metalldach': 6759, 'metallenen': 6760, 'metallgebilde': 6761, 'metallgerüst': 6762, 'metallkiste': 6763, 'metallpfosten': 6764, 'metallrahmen': 6765, 'metallrohr': 6766, 'metallskulptur': 6767, 'metallstruktur': 6768, 'metallstuhl': 6769, 'metalltor': 6770, 'metzger': 6771, 'metzgerei': 6772, 'mexiko': 6773, 'michael': 6774, 'michigan': 6775, 'miene': 6776, 'mike': 6777, 'mikroskopen': 6778, 'militärhosen': 6779, 'militärischen': 6780, 'minirock': 6781, 'minnesota': 6782, 'mir': 6783, 'mischen': 6784, 'mitfahrgelegenheit': 6785, 'mitgliedern': 6786, 'mittelgroße': 6787, 'mittelpunkt': 6788, 'mittlerem': 6789, 'mixer': 6790, 'modelleisenbahn': 6791, 'modelliert': 6792, 'moderner': 6793, 'modernes': 6794, 'modische': 6795, 'modischer': 6796, 'mohikaner': 6797, 'mole': 6798, 'molliges': 6799, 'monopoly-spiel': 6800, 'monument': 6801, 'moosbedeckten': 6802, 'morgenrock': 6803, 'motiv': 6804, 'motorradfahren': 6805, 'motorradfahrerin': 6806, 'motorradhelm': 6807, 'motorradhelme': 6808, 'motorrads': 6809, 'motorschlitten': 6810, 'mountainbike-fahrer': 6811, 'muffins': 6812, 'musikalische': 6813, 'musikausrüstung': 6814, 'musikerin': 6815, 'musiziert': 6816, 'muskeln': 6817, 'muslimische': 6818, 'muslimischer': 6819, 'mustang': 6820, 'mädchengruppe': 6821, 'mädchenmannschaften': 6822, 'männe': 6823, 'männerteam': 6824, 'möbelgeschäft': 6825, 'möglich': 6826, 'müllhaufen': 6827, 'mülltonnen': 6828, 'münzfernsprecher': 6829, 'münztelefon': 6830, 'mürrisch': 6831, 'nachbarn': 6832, 'nachdenken': 6833, 'nachdenklich': 6834, 'nachgehen': 6835, 'nachhauseweg': 6836, 'nachricht': 6837, 'nachrichtensprecher': 6838, 'nacken': 6839, 'nadelstreifenhemd': 6840, 'nagelpistole': 6841, 'nahrung': 6842, 'nahöstlicher': 6843, 'namensschildern': 6844, 'nassgespritzt': 6845, 'naturpfad': 6846, 'naturprodukten': 6847, 'needle': 6848, 'neonfarbenen': 6849, 'neongelben': 6850, 'neongrün': 6851, 'netzstrümpfen': 6852, 'neugeborene': 6853, 'neugeborenen': 6854, 'neugieriges': 6855, 'new-york-hut': 6856, 'niedrig': 6857, 'niemand': 6858, 'nische': 6859, 'no': 6860, 'nonnentracht': 6861, 'normaler': 6862, 'not': 6863, 'notebook': 6864, 'notebooks': 6865, 'notenblatt': 6866, 'notenblättern': 6867, 'notiz': 6868, 'notre': 6869, 'nuckelt': 6870, 'nächstes': 6871, 'nächtliche': 6872, 'nächtliches': 6873, 'nägel': 6874, 'oakland': 6875, 'obama': 6876, 'oberleitungsfahrzeug': 6877, 'objektiv': 6878, 'ohrenschützern': 6879, 'ohrhörer': 6880, 'ohrringen': 6881, 'ohrschützern': 6882, 'ohrstöpseln': 6883, 'olympische': 6884, 'open-air-festival': 6885, 'open-air-konzert': 6886, 'operiert': 6887, 'opfer': 6888, 'orange-blauen': 6889, 'orange-grauen': 6890, 'orangefarben': 6891, 'orchesters': 6892, 'ordner': 6893, 'organgefarbenen': 6894, 'organisieren': 6895, 'orgel': 6896, 'orioles': 6897, 'orten': 6898, 'out': 6899, 'outdoor-bekleidung': 6900, 'pabst': 6901, 'pain': 6902, 'paintball': 6903, 'pakete': 6904, 'palmwedeln': 6905, 'papagei': 6906, 'papierhut': 6907, 'papierteller': 6908, 'pappschachtel': 6909, 'pappteller': 6910, 'paris': 6911, 'parka': 6912, 'parkgarage': 6913, 'parkuhr': 6914, 'part': 6915, 'partner': 6916, 'partnerin': 6917, 'passagier': 6918, 'passende': 6919, 'passendem': 6920, 'passender': 6921, 'passieren': 6922, 'pastellfarbenen': 6923, 'patient': 6924, 'patriotischen': 6925, 'patrouilliert': 6926, 'pavillon': 6927, 'pedal': 6928, 'pedale': 6929, 'pelikan': 6930, 'pelzigen': 6931, 'penn': 6932, 'penske': 6933, 'perle': 6934, 'personenzug': 6935, 'perücken': 6936, 'pfadfindern': 6937, 'pfannkuchen': 6938, 'pfarrer': 6939, 'pfau': 6940, 'pfauenkostüm': 6941, 'pfeiler': 6942, 'pferch': 6943, 'pferdefuhrwerk': 6944, 'pferdeschwänzen': 6945, 'pferdewagen': 6946, 'pfirsichfarbenen': 6947, 'pflügen': 6948, 'pfote': 6949, 'pianist': 6950, 'piano': 6951, 'pickup-truck': 6952, 'piercings': 6953, 'pilz': 6954, 'pinguine': 6955, 'pinien': 6956, 'pink-weißem': 6957, 'pitbull': 6958, 'plakate': 6959, 'plastikbecher': 6960, 'plastikeimer': 6961, 'plastikflasche': 6962, 'plastikflaschen': 6963, 'plastikwanne': 6964, 'plattenladen': 6965, 'platzt': 6966, 'plaudern': 6967, 'plüschtieren': 6968, 'polizeiauto': 6969, 'polizeibeamter': 6970, 'polizeifahrzeug': 6971, 'polizeiuniform': 6972, 'polo-hemd': 6973, 'ponchos': 6974, 'pools': 6975, 'porträts': 6976, 'postkarten': 6977, 'postmitarbeiter': 6978, 'power': 6979, 'powerpoint-präsentation': 6980, 'praktizieren': 6981, 'prallen': 6982, 'preise': 6983, 'preisrichter': 6984, 'presse': 6985, 'presslufthammer': 6986, 'presst': 6987, 'pritschenwagen': 6988, 'pro': 6989, 'probe': 6990, 'problem': 6991, 'professionell': 6992, 'projektorleinwand': 6993, 'protestierende': 6994, 'prächtig': 6995, 'prächtige': 6996, 'prächtigen': 6997, 'pucks': 6998, 'puderzucker': 6999, 'pulk': 7000, 'pullovers': 7001, 'pulver': 7002, 'punkte': 7003, 'purpurroten': 7004, 'pusten': 7005, 'päckchen': 7006, 'quadbike': 7007, 'quadratischen': 7008, 'querflöte': 7009, 'rampen': 7010, 'rasch': 7011, 'rasenplatz': 7012, 'rasiercreme': 7013, 'rasierer': 7014, 'rasiermesser': 7015, 'rasiertem': 7016, 'rasseln': 7017, 'rasten': 7018, 'rasterlocken': 7019, 'rauchwolke': 7020, 'rauen': 7021, 'rausgeworfen': 7022, 'reagiert': 7023, 'reaktion': 7024, 'rechteckigen': 7025, 'reckt': 7026, 'regenbogenfarbenen': 7027, 'regenbogenfarbigen': 7028, 'regenjacke': 7029, 'regenkleidung': 7030, 'regennassen': 7031, 'regierung': 7032, 'reifenspur': 7033, 'reiht': 7034, 'reiseführer': 7035, 'reisfeld': 7036, 'reishut': 7037, 'reitwettbewerb': 7038, 'reißen': 7039, 'reißverschluss': 7040, 'renaissance-fest': 7041, 'rennausrüstung': 7042, 'rennenden': 7043, 'rennhund': 7044, 'rennmotorrad': 7045, 'rentier': 7046, 'reporter': 7047, 'reportern': 7048, 'requisiten': 7049, 'restaurantmitarbeiter': 7050, 'rettet': 7051, 'rettungshelfer': 7052, 'rettungskraft': 7053, 'ribbon': 7054, 'richtern': 7055, 'riecht': 7056, 'rinder': 7057, 'ringe': 7058, 'ringsum': 7059, 'risiko': 7060, 'riss': 7061, 'ritter': 7062, 'rittlings': 7063, 'ritualtanz': 7064, 'rocker': 7065, 'rockkonzert': 7066, 'rocks': 7067, 'rod': 7068, 'rodeln': 7069, 'rodelt': 7070, 'rodeo-clown': 7071, 'rodeoarena': 7072, 'rodgers': 7073, 'roller-derby': 7074, 'rollerblader': 7075, 'rollschuhbahn': 7076, 'rolltreppen': 7077, 'rollwagen': 7078, 'rosa-grünen': 7079, 'rosaroter': 7080, 'rot-gelben': 7081, 'rot-gestreiften': 7082, 'rot-goldenen': 7083, 'rot-grünen': 7084, 'rot-weiß-blauem': 7085, 'rudermannschaft': 7086, 'rugby-spiel': 7087, 'rummelplatz': 7088, 'rund': 7089, 'runzelt': 7090, 'räder': 7091, 'röcke': 7092, 'rötlichem': 7093, 'rückbank': 7094, 'rüschen': 7095, 's': 7096, 'saiteninstrumenten': 7097, 'samen': 7098, 'san': 7099, 'sandkasten': 7100, 'sandsack': 7101, 'sandsturm': 7102, 'sanft': 7103, 'sanitäter': 7104, 'sauberen': 7105, 'sausen': 7106, 'saxofonspieler': 7107, 'saxophone': 7108, 'saxophonisten': 7109, 'schachbrett': 7110, 'schafft': 7111, 'schar': 7112, 'schaufensterauslage': 7113, 'schaufensterbummel': 7114, 'schaukelgestell': 7115, 'schaukelpferd': 7116, 'schaulustigen': 7117, 'schaulustiger': 7118, 'scheffel': 7119, 'scheitelpunkt': 7120, 'schert': 7121, 'scheucht': 7122, 'scheune': 7123, 'schichten': 7124, 'schick': 7125, 'schießplatz': 7126, 'schießstand': 7127, 'schilden': 7128, 'schilds': 7129, 'schirmchen': 7130, 'schirme': 7131, 'schirmt': 7132, 'schlafanzügen': 7133, 'schlafsäcken': 7134, 'schlagmanns': 7135, 'schlammigem': 7136, 'schlammiges': 7137, 'schlangen': 7138, 'schlapphut': 7139, 'schlechtem': 7140, 'schlechten': 7141, 'schleifmaschine': 7142, 'schleppe': 7143, 'schleuder': 7144, 'schlips': 7145, 'schlittenhunde': 7146, 'schlittert': 7147, 'schlittschuhe': 7148, 'schluckt': 7149, 'schmale': 7150, 'schmetterlinge': 7151, 'schmiert': 7152, 'schnabel': 7153, 'schneeanzügen': 7154, 'schneeausrüstung': 7155, 'schneeballschlacht': 7156, 'schneebrille': 7157, 'schneejacke': 7158, 'schneelandschaft': 7159, 'schnees': 7160, 'schneeschaufel': 7161, 'schneeschuh': 7162, 'schneesturm': 7163, 'schneidbrett': 7164, 'schneiderin': 7165, 'schneidersitz': 7166, 'schnellboot': 7167, 'schnellimbiss': 7168, 'schnurrbärten': 7169, 'schnurrbärtiger': 7170, 'schnüffeln': 7171, 'schnüren': 7172, 'schnürsenkel': 7173, 'schokolade': 7174, 'schottenröcken': 7175, 'schotter': 7176, 'schottische': 7177, 'schottischer': 7178, 'schraubendreher': 7179, 'schraubenschlüssel': 7180, 'schraubenzieher': 7181, 'schreibend': 7182, 'schreienden': 7183, 'schriftzeichen': 7184, 'schritten': 7185, 'schroffen': 7186, 'schrägen': 7187, 'schubkarren': 7188, 'schubst': 7189, 'schuhputzstand': 7190, 'schulalter': 7191, 'schulen': 7192, 'schuljungen': 7193, 'schulkantine': 7194, 'schulkindern': 7195, 'schulklasse': 7196, 'schuluniform': 7197, 'schuppen': 7198, 'schutzanzug': 7199, 'schutzhelme': 7200, 'schwarz-blaues': 7201, 'schwarz-orangefarbenen': 7202, 'schwarz-rot': 7203, 'schwarz-rotes': 7204, 'schwarzhaariges': 7205, 'schwarzweiß': 7206, 'schweinefleisch': 7207, 'schweißer': 7208, 'schwelle': 7209, 'schwerarbeiter': 7210, 'schwimmbekleidung': 7211, 'schwimmende': 7212, 'schwimmflügel': 7213, 'schwimmhalle': 7214, 'schwimmhilfen': 7215, 'schwimmkleidung': 7216, 'schwimmring': 7217, 'schwimmwettkampf': 7218, 'schwingenden': 7219, 'schwitzender': 7220, 'schwäne': 7221, 'schäbig': 7222, 'schäferhunde': 7223, 'schärpe': 7224, 'schön': 7225, 'schönheit': 7226, 'schülerinnen': 7227, 'schürt': 7228, 'schütter': 7229, 'seahawks': 7230, 'sechsköpfige': 7231, 'segel': 7232, 'segway': 7233, 'sehe': 7234, 'seifenwasser': 7235, 'seilbahn': 7236, 'seils': 7237, 'selbstgebastelten': 7238, 'selbstgebauten': 7239, 'seminar': 7240, 'sendet': 7241, 'senkrechte': 7242, 'sense': 7243, 'series': 7244, 'serviette': 7245, 'sessellift': 7246, 'set': 7247, 'shampoo': 7248, 'short': 7249, 'sichert': 7250, 'sicherungsseilen': 7251, 'sichtbare': 7252, 'side': 7253, 'signiert': 7254, 'silberfarbene': 7255, 'silbernem': 7256, 'silhouetten': 7257, 'singend': 7258, 'situation': 7259, 'sitzbank': 7260, 'sitze': 7261, 'sitzung': 7262, 'skateboard-kunststück': 7263, 'skateboard-stunt': 7264, 'skateboardanlage': 7265, 'skateboardfahren': 7266, 'skateranlage': 7267, 'skaterbahn': 7268, 'skaterpark': 7269, 'sketch': 7270, 'skianzug': 7271, 'skibrille': 7272, 'skifahrerin': 7273, 'skimboarden': 7274, 'snap': 7275, 'snowboards': 7276, 'socke': 7277, 'sockenhaltern': 7278, 'soda': 7279, 'softdrink': 7280, 'sogar': 7281, 'soldatinnen': 7282, 'sommerkleider': 7283, 'sommerkleidung': 7284, 'song': 7285, 'sonnebrille': 7286, 'sonnenanbetern': 7287, 'sonnenaufgang': 7288, 'sonnenbad': 7289, 'sonnenhüten': 7290, 'sonnenschirme': 7291, 'sonnenuntergangs': 7292, 'sonniger': 7293, 'sorgt': 7294, 'south': 7295, 'soße': 7296, 'space': 7297, 'spachtel': 7298, 'spanischen': 7299, 'spannen': 7300, 'spare': 7301, 'sparring': 7302, 'speedo-badehose': 7303, 'speerwurf': 7304, 'speiseraum': 7305, 'speist': 7306, 'speit': 7307, 'spiderman': 7308, 'spiegelungen': 7309, 'spiele': 7310, 'spielender': 7311, 'spielerischen': 7312, 'spielgeräten': 7313, 'spielhaus': 7314, 'spielkarten': 7315, 'spielkonsole': 7316, 'spielmannszugs': 7317, 'spieltunnel': 7318, 'spielzeug-basketballkorb': 7319, 'spielzeug-rasenmäher': 7320, 'spielzeugeisenbahn': 7321, 'spielzeugfahrrad': 7322, 'spielzeuggitarre': 7323, 'spielzeughammer': 7324, 'spielzeughaus': 7325, 'spielzeuglaster': 7326, 'spielzeuglastwagen': 7327, 'spielzeugrutsche': 7328, 'spielzeugs': 7329, 'spielzeugtraktor': 7330, 'spießen': 7331, 'spinnen': 7332, 'spinnkurs': 7333, 'spinnt': 7334, 'spirituosengeschäft': 7335, 'sportfans': 7336, 'sportfeld': 7337, 'sportgerät': 7338, 'sporthallenboden': 7339, 'sportjacke': 7340, 'sportstudio': 7341, 'sportteam': 7342, 'spreizt': 7343, 'sprinkleranlage': 7344, 'spruchbänder': 7345, 'sprühdosen': 7346, 'sprüngen': 7347, 'spur': 7348, 'spät': 7349, 'später': 7350, 'stadions': 7351, 'stadtarbeiter': 7352, 'stadtbrunnen': 7353, 'stadtbus': 7354, 'stadtgebäude': 7355, 'stadtlandschaft': 7356, 'stadtplan': 7357, 'stadtteil': 7358, 'stahl': 7359, 'stahlbalken': 7360, 'stammes': 7361, 'standbild': 7362, 'star': 7363, 'starker': 7364, 'startbereit': 7365, 'starten': 7366, 'startet': 7367, 'state-teams': 7368, 'stattfindenden': 7369, 'stattfindet': 7370, 'statur': 7371, 'steigenden': 7372, 'steiger': 7373, 'steinboden': 7374, 'steinbrücke': 7375, 'steinhaufen': 7376, 'steiniges': 7377, 'steinoberfläche': 7378, 'steinstraße': 7379, 'steinstruktur': 7380, 'steinsäulen': 7381, 'steinweg': 7382, 'steppdecke': 7383, 'sternen': 7384, 'stethoskop': 7385, 'stets': 7386, 'steuer': 7387, 'steuern': 7388, 'sticht': 7389, 'stiert': 7390, 'stiften': 7391, 'stilles': 7392, 'stillt': 7393, 'stirnlampe': 7394, 'stocks': 7395, 'stoffen': 7396, 'stofftieren': 7397, 'stoppschild': 7398, 'stoppt': 7399, 'story': 7400, 'strahlendem': 7401, 'strahlt': 7402, 'strandbuggy': 7403, 'strandkleid': 7404, 'strandspaziergang': 7405, 'straßenansicht': 7406, 'straßengeschäft': 7407, 'straßenhändlers': 7408, 'straßenkreuzung': 7409, 'straßenkünstlern': 7410, 'straßenlaternen': 7411, 'straßenlauf': 7412, 'straßenmarathon': 7413, 'straßenmusik': 7414, 'straßenmusikanten': 7415, 'streicher': 7416, 'streichorchester': 7417, 'streikschildern': 7418, 'streitet': 7419, 'streitkräfte': 7420, 'stretching': 7421, 'striegelt': 7422, 'stromleitungen': 7423, 'strommasten': 7424, 'strumpfhosen': 7425, 'struppiger': 7426, 'sträuchern': 7427, 'strömenden': 7428, 'studentenwohnheim': 7429, 'stuhlreihen': 7430, 'stunde': 7431, 'sturm': 7432, 'sturzflug': 7433, 'stäbe': 7434, 'stämmiger': 7435, 'stände': 7436, 'stängel': 7437, 'stöckelschuhen': 7438, 'stürmischem': 7439, 'stürmt': 7440, 'stützen': 7441, 'stützrädern': 7442, 'sumoringer': 7443, 'sumpf': 7444, 'sumpfigen': 7445, 'sumpfiges': 7446, 'suppe': 7447, 'surfbrettern': 7448, 'sweater': 7449, 'szenerie': 7450, 'säcke': 7451, 'säuglings': 7452, 'söhnen': 7453, 'süßer': 7454, 'süßes': 7455, 'süßigkeit': 7456, 'süßigkeitenladen': 7457, 'süßigkeitenverkäufer': 7458, 'tackle': 7459, 'tagebuch': 7460, 'taille': 7461, 'takt': 7462, 'talkshow': 7463, 'tamburin': 7464, 'tank-top': 7465, 'tanzstudio': 7466, 'tanzvorführung': 7467, 'tarnanzügen': 7468, 'tarnfarben': 7469, 'tarnhosen': 7470, 'tarnjacke': 7471, 'taschenbuch': 7472, 'taschenlampe': 7473, 'taste': 7474, 'tasten': 7475, 'tatort': 7476, 'taubenschwarm': 7477, 'tauschen': 7478, 'teamkollege': 7479, 'technik': 7480, 'technologie': 7481, 'tee-ball': 7482, 'teenager-jungen': 7483, 'teenagerinnen': 7484, 'teichs': 7485, 'teilnehmende': 7486, 'telefonleitung': 7487, 'telefontechniker': 7488, 'telefonzellen': 7489, 'tennisschuh': 7490, 'testet': 7491, 'text': 7492, 'textet': 7493, 'theaterstück': 7494, 'theatervorstellung': 7495, 'thomas': 7496, 'tiefblauen': 7497, 'tieflader': 7498, 'tiefschnee': 7499, 'tiers': 7500, 'tim': 7501, 'tintenfisch': 7502, 'tischler': 7503, 'toast': 7504, 'toilettenpapier': 7505, 'tollt': 7506, 'tomate': 7507, 'topfpflanzen': 7508, 'torbogens': 7509, 'tortillas': 7510, 'toten': 7511, 'tourbus': 7512, 'touristin': 7513, 'toyota': 7514, 'trabenden': 7515, 'traditionell': 7516, 'traditionellem': 7517, 'trainingsanzügen': 7518, 'trampelpfad': 7519, 'transformator': 7520, 'transparenten': 7521, 'transport': 7522, 'trauung': 7523, 'trennt': 7524, 'tresen': 7525, 'tribünen': 7526, 'trinkgeld': 7527, 'trittsteinen': 7528, 'trockene': 7529, 'tropfen': 7530, 'trophäe': 7531, 'trotzt': 7532, 'truthähne': 7533, 'träg': 7534, 'trägerhemden': 7535, 'trägershirt': 7536, 'trösten': 7537, 'tuba': 7538, 'tuniken': 7539, 'tunnels': 7540, 'turbanen': 7541, 'turnkleidung': 7542, 'turnübung': 7543, 'turnübungen': 7544, 'typischen': 7545, 'tätigkeiten': 7546, 'tätowieren': 7547, 'tätowierten': 7548, 'töchter': 7549, 'töpfe': 7550, 'töpfert': 7551, 'tüchern': 7552, 'tümpel': 7553, 'türkise': 7554, 'u-bahn-bahnsteig': 7555, 'u-bahn-zug': 7556, 'ufernähe': 7557, 'umarmungen': 7558, 'umdreht': 7559, 'umfeld': 7560, 'umgebenden': 7561, 'umgebene': 7562, 'umgedrehte': 7563, 'umgefallenen': 7564, 'umgekippt': 7565, 'umschlag': 7566, 'umschlagtuch': 7567, 'umstehenden': 7568, 'umzugs': 7569, 'umzugswagen': 7570, 'unbeholfen': 7571, 'unbekannte': 7572, 'unbekannter': 7573, 'unebenen': 7574, 'unfallort': 7575, 'unfallstelle': 7576, 'ungepflegten': 7577, 'ungewöhnliches': 7578, 'unglückliches': 7579, 'union': 7580, 'unrat': 7581, 'unscharfe': 7582, 'unterarm': 7583, 'unterführung': 7584, 'unterhaltungsbereich': 7585, 'unterhaltungskünstler': 7586, 'unterholz': 7587, 'unterhosen': 7588, 'unterirdischen': 7589, 'unterschreibt': 7590, 'unterstützen': 7591, 'untertasse': 7592, 'ureinwohnerin': 7593, 'urinal': 7594, 'urlaub': 7595, 'us-amerikanische': 7596, 'vader': 7597, 'vase': 7598, 'vegas': 7599, 'veranstaltet': 7600, 'verbeugen': 7601, 'verbirgt': 7602, 'verborgen': 7603, 'vereinzelten': 7604, 'verglasten': 7605, 'vergraben': 7606, 'vergrößerungsglas': 7607, 'verhaftet': 7608, 'verheirateter': 7609, 'verhüllte': 7610, 'verkaufsautomaten': 7611, 'verkaufstand': 7612, 'verkehrspolizist': 7613, 'verkehrsreiche': 7614, 'verkehrsschild': 7615, 'verkleidetes': 7616, 'verkleidung': 7617, 'verkäuferin': 7618, 'verkäufers': 7619, 'verlegen': 7620, 'verletzter': 7621, 'vermischt': 7622, 'verpasst': 7623, 'verquirlt': 7624, 'verregneten': 7625, 'verrückt': 7626, 'verschiedenes': 7627, 'verschiedenfarbiger': 7628, 'verschlungenen': 7629, 'verschmiertem': 7630, 'verschneiter': 7631, 'verschwommenen': 7632, 'verschwommenes': 7633, 'versorgen': 7634, 'versorgt': 7635, 'verteidigern': 7636, 'vertieft': 7637, 'vertreiben': 7638, 'verursacht': 7639, 'verwitterten': 7640, 'verwunderung': 7641, 'verziert': 7642, 'verzweifelt': 7643, 'vesammelt': 7644, 'videoaufnahme': 7645, 'videokameras': 7646, 'vieler': 7647, 'vielfältige': 7648, 'vieren': 7649, 'vierergruppe': 7650, 'vierrädrigen': 7651, 'vierte': 7652, 'violette': 7653, 'visier': 7654, 'visiert': 7655, 'vitrine': 7656, 'volles': 7657, 'volleyballplatz': 7658, 'volleyballturnier': 7659, 'vorbeifahrenden': 7660, 'vorbeikommt': 7661, 'vorbeiläuft': 7662, 'vorbeischwimmen': 7663, 'vorbeizukommen': 7664, 'vorderpfoten': 7665, 'vorderrad': 7666, 'vorgarten': 7667, 'vorhand': 7668, 'vornehm': 7669, 'vornehmen': 7670, 'vornüber': 7671, 'vornübergebeugt': 7672, 'vorräte': 7673, 'vorstadthaus': 7674, 'vorteil': 7675, 'vorzubereiten': 7676, 'vorüberfährt': 7677, 'vorübergehend': 7678, 'wachleute': 7679, 'waggon': 7680, 'wakeboarden': 7681, 'wakeboarding': 7682, 'waldgebiets': 7683, 'waldgegend': 7684, 'waldlandschaft': 7685, 'walkman': 7686, 'wandbemalung': 7687, 'wandgemälde': 7688, 'wandobjekt': 7689, 'warnkegel': 7690, 'warnkleidung': 7691, 'wartend': 7692, 'wartende': 7693, 'warteraum': 7694, 'wartezimmer': 7695, 'waschmaschinen': 7696, 'wasserbrunnen': 7697, 'wasserfontänen': 7698, 'wasserlache': 7699, 'wasseroberfläche': 7700, 'wasserrand': 7701, 'wasserrohre': 7702, 'wasserschlacht': 7703, 'wasserskulptur': 7704, 'wasserspeier': 7705, 'wassersprenganlage': 7706, 'wasserspritzer': 7707, 'wasserstrahl': 7708, 'weges': 7709, 'wegschaut': 7710, 'wehrt': 7711, 'weiblich': 7712, 'weide': 7713, 'weihnachtsbeleuchtung': 7714, 'weihnachtsmannmützen': 7715, 'weihnachtsmotiv': 7716, 'weinen': 7717, 'weinflasche': 7718, 'weinroten': 7719, 'weiß-': 7720, 'weiß-braunem': 7721, 'weiß-rotes': 7722, 'weißene': 7723, 'weißhaarige': 7724, 'welches': 7725, 'wells': 7726, 'wenden': 7727, 'wer': 7728, 'werdendem': 7729, 'werferhügel': 7730, 'werkbank': 7731, 'werkzeuggürteln': 7732, 'westernstil': 7733, 'wetteifert': 7734, 'wettschwimmen': 7735, 'whirlpool': 7736, 'wichtiges': 7737, 'wiegen': 7738, 'wii': 7739, 'wild': 7740, 'wildwasserrafting': 7741, 'winkend': 7742, 'winterbekleidung': 7743, 'winterlichen': 7744, 'wirbeln': 7745, 'wirkt': 7746, 'wodurch': 7747, 'wohl': 7748, 'wohnhauses': 7749, 'wohnhäusern': 7750, 'wolke': 7751, 'wonder': 7752, 'worten': 7753, 'wrestler': 7754, 'wunderschön': 7755, 'wurzeln': 7756, 'wälder': 7757, 'wälzt': 7758, 'wünschen': 7759, 'würfel': 7760, 'würste': 7761, 'würzt': 7762, 'wütend': 7763, 'yamaha': 7764, 'yankees': 7765, 'yogaübungen': 7766, 'you': 7767, 'zahnarzt': 7768, 'zahnstocher': 7769, 'zange': 7770, 'zapft': 7771, 'zauberer': 7772, 'zaubertrick': 7773, 'zehenspitzen': 7774, 'zehn': 7775, 'zeltet': 7776, 'zeltplane': 7777, 'zeltplatz': 7778, 'zementierten': 7779, 'zementlaster': 7780, 'zentimeter': 7781, 'zerbricht': 7782, 'zerbrochene': 7783, 'zerbrochenen': 7784, 'zeremoniellen': 7785, 'zerfetzten': 7786, 'zerkleinert': 7787, 'zerlegen': 7788, 'zerlumpter': 7789, 'zerrissenen': 7790, 'zerzaust': 7791, 'zickzack': 7792, 'ziegelsteingebäude': 7793, 'zielfernrohr': 7794, 'zielort': 7795, 'zirkus': 7796, 'zitrone': 7797, 'zotteliger': 7798, 'zuerst': 7799, 'zufahrt': 7800, 'zufährt': 7801, 'zugedeckt': 7802, 'zuges': 7803, 'zugfahrt': 7804, 'zugführer': 7805, 'zugwaggons': 7806, 'zuhält': 7807, 'zuhörern': 7808, 'zuhörerschaft': 7809, 'zukunft': 7810, 'zuneigung': 7811, 'zurückgelegt': 7812, 'zusammengebaut': 7813, 'zusammengebauten': 7814, 'zusammenpassenden': 7815, 'zusammensein': 7816, 'zuschauerraum': 7817, 'zustand': 7818, 'zwanzig': 7819, 'zweikampf': 7820, 'zweirad': 7821, 'zweispurigen': 7822, 'zweistöckigen': 7823, 'zwillinge': 7824, 'zwirbelt': 7825, 'zähneputzen': 7826, 'zügel': 7827, 'ähnlichen': 7828, 'ängstlich': 7829, 'äpfel': 7830, 'ärztin': 7831, 'äste': 7832, 'öffentliches': 7833, 'öffnungen': 7834, 'ölfass': 7835, 'überdachung': 7836, 'überfliegt': 7837, 'überfluteten': 7838, 'überführung': 7839, 'übergewichtiges': 7840, 'überhang': 7841, 'überladenen': 7842, 'überlegt': 7843, 'überreste': 7844, 'überschlag': 7845, 'überschlagen': 7846, 'übersät': 7847, 'übersäte': 7848, 'überwacht': 7849, 'üppig': 7850, 'üppigen': 7851, '‘': 7852})\n"
     ]
    }
   ],
   "source": [
    "print(SRC.vocab.stoi)"
   ]
  },
  {
   "cell_type": "code",
   "execution_count": 11,
   "id": "ebc1cdb7",
   "metadata": {},
   "outputs": [
    {
     "name": "stdout",
     "output_type": "stream",
     "text": [
      "defaultdict(<bound method Vocab._default_unk_index of <torchtext.vocab.Vocab object at 0x7fe81322f040>>, {'<unk>': 0, '<pad>': 1, '<sos>': 2, '<eos>': 3, 'a': 4, '.': 5, 'in': 6, 'the': 7, 'on': 8, 'man': 9, 'is': 10, 'and': 11, 'of': 12, 'with': 13, 'woman': 14, ',': 15, 'two': 16, 'are': 17, 'to': 18, 'people': 19, 'at': 20, 'an': 21, 'wearing': 22, 'shirt': 23, 'young': 24, 'white': 25, 'black': 26, 'his': 27, 'while': 28, 'blue': 29, 'men': 30, 'red': 31, 'sitting': 32, 'girl': 33, 'boy': 34, 'dog': 35, 'standing': 36, 'playing': 37, 'group': 38, 'street': 39, 'down': 40, 'walking': 41, '-': 42, 'front': 43, 'her': 44, 'holding': 45, 'one': 46, 'water': 47, 'three': 48, 'by': 49, 'women': 50, 'up': 51, 'green': 52, 'little': 53, 'for': 54, 'child': 55, 'looking': 56, 'outside': 57, 'as': 58, 'large': 59, 'through': 60, 'brown': 61, 'yellow': 62, 'children': 63, 'person': 64, 'from': 65, 'their': 66, 'hat': 67, 'ball': 68, 'into': 69, 'small': 70, 'next': 71, 'other': 72, 'dressed': 73, 'some': 74, 'out': 75, 'over': 76, 'building': 77, 'riding': 78, 'running': 79, 'near': 80, 'jacket': 81, 'another': 82, 'around': 83, 'sidewalk': 84, 'field': 85, 'orange': 86, 'crowd': 87, 'beach': 88, 'stands': 89, 'pink': 90, 'sits': 91, 'jumping': 92, 'behind': 93, 'table': 94, 'snow': 95, 'grass': 96, 'hair': 97, 'background': 98, 'bike': 99, 'stand': 100, 'city': 101, \"'s\": 102, 'air': 103, 'girls': 104, 'player': 105, 'asian': 106, 'looks': 107, 'wall': 108, 'top': 109, 'four': 110, 'off': 111, 'dogs': 112, 'several': 113, 'that': 114, 'older': 115, 'camera': 116, 'dress': 117, 'park': 118, 'talking': 119, 'lady': 120, 'something': 121, 'blond': 122, 'soccer': 123, 'along': 124, 'walks': 125, 'guitar': 126, 'boys': 127, 'play': 128, 'together': 129, 'working': 130, 'food': 131, 'gray': 132, 'smiling': 133, 'picture': 134, 'game': 135, 'has': 136, 'plays': 137, 'car': 138, 'hand': 139, 'holds': 140, 'it': 141, 'road': 142, 'him': 143, 'bench': 144, 'old': 145, 'glasses': 146, 'pants': 147, 'shorts': 148, 'stage': 149, 'sit': 150, 'carrying': 151, 'walk': 152, 'baby': 153, 'couple': 154, 'them': 155, 'side': 156, 'bicycle': 157, 'face': 158, 'tree': 159, '\"': 160, 'male': 161, 'pool': 162, 'long': 163, 'race': 164, 'taking': 165, 'rock': 166, 'each': 167, 'middle': 168, 'doing': 169, 'dirt': 170, 'across': 171, 'head': 172, 'watching': 173, 'guy': 174, 'jeans': 175, 'there': 176, 'area': 177, 'dark': 178, 'jumps': 179, 'boat': 180, 'hands': 181, 'back': 182, 'female': 183, 'day': 184, 'ground': 185, 'performing': 186, 'room': 187, 'baseball': 188, 'who': 189, 'eating': 190, 'being': 191, 'football': 192, 'coat': 193, 'striped': 194, 'using': 195, 'kids': 196, 'suit': 197, 'horse': 198, 'under': 199, 'band': 200, 'watch': 201, 'many': 202, 'mouth': 203, 'purple': 204, 'he': 205, 'sign': 206, 'store': 207, 't': 208, 'this': 209, 'haired': 210, 'sand': 211, 'runs': 212, 'tennis': 213, 'look': 214, 'players': 215, 'construction': 216, 'sunglasses': 217, 'reading': 218, 'clothing': 219, 'microphone': 220, 'mountain': 221, 'covered': 222, 'toy': 223, 'basketball': 224, 'ocean': 225, 'during': 226, 'its': 227, 'workers': 228, 'watches': 229, 'climbing': 230, 'uniform': 231, 'past': 232, 'elderly': 233, 'helmet': 234, 'restaurant': 235, 'against': 236, 'team': 237, 'train': 238, 'dancing': 239, 'window': 240, 'rides': 241, 'shirts': 242, 'chair': 243, 'they': 244, 'work': 245, 'about': 246, 'be': 247, 'wooden': 248, 'posing': 249, 'trees': 250, 'five': 251, 'having': 252, 'outdoor': 253, 'waiting': 254, 'all': 255, 'swimming': 256, 'getting': 257, 'or': 258, 'floor': 259, 'trying': 260, 'ice': 261, 'very': 262, 'colorful': 263, 'skateboard': 264, 'bag': 265, 'high': 266, 'busy': 267, 'fence': 268, 'singing': 269, 'jump': 270, 'cart': 271, 'line': 272, 'laying': 273, 'hill': 274, 'market': 275, 'truck': 276, 'book': 277, 'bright': 278, 'hats': 279, 'inside': 280, 'ride': 281, 'tan': 282, 'cap': 283, 'kitchen': 284, 'others': 285, 'cellphone': 286, 'grassy': 287, 'path': 288, 'big': 289, 'someone': 290, 'brick': 291, 'making': 292, 'bus': 293, 'clothes': 294, 'motorcycle': 295, 'takes': 296, 'umbrella': 297, 'full': 298, 'light': 299, 'outfit': 300, 'towards': 301, 'track': 302, 'body': 303, 'enjoying': 304, 'night': 305, 'colored': 306, 'metal': 307, 'swing': 308, 'river': 309, 'open': 310, 'paper': 311, 'ready': 312, 'she': 313, 'tank': 314, 'piece': 315, 'shop': 316, 'sweater': 317, 'lake': 318, 'trick': 319, 'above': 320, 'painting': 321, 'run': 322, 'worker': 323, 'african': 324, 'hard': 325, 'adults': 326, 'american': 327, 'going': 328, 'music': 329, 'dance': 330, 'snowy': 331, 'shopping': 332, 'stone': 333, 'surrounded': 334, 'wave': 335, 'onto': 336, 'stick': 337, 'uniforms': 338, 'vest': 339, 'like': 340, 'outdoors': 341, 'photo': 342, 'backpack': 343, 'beside': 344, 'crowded': 345, 'smiles': 346, 'board': 347, 'kid': 348, 'phone': 349, 'pole': 350, 'drinking': 351, 'gear': 352, 'hockey': 353, 'subway': 354, 'family': 355, 'house': 356, 'toddler': 357, 'event': 358, 'gathered': 359, 'guys': 360, 'hanging': 361, 'police': 362, 'set': 363, 'arms': 364, 'bridge': 365, 'catch': 366, 'flowers': 367, 'away': 368, 'beautiful': 369, 'preparing': 370, 'fire': 371, 'costume': 372, 'leaning': 373, 'object': 374, 'sleeping': 375, 'after': 376, 'fishing': 377, 'steps': 378, 'bar': 379, 'does': 380, 'lot': 381, 'machine': 382, 'fountain': 383, 'plaid': 384, 'rope': 385, 'short': 386, 'adult': 387, 'shirtless': 388, 'take': 389, 'graffiti': 390, 'stairs': 391, 'rocks': 392, 'shoes': 393, 'arm': 394, 'selling': 395, 'sunny': 396, 'forest': 397, 'parade': 398, 'racing': 399, 'setting': 400, 'chairs': 401, 'glass': 402, 'pose': 403, 'tall': 404, 'both': 405, 'corner': 406, 'putting': 407, 'volleyball': 408, 'frisbee': 409, 'pushing': 410, 'throwing': 411, 'between': 412, 'drink': 413, 'have': 414, 'ladies': 415, 'slide': 416, '2': 417, 'computer': 418, 'laughing': 419, 'public': 420, 'equipment': 421, 'flag': 422, 'instruments': 423, 'wood': 424, 'couch': 425, 'pictures': 426, 'sun': 427, 'view': 428, 'cowboy': 429, 'party': 430, 'plastic': 431, 'ramp': 432, 'aged': 433, 'concrete': 434, 'playground': 435, 'poses': 436, 'sweatshirt': 437, 'trail': 438, 'which': 439, 'woods': 440, 'beard': 441, 'fish': 442, 'statue': 443, 'dock': 444, 'midair': 445, 'winter': 446, 'yard': 447, 'number': 448, 'bikes': 449, 'seated': 450, 'skirt': 451, 'distance': 452, 'attire': 453, 'just': 454, 'reads': 455, 'school': 456, 'six': 457, 'toward': 458, 'what': 459, 'beer': 460, 'cooking': 461, 'get': 462, 'left': 463, 'sky': 464, 'works': 465, 'cutting': 466, 'rider': 467, 'vests': 468, 'bags': 469, 'buildings': 470, 'cream': 471, 'cross': 472, 'filled': 473, 'lined': 474, 'pulling': 475, 'where': 476, 'appears': 477, 'bed': 478, 'cliff': 479, 'skateboarder': 480, 'station': 481, 'tent': 482, 'crossing': 483, 'edge': 484, 'few': 485, 'friends': 486, 'instrument': 487, 'mountains': 488, 'showing': 489, 'spectators': 490, 'bearded': 491, 'cars': 492, 'court': 493, 'horses': 494, 'jersey': 495, 'mother': 496, 'make': 497, 'nearby': 498, 'performs': 499, 'right': 500, 'scarf': 501, 'apron': 502, 'bowling': 503, 'carries': 504, 'concert': 505, 'driving': 506, 'grill': 507, 'perform': 508, 'show': 509, 'snowboarder': 510, 'art': 511, 'fruit': 512, 'leaves': 513, 'shore': 514, 'boots': 515, 'cigarette': 516, 'coffee': 517, 'cup': 518, 'parked': 519, 'structure': 520, 'students': 521, 'various': 522, 'vendor': 523, 'gentleman': 524, 'goggles': 525, 'painted': 526, 'smile': 527, 'time': 528, 'vehicle': 529, 'younger': 530, 'bottle': 531, 'door': 532, 'dresses': 533, 'drums': 534, 'flower': 535, 'flying': 536, 'martial': 537, 'net': 538, 'smoking': 539, 'talks': 540, 'bathing': 541, 'eyes': 542, 'flags': 543, 'hit': 544, 'home': 545, 'kicking': 546, 'lying': 547, 'new': 548, 'no': 549, 'rocky': 550, 'shot': 551, 'surfer': 552, 'arts': 553, 'indian': 554, 'jackets': 555, 'newspaper': 556, 'paint': 557, 'prepares': 558, 'rain': 559, 'rodeo': 560, 'safety': 561, 'swinging': 562, 'waves': 563, 'box': 564, 'bucket': 565, 'conversation': 566, 'costumes': 567, 'different': 568, 'gather': 569, 'gloves': 570, 'parking': 571, 'practicing': 572, 'bunch': 573, 'cleaning': 574, 'competition': 575, 'ladder': 576, 'listening': 577, 'roof': 578, 'uses': 579, 'blanket': 580, 'items': 581, 'onlookers': 582, 'scene': 583, 'skateboarding': 584, 'staring': 585, 'wet': 586, 'audience': 587, 'balloon': 588, 'bicycles': 589, 'bikini': 590, 'bull': 591, 'desk': 592, 'empty': 593, 'giving': 594, 'lawn': 595, 'meal': 596, 'pile': 597, 'railing': 598, 'drinks': 599, 'hot': 600, 'leaps': 601, 'military': 602, 'sports': 603, 'cake': 604, 'display': 605, 'gathering': 606, 'go': 607, 'hold': 608, 'pointing': 609, 'sliding': 610, 'vegetables': 611, 'basket': 612, 'before': 613, 'biker': 614, 'bowl': 615, 'class': 616, 'competing': 617, 'facing': 618, 'feet': 619, 'gold': 620, 'stop': 621, 'streets': 622, 'suits': 623, 'wedding': 624, 'bird': 625, 'cement': 626, 'flip': 627, 'helmets': 628, 'huge': 629, 'mask': 630, 'platform': 631, 'silver': 632, 'speaking': 633, 'classroom': 634, 'coming': 635, 'gets': 636, 'lit': 637, 'match': 638, 'teams': 639, 'tie': 640, 'alley': 641, 'bride': 642, 'climbs': 643, 'marathon': 644, 'purse': 645, 'sings': 646, 'ski': 647, 'skier': 648, 'surfboard': 649, 'surfing': 650, 'traditional': 651, 'tries': 652, 'wait': 653, 'animal': 654, 'can': 655, 'chasing': 656, 'counter': 657, 'fighting': 658, 'kissing': 659, 'musicians': 660, 'rail': 661, 'screen': 662, 'break': 663, 'country': 664, 'father': 665, 'females': 666, 'happy': 667, 'same': 668, 'skating': 669, 'stroller': 670, 'kneeling': 671, 'lap': 672, 'pass': 673, 'runner': 674, 'shoulder': 675, 'sunset': 676, 'throw': 677, 'waits': 678, 'walkway': 679, 'writing': 680, '3': 681, 'attempting': 682, 'bald': 683, 'business': 684, 'christmas': 685, 'scooter': 686, 'seen': 687, 'sort': 688, 'talk': 689, 'violin': 690, 'waving': 691, 'blowing': 692, 'outfits': 693, 'overlooking': 694, 'place': 695, 'signs': 696, 'artist': 697, 'bubbles': 698, 'chinese': 699, 'close': 700, 'course': 701, 'hole': 702, 'life': 703, 'mirror': 704, 'officer': 705, 'says': 706, 'son': 707, 'tables': 708, 'urban': 709, 'way': 710, 'balloons': 711, 'base': 712, 'brightly': 713, 'fixing': 714, 'giant': 715, 'leans': 716, 'lights': 717, 'alone': 718, 'brunette': 719, 'cafe': 720, 'collar': 721, 'do': 722, 'end': 723, 'faces': 724, 'foreground': 725, 'gym': 726, 'helping': 727, 'leather': 728, 'leg': 729, 'made': 730, 'swim': 731, 'teenage': 732, 'umbrellas': 733, 'asleep': 734, 'clown': 735, 'electric': 736, 'enjoy': 737, 'headphones': 738, 'legs': 739, 'meat': 740, 'mud': 741, 'plate': 742, 'site': 743, 'skate': 744, 'well': 745, 'among': 746, 'dancers': 747, 'diving': 748, 'falling': 749, 'golf': 750, 'makes': 751, 'office': 752, 'officers': 753, 'passing': 754, 'roller': 755, 'sandals': 756, 'stadium': 757, 'sticks': 758, 'swings': 759, 'washing': 760, 'wears': 761, 'barefoot': 762, 'canoe': 763, 'church': 764, 'dirty': 765, 'doorway': 766, 'goal': 767, 'heads': 768, 'multicolored': 769, 'musical': 770, 'photographer': 771, 'skiing': 772, 'toys': 773, 'accordion': 774, 'drawing': 775, 'laptop': 776, 'leash': 777, 'males': 778, 'picking': 779, 'reaching': 780, 'singer': 781, 'throws': 782, 'traffic': 783, 'video': 784, 'below': 785, 'digging': 786, 'hiking': 787, 'members': 788, 'performance': 789, 'relaxing': 790, 'row': 791, 'shallow': 792, 'wheel': 793, 'atop': 794, 'bicyclist': 795, 'cat': 796, 'catches': 797, 'catching': 798, 'deep': 799, 'foot': 800, 'gives': 801, 'hugging': 802, 'microscope': 803, 'passes': 804, 'shovel': 805, 'square': 806, 'tunnel': 807, 'upside': 808, 'van': 809, 'balls': 810, 'beige': 811, 'chef': 812, 'climb': 813, 'cut': 814, 'drum': 815, 'fun': 816, 'garden': 817, 'kick': 818, 'leaping': 819, 'prepare': 820, 'shows': 821, 'sleeps': 822, 'stunt': 823, 'sweeping': 824, 'tattoo': 825, 'coats': 826, 'cold': 827, 'conversing': 828, 'daughter': 829, 'desert': 830, 'flies': 831, 'here': 832, 'hoodie': 833, 'hose': 834, 'individuals': 835, 'karate': 836, 'lots': 837, 'move': 838, 'photograph': 839, 'pond': 840, 'resting': 841, 'sculpture': 842, 'sled': 843, 'splashing': 844, 'teeth': 845, 'trunks': 846, ';': 847, 'bat': 848, 'block': 849, 'customers': 850, 'friend': 851, 'held': 852, 'how': 853, 'jogging': 854, 'lone': 855, 'pier': 856, 'plants': 857, 'points': 858, 'telescope': 859, 'these': 860, 'tire': 861, 'town': 862, 'underneath': 863, 'wrestling': 864, 'cane': 865, 'carnival': 866, 'curly': 867, 'cyclist': 868, 'eat': 869, 'hiker': 870, 'including': 871, 'local': 872, 'moving': 873, 'opposing': 874, 'project': 875, 'shoulders': 876, 'themselves': 877, 'waters': 878, 'without': 879, 'circle': 880, 'cloth': 881, 'crosswalk': 882, 'crying': 883, 'dinner': 884, 'gun': 885, 'hula': 886, 'infant': 887, 'lab': 888, 'makeup': 889, 'matching': 890, 'mural': 891, 'paved': 892, 'produce': 893, 'pulled': 894, 'racket': 895, 'runners': 896, 'shoe': 897, 'straw': 898, 'taken': 899, 'trampoline': 900, 'tricks': 901, 'wooded': 902, 'athlete': 903, 'attempts': 904, 'bicyclists': 905, 'booth': 906, 'closed': 907, 'dances': 908, 'formal': 909, 'gymnast': 910, 'knee': 911, 'mat': 912, 'nose': 913, 'opening': 914, 'performer': 915, 'picnic': 916, 'rolling': 917, 'sewing': 918, 'stuffed': 919, 'surface': 920, 'trash': 921, \"'\": 922, 'balcony': 923, 'blouse': 924, 'boxes': 925, 'center': 926, 'cheerleaders': 927, 'cow': 928, 'fight': 929, 'goes': 930, 'help': 931, 'hikers': 932, 'himself': 933, 'lays': 934, 'lunch': 935, 'neck': 936, 'oriental': 937, 'pedestrians': 938, 'pitcher': 939, 'pushes': 940, 'ring': 941, 'round': 942, 'sandy': 943, 'slope': 944, 'softball': 945, 'teenagers': 946, 'third': 947, 'wear': 948, 'bent': 949, 'button': 950, 'chases': 951, 'deck': 952, 'device': 953, 'festival': 954, 'hoop': 955, 'i': 956, 'indoor': 957, 'kind': 958, 'log': 959, 'not': 960, 'pulls': 961, 'puts': 962, 'seven': 963, 'skis': 964, 'speaks': 965, 'staircase': 966, 'turn': 967, 'books': 968, 'covering': 969, 'driver': 970, 'drives': 971, 'enjoys': 972, 'evening': 973, 'fallen': 974, 'gentlemen': 975, 'golden': 976, 'grocery': 977, 'heavy': 978, 'marching': 979, 'overalls': 980, 'robe': 981, 'shaking': 982, 'swims': 983, 'wetsuit': 984, 'birds': 985, 'cloudy': 986, 'dancer': 987, 'fair': 988, 'fingers': 989, 'foreign': 990, 'garb': 991, 'hammer': 992, 'jean': 993, 'kayak': 994, 'khaki': 995, 'kicks': 996, 'laundry': 997, 'native': 998, 'nice': 999, 'porch': 1000, 'pot': 1001, 'pouring': 1002, 'protective': 1003, 'puddle': 1004, 'rest': 1005, 'robes': 1006, 'see': 1007, 'shaving': 1008, 'sheet': 1009, 'steep': 1010, 'stream': 1011, 'teenager': 1012, 'tracks': 1013, 'type': 1014, 'waterfall': 1015, 'airplane': 1016, 'arena': 1017, 'attached': 1018, 'backyard': 1019, 'blocks': 1020, 'checking': 1021, 'clear': 1022, 'colors': 1023, 'gate': 1024, 'hangs': 1025, 'ledge': 1026, 'lies': 1027, 'lift': 1028, 'luggage': 1029, 'opposite': 1030, 'paddling': 1031, 'palm': 1032, 'piano': 1033, 'podium': 1034, 'poles': 1035, 'put': 1036, 'reaches': 1037, 'sale': 1038, 'saxophone': 1039, 'shooting': 1040, 'shoveling': 1041, 'soldiers': 1042, 'wrapped': 1043, 'balancing': 1044, 'camouflage': 1045, 'clean': 1046, 'cones': 1047, 'curb': 1048, 'denim': 1049, 'eye': 1050, 'fenced': 1051, 'goalie': 1052, 'image': 1053, 'inflatable': 1054, 'kiss': 1055, 'laugh': 1056, 'mound': 1057, 'part': 1058, 'pavement': 1059, 'polo': 1060, 'poster': 1061, 'raft': 1062, 'rugby': 1063, 'sea': 1064, 'ship': 1065, 'skirts': 1066, 'soldier': 1067, 'string': 1068, 'tongue': 1069, 'wheelchair': 1070, 'windows': 1071, 'wine': 1072, 'bikers': 1073, 'bottom': 1074, 'bread': 1075, 'buying': 1076, 'courtyard': 1077, 'cyclists': 1078, 'eats': 1079, 'fabric': 1080, 'fans': 1081, 'flight': 1082, 'floating': 1083, 'frame': 1084, 'fresh': 1085, 'happily': 1086, 'juggling': 1087, 'keyboard': 1088, 'laughs': 1089, 'low': 1090, 'married': 1091, 'motorcycles': 1092, 'musician': 1093, 'professional': 1094, 'railroad': 1095, 'riders': 1096, 'seat': 1097, 'sell': 1098, 'skinned': 1099, 'student': 1100, 'swimsuit': 1101, 'tools': 1102, 'tractor': 1103, 'walls': 1104, 'york': 1105, 'acoustic': 1106, 'appear': 1107, 'backwards': 1108, 'bandanna': 1109, 'boats': 1110, 'bubble': 1111, 'bucking': 1112, 'carriage': 1113, 'cheering': 1114, 'closeup': 1115, 'club': 1116, 'either': 1117, 'fall': 1118, 'floral': 1119, 'garbage': 1120, 'goods': 1121, 'groom': 1122, 'hurdle': 1123, 'jerseys': 1124, 'living': 1125, 'marketplace': 1126, 'mid': 1127, 'moves': 1128, 'multiple': 1129, 'nap': 1130, 'pair': 1131, 'pajamas': 1132, 'pipe': 1133, 'post': 1134, 'santa': 1135, 'scaffolding': 1136, 'shown': 1137, 'socks': 1138, 'spray': 1139, 'stool': 1140, 'surf': 1141, 'suspended': 1142, 'tops': 1143, 'touching': 1144, 'you': 1145, '4': 1146, 'advertisement': 1147, 'airport': 1148, 'animals': 1149, 'backpacks': 1150, 'caught': 1151, 'chain': 1152, 'climber': 1153, 'dining': 1154, 'direction': 1155, 'dry': 1156, 'escalator': 1157, 'german': 1158, 'guard': 1159, 'hay': 1160, 'hooded': 1161, 'japanese': 1162, 'kneels': 1163, 'landscape': 1164, 'magazine': 1165, 'paints': 1166, 'plant': 1167, 'plaza': 1168, 'raised': 1169, 'serving': 1170, 'shade': 1171, 'sheep': 1172, 'sleeved': 1173, 'step': 1174, 'stove': 1175, 'style': 1176, 'towel': 1177, 'underwater': 1178, 'welding': 1179, '!': 1180, '5': 1181, 'amusement': 1182, 'athletic': 1183, 'bending': 1184, 'bmx': 1185, 'brushing': 1186, 'candy': 1187, 'caucasian': 1188, 'checkered': 1189, 'decorated': 1190, 'examining': 1191, 'fast': 1192, 'good': 1193, 'gravel': 1194, 'grilling': 1195, 'individual': 1196, 'mom': 1197, 'money': 1198, 'neon': 1199, 'obstacle': 1200, 'operating': 1201, 'orchestra': 1202, 'participating': 1203, 'plane': 1204, 'polka': 1205, 'referee': 1206, 'seems': 1207, 'shaped': 1208, 'sing': 1209, 'sport': 1210, 'summer': 1211, 'teacher': 1212, 'thrown': 1213, 'tube': 1214, 'use': 1215, 'vehicles': 1216, '(': 1217, 'attempt': 1218, 'atv': 1219, 'barbecue': 1220, 'benches': 1221, 'chest': 1222, 'compete': 1223, 'cone': 1224, 'crouches': 1225, 'ear': 1226, 'firefighters': 1227, 'fly': 1228, 'haircut': 1229, 'hallway': 1230, 'harness': 1231, 'heels': 1232, 'hitting': 1233, 'hood': 1234, 'jungle': 1235, 'map': 1236, 'model': 1237, 'muddy': 1238, 'only': 1239, 'opponent': 1240, 'passengers': 1241, 'photographs': 1242, 'practice': 1243, 'presentation': 1244, 'print': 1245, 'racer': 1246, 'ropes': 1247, 'scuba': 1248, 'sets': 1249, 'sharing': 1250, 'sticking': 1251, 'studio': 1252, 'things': 1253, 'tourists': 1254, 'try': 1255, 'tub': 1256, 'wagon': 1257, 'wide': 1258, ')': 1259, 'action': 1260, 'also': 1261, 'bathroom': 1262, 'but': 1263, 'carpet': 1264, 'cleans': 1265, 'color': 1266, 'drummer': 1267, 'ears': 1268, 'eight': 1269, 'feeding': 1270, 'figure': 1271, 'fruits': 1272, 'garage': 1273, 'groups': 1274, 'guitars': 1275, 'half': 1276, 'hall': 1277, 'headscarf': 1278, 'jumpsuit': 1279, 'machinery': 1280, 'motocross': 1281, 'motorcyclist': 1282, 'mustache': 1283, 'navy': 1284, 'patio': 1285, 'peace': 1286, 'pit': 1287, 'policeman': 1288, 'pull': 1289, 'racetrack': 1290, 'rests': 1291, 'rowing': 1292, 'sandwich': 1293, 'sink': 1294, 'sized': 1295, 'skateboards': 1296, 'snowboard': 1297, 'snowboarding': 1298, 'speech': 1299, 'sporting': 1300, 'start': 1301, 'stones': 1302, 'tool': 1303, 'wire': 1304, 'ahead': 1305, 'baskets': 1306, 'bath': 1307, 'beam': 1308, 'beverage': 1309, 'boardwalk': 1310, 'brush': 1311, 'bushes': 1312, 'ceiling': 1313, 'coach': 1314, 'college': 1315, 'cricket': 1316, 'crouching': 1317, 'discussion': 1318, 'dune': 1319, 'eastern': 1320, 'entrance': 1321, 'fancy': 1322, 'great': 1323, 'herself': 1324, 'hillside': 1325, 'horseback': 1326, 'indoors': 1327, 'intersection': 1328, 'lane': 1329, 'lay': 1330, 'leaving': 1331, 'medical': 1332, 'museum': 1333, 'narrow': 1334, 'neighborhood': 1335, 'observe': 1336, 'petting': 1337, 'possibly': 1338, 'puck': 1339, 'read': 1340, 'rough': 1341, 'routine': 1342, 'sells': 1343, 'shoot': 1344, 'slides': 1345, 'smoke': 1346, 'stopped': 1347, 'swimmer': 1348, 'tag': 1349, 'tattooed': 1350, 'trumpet': 1351, 'vendors': 1352, 'apple': 1353, 'army': 1354, 'birthday': 1355, 'blow': 1356, 'bottles': 1357, 'bow': 1358, 'buckets': 1359, 'buy': 1360, 'cardboard': 1361, 'celebrating': 1362, 'chase': 1363, 'choir': 1364, 'clay': 1365, 'container': 1366, 'dishes': 1367, 'fencing': 1368, 'folding': 1369, 'funny': 1370, 'guitarist': 1371, 'heart': 1372, 'helps': 1373, 'hoops': 1374, 'hospital': 1375, 'hugs': 1376, 'live': 1377, 'mall': 1378, 'maroon': 1379, 'microphones': 1380, 'mixing': 1381, 'mostly': 1382, 'ornate': 1383, 'outstretched': 1384, 'position': 1385, 'protest': 1386, 'puppy': 1387, 'rubber': 1388, 'seats': 1389, 'shepherd': 1390, 'skates': 1391, 'sleeve': 1392, 'song': 1393, 'squatting': 1394, 'sword': 1395, 'tile': 1396, 'uniformed': 1397, 'youth': 1398, 'apartment': 1399, 'balance': 1400, 'bars': 1401, 'bear': 1402, 'belt': 1403, 'blows': 1404, 'bowls': 1405, 'boxing': 1406, 'broom': 1407, 'calf': 1408, 'coloring': 1409, 'conference': 1410, 'derby': 1411, 'doctor': 1412, 'dreadlocks': 1413, 'ethnic': 1414, 'excited': 1415, 'farm': 1416, 'finger': 1417, 'finish': 1418, 'firetruck': 1419, 'first': 1420, 'fisherman': 1421, 'flipping': 1422, 'flops': 1423, 'free': 1424, 'furniture': 1425, 'grinding': 1426, 'handstand': 1427, 'inspecting': 1428, 'item': 1429, 'jockey': 1430, 'land': 1431, 'leading': 1432, 'library': 1433, 'lines': 1434, 'member': 1435, 'mohawk': 1436, 'moment': 1437, 'pick': 1438, 'pieces': 1439, 'reflective': 1440, 'ribbon': 1441, 'rink': 1442, 'rural': 1443, 'scenery': 1444, 'sleeveless': 1445, 'smokes': 1446, 'space': 1447, 'spinning': 1448, 'spraying': 1449, 'stack': 1450, 'stares': 1451, 'storefront': 1452, 'stretching': 1453, 'stripes': 1454, 'stroll': 1455, 'tattoos': 1456, 'tourist': 1457, 'turning': 1458, 'vegetable': 1459, 'we': 1460, 'wheels': 1461, 'wife': 1462, 'approaching': 1463, 'backs': 1464, 'balances': 1465, 'balding': 1466, 'banner': 1467, 'barrel': 1468, 'bass': 1469, 'batter': 1470, 'broken': 1471, 'candles': 1472, 'card': 1473, 'carving': 1474, 'castle': 1475, 'chalk': 1476, 'chefs': 1477, 'clad': 1478, 'computers': 1479, 'crane': 1480, 'cuts': 1481, 'dead': 1482, 'dimly': 1483, 'discussing': 1484, 'dish': 1485, 'doors': 1486, 'emergency': 1487, 'factory': 1488, 'fix': 1489, 'float': 1490, 'fluffy': 1491, 'following': 1492, 'gas': 1493, 'got': 1494, 'gymnasium': 1495, 'hotel': 1496, 'houses': 1497, 'intently': 1498, 'jewelry': 1499, 'keep': 1500, 'kite': 1501, 'listens': 1502, 'london': 1503, 'moped': 1504, 'motorbike': 1505, 'naked': 1506, 'name': 1507, 'nighttime': 1508, 'objects': 1509, 'odd': 1510, 'overhead': 1511, 'partially': 1512, 'pen': 1513, 'pigeons': 1514, 'pitch': 1515, 'pizza': 1516, 'rainy': 1517, 'raises': 1518, 'reach': 1519, 'snack': 1520, 'sofa': 1521, 'speed': 1522, 'stairway': 1523, 'starting': 1524, 'surrounding': 1525, 'television': 1526, 'theater': 1527, 'tied': 1528, 'viewing': 1529, 'war': 1530, 'warm': 1531, 'advertising': 1532, 'amongst': 1533, 'ballerina': 1534, 'barber': 1535, 'bare': 1536, 'beneath': 1537, 'branch': 1538, 'called': 1539, 'carry': 1540, 'catcher': 1541, 'control': 1542, 'crew': 1543, 'crosses': 1544, 'directions': 1545, 'downtown': 1546, 'duck': 1547, 'electronic': 1548, 'elephant': 1549, 'engaged': 1550, 'engine': 1551, 'fan': 1552, 'fireman': 1553, 'flowered': 1554, 'follows': 1555, 'forward': 1556, 'headband': 1557, 'hits': 1558, 'horn': 1559, 'lamp': 1560, 'lifting': 1561, 'liquid': 1562, 'lounging': 1563, 'material': 1564, 'mobile': 1565, 'more': 1566, \"n't\": 1567, 'necklace': 1568, 'nets': 1569, 'newborn': 1570, 'numerous': 1571, 'observing': 1572, 'papers': 1573, 'participate': 1574, 'patient': 1575, 'photos': 1576, 'pine': 1577, 'plates': 1578, 'pottery': 1579, 'present': 1580, 'protesting': 1581, 'push': 1582, 'rainbow': 1583, 'raising': 1584, 'redheaded': 1585, 'relax': 1586, 'repair': 1587, 'security': 1588, 'shades': 1589, 'shaved': 1590, 'shovels': 1591, 'smaller': 1592, 'spread': 1593, 'star': 1594, 'swimmers': 1595, 'taxi': 1596, 'teammate': 1597, 'terrain': 1598, 'thin': 1599, 'trailer': 1600, 'training': 1601, 'turns': 1602, 'unicycle': 1603, 'us': 1604, 'village': 1605, 'wrestle': 1606, 'admiring': 1607, 'airborne': 1608, 'aisle': 1609, 'angel': 1610, 'athletes': 1611, 'biking': 1612, 'billboard': 1613, 'binoculars': 1614, 'calm': 1615, 'camel': 1616, 'cameras': 1617, 'cape': 1618, 'caps': 1619, 'casual': 1620, 'cobblestone': 1621, 'converse': 1622, 'cook': 1623, 'cool': 1624, 'corn': 1625, 'crafts': 1626, 'donkey': 1627, 'fake': 1628, 'firemen': 1629, 'gift': 1630, 'glove': 1631, 'guns': 1632, 'hang': 1633, 'homeless': 1634, 'hug': 1635, 'interacting': 1636, 'job': 1637, 'leads': 1638, 'loading': 1639, 'lounge': 1640, 'machines': 1641, 'modern': 1642, 'most': 1643, 'nature': 1644, 'pan': 1645, 'parents': 1646, 'passenger': 1647, 'peering': 1648, 'performers': 1649, 'photographed': 1650, 'pillow': 1651, 'pretty': 1652, 'races': 1653, 'receiving': 1654, 'repairs': 1655, 'rollerblades': 1656, 'shakes': 1657, 'share': 1658, 'shining': 1659, 'shops': 1660, 'silly': 1661, 'skiers': 1662, 'slightly': 1663, 'splashes': 1664, 'sprinkler': 1665, 'steel': 1666, 'stomach': 1667, 'story': 1668, 'straight': 1669, 'teaching': 1670, 'tee': 1671, 'tents': 1672, 'tower': 1673, 'trunk': 1674, 'upon': 1675, 'wading': 1676, 'weaving': 1677, 'whilst': 1678, 'attention': 1679, 'autumn': 1680, 'bank': 1681, 'barrier': 1682, 'bin': 1683, 'bleachers': 1684, 'browsing': 1685, 'burgundy': 1686, 'bystanders': 1687, 'carts': 1688, 'ceremony': 1689, 'chainsaw': 1690, 'check': 1691, 'checks': 1692, 'cheer': 1693, 'coaster': 1694, 'come': 1695, 'consisting': 1696, 'cups': 1697, 'customer': 1698, 'dad': 1699, 'debris': 1700, 'dough': 1701, 'drill': 1702, 'dusk': 1703, 'eggs': 1704, 'entering': 1705, 'examines': 1706, 'farmer': 1707, 'flips': 1708, 'flute': 1709, 'form': 1710, 'gestures': 1711, 'greyhound': 1712, 'groceries': 1713, 'headed': 1714, 'if': 1715, 'knit': 1716, 'lacrosse': 1717, 'landing': 1718, 'laptops': 1719, 'lead': 1720, 'leaf': 1721, 'meeting': 1722, 'messy': 1723, 'motor': 1724, 'observes': 1725, 'official': 1726, 'order': 1727, 'oven': 1728, 'overweight': 1729, 'paddle': 1730, 'paddles': 1731, 'praying': 1732, 'sack': 1733, 'sailing': 1734, 'semi': 1735, 'similar': 1736, 'sneakers': 1737, 'spoon': 1738, 'spotted': 1739, 'studying': 1740, 'target': 1741, 'tea': 1742, 'telephone': 1743, 'thumbs': 1744, 'tires': 1745, 'tropical': 1746, 'was': 1747, 'waterfront': 1748, 'waterway': 1749, 'wheelbarrow': 1750, 'wings': 1751, 'world': 1752, '1': 1753, 'alleyway': 1754, 'applying': 1755, 'attending': 1756, 'bagpipes': 1757, 'ballet': 1758, 'bamboo': 1759, 'beanie': 1760, 'been': 1761, 'beverages': 1762, 'bite': 1763, 'blankets': 1764, 'boulder': 1765, 'bricks': 1766, 'cello': 1767, 'chicken': 1768, 'clapping': 1769, 'comes': 1770, 'complete': 1771, 'cooks': 1772, 'countryside': 1773, 'cowboys': 1774, 'doll': 1775, 'drive': 1776, 'dust': 1777, 'exercise': 1778, 'exhibit': 1779, 'filling': 1780, 'forehead': 1781, 'games': 1782, 'give': 1783, 'gymnastics': 1784, 'handing': 1785, 'heading': 1786, 'highway': 1787, 'inspects': 1788, 'iron': 1789, 'jet': 1790, 'juice': 1791, 'kayaks': 1792, 'knees': 1793, 'knife': 1794, 'lecture': 1795, 'listen': 1796, 'loom': 1797, 'merchandise': 1798, 'monument': 1799, 'movie': 1800, 'newly': 1801, 'newspapers': 1802, 'olympics': 1803, 'pack': 1804, 'paperwork': 1805, 'patterned': 1806, 'pigtails': 1807, 'pillows': 1808, 'places': 1809, 'placing': 1810, 'puppies': 1811, 'repairing': 1812, 'rickshaw': 1813, 'rod': 1814, 'rollerblading': 1815, 'science': 1816, 'scooters': 1817, 'screaming': 1818, 'seem': 1819, 'shadows': 1820, 'shirted': 1821, 'shoppers': 1822, 'skater': 1823, 'skaters': 1824, 'snowsuit': 1825, 'spanish': 1826, 'stare': 1827, 'still': 1828, 'stops': 1829, 'suitcase': 1830, 'sweeps': 1831, 'tackle': 1832, 'tape': 1833, 'teal': 1834, 'texas': 1835, 'tossing': 1836, 'touches': 1837, 'tv': 1838, 'umpire': 1839, 'visiting': 1840, 'wares': 1841, 'wheelie': 1842, 'wild': 1843, 'wires': 1844, 'wrap': 1845, 'wrestler': 1846, 'yoga': 1847, '2012': 1848, 'act': 1849, 'adjusting': 1850, 'amp': 1851, 'arcade': 1852, 'artwork': 1853, 'auditorium': 1854, 'backdrop': 1855, 'banjo': 1856, 'biting': 1857, 'burning': 1858, 'camping': 1859, 'cans': 1860, 'carefully': 1861, 'case': 1862, 'celebration': 1863, 'chatting': 1864, 'cheek': 1865, 'chess': 1866, 'china': 1867, 'closely': 1868, 'company': 1869, 'couples': 1870, 'covers': 1871, 'craft': 1872, 'creek': 1873, 'crossed': 1874, 'crouched': 1875, 'department': 1876, 'descent': 1877, 'diver': 1878, 'dives': 1879, 'dj': 1880, 'dot': 1881, 'drawn': 1882, 'dusty': 1883, 'falls': 1884, 'far': 1885, 'fashion': 1886, 'fashioned': 1887, 'firefighter': 1888, 'floats': 1889, 'focused': 1890, 'folded': 1891, 'formation': 1892, 'gathers': 1893, 'hut': 1894, 'injured': 1895, 'involved': 1896, 'john': 1897, 'kayaking': 1898, 'khakis': 1899, 'larger': 1900, 'laundromat': 1901, 'learning': 1902, 'lifted': 1903, 'lifts': 1904, 'lighted': 1905, 'location': 1906, 'logs': 1907, 'magazines': 1908, 'medium': 1909, 'meet': 1910, 'mop': 1911, 'motorcyclists': 1912, 'motorized': 1913, 'mower': 1914, 'mug': 1915, 'my': 1916, 'opens': 1917, 'parachute': 1918, 'passersby': 1919, 'patch': 1920, 'picks': 1921, 'pilot': 1922, 'placed': 1923, 'planting': 1924, 'playfully': 1925, 'ponytail': 1926, 'poor': 1927, 'practices': 1928, 'printed': 1929, 'rally': 1930, 'range': 1931, 'rapids': 1932, 'record': 1933, 'rice': 1934, 'rollerskating': 1935, 'rows': 1936, 'salon': 1937, 'saw': 1938, 'scouts': 1939, 'second': 1940, 'serves': 1941, 'shoreline': 1942, 'sides': 1943, 'snowshoes': 1944, 'so': 1945, 'soda': 1946, 'speak': 1947, 'strange': 1948, 'sunlight': 1949, 'supplies': 1950, 'surgery': 1951, 'suspenders': 1952, 'swimsuits': 1953, 'tackling': 1954, 'tights': 1955, 'tiny': 1956, 'touch': 1957, 'traveling': 1958, 'tray': 1959, 'tricycle': 1960, 'trip': 1961, 'trolley': 1962, 'trucks': 1963, 'tug': 1964, 'turquoise': 1965, 'underwear': 1966, 'visible': 1967, 'watched': 1968, 'weather': 1969, 'yarn': 1970, '#': 1971, '&': 1972, 'activity': 1973, 'america': 1974, 'amidst': 1975, 'apart': 1976, 'approaches': 1977, 'asia': 1978, 'asians': 1979, 'belts': 1980, 'blazer': 1981, 'blood': 1982, 'boards': 1983, 'bouquet': 1984, 'branches': 1985, 'brother': 1986, 'cage': 1987, 'canvas': 1988, 'cards': 1989, 'care': 1990, 'casually': 1991, 'celebrate': 1992, 'chalkboard': 1993, 'cheese': 1994, 'chopping': 1995, 'cloud': 1996, 'collared': 1997, 'contraption': 1998, 'cop': 1999, 'creating': 2000, 'cute': 2001, 'decorative': 2002, 'displaying': 2003, 'displays': 2004, 'done': 2005, 'driveway': 2006, 'earphones': 2007, 'embracing': 2008, 'experiment': 2009, 'facility': 2010, 'finishing': 2011, 'frozen': 2012, 'fur': 2013, 'furry': 2014, 'gallery': 2015, 'gaze': 2016, 'gazes': 2017, 'goat': 2018, 'handrail': 2019, 'headdress': 2020, 'helicopter': 2021, 'hiding': 2022, 'hike': 2023, 'hotdog': 2024, 'incline': 2025, 'involving': 2026, 'juggles': 2027, 'laden': 2028, 'leap': 2029, 'leggings': 2030, 'lens': 2031, 'leotard': 2032, 'lighting': 2033, 'link': 2034, 'lobby': 2035, 'located': 2036, 'maintenance': 2037, 'march': 2038, 'mexican': 2039, 'monitor': 2040, 'morning': 2041, 'numbers': 2042, 'nurses': 2043, 'oranges': 2044, 'pads': 2045, 'peeking': 2046, 'pin': 2047, 'pins': 2048, 'played': 2049, 'portrait': 2050, 'pots': 2051, 'process': 2052, 'products': 2053, 'quarterback': 2054, 'quickly': 2055, 'racers': 2056, 'rafting': 2057, 'roadside': 2058, 'rooftop': 2059, 'scaffold': 2060, 'scarves': 2061, 'serve': 2062, 'shape': 2063, 'sideways': 2064, 'silhouette': 2065, 'single': 2066, 'sprayed': 2067, 'stepping': 2068, 'stilts': 2069, 'teens': 2070, 'thumb': 2071, 'toddlers': 2072, 'torch': 2073, 'transportation': 2074, 'trashcan': 2075, 'tribal': 2076, 'turned': 2077, 'upward': 2078, 'valley': 2079, 'venue': 2080, 'walked': 2081, 'washes': 2082, 'whom': 2083, 'will': 2084, 'workout': 2085, 'workshop': 2086, 'adjusts': 2087, 'afternoon': 2088, 'almost': 2089, 'aprons': 2090, 'arch': 2091, 'atm': 2092, 'attractive': 2093, 'bathtub': 2094, 'begins': 2095, 'belongings': 2096, 'bends': 2097, 'beret': 2098, 'bicycling': 2099, 'booths': 2100, 'bouncing': 2101, 'brass': 2102, 'breakdancing': 2103, 'brushes': 2104, 'built': 2105, 'butterfly': 2106, 'cab': 2107, 'camp': 2108, 'canadian': 2109, 'cellphones': 2110, 'checkers': 2111, 'cherry': 2112, 'chewing': 2113, 'chocolate': 2114, 'chopsticks': 2115, 'circular': 2116, 'classic': 2117, 'cleaner': 2118, 'clouds': 2119, 'cola': 2120, 'containing': 2121, 'cover': 2122, 'crates': 2123, 'crowds': 2124, 'cycling': 2125, 'decorations': 2126, 'design': 2127, 'designs': 2128, 'digital': 2129, 'diner': 2130, 'displayed': 2131, 'dive': 2132, 'dragging': 2133, 'ducks': 2134, 'dumpster': 2135, 'east': 2136, 'egg': 2137, 'elmo': 2138, 'employees': 2139, 'farmers': 2140, 'featuring': 2141, 'fell': 2142, 'fishes': 2143, 'foliage': 2144, 'french': 2145, 'gardening': 2146, 'gazing': 2147, 'gesturing': 2148, 'grabbing': 2149, 'grabs': 2150, 'guards': 2151, 'handed': 2152, 'handle': 2153, 'heavily': 2154, 'highchair': 2155, 'hills': 2156, 'hind': 2157, 'horizon': 2158, 'icy': 2159, 'images': 2160, 'interesting': 2161, 'jeep': 2162, 'jogs': 2163, 'joy': 2164, 'jumped': 2165, 'jumper': 2166, 'kilt': 2167, 'load': 2168, 'love': 2169, 'menu': 2170, 'monkey': 2171, 'motion': 2172, 'muzzle': 2173, 'muzzled': 2174, 'news': 2175, 'olympic': 2176, 'operates': 2177, 'painter': 2178, 'pale': 2179, 'parasailing': 2180, 'pathway': 2181, 'pattern': 2182, 'peer': 2183, 'pencil': 2184, 'pet': 2185, 'pinata': 2186, 'point': 2187, 'potato': 2188, 'power': 2189, 'presenting': 2190, 'protesters': 2191, 'pumpkin': 2192, 'raincoat': 2193, 'really': 2194, 'recording': 2195, 'reflection': 2196, 'religious': 2197, 'rifle': 2198, 'rings': 2199, 'riot': 2200, 'sad': 2201, 'sawing': 2202, 'scenic': 2203, 'score': 2204, 'section': 2205, 'service': 2206, 'shiny': 2207, 'sledding': 2208, 'sniffing': 2209, 'soap': 2210, 'sorting': 2211, 'sparring': 2212, 'stacked': 2213, 'stall': 2214, 'stoop': 2215, 'strapped': 2216, 'strolls': 2217, 'stump': 2218, 'surfs': 2219, 'tags': 2220, 'task': 2221, 'teen': 2222, 'tending': 2223, 'than': 2224, 'ticket': 2225, 'tight': 2226, 'tiled': 2227, 'tired': 2228, 'tournament': 2229, 'treat': 2230, 'trench': 2231, 'tripod': 2232, 'turban': 2233, 'types': 2234, 'unhappy': 2235, 'unique': 2236, 'upset': 2237, 'waist': 2238, 'wheeler': 2239, 'wig': 2240, 'wind': 2241, 'writes': 2242, '6': 2243, 'abandoned': 2244, 'accident': 2245, 'acrobatic': 2246, 'amount': 2247, 'aqua': 2248, 'aquarium': 2249, 'artists': 2250, 'babies': 2251, 'banners': 2252, 'barefooted': 2253, 'bartender': 2254, 'batman': 2255, 'beads': 2256, 'because': 2257, 'bedroom': 2258, 'bra': 2259, 'bridesmaids': 2260, 'bundle': 2261, 'buried': 2262, 'camels': 2263, 'campfire': 2264, 'canal': 2265, 'candle': 2266, 'canoes': 2267, 'carrier': 2268, 'casino': 2269, 'cheerleading': 2270, 'cigar': 2271, 'clowns': 2272, 'cluttered': 2273, 'coca': 2274, 'colorfully': 2275, 'columns': 2276, 'commercial': 2277, 'companion': 2278, 'conductor': 2279, 'crashing': 2280, 'crayons': 2281, 'cries': 2282, 'darkened': 2283, 'daytime': 2284, 'destination': 2285, 'directing': 2286, 'downhill': 2287, 'draped': 2288, 'draw': 2289, 'draws': 2290, 'easel': 2291, 'employee': 2292, 'establishment': 2293, 'europe': 2294, 'european': 2295, 'even': 2296, 'fat': 2297, 'figures': 2298, 'filming': 2299, 'flannel': 2300, 'followed': 2301, 'foods': 2302, 'forested': 2303, 'fountains': 2304, 'gesture': 2305, 'gown': 2306, 'grab': 2307, 'grand': 2308, 'had': 2309, 'halloween': 2310, 'hammering': 2311, 'hammock': 2312, 'hardwood': 2313, 'harmonica': 2314, 'hawaiian': 2315, 'hispanic': 2316, 'homemade': 2317, 'human': 2318, 'hydrant': 2319, 'india': 2320, 'industrial': 2321, 'jockeys': 2322, 'judges': 2323, 'kisses': 2324, 'labeled': 2325, 'laboratory': 2326, 'lanterns': 2327, 'league': 2328, 'lips': 2329, 'lively': 2330, 'loaded': 2331, 'looked': 2332, 'marble': 2333, 'masks': 2334, 'mess': 2335, 'midst': 2336, 'mix': 2337, 'mixer': 2338, 'monopoly': 2339, 'much': 2340, 'murky': 2341, 'muscular': 2342, 'nail': 2343, 'napping': 2344, 'navigates': 2345, 'notebook': 2346, 'notes': 2347, 'package': 2348, 'packed': 2349, 'pay': 2350, 'peers': 2351, 'photographers': 2352, 'plain': 2353, 'pocket': 2354, 'pony': 2355, 'pours': 2356, 'product': 2357, 'projector': 2358, 'protect': 2359, 'punch': 2360, 'purses': 2361, 'redhead': 2362, 'rug': 2363, 'sailboat': 2364, 'say': 2365, 'scrubs': 2366, 'series': 2367, 'shadow': 2368, 'shaggy': 2369, 'signing': 2370, 'skies': 2371, 'skills': 2372, 'skinny': 2373, 'somewhere': 2374, 'speaker': 2375, 'speeding': 2376, 'spins': 2377, 'splashed': 2378, 'spot': 2379, 'spotlight': 2380, 'sprays': 2381, 'spring': 2382, 'squeezing': 2383, 'staff': 2384, 'state': 2385, 'stretches': 2386, 'stringed': 2387, 'strolling': 2388, 'stuck': 2389, 'stuff': 2390, 'surgical': 2391, 'synchronized': 2392, 'tackled': 2393, 'teammates': 2394, 'times': 2395, 'too': 2396, 'toothbrush': 2397, 'tour': 2398, 'trains': 2399, 'transit': 2400, 'travel': 2401, 'underground': 2402, 'unusual': 2403, 'variety': 2404, 'vending': 2405, 'victory': 2406, 'vintage': 2407, 'waiter': 2408, 'walmart': 2409, 'warehouse': 2410, 'washer': 2411, 'waterskiing': 2412, 'wheeled': 2413, 'when': 2414, 'win': 2415, 'yo': 2416, '?': 2417, 'accompanied': 2418, 'acting': 2419, 'activities': 2420, 'adorned': 2421, 'advertisements': 2422, 'ages': 2423, 'amid': 2424, 'arrow': 2425, 'await': 2426, 'backseat': 2427, 'bananas': 2428, 'barely': 2429, 'barrels': 2430, 'battle': 2431, 'beating': 2432, 'beers': 2433, 'begin': 2434, 'bend': 2435, 'blurred': 2436, 'bongo': 2437, 'bounds': 2438, 'boxer': 2439, 'british': 2440, 'buffet': 2441, 'bush': 2442, 'call': 2443, 'cameraman': 2444, 'cannon': 2445, 'casting': 2446, 'cathedral': 2447, 'cave': 2448, 'character': 2449, 'characters': 2450, 'chased': 2451, 'cheerleader': 2452, 'chin': 2453, 'cigarettes': 2454, 'collie': 2455, 'completing': 2456, 'complex': 2457, 'conducting': 2458, 'confetti': 2459, 'contest': 2460, 'cotton': 2461, 'crawls': 2462, 'create': 2463, 'crops': 2464, 'crosscountry': 2465, 'daily': 2466, 'defender': 2467, 'deli': 2468, 'demonstration': 2469, 'designed': 2470, 'desks': 2471, 'dinosaur': 2472, 'disc': 2473, 'discuss': 2474, 'divers': 2475, 'doctors': 2476, 'dolls': 2477, 'dotted': 2478, 'dryer': 2479, 'drying': 2480, 'dyed': 2481, 'earth': 2482, 'elder': 2483, 'elementary': 2484, 'entertain': 2485, 'environment': 2486, 'examine': 2487, 'exercising': 2488, 'exiting': 2489, 'facial': 2490, 'feather': 2491, 'fedora': 2492, 'fellow': 2493, 'fetch': 2494, 'fields': 2495, 'fill': 2496, 'find': 2497, 'fireworks': 2498, 'flock': 2499, 'fog': 2500, 'foggy': 2501, 'framed': 2502, 'frying': 2503, 'fuzzy': 2504, 'greyhounds': 2505, 'grinds': 2506, 'guide': 2507, 'harbor': 2508, 'hotdogs': 2509, 'husband': 2510, 'illuminated': 2511, 'ingredients': 2512, 'jenga': 2513, 'laid': 2514, 'legged': 2515, 'leopard': 2516, 'level': 2517, 'licking': 2518, 'lining': 2519, 'lion': 2520, 'logo': 2521, 'lush': 2522, 'marked': 2523, 'marker': 2524, 'mascot': 2525, 'may': 2526, 'maybe': 2527, 'mcdonald': 2528, 'meadow': 2529, 'measuring': 2530, 'medieval': 2531, 'mini': 2532, 'mitt': 2533, 'monitors': 2534, 'monk': 2535, 'mountainous': 2536, 'mounted': 2537, 'mouths': 2538, 'mowing': 2539, 'named': 2540, 'necklaces': 2541, 'newlywed': 2542, 'nine': 2543, 'nude': 2544, 'nun': 2545, 'oil': 2546, 'ordering': 2547, 'our': 2548, 'own': 2549, 'pans': 2550, 'parent': 2551, 'patrons': 2552, 'peaks': 2553, 'picket': 2554, 'pigeon': 2555, 'pirate': 2556, 'pointed': 2557, 'policemen': 2558, 'poodle': 2559, 'pops': 2560, 'prepared': 2561, 'pro': 2562, 'punching': 2563, 'puppet': 2564, 'purchase': 2565, 'pyramid': 2566, 'quiet': 2567, 'radio': 2568, 'rafts': 2569, 'railings': 2570, 'raining': 2571, 'reception': 2572, 'resort': 2573, 'return': 2574, 'roll': 2575, 'rollerskates': 2576, 'rolls': 2577, 'rustic': 2578, 's': 2579, 'scientist': 2580, 'sculptures': 2581, 'seafood': 2582, 'seating': 2583, 'separate': 2584, 'shawl': 2585, 'shower': 2586, 'sidelines': 2587, 'silhouetted': 2588, 'skydiving': 2589, 'skyline': 2590, 'slacks': 2591, 'snacks': 2592, 'snowboards': 2593, 'social': 2594, 'sold': 2595, 'speeds': 2596, 'squats': 2597, 'stance': 2598, 'starring': 2599, 'stores': 2600, 'striking': 2601, 'strings': 2602, 'stripe': 2603, 'sunbathing': 2604, 'supermarket': 2605, 'support': 2606, 'tablecloth': 2607, 'tail': 2608, 'tarp': 2609, 'temple': 2610, 'thick': 2611, 'though': 2612, 'tiger': 2613, 'topless': 2614, 'tow': 2615, 'tracksuit': 2616, 'travels': 2617, 'treadmill': 2618, 'trophy': 2619, 'trotting': 2620, 'turkey': 2621, 'tutu': 2622, 'typing': 2623, 'ultimate': 2624, 'upwards': 2625, 'usa': 2626, 'vacuum': 2627, 'vacuuming': 2628, 'vibrant': 2629, 'visor': 2630, 'warming': 2631, 'wash': 2632, 'watermelons': 2633, 'weight': 2634, 'were': 2635, 'wilderness': 2636, 'woodland': 2637, 'workman': 2638, 'wrestlers': 2639, 'xylophone': 2640, 'year': 2641, '11': 2642, '8': 2643, 'aboard': 2644, 'age': 2645, 'aiming': 2646, 'am': 2647, 'ancient': 2648, 'angle': 2649, 'anvil': 2650, 'any': 2651, 'armed': 2652, 'arrangement': 2653, 'assembled': 2654, 'assisting': 2655, 'award': 2656, 'axe': 2657, 'badge': 2658, 'badminton': 2659, 'barriers': 2660, 'beams': 2661, 'belly': 2662, 'bib': 2663, 'bikinis': 2664, 'bit': 2665, 'blocking': 2666, 'blower': 2667, 'boarding': 2668, 'bodysuit': 2669, 'boogie': 2670, 'bottoms': 2671, 'bows': 2672, 'bowtie': 2673, 'boxers': 2674, 'briefcase': 2675, 'broad': 2676, 'bronco': 2677, 'brooms': 2678, 'bulldozer': 2679, 'bunny': 2680, 'butcher': 2681, 'cable': 2682, 'canyon': 2683, 'cardigan': 2684, 'cash': 2685, 'cats': 2686, 'ceremonial': 2687, 'checked': 2688, 'checkout': 2689, 'circus': 2690, 'citizens': 2691, 'clap': 2692, 'climbers': 2693, 'clothed': 2694, 'clutching': 2695, 'coast': 2696, 'column': 2697, 'completely': 2698, 'congregate': 2699, 'connected': 2700, 'constructed': 2701, 'convenience': 2702, 'convention': 2703, 'crafting': 2704, 'crash': 2705, 'crate': 2706, 'creates': 2707, 'crest': 2708, 'crown': 2709, 'damaged': 2710, 'deer': 2711, 'deserted': 2712, 'dessert': 2713, 'devices': 2714, 'dots': 2715, 'double': 2716, 'dragon': 2717, 'dropping': 2718, 'dump': 2719, 'elaborate': 2720, 'elevated': 2721, 'evil': 2722, 'excitedly': 2723, 'expanse': 2724, 'expression': 2725, 'favorite': 2726, 'feathered': 2727, 'features': 2728, 'finished': 2729, 'fixes': 2730, 'flames': 2731, 'flat': 2732, 'floors': 2733, 'flowery': 2734, 'focus': 2735, 'follow': 2736, 'fork': 2737, 'fort': 2738, 'gap': 2739, 'glacier': 2740, 'gloved': 2741, 'goatee': 2742, 'gowns': 2743, 'grasping': 2744, 'grills': 2745, 'handbag': 2746, 'handheld': 2747, 'harvesting': 2748, 'hearts': 2749, 'heavyset': 2750, 'hook': 2751, 'hour': 2752, 'hunched': 2753, 'husky': 2754, 'identical': 2755, 'information': 2756, 'jack': 2757, 'javelin': 2758, 'jewish': 2759, 'jumpsuits': 2760, 'kicked': 2761, 'kiosk': 2762, 'knitting': 2763, 'lands': 2764, 'lanes': 2765, 'late': 2766, 'legos': 2767, 'length': 2768, 'licks': 2769, 'lime': 2770, 'lipstick': 2771, 'liquor': 2772, 'lovely': 2773, 'lower': 2774, 'main': 2775, 'mature': 2776, 'merry': 2777, 'miami': 2778, 'microscopes': 2779, 'miniature': 2780, 'missing': 2781, 'mittens': 2782, 'mountaintop': 2783, 'mouse': 2784, 'mule': 2785, 'muslim': 2786, 'nails': 2787, 'nearly': 2788, 'nightclub': 2789, 'noses': 2790, 'nurse': 2791, 'ny': 2792, 'o': 2793, 'olive': 2794, 'operated': 2795, 'overlook': 2796, 'pad': 2797, 'pain': 2798, 'parallel': 2799, 'pedal': 2800, 'personnel': 2801, 'piles': 2802, 'pillar': 2803, 'pipes': 2804, 'pitching': 2805, 'plank': 2806, 'political': 2807, 'popcorn': 2808, 'portable': 2809, 'posed': 2810, 'presents': 2811, 'probably': 2812, 'professor': 2813, 'progress': 2814, 'propped': 2815, 'pub': 2816, 'pushed': 2817, 'quad': 2818, 'rack': 2819, 'rag': 2820, 'rails': 2821, 'raise': 2822, 'raking': 2823, 'ravine': 2824, 'razor': 2825, 'relaxes': 2826, 'relay': 2827, 'renaissance': 2828, 'ribbons': 2829, 'rimmed': 2830, 'riverbank': 2831, 'rolled': 2832, 'rugs': 2833, 'rush': 2834, 'rusty': 2835, 'sample': 2836, 'saris': 2837, 'scaling': 2838, 'scantily': 2839, 'scattered': 2840, 'scissors': 2841, 'scooping': 2842, 'seagulls': 2843, 'seattle': 2844, 'senior': 2845, 'shingles': 2846, 'shorter': 2847, 'shouting': 2848, 'skateboarders': 2849, 'skull': 2850, 'sleep': 2851, 'sleeves': 2852, 'slopes': 2853, 'snowball': 2854, 'soars': 2855, 'socializing': 2856, 'somebody': 2857, 'sooners': 2858, 'soup': 2859, 'spatula': 2860, 'special': 2861, 'spots': 2862, 'sprinklers': 2863, 'squad': 2864, 'stair': 2865, 'stars': 2866, 'stirring': 2867, 'stretched': 2868, 'strike': 2869, 'strollers': 2870, 'stunts': 2871, 'sundress': 2872, 'sunshine': 2873, 'superman': 2874, 'surfers': 2875, 'swan': 2876, 'swords': 2877, 'system': 2878, 'talent': 2879, 'teddy': 2880, 'terrier': 2881, 'test': 2882, 'texting': 2883, 'those': 2884, 'ties': 2885, 'tips': 2886, 'toe': 2887, 'tomatoes': 2888, 'tubes': 2889, 'tying': 2890, 'university': 2891, 'unloading': 2892, 'upright': 2893, 'walkers': 2894, 'watering': 2895, 'waterside': 2896, 'waterskier': 2897, 'weapon': 2898, 'wheelchairs': 2899, 'whistle': 2900, 'wineglasses': 2901, 'within': 2902, 'words': 2903, 'woven': 2904, 'written': 2905, 'zone': 2906, '10': 2907, '7': 2908, 'actors': 2909, 'ad': 2910, 'aid': 2911, 'americans': 2912, 'amish': 2913, 'angels': 2914, 'angry': 2915, 'antique': 2916, 'apparatus': 2917, 'appearing': 2918, 'apples': 2919, 'applies': 2920, 'archway': 2921, 'armor': 2922, 'arrive': 2923, 'artistic': 2924, 'ascending': 2925, 'asphalt': 2926, 'assistant': 2927, 'attendant': 2928, 'attentively': 2929, 'available': 2930, 'ax': 2931, 'backhoe': 2932, 'backlit': 2933, 'backstroke': 2934, 'backward': 2935, 'baked': 2936, 'bakery': 2937, 'balanced': 2938, 'banana': 2939, 'barbecuing': 2940, 'barking': 2941, 'barren': 2942, 'baseman': 2943, 'baton': 2944, 'beginning': 2945, 'besides': 2946, 'bites': 2947, 'blindfolded': 2948, 'blocked': 2949, 'blurry': 2950, 'bones': 2951, 'bookshelf': 2952, 'boss': 2953, 'bounding': 2954, 'braided': 2955, 'breaks': 2956, 'breath': 2957, 'brindle': 2958, 'bronze': 2959, 'bundled': 2960, 'bushy': 2961, 'businessman': 2962, 'campers': 2963, 'campsite': 2964, 'canopy': 2965, 'cargo': 2966, 'caricature': 2967, 'carousel': 2968, 'carried': 2969, 'cartwheel': 2970, 'carve': 2971, 'carved': 2972, 'cast': 2973, 'cattle': 2974, 'chained': 2975, 'chains': 2976, 'challenge': 2977, 'champagne': 2978, 'chat': 2979, 'cheeks': 2980, 'chips': 2981, 'chunk': 2982, 'cinder': 2983, 'cityscape': 2984, 'clarinet': 2985, 'claus': 2986, 'clearing': 2987, 'clock': 2988, 'clothesline': 2989, 'cloths': 2990, 'cockpit': 2991, 'collecting': 2992, 'combat': 2993, 'comforting': 2994, 'community': 2995, 'competitive': 2996, 'competitors': 2997, 'completed': 2998, 'concentrates': 2999, 'conditions': 3000, 'confused': 3001, 'contents': 3002, 'cookies': 3003, 'cooler': 3004, 'coolers': 3005, 'cowgirl': 3006, 'cows': 3007, 'cradles': 3008, 'crawling': 3009, 'crazy': 3010, 'crowns': 3011, 'curve': 3012, 'curved': 3013, 'daylight': 3014, 'decorating': 3015, 'descending': 3016, 'designer': 3017, 'dig': 3018, 'digs': 3019, 'dilapidated': 3020, 'directs': 3021, 'disney': 3022, 'dominoes': 3023, 'donkeys': 3024, 'dribbles': 3025, 'drilling': 3026, 'dunking': 3027, 'eagerly': 3028, 'early': 3029, 'earrings': 3030, 'elephants': 3031, 'embrace': 3032, 'emerges': 3033, 'equestrian': 3034, 'escape': 3035, 'excitement': 3036, 'exhibition': 3037, 'exploring': 3038, 'expressions': 3039, 'eyeglasses': 3040, 'fairy': 3041, 'feathers': 3042, 'fills': 3043, 'film': 3044, 'fireplace': 3045, 'fishermen': 3046, 'fit': 3047, 'flaming': 3048, 'floaties': 3049, 'flowing': 3050, 'foam': 3051, 'forming': 3052, 'girlfriend': 3053, 'given': 3054, 'glider': 3055, 'gliding': 3056, 'goats': 3057, 'graffitied': 3058, 'greenery': 3059, 'gum': 3060, 'hairstyle': 3061, 'handles': 3062, 'handling': 3063, 'harp': 3064, 'headset': 3065, 'hear': 3066, 'herding': 3067, 'historic': 3068, 'holes': 3069, 'hooping': 3070, 'huddle': 3071, 'huddled': 3072, 'includes': 3073, 'inspect': 3074, 'installing': 3075, 'instructing': 3076, 'interact': 3077, 'interviewed': 3078, 'ipod': 3079, 'island': 3080, 'japan': 3081, 'jog': 3082, 'keys': 3083, 'kimonos': 3084, 'kites': 3085, 'lantern': 3086, 'lasso': 3087, 'last': 3088, 'latin': 3089, 'lean': 3090, 'leaned': 3091, 'leashes': 3092, 'least': 3093, 'lie': 3094, 'lingerie': 3095, 'lost': 3096, 'lowered': 3097, 'magnifying': 3098, 'major': 3099, 'makeshift': 3100, 'mannequin': 3101, 'marches': 3102, 'masked': 3103, 'massive': 3104, 'mats': 3105, 'mattress': 3106, 'mcdonalds': 3107, 'memorial': 3108, 'merchant': 3109, 'message': 3110, 'metro': 3111, 'mic': 3112, 'minivan': 3113, 'mops': 3114, 'mothers': 3115, 'motorbikes': 3116, 'multicolor': 3117, 'mustard': 3118, 'nicely': 3119, 'nike': 3120, 'oar': 3121, 'obama': 3122, 'observers': 3123, 'offering': 3124, 'opened': 3125, 'operation': 3126, 'opponents': 3127, 'pacifier': 3128, 'padded': 3129, 'parachutes': 3130, 'parachuting': 3131, 'parts': 3132, 'partying': 3133, 'passed': 3134, 'passerby': 3135, 'pauses': 3136, 'peacock': 3137, 'peak': 3138, 'pedestrian': 3139, 'perched': 3140, 'perhaps': 3141, 'persons': 3142, 'petals': 3143, 'photographing': 3144, 'ping': 3145, 'pinned': 3146, 'pinstriped': 3147, 'plush': 3148, 'poking': 3149, 'poodles': 3150, 'port': 3151, 'positioned': 3152, 'posters': 3153, 'posts': 3154, 'pride': 3155, 'priest': 3156, 'punk': 3157, 'rake': 3158, 'reclines': 3159, 'recreational': 3160, 'register': 3161, 'remote': 3162, 'returns': 3163, 'roadwork': 3164, 'robot': 3165, 'rollerskaters': 3166, 'rounding': 3167, 'rowboat': 3168, 'rubble': 3169, 'rubs': 3170, 'ruins': 3171, 'sacks': 3172, 'sail': 3173, 'sailboats': 3174, 'sailor': 3175, 'saying': 3176, 'scales': 3177, 'scout': 3178, 'searching': 3179, 'season': 3180, 'seesaw': 3181, 'served': 3182, 'shack': 3183, 'shady': 3184, 'sharp': 3185, 'sheer': 3186, 'sheets': 3187, 'shelves': 3188, 'shines': 3189, 'shoeshine': 3190, 'singers': 3191, 'sister': 3192, 'slicing': 3193, 'smooth': 3194, 'snap': 3195, 'snaps': 3196, 'snowboarders': 3197, 'snowcapped': 3198, 'snowman': 3199, 'soft': 3200, 'sound': 3201, 'spike': 3202, 'splash': 3203, 'split': 3204, 'spongebob': 3205, 'sponsored': 3206, 'st': 3207, 'st.': 3208, 'stacks': 3209, 'starts': 3210, 'states': 3211, 'steers': 3212, 'storefronts': 3213, 'strap': 3214, 'stretch': 3215, 'stride': 3216, 'struggles': 3217, 'struggling': 3218, 'stylish': 3219, 'suburban': 3220, 'suitcases': 3221, 'surgeons': 3222, 'sweaters': 3223, 'sweatshirts': 3224, 'sweatsuit': 3225, 'symbol': 3226, 'terminal': 3227, 'text': 3228, 'theme': 3229, 'themed': 3230, 'tiara': 3231, 'toilet': 3232, 'tomato': 3233, 'tongs': 3234, 'torches': 3235, 'tossed': 3236, 'towels': 3237, 'trays': 3238, 'tribe': 3239, 'trimming': 3240, 'tugging': 3241, 'tumbling': 3242, 'tunic': 3243, 'tuxedo': 3244, 'unfinished': 3245, 'unknown': 3246, 'upper': 3247, 'utility': 3248, 'varying': 3249, 'vegetation': 3250, 'vertical': 3251, 'vocalist': 3252, 'waitress': 3253, 'wakeboard': 3254, 'want': 3255, 'watercraft': 3256, 'watermelon': 3257, 'weapons': 3258, 'welcome': 3259, 'whole': 3260, 'windbreaker': 3261, 'winding': 3262, 'wiping': 3263, 'workmen': 3264, 'yelling': 3265, 'your': 3266, 'zebra': 3267, 'zip': 3268, 'zoo': 3269, '9': 3270, 'accepting': 3271, 'actively': 3272, 'adorable': 3273, 'aerial': 3274, 'africa': 3275, 'aircraft': 3276, 'alcohol': 3277, 'alike': 3278, 'apparel': 3279, 'arabic': 3280, 'areas': 3281, 'arid': 3282, 'artificial': 3283, 'asking': 3284, 'attraction': 3285, 'automobile': 3286, 'avoid': 3287, 'balconies': 3288, 'ballerinas': 3289, 'banging': 3290, 'basement': 3291, 'basketballs': 3292, 'bathrobe': 3293, 'bay': 3294, 'beards': 3295, 'bears': 3296, 'beat': 3297, 'begging': 3298, 'best': 3299, 'beyond': 3300, 'blade': 3301, 'blown': 3302, 'bookbag': 3303, 'bookstore': 3304, 'boston': 3305, 'boulders': 3306, 'bowler': 3307, 'bracelet': 3308, 'breaking': 3309, 'bridal': 3310, 'brimmed': 3311, 'bringing': 3312, 'brochure': 3313, 'brow': 3314, 'buggy': 3315, 'build': 3316, 'bungee': 3317, 'buoy': 3318, 'burgers': 3319, 'buses': 3320, 'ca': 3321, 'cabin': 3322, 'cables': 3323, 'cafeteria': 3324, 'calling': 3325, 'came': 3326, 'camper': 3327, 'carpeted': 3328, 'cartoon': 3329, 'casts': 3330, 'cause': 3331, 'caution': 3332, 'celebrates': 3333, 'cemetery': 3334, 'charcoal': 3335, 'chested': 3336, 'chews': 3337, 'chickens': 3338, 'chinatown': 3339, 'chip': 3340, 'chiseling': 3341, 'chubby': 3342, 'civil': 3343, 'cleaned': 3344, 'closer': 3345, 'coconuts': 3346, 'coke': 3347, 'collection': 3348, 'comfortable': 3349, 'communicating': 3350, 'competes': 3351, 'constructing': 3352, 'contemplating': 3353, 'controls': 3354, 'convertible': 3355, 'cooked': 3356, 'cookie': 3357, 'county': 3358, 'coveralls': 3359, 'crab': 3360, 'craftsman': 3361, 'crayon': 3362, 'created': 3363, 'crib': 3364, 'cruise': 3365, 'crutches': 3366, 'cubicle': 3367, 'cupcake': 3368, 'cupcakes': 3369, 'curious': 3370, 'currently': 3371, 'd': 3372, 'daughters': 3373, 'decide': 3374, 'deere': 3375, 'defenders': 3376, 'defensive': 3377, 'delicious': 3378, 'demonstrating': 3379, 'descend': 3380, 'despite': 3381, 'diners': 3382, 'directly': 3383, 'disk': 3384, 'dolly': 3385, 'dolphin': 3386, 'dozens': 3387, 'drag': 3388, 'drainage': 3389, 'dramatically': 3390, 'dribbling': 3391, 'driven': 3392, 'drivers': 3393, 'drop': 3394, 'dropped': 3395, 'drops': 3396, 'dunes': 3397, 'dunk': 3398, 'earmuffs': 3399, 'eatery': 3400, 'electronics': 3401, 'else': 3402, 'emerging': 3403, 'enforcement': 3404, 'engage': 3405, 'entertainer': 3406, 'enthusiastically': 3407, 'era': 3408, 'except': 3409, 'exciting': 3410, 'exits': 3411, 'exposed': 3412, 'extended': 3413, 'extremely': 3414, 'fashionable': 3415, 'fetching': 3416, 'fighter': 3417, 'file': 3418, 'fine': 3419, 'firetrucks': 3420, 'firing': 3421, 'fitness': 3422, 'fives': 3423, 'flatbed': 3424, 'flea': 3425, 'floored': 3426, 'floppy': 3427, 'flour': 3428, 'fluorescent': 3429, 'fold': 3430, 'footbridge': 3431, 'force': 3432, 'forces': 3433, 'formed': 3434, 'foundation': 3435, 'fourth': 3436, 'frames': 3437, 'freshly': 3438, 'frog': 3439, 'frustrated': 3440, 'galloping': 3441, 'gated': 3442, 'gay': 3443, 'goers': 3444, 'golfer': 3445, 'graduation': 3446, 'greeting': 3447, 'grins': 3448, 'grown': 3449, 'guarding': 3450, 'guitarists': 3451, 'gymnastic': 3452, 'halter': 3453, 'hauling': 3454, 'hawk': 3455, 'headbands': 3456, 'headscarves': 3457, 'helmeted': 3458, 'helped': 3459, 'henna': 3460, 'hero': 3461, 'hidden': 3462, 'hikes': 3463, 'hilly': 3464, 'hips': 3465, 'holiday': 3466, 'hopscotch': 3467, 'horns': 3468, 'hung': 3469, 'impressive': 3470, 'incoming': 3471, 'inflated': 3472, 'inline': 3473, 'instructor': 3474, 'intense': 3475, 'jar': 3476, 'jazz': 3477, 'jewelery': 3478, 'joggers': 3479, 'kayaker': 3480, 'kayakers': 3481, 'keeping': 3482, 'kickboxing': 3483, 'kiddie': 3484, 'kilts': 3485, 'kitchenaid': 3486, 'kitten': 3487, 'know': 3488, 'known': 3489, 'ladders': 3490, 'landed': 3491, 'law': 3492, 'layers': 3493, 'leafless': 3494, 'lemon': 3495, 'lemons': 3496, 'letters': 3497, 'liberty': 3498, 'lid': 3499, 'lifeguards': 3500, 'likely': 3501, 'lip': 3502, 'litter': 3503, 'lonely': 3504, 'loop': 3505, 'loose': 3506, 'm': 3507, 'mac': 3508, 'mailbox': 3509, 'mark': 3510, 'markings': 3511, 'marsh': 3512, 'mascara': 3513, 'mates': 3514, 'mechanic': 3515, 'mechanical': 3516, 'megaphone': 3517, 'mermaid': 3518, 'mesh': 3519, 'messenger': 3520, 'metallic': 3521, 'mickey': 3522, 'milk': 3523, 'mind': 3524, 'monster': 3525, 'motorboat': 3526, 'mountainside': 3527, 'multi': 3528, 'mustached': 3529, 'muzzles': 3530, 'noodles': 3531, 'note': 3532, 'occupied': 3533, 'occurring': 3534, 'octopus': 3535, 'oklahoma': 3536, 'once': 3537, 'orders': 3538, 'organ': 3539, 'organizing': 3540, 'overcoat': 3541, 'overhang': 3542, 'oversized': 3543, 'overturned': 3544, 'owner': 3545, 'owners': 3546, 'oxen': 3547, 'packing': 3548, 'padding': 3549, 'paintbrush': 3550, 'paintings': 3551, 'pancake': 3552, 'panel': 3553, 'parasol': 3554, 'participants': 3555, 'participates': 3556, 'partly': 3557, 'passionately': 3558, 'pastries': 3559, 'patrol': 3560, 'paws': 3561, 'peach': 3562, 'peeks': 3563, 'peeling': 3564, 'photography': 3565, 'picker': 3566, 'pickup': 3567, 'pictured': 3568, 'pie': 3569, 'piercing': 3570, 'pig': 3571, 'piggyback': 3572, 'piled': 3573, 'pillars': 3574, 'pirates': 3575, 'pitchers': 3576, 'playpen': 3577, 'plowing': 3578, 'plucking': 3579, 'poised': 3580, 'pokes': 3581, 'polish': 3582, 'pong': 3583, 'pop': 3584, 'possession': 3585, 'postal': 3586, 'potted': 3587, 'poverty': 3588, 'powder': 3589, 'powered': 3590, 'prayer': 3591, 'pregnant': 3592, 'preparation': 3593, 'pressure': 3594, 'pretending': 3595, 'princess': 3596, 'prints': 3597, 'prizes': 3598, 'professionals': 3599, 'projected': 3600, 'promoting': 3601, 'propane': 3602, 'puffy': 3603, 'purchasing': 3604, 'puzzle': 3605, 'quaint': 3606, 'quick': 3607, 'rabbit': 3608, 'rabbits': 3609, 'railway': 3610, 'ramps': 3611, 'readying': 3612, 'rear': 3613, 'receive': 3614, 'receives': 3615, 'reddish': 3616, 'ref': 3617, 'removing': 3618, 'retail': 3619, 'retrieving': 3620, 'returning': 3621, 'ridding': 3622, 'roadway': 3623, 'rocking': 3624, 'rode': 3625, 'rollerblader': 3626, 'roping': 3627, 'roses': 3628, 'rounds': 3629, 'runway': 3630, 'saddle': 3631, 'safe': 3632, 'salad': 3633, 'sandal': 3634, 'sashes': 3635, 'sausages': 3636, 'scale': 3637, 'scared': 3638, 'scoop': 3639, 'scottish': 3640, 'scrap': 3641, 'scratching': 3642, 'sculpting': 3643, 'sculptor': 3644, 'seagull': 3645, 'seashore': 3646, 'seaweed': 3647, 'seeds': 3648, 'selecting': 3649, 'seniors': 3650, 'shapes': 3651, 'shave': 3652, 'shed': 3653, 'sheepdog': 3654, 'shields': 3655, 'shit': 3656, 'shoots': 3657, 'siding': 3658, 'sight': 3659, 'similarly': 3660, 'sip': 3661, 'siting': 3662, 'skeleton': 3663, 'skimpy': 3664, 'slab': 3665, 'slam': 3666, 'slender': 3667, 'slices': 3668, 'slip': 3669, 'sloping': 3670, 'slot': 3671, 'slowly': 3672, 'smoothing': 3673, 'snake': 3674, 'sniffs': 3675, 'snorkel': 3676, 'snowing': 3677, 'soil': 3678, 'soldering': 3679, 'solitary': 3680, 'solo': 3681, 'someones': 3682, 'sons': 3683, 'sorts': 3684, 'south': 3685, 'spandex': 3686, 'speakers': 3687, 'spear': 3688, 'spectate': 3689, 'speedo': 3690, 'spiked': 3691, 'spikes': 3692, 'spin': 3693, 'sprinting': 3694, 'squares': 3695, 'stacking': 3696, 'stairwell': 3697, 'stalks': 3698, 'starbucks': 3699, 'stationary': 3700, 'statues': 3701, 'stay': 3702, 'steaks': 3703, 'steam': 3704, 'steer': 3705, 'stirs': 3706, 'stocking': 3707, 'stockings': 3708, 'stools': 3709, 'storage': 3710, 'storm': 3711, 'straps': 3712, 'strawberry': 3713, 'streetlight': 3714, 'strikes': 3715, 'strip': 3716, 'structures': 3717, 'studies': 3718, 'submerged': 3719, 'substance': 3720, 'such': 3721, 'sucking': 3722, 'sumo': 3723, 'sunbathers': 3724, 'sunhat': 3725, 'sunrise': 3726, 'surround': 3727, 'surroundings': 3728, 'suv': 3729, 'swampy': 3730, 'sweaty': 3731, 'swimwear': 3732, 'tackles': 3733, 'tagged': 3734, 'taller': 3735, 'tap': 3736, 'taste': 3737, 'tasting': 3738, 'tattered': 3739, 'taught': 3740, 'taxis': 3741, 'technique': 3742, 'technology': 3743, 'temporary': 3744, 'terrace': 3745, 'texts': 3746, 'think': 3747, 'thinking': 3748, 'thought': 3749, 'tickets': 3750, 'tightly': 3751, 'tightrope': 3752, 'tip': 3753, 'toast': 3754, 'topic': 3755, 'torn': 3756, 'tosses': 3757, 'trained': 3758, 'tram': 3759, 'triangle': 3760, 'trims': 3761, 'trombone': 3762, 'troops': 3763, 'tuning': 3764, 'turtle': 3765, 'twelve': 3766, 'twirling': 3767, 'twister': 3768, 'typical': 3769, 'ukulele': 3770, 'unicef': 3771, 'unidentified': 3772, 'unpacking': 3773, 'unpaved': 3774, 'unseen': 3775, 'ups': 3776, 'used': 3777, 'vacation': 3778, 'vast': 3779, 'vegas': 3780, 'via': 3781, 'videotaping': 3782, 'viewer': 3783, 'villagers': 3784, 'violinist': 3785, 'volkswagen': 3786, 'wades': 3787, 'waring': 3788, 'warning': 3789, 'washed': 3790, 'washington': 3791, 'ways': 3792, 'weathered': 3793, 'weave': 3794, 'weeds': 3795, 'weighing': 3796, 'weird': 3797, 'western': 3798, 'wetsuits': 3799, 'whispering': 3800, 'wicker': 3801, 'wigs': 3802, 'winning': 3803, 'wipes': 3804, 'wool': 3805, 'word': 3806, 'workbench': 3807, 'wraps': 3808, 'write': 3809, 'yamaha': 3810, 'youngsters': 3811, 'youths': 3812, '12': 3813, '24': 3814, '30': 3815, '3rd': 3816, 'a&amp;m': 3817, 'accompanies': 3818, 'adding': 3819, 'addresses': 3820, 'addressing': 3821, 'adjust': 3822, 'admires': 3823, 'adolescent': 3824, 'advantage': 3825, 'again': 3826, 'agility': 3827, 'aim': 3828, 'airline': 3829, 'ally': 3830, 'aluminum': 3831, 'amazing': 3832, 'ambulance': 3833, 'amused': 3834, 'answers': 3835, 'applied': 3836, 'approach': 3837, 'approximately': 3838, 'aquatic': 3839, 'arguing': 3840, 'arranged': 3841, 'arrival': 3842, 'ashore': 3843, 'assembly': 3844, 'assortment': 3845, 'astronaut': 3846, 'attaches': 3847, 'attend': 3848, 'attired': 3849, 'audio': 3850, 'average': 3851, 'awaits': 3852, 'awe': 3853, 'awning': 3854, 'awnings': 3855, 'b': 3856, 'backhand': 3857, 'baggage': 3858, 'bagpipe': 3859, 'baker': 3860, 'banquet': 3861, 'barbie': 3862, 'bark': 3863, 'barricades': 3864, 'bathed': 3865, 'batons': 3866, 'bats': 3867, 'battling': 3868, 'bead': 3869, 'beagle': 3870, 'beans': 3871, 'bearer': 3872, 'beater': 3873, 'beats': 3874, 'beautifully': 3875, 'bee': 3876, 'berlin': 3877, 'better': 3878, 'blacktop': 3879, 'blonds': 3880, 'blossoming': 3881, 'bmw': 3882, 'boa': 3883, 'boating': 3884, 'border': 3885, 'bordered': 3886, 'bordering': 3887, 'bounce': 3888, 'bouncer': 3889, 'bounces': 3890, 'bouncy': 3891, 'bowed': 3892, 'braces': 3893, 'brazil': 3894, 'breakfast': 3895, 'briefs': 3896, 'briskly': 3897, 'bucks': 3898, 'bug': 3899, 'bulls': 3900, 'bumper': 3901, 'burger': 3902, 'butchering': 3903, 'butt': 3904, 'butter': 3905, 'cabinet': 3906, 'cages': 3907, 'cakes': 3908, 'california': 3909, 'camcorder': 3910, 'cameramen': 3911, 'campaign': 3912, 'canes': 3913, 'canister': 3914, 'canned': 3915, 'capes': 3916, 'captain': 3917, 'captured': 3918, 'captures': 3919, 'careful': 3920, 'ceramic': 3921, 'cereal': 3922, 'charging': 3923, 'chart': 3924, 'cheers': 3925, 'chew': 3926, 'clams': 3927, 'claw': 3928, 'cleats': 3929, 'clerk': 3930, 'cobbled': 3931, 'coin': 3932, 'collected': 3933, 'collide': 3934, 'comb': 3935, 'commuters': 3936, 'coney': 3937, 'congregated': 3938, 'congregating': 3939, 'contains': 3940, 'content': 3941, 'cord': 3942, 'cords': 3943, 'corral': 3944, 'corridor': 3945, 'costumed': 3946, 'countertop': 3947, 'coverings': 3948, 'cracks': 3949, 'crashed': 3950, 'crashes': 3951, 'creative': 3952, 'crocodile': 3953, 'crocs': 3954, 'crotch': 3955, 'crouch': 3956, 'cry': 3957, 'crystal': 3958, 'culture': 3959, 'curling': 3960, 'curtain': 3961, 'cushion': 3962, 'cutout': 3963, 'cycle': 3964, 'cycles': 3965, 'darkly': 3966, 'darkness': 3967, 'darts': 3968, 'dealer': 3969, 'decals': 3970, 'decker': 3971, 'defends': 3972, 'demonstrates': 3973, 'dentist': 3974, 'depicting': 3975, 'descends': 3976, 'desolate': 3977, 'digger': 3978, 'directed': 3979, 'director': 3980, 'dishwasher': 3981, 'distorted': 3982, 'ditch': 3983, 'diverse': 3984, 'dojo': 3985, 'donuts': 3986, 'doo': 3987, 'dorm': 3988, 'dozen': 3989, 'dreads': 3990, 'drenched': 3991, 'dressing': 3992, 'dried': 3993, 'dries': 3994, 'drunk': 3995, 'ds': 3996, 'ducking': 3997, 'duffel': 3998, 'dugout': 3999, 'dumps': 4000, 'dunks': 4001, 'dustpan': 4002, 'dwelling': 4003, 'earbuds': 4004, 'earring': 4005, 'easter': 4006, 'effort': 4007, 'el': 4008, 'elbow': 4009, 'electrical': 4010, 'electrician': 4011, 'elevator': 4012, 'enclosed': 4013, 'enclosure': 4014, 'ends': 4015, 'engages': 4016, 'enter': 4017, 'enters': 4018, 'entertained': 4019, 'entertaining': 4020, 'entertainment': 4021, 'entertains': 4022, 'enthusiasm': 4023, 'enthusiast': 4024, 'equipped': 4025, 'euro': 4026, 'every': 4027, 'everyone': 4028, 'everywhere': 4029, 'exit': 4030, 'expensive': 4031, 'explorer': 4032, 'explores': 4033, 'explosion': 4034, 'exposing': 4035, 'extends': 4036, 'extreme': 4037, 'facade': 4038, 'faced': 4039, 'families': 4040, 'featured': 4041, 'fed': 4042, 'feed': 4043, 'feeds': 4044, 'fences': 4045, 'ferry': 4046, 'festive': 4047, 'films': 4048, 'final': 4049, 'fingernail': 4050, 'fingertips': 4051, 'fist': 4052, 'fists': 4053, 'flashlight': 4054, 'fleece': 4055, 'fliers': 4056, 'flights': 4057, 'flood': 4058, 'flooded': 4059, 'flotation': 4060, 'focuses': 4061, 'footprints': 4062, 'ford': 4063, 'forklift': 4064, 'formations': 4065, 'forrest': 4066, 'fortune': 4067, 'france': 4068, 'freeway': 4069, 'friendly': 4070, 'frosting': 4071, 'fully': 4072, 'gardens': 4073, 'garment': 4074, 'geese': 4075, 'geisha': 4076, 'geometric': 4077, 'gifts': 4078, 'gorgeous': 4079, 'government': 4080, 'graduate': 4081, 'granddaughter': 4082, 'grandmother': 4083, 'graphic': 4084, 'graying': 4085, 'greet': 4086, 'grid': 4087, 'grimacing': 4088, 'gripping': 4089, 'grooms': 4090, 'grouped': 4091, 'growing': 4092, 'guest': 4093, 'gypsy': 4094, 'gyro': 4095, 'hairnet': 4096, 'hamburger': 4097, 'hamburgers': 4098, 'hammers': 4099, 'handful': 4100, 'handicapped': 4101, 'handlebars': 4102, 'handmade': 4103, 'happening': 4104, 'hate': 4105, 'hatted': 4106, 'headgear': 4107, 'healthcare': 4108, 'heartbeat': 4109, 'hedge': 4110, 'heeled': 4111, 'hello': 4112, 'highly': 4113, 'holidays': 4114, 'holing': 4115, 'hollister': 4116, 'honor': 4117, 'hoses': 4118, 'housing': 4119, 'huddling': 4120, 'hundreds': 4121, 'hurdles': 4122, 'huts': 4123, 'index': 4124, 'indians': 4125, 'infants': 4126, 'informal': 4127, 'inner': 4128, 'interested': 4129, 'interior': 4130, 'interview': 4131, 'intimate': 4132, 'ironing': 4133, 'italian': 4134, 'itself': 4135, 'jackhammer': 4136, 'janitor': 4137, 'jars': 4138, 'joe': 4139, 'jogger': 4140, 'jug': 4141, 'junk': 4142, 'karaoke': 4143, 'kart': 4144, 'kettle': 4145, 'key': 4146, 'keyboards': 4147, 'kicker': 4148, 'kinds': 4149, 'kissed': 4150, 'kit': 4151, 'kitty': 4152, 'kneel': 4153, 'knight': 4154, 'knits': 4155, 'knives': 4156, 'korean': 4157, 'la': 4158, 'ladle': 4159, 'lakers': 4160, 'lakeside': 4161, 'landmark': 4162, 'lassoing': 4163, 'latex': 4164, 'latino': 4165, 'launch': 4166, 'launches': 4167, 'launching': 4168, 'layered': 4169, 'leafy': 4170, 'led': 4171, 'lego': 4172, 'lei': 4173, 'leotards': 4174, 'let': 4175, 'lets': 4176, 'letter': 4177, 'limb': 4178, 'limo': 4179, 'littered': 4180, 'lives': 4181, 'livestock': 4182, 'llama': 4183, 'lock': 4184, 'lollipop': 4185, 'lottery': 4186, 'lounges': 4187, 'machete': 4188, 'mad': 4189, 'maneuver': 4190, 'maneuvering': 4191, 'maneuvers': 4192, 'manhole': 4193, 'mannequins': 4194, 'manual': 4195, 'maple': 4196, 'mariachi': 4197, 'marina': 4198, 'marks': 4199, 'master': 4200, 'mate': 4201, 'me': 4202, 'meals': 4203, 'media': 4204, 'meditating': 4205, 'menus': 4206, 'mesmerized': 4207, 'metropolitan': 4208, 'mets': 4209, 'mexico': 4210, 'might': 4211, 'mike': 4212, 'miniskirt': 4213, 'mirrored': 4214, 'mixed': 4215, 'mixes': 4216, 'mock': 4217, 'monks': 4218, 'moose': 4219, 'mopping': 4220, 'mosaic': 4221, 'mosque': 4222, 'moved': 4223, 'mustachioed': 4224, 'names': 4225, 'napkin': 4226, 'natural': 4227, 'navigating': 4228, 'needed': 4229, 'needs': 4230, 'nibbling': 4231, 'nintendo': 4232, 'noodle': 4233, 'notebooks': 4234, 'notice': 4235, 'now': 4236, 'numbered': 4237, 'nursing': 4238, 'observed': 4239, 'offers': 4240, 'ohio': 4241, 'ollie': 4242, 'onlooker': 4243, 'opportunity': 4244, 'organized': 4245, 'ornament': 4246, 'outcropping': 4247, 'outfielder': 4248, 'outstreached': 4249, 'overall': 4250, 'overlooks': 4251, 'overpass': 4252, 'oxford': 4253, 'pace': 4254, 'packages': 4255, 'paddlers': 4256, 'pages': 4257, 'paintball': 4258, 'painters': 4259, 'pairs': 4260, 'panda': 4261, 'paneled': 4262, 'pant': 4263, 'parka': 4264, 'parlor': 4265, 'partner': 4266, 'pastel': 4267, 'pastor': 4268, 'pastry': 4269, 'patches': 4270, 'patiently': 4271, 'patriotic': 4272, 'patron': 4273, 'pause': 4274, 'paving': 4275, 'paw': 4276, 'paying': 4277, 'peaceful': 4278, 'penguin': 4279, 'per': 4280, 'period': 4281, 'pets': 4282, 'pierced': 4283, 'piercings': 4284, 'pitched': 4285, 'pitches': 4286, 'playhouse': 4287, 'pleasant': 4288, 'plugging': 4289, 'pockets': 4290, 'pointy': 4291, 'poker': 4292, 'poncho': 4293, 'ponchos': 4294, 'ponders': 4295, 'ponytails': 4296, 'poorly': 4297, 'popping': 4298, 'portraits': 4299, 'positions': 4300, 'potatoes': 4301, 'pouting': 4302, 'powerpoint': 4303, 'press': 4304, 'presses': 4305, 'pressing': 4306, 'pretends': 4307, 'prevent': 4308, 'primitive': 4309, 'procession': 4310, 'professionally': 4311, 'profile': 4312, 'protester': 4313, 'proud': 4314, 'proudly': 4315, 'provide': 4316, 'pruning': 4317, 'pulley': 4318, 'pump': 4319, 'pumpkins': 4320, 'pursued': 4321, 'quilt': 4322, 'r': 4323, 'racquet': 4324, 'ragged': 4325, 'rags': 4326, 'rainstorm': 4327, 'rakes': 4328, 'rappelling': 4329, 're': 4330, 'real': 4331, 'recently': 4332, 'recliner': 4333, 'records': 4334, 'rectangular': 4335, 'referees': 4336, 'reflections': 4337, 'refreshing': 4338, 'rehearsing': 4339, 'related': 4340, 'released': 4341, 'remove': 4342, 'removed': 4343, 'removes': 4344, 'reporter': 4345, 'representing': 4346, 'rescue': 4347, 'responding': 4348, 'restaurants': 4349, 'retriever': 4350, 'reviewing': 4351, 'rig': 4352, 'ripped': 4353, 'rise': 4354, 'rises': 4355, 'ritual': 4356, 'robed': 4357, 'rods': 4358, 'rooster': 4359, 'route': 4360, 'rowers': 4361, 'ruler': 4362, 'salmon': 4363, 'samurai': 4364, 'sandpit': 4365, 'sands': 4366, 'sari': 4367, 'sat': 4368, 'satchel': 4369, 'sauna': 4370, 'save': 4371, 'saxophones': 4372, 'schoolgirl': 4373, 'scoops': 4374, 'screams': 4375, 'screwdriver': 4376, 'secured': 4377, 'sedan': 4378, 'seemingly': 4379, 'sees': 4380, 'selection': 4381, 'self': 4382, 'services': 4383, 'session': 4384, 'sexy': 4385, 'shaded': 4386, 'shading': 4387, 'shadowed': 4388, 'shake': 4389, 'shelf': 4390, 'shelter': 4391, 'shielding': 4392, 'shrimp': 4393, 'signal': 4394, 'silk': 4395, 'sipping': 4396, 'sippy': 4397, 'sips': 4398, 'sizes': 4399, 'skill': 4400, 'skillfully': 4401, 'skin': 4402, 'sleds': 4403, 'sleigh': 4404, 'smirking': 4405, 'snowbank': 4406, 'snows': 4407, 'sock': 4408, 'solar': 4409, 'solider': 4410, 'sombrero': 4411, 'somersault': 4412, 'soon': 4413, 'spain': 4414, 'sparkler': 4415, 'sparklers': 4416, 'sparks': 4417, 'sparse': 4418, 'spectacular': 4419, 'spider': 4420, 'spiderman': 4421, 'spiking': 4422, 'spilled': 4423, 'spiral': 4424, 'spits': 4425, 'sponge': 4426, 'spreading': 4427, 'spreads': 4428, 'sprinkled': 4429, 'sprinkles': 4430, 'sprinkling': 4431, 'sprints': 4432, 'squarepants': 4433, 'squat': 4434, 'squinting': 4435, 'stained': 4436, 'statute': 4437, 'staying': 4438, 'stethoscope': 4439, 'sticker': 4440, 'stony': 4441, 'straining': 4442, 'streaks': 4443, 'streams': 4444, 'streetlights': 4445, 'strewn': 4446, 'strobe': 4447, 'stroke': 4448, 'strumming': 4449, 'study': 4450, 'styrofoam': 4451, 'sucks': 4452, 'suds': 4453, 'suite': 4454, 'suited': 4455, 'sunhats': 4456, 'surfboards': 4457, 'sweating': 4458, 'sweep': 4459, 'sweet': 4460, 'takeout': 4461, 'talkie': 4462, 'tambourine': 4463, 'tanned': 4464, 'tasks': 4465, 'tasty': 4466, 'telling': 4467, 'tells': 4468, 'ten': 4469, 'tend': 4470, 'tends': 4471, 'testing': 4472, 'tethered': 4473, 'thread': 4474, 'threw': 4475, 'tiles': 4476, 'tobacco': 4477, 'toilets': 4478, 'took': 4479, 'topped': 4480, 'toss': 4481, 'towed': 4482, 'towering': 4483, 'toyota': 4484, 'transport': 4485, 'transporting': 4486, 'trap': 4487, 'treats': 4488, 'tri': 4489, 'tricycles': 4490, 'trio': 4491, 'trips': 4492, 'trots': 4493, 'trouble': 4494, 'trough': 4495, 'trumpets': 4496, 'tuba': 4497, 'tulips': 4498, 'turbans': 4499, 'turtleneck': 4500, 'tutus': 4501, 'tuxedos': 4502, 'twigs': 4503, 'twilight': 4504, 'twirl': 4505, 'twirls': 4506, 'tye': 4507, 'uncompleted': 4508, 'underway': 4509, 'union': 4510, 'uniquely': 4511, 'unison': 4512, 'united': 4513, 'unusually': 4514, 'upcoming': 4515, 'uphill': 4516, 'utensils': 4517, 'vacant': 4518, 'vacuums': 4519, 'vaulting': 4520, 'veil': 4521, 'veteran': 4522, 'videotapes': 4523, 'vietnamese': 4524, 'views': 4525, 'vigorously': 4526, 'violins': 4527, 'vivid': 4528, 'volunteers': 4529, 'wade': 4530, 'waited': 4531, 'waking': 4532, 'walker': 4533, 'walkie': 4534, 'wallet': 4535, 'warmly': 4536, 'warrior': 4537, 'web': 4538, 'welds': 4539, 'wheat': 4540, 'wheeling': 4541, 'whose': 4542, 'wii': 4543, 'wildflowers': 4544, 'winded': 4545, 'wonder': 4546, 'woodworking': 4547, 'wrapping': 4548, 'wrist': 4549, 'wrong': 4550, 'yawning': 4551, 'years': 4552, 'yet': 4553, 'zombie': 4554, 'zombies': 4555, ' ': 4556, '%': 4557, '100': 4558, '13': 4559, '14': 4560, '2008': 4561, '38': 4562, '50': 4563, '63': 4564, '80': 4565, '`': 4566, 'abs': 4567, 'accompaniment': 4568, 'acrobat': 4569, 'acrobatics': 4570, 'actions': 4571, 'add': 4572, 'adds': 4573, 'adjacent': 4574, 'admire': 4575, 'adobe': 4576, 'adventure': 4577, 'adventurous': 4578, 'affection': 4579, 'africans': 4580, 'aims': 4581, 'airways': 4582, 'alaska': 4583, 'album': 4584, 'alcoholic': 4585, 'align': 4586, 'allow': 4587, 'aloft': 4588, 'aloud': 4589, 'alpine': 4590, 'altitude': 4591, 'always': 4592, 'amber': 4593, 'amplifier': 4594, 'angeles': 4595, 'angles': 4596, 'animatedly': 4597, 'ankle': 4598, 'announcement': 4599, 'annual': 4600, 'anorak': 4601, 'answer': 4602, 'anxiously': 4603, 'applauding': 4604, 'appreciate': 4605, 'approached': 4606, 'arab': 4607, 'archaeologists': 4608, 'architectural': 4609, 'architecture': 4610, 'armored': 4611, 'arrange': 4612, 'array': 4613, 'ascends': 4614, 'aside': 4615, 'assistance': 4616, 'assisted': 4617, 'assists': 4618, 'assorted': 4619, 'atlanta': 4620, 'attaching': 4621, 'attack': 4622, 'attacked': 4623, 'attacking': 4624, 'attended': 4625, 'attentive': 4626, 'atyl': 4627, 'auditioning': 4628, 'aviator': 4629, 'awaiting': 4630, 'backed': 4631, 'backflip': 4632, 'backing': 4633, 'bad': 4634, 'bagel': 4635, 'bagpipers': 4636, 'bake': 4637, 'baking': 4638, 'bale': 4639, 'bales': 4640, 'baltimore': 4641, 'bandage': 4642, 'bandannas': 4643, 'barbed': 4644, 'bares': 4645, 'barker': 4646, 'barn': 4647, 'barricade': 4648, 'based': 4649, 'battery': 4650, 'batting': 4651, 'bazaar': 4652, 'beaker': 4653, 'bean': 4654, 'beauty': 4655, 'become': 4656, 'beds': 4657, 'bell': 4658, 'bemused': 4659, 'bespectacled': 4660, 'bibs': 4661, 'bicycler': 4662, 'bill': 4663, 'bills': 4664, 'billy': 4665, 'binder': 4666, 'bins': 4667, 'bistro': 4668, 'bits': 4669, 'blackboard': 4670, 'blacksmith': 4671, 'blading': 4672, 'blank': 4673, 'blankly': 4674, 'blasts': 4675, 'blind': 4676, 'blinds': 4677, 'bloody': 4678, 'bloom': 4679, 'blooming': 4680, 'blues': 4681, 'blur': 4682, 'boaters': 4683, 'bodies': 4684, 'bonding': 4685, 'bone': 4686, 'bonfire': 4687, 'bonnet': 4688, 'bored': 4689, 'born': 4690, 'bottled': 4691, 'bout': 4692, 'boutique': 4693, 'bowled': 4694, 'bowties': 4695, 'brace': 4696, 'braid': 4697, 'braids': 4698, 'breakdances': 4699, 'breast': 4700, 'breaststroke': 4701, 'breeze': 4702, 'bridesmaid': 4703, 'briefcases': 4704, 'bring': 4705, 'broccoli': 4706, 'brochures': 4707, 'brook': 4708, 'brothers': 4709, 'brownish': 4710, 'buck': 4711, 'bucked': 4712, 'buddhist': 4713, 'budweiser': 4714, 'buffalo': 4715, 'bugs': 4716, 'builder': 4717, 'builds': 4718, 'bulldog': 4719, 'bullet': 4720, 'bump': 4721, 'bun': 4722, 'bunches': 4723, 'bundles': 4724, 'bunk': 4725, 'burying': 4726, 'bushel': 4727, 'busily': 4728, 'busker': 4729, 'busking': 4730, 'bust': 4731, 'buttons': 4732, 'buys': 4733, 'bystander': 4734, 'cadillac': 4735, 'caged': 4736, 'calendar': 4737, 'calmly': 4738, 'calvin': 4739, 'camo': 4740, 'camps': 4741, 'campus': 4742, 'candlelight': 4743, 'canoeing': 4744, 'capri': 4745, 'capris': 4746, 'captivated': 4747, 'capture': 4748, 'caravan': 4749, 'caressing': 4750, 'carol': 4751, 'carpenter': 4752, 'cartons': 4753, 'cashier': 4754, 'castro': 4755, 'catamaran': 4756, 'cavern': 4757, 'cell': 4758, 'cells': 4759, 'cellular': 4760, 'central': 4761, 'challenging': 4762, 'cheered': 4763, 'cheerful': 4764, 'chemical': 4765, 'chemistry': 4766, 'chief': 4767, 'chili': 4768, 'chimney': 4769, 'chipper': 4770, 'chipping': 4771, 'chisel': 4772, 'chisels': 4773, 'chopped': 4774, 'choppy': 4775, 'choreographed': 4776, 'chores': 4777, 'churning': 4778, 'circles': 4779, 'circuit': 4780, 'circuits': 4781, 'citizen': 4782, 'civilians': 4783, 'clasps': 4784, 'classical': 4785, 'clause': 4786, 'clenches': 4787, 'clever': 4788, 'clicking': 4789, 'cliffs': 4790, 'climbed': 4791, 'clipboard': 4792, 'clips': 4793, 'clog': 4794, 'closing': 4795, 'clustered': 4796, 'coached': 4797, 'coaches': 4798, 'coastline': 4799, 'coated': 4800, 'cob': 4801, 'coconut': 4802, 'coeds': 4803, 'colleagues': 4804, 'collision': 4805, 'colonial': 4806, 'colourful': 4807, 'comforter': 4808, 'comforts': 4809, 'comic': 4810, 'comical': 4811, 'common': 4812, 'compartment': 4813, 'competitively': 4814, 'completes': 4815, 'concentrating': 4816, 'concession': 4817, 'condoms': 4818, 'congregation': 4819, 'consoles': 4820, 'consulting': 4821, 'consults': 4822, 'contained': 4823, 'containers': 4824, 'contestant': 4825, 'contestants': 4826, 'contested': 4827, 'contingent': 4828, 'contorts': 4829, 'controlled': 4830, 'converses': 4831, 'conveyor': 4832, 'copies': 4833, 'copy': 4834, 'cork': 4835, 'corsage': 4836, 'cottage': 4837, 'couches': 4838, 'could': 4839, 'counters': 4840, 'coworker': 4841, 'crabs': 4842, 'cracked': 4843, 'crag': 4844, 'crammed': 4845, 'cramped': 4846, 'crayola': 4847, 'creation': 4848, 'creature': 4849, 'creepy': 4850, 'crow': 4851, 'crumbling': 4852, 'crushed': 4853, 'cue': 4854, 'culinary': 4855, 'cultural': 4856, 'cupping': 4857, 'curbside': 4858, 'curiously': 4859, 'custody': 4860, 'cutoff': 4861, 'cutouts': 4862, 'cutter': 4863, 'cyclone': 4864, 'dachshund': 4865, 'dame': 4866, 'dandelion': 4867, 'dane': 4868, 'dappled': 4869, 'daring': 4870, 'darth': 4871, 'dash': 4872, 'david': 4873, 'de': 4874, 'decides': 4875, 'deciding': 4876, 'decked': 4877, 'defending': 4878, 'deflated': 4879, 'delight': 4880, 'delivering': 4881, 'delivery': 4882, 'dental': 4883, 'depicted': 4884, 'describing': 4885, 'designing': 4886, 'detail': 4887, 'detergent': 4888, 'determined': 4889, 'devil': 4890, 'diamond': 4891, 'diaper': 4892, 'die': 4893, 'diet': 4894, 'dim': 4895, 'dingy': 4896, 'dip': 4897, 'direct': 4898, 'disco': 4899, 'discovering': 4900, 'discusses': 4901, 'distracted': 4902, 'district': 4903, 'documents': 4904, 'dollhouse': 4905, 'donations': 4906, 'doorstep': 4907, 'downing': 4908, 'downward': 4909, 'downwards': 4910, 'dragster': 4911, 'drain': 4912, 'drape': 4913, 'drawer': 4914, 'drawers': 4915, 'drawings': 4916, 'dribble': 4917, 'drifts': 4918, 'drummers': 4919, 'drumming': 4920, 'drunken': 4921, 'dueling': 4922, 'dumping': 4923, 'dutch': 4924, 'eagle': 4925, 'easy': 4926, 'eclectic': 4927, 'ecstatically': 4928, 'egret': 4929, 'eiffel': 4930, 'elaborately': 4931, 'elegant': 4932, 'eleven': 4933, 'em': 4934, 'embraces': 4935, 'emotion': 4936, 'empanadas': 4937, 'emptying': 4938, 'ended': 4939, 'engaging': 4940, 'england': 4941, 'enjoyed': 4942, 'enrolling': 4943, 'ensemble': 4944, 'ensure': 4945, 'entertainers': 4946, 'enthusiastic': 4947, 'envelope': 4948, 'erected': 4949, 'escalators': 4950, 'espresso': 4951, 'ethnicities': 4952, 'evenly': 4953, 'exam': 4954, 'examined': 4955, 'executes': 4956, 'exercises': 4957, 'exotic': 4958, 'experiments': 4959, 'explains': 4960, 'express': 4961, 'exterior': 4962, 'eyed': 4963, 'eyeliner': 4964, 'f': 4965, 'fairway': 4966, 'falcon': 4967, 'famous': 4968, 'fanny': 4969, 'fare': 4970, 'farming': 4971, 'fatigued': 4972, 'fatigues': 4973, 'faux': 4974, 'feels': 4975, 'fencers': 4976, 'ferns': 4977, 'ferris': 4978, 'fest': 4979, 'fetches': 4980, 'fiddles': 4981, 'fierce': 4982, 'figurines': 4983, 'filed': 4984, 'filmed': 4985, 'fingernails': 4986, 'finishes': 4987, 'fired': 4988, 'fires': 4989, 'fitting': 4990, 'fixture': 4991, 'flamboyant': 4992, 'flame': 4993, 'flap': 4994, 'flaps': 4995, 'flash': 4996, 'flashy': 4997, 'flexible': 4998, 'flexing': 4999, 'flier': 5000, 'flinging': 5001, 'flipped': 5002, 'flow': 5003, 'fluid': 5004, 'flutes': 5005, 'focal': 5006, 'folders': 5007, 'forearm': 5008, 'forehand': 5009, 'forever': 5010, 'formally': 5011, 'fours': 5012, 'francisco': 5013, 'frantically': 5014, 'freestyle': 5015, 'freight': 5016, 'frilly': 5017, 'fringed': 5018, 'frolic': 5019, 'frolics': 5020, 'fronds': 5021, 'frothy': 5022, 'frown': 5023, 'frowning': 5024, 'frowns': 5025, 'function': 5026, 'fundraiser': 5027, 'funky': 5028, 'furiously': 5029, 'gallon': 5030, 'gambling': 5031, 'garish': 5032, 'garments': 5033, 'garter': 5034, 'gates': 5035, 'gateway': 5036, 'gig': 5037, 'ginger': 5038, 'gingerbread': 5039, 'glances': 5040, 'glancing': 5041, 'glassy': 5042, 'glides': 5043, 'glittery': 5044, 'glow': 5045, 'glowing': 5046, 'glue': 5047, 'god': 5048, 'golfers': 5049, 'goofy': 5050, 'graffited': 5051, 'grain': 5052, 'grains': 5053, 'grandfather': 5054, 'grandparents': 5055, 'grasps': 5056, 'grate': 5057, 'graze': 5058, 'greenhouse': 5059, 'grilled': 5060, 'grin': 5061, 'grind': 5062, 'grinder': 5063, 'grinning': 5064, 'grips': 5065, 'groucho': 5066, 'grounds': 5067, 'growling': 5068, 'guidebook': 5069, 'guides': 5070, 'guiding': 5071, 'hairdo': 5072, 'hairdresser': 5073, 'hairy': 5074, 'halfway': 5075, 'hamming': 5076, 'hamper': 5077, 'handbags': 5078, 'handgun': 5079, 'handhold': 5080, 'handkerchiefs': 5081, 'handled': 5082, 'handler': 5083, 'handshake': 5084, 'hardware': 5085, 'harlem': 5086, 'harvest': 5087, 'harvested': 5088, 'hatchet': 5089, 'haul': 5090, 'hazard': 5091, 'headdresses': 5092, 'header': 5093, 'headfirst': 5094, 'headlight': 5095, 'heat': 5096, 'hedges': 5097, 'height': 5098, 'heineken': 5099, 'helper': 5100, 'herbs': 5101, 'herd': 5102, 'heritage': 5103, 'heron': 5104, 'hid': 5105, 'hide': 5106, 'hides': 5107, 'hijab': 5108, 'hip': 5109, 'hippie': 5110, 'hipsters': 5111, 'historical': 5112, 'hitchhiking': 5113, 'hitching': 5114, 'hitter': 5115, 'hoe': 5116, 'hog': 5117, 'hokey': 5118, 'hollow': 5119, 'homes': 5120, 'homework': 5121, 'hoodies': 5122, 'hooked': 5123, 'hoping': 5124, 'hopper': 5125, 'hops': 5126, 'horizontal': 5127, 'horsemen': 5128, 'household': 5129, 'houston': 5130, 'hovering': 5131, 'hugged': 5132, 'hulk': 5133, 'humans': 5134, 'humping': 5135, 'hungry': 5136, 'hunt': 5137, 'hunter': 5138, 'hurry': 5139, 'hurt': 5140, 'hydraulic': 5141, 'iced': 5142, 'idle': 5143, 'igloo': 5144, 'illuminating': 5145, 'imitation': 5146, 'immigration': 5147, 'important': 5148, 'improvement': 5149, 'incense': 5150, 'inclined': 5151, 'incredible': 5152, 'indigenous': 5153, 'inflating': 5154, 'info': 5155, 'informally': 5156, 'ink': 5157, 'innertube': 5158, 'insect': 5159, 'inspectors': 5160, 'inspired': 5161, 'instructions': 5162, 'instructors': 5163, 'international': 5164, 'internet': 5165, 'interviews': 5166, 'intricate': 5167, 'intrigued': 5168, 'involves': 5169, 'iowa': 5170, 'irish': 5171, 'irons': 5172, 'irritated': 5173, 'islamic': 5174, 'isle': 5175, 'issue': 5176, 'italy': 5177, 'jackhammers': 5178, 'jacks': 5179, 'jackson': 5180, 'jagged': 5181, 'james': 5182, 'jesus': 5183, 'jets': 5184, 'jim': 5185, 'johns': 5186, 'joking': 5187, 'jostle': 5188, 'journal': 5189, 'jousting': 5190, 'judge': 5191, 'juggle': 5192, 'juggler': 5193, 'kawasaki': 5194, 'kelp': 5195, 'kerchief': 5196, 'kickboxer': 5197, 'kill': 5198, 'kimono': 5199, 'king': 5200, 'klein': 5201, 'knitted': 5202, 'knock': 5203, 'knotted': 5204, 'kwon': 5205, 'labor': 5206, 'labradoodle': 5207, 'lace': 5208, 'lack': 5209, 'language': 5210, 'laps': 5211, 'lapse': 5212, 'las': 5213, 'later': 5214, 'lava': 5215, 'lavender': 5216, 'le': 5217, 'leader': 5218, 'leak': 5219, 'leaped': 5220, 'learn': 5221, 'learns': 5222, 'leashed': 5223, 'leave': 5224, 'lebron': 5225, 'leisurely': 5226, 'lemonade': 5227, 'lettering': 5228, 'letting': 5229, 'lettuce': 5230, 'licked': 5231, 'lighthouse': 5232, 'likes': 5233, 'limbs': 5234, 'linens': 5235, 'list': 5236, 'lizard': 5237, 'loader': 5238, 'loaf': 5239, 'locker': 5240, 'lockers': 5241, 'locomotive': 5242, 'locomotives': 5243, 'lodge': 5244, 'los': 5245, 'loses': 5246, 'loudspeaker': 5247, 'louvre': 5248, 'lovers': 5249, 'lowering': 5250, 'magic': 5251, 'magician': 5252, 'mail': 5253, 'mainly': 5254, 'maintain': 5255, 'maintained': 5256, 'mallet': 5257, 'management': 5258, 'mane': 5259, 'manicured': 5260, 'manner': 5261, 'mantle': 5262, 'manure': 5263, 'maracas': 5264, 'marshal': 5265, 'mart': 5266, 'martini': 5267, 'marx': 5268, 'masonry': 5269, 'mass': 5270, 'massage': 5271, 'masses': 5272, 'masterpiece': 5273, 'matador': 5274, 'matches': 5275, 'math': 5276, 'mattresses': 5277, 'mauve': 5278, 'meats': 5279, 'medals': 5280, 'median': 5281, 'melon': 5282, 'melons': 5283, 'memorabilia': 5284, 'messages': 5285, 'met': 5286, 'metalworking': 5287, 'meter': 5288, 'michael': 5289, 'michigan': 5290, 'milling': 5291, 'mime': 5292, 'mine': 5293, 'miners': 5294, 'mingle': 5295, 'mingling': 5296, 'minnesota': 5297, 'mirrors': 5298, 'miscellaneous': 5299, 'missed': 5300, 'misty': 5301, 'mixture': 5302, 'mma': 5303, 'mob': 5304, 'modeling': 5305, 'mold': 5306, 'moms': 5307, 'mongolian': 5308, 'mood': 5309, 'moon': 5310, 'moored': 5311, 'moss': 5312, 'motions': 5313, 'mounds': 5314, 'mount': 5315, 'mover': 5316, 'mowed': 5317, 'mr.': 5318, 'mrs.': 5319, 'mugs': 5320, 'mulch': 5321, 'multitasking': 5322, 'murals': 5323, 'mushroom': 5324, 'mustang': 5325, 'nanny': 5326, 'natives': 5327, 'navigate': 5328, 'nears': 5329, 'neatly': 5330, 'necks': 5331, 'necktie': 5332, 'need': 5333, 'needle': 5334, 'neighbors': 5335, 'nerf': 5336, 'nibbles': 5337, 'ninja': 5338, 'nips': 5339, 'non': 5340, 'normal': 5341, 'notre': 5342, 'nuts': 5343, 'oakland': 5344, 'oars': 5345, 'oblivious': 5346, 'occasion': 5347, 'occurred': 5348, 'oceanside': 5349, 'oddly': 5350, 'offer': 5351, 'offered': 5352, 'officials': 5353, 'oh': 5354, 'olympians': 5355, 'oncoming': 5356, 'op': 5357, 'openings': 5358, 'operate': 5359, 'opinions': 5360, 'origin': 5361, 'orioles': 5362, 'ornamental': 5363, 'outboard': 5364, 'overcast': 5365, 'owl': 5366, 'owned': 5367, 'ox': 5368, 'oxygen': 5369, 'p': 5370, 'pabst': 5371, 'packs': 5372, 'paddled': 5373, 'paddy': 5374, 'page': 5375, 'pajama': 5376, 'palace': 5377, 'pancakes': 5378, 'pane': 5379, 'paperback': 5380, 'para': 5381, 'parachutist': 5382, 'paraphernalia': 5383, 'parasail': 5384, 'paris': 5385, 'parks': 5386, 'parrot': 5387, 'participant': 5388, 'particular': 5389, 'passer': 5390, 'pasture': 5391, 'patchy': 5392, 'patrick': 5393, 'patrolling': 5394, 'patties': 5395, 'pearls': 5396, 'pebbles': 5397, 'pedals': 5398, 'peddling': 5399, 'pee': 5400, 'peek': 5401, 'peep': 5402, 'pelican': 5403, 'penguins': 5404, 'penn': 5405, 'penske': 5406, 'peoples': 5407, 'peppers': 5408, 'percussion': 5409, 'peruses': 5410, 'pf': 5411, 'pharmacy': 5412, 'physically': 5413, 'pies': 5414, 'pigs': 5415, 'pineapple': 5416, 'pineapples': 5417, 'pioneer': 5418, 'pitbull': 5419, 'placard': 5420, 'placid': 5421, 'plan': 5422, 'planes': 5423, 'plaque': 5424, 'plaster': 5425, 'platforms': 5426, 'platter': 5427, 'plow': 5428, 'plume': 5429, 'plywood': 5430, 'podiums': 5431, 'pokemon': 5432, 'pollution': 5433, 'pomeranian': 5434, 'pompoms': 5435, 'popsicle': 5436, 'populated': 5437, 'pork': 5438, 'possible': 5439, 'postcards': 5440, 'poultry': 5441, 'pounces': 5442, 'pouncing': 5443, 'pout': 5444, 'powdered': 5445, 'pray': 5446, 'prepping': 5447, 'preschool': 5448, 'presented': 5449, 'presumably': 5450, 'pretend': 5451, 'pretzels': 5452, 'previously': 5453, 'price': 5454, 'private': 5455, 'proclaim': 5456, 'programs': 5457, 'projection': 5458, 'prop': 5459, 'propeller': 5460, 'props': 5461, 'protectors': 5462, 'puff': 5463, 'puma': 5464, 'punches': 5465, 'putt': 5466, 'puzzled': 5467, 'q': 5468, 'quartet': 5469, 'question': 5470, 'questions': 5471, 'quietly': 5472, 'quilted': 5473, 'rackets': 5474, 'racks': 5475, 'rad': 5476, 'raging': 5477, 'ran': 5478, 'random': 5479, 'rates': 5480, 'rather': 5481, 'raw': 5482, 'reacting': 5483, 'reaction': 5484, 'reason': 5485, 'received': 5486, 'recent': 5487, 'reclining': 5488, 'recorder': 5489, 'recycling': 5490, 'reenactment': 5491, 'reflecting': 5492, 'reflects': 5493, 'refreshments': 5494, 'refuge': 5495, 'regal': 5496, 'region': 5497, 'registered': 5498, 'reindeer': 5499, 'relaxed': 5500, 'release': 5501, 'releases': 5502, 'releasing': 5503, 'reluctant': 5504, 'remember': 5505, 'repairman': 5506, 'repelling': 5507, 'reporters': 5508, 'researchers': 5509, 'residence': 5510, 'residential': 5511, 'respective': 5512, 'respectively': 5513, 'restaraunt': 5514, 'retrieve': 5515, 'ribs': 5516, 'rican': 5517, 'rid': 5518, 'rifles': 5519, 'rinsing': 5520, 'rising': 5521, 'risk': 5522, 'riverbed': 5523, 'rocker': 5524, 'rocket': 5525, 'rodgers': 5526, 'role': 5527, 'roots': 5528, 'rose': 5529, 'routines': 5530, 'rugged': 5531, 'rushing': 5532, 'russian': 5533, 'rust': 5534, 'rusted': 5535, 'saddled': 5536, 'safely': 5537, 'sales': 5538, 'salesman': 5539, 'saluting': 5540, 'samples': 5541, 'samsung': 5542, 'san': 5543, 'sandwiches': 5544, 'sash': 5545, 'sauce': 5546, 'saucer': 5547, 'sausage': 5548, 'saving': 5549, 'sax': 5550, 'scaffolds': 5551, 'scan': 5552, 'scary': 5553, 'schools': 5554, 'scientific': 5555, 'scooby': 5556, 'scope': 5557, 'scores': 5558, 'scoring': 5559, 'scrabble': 5560, 'scramble': 5561, 'scrapping': 5562, 'screened': 5563, 'screens': 5564, 'scrimmage': 5565, 'scrubbing': 5566, 'scruffy': 5567, 'scythe': 5568, 'seal': 5569, 'seamstress': 5570, 'seas': 5571, 'sections': 5572, 'secure': 5573, 'secures': 5574, 'securing': 5575, 'segway': 5576, 'selections': 5577, 'selects': 5578, 'seminar': 5579, 'sending': 5580, 'sends': 5581, 'separated': 5582, 'separates': 5583, 'sequence': 5584, 'serene': 5585, 'serious': 5586, 'sesame': 5587, 'setup': 5588, 'sew': 5589, 'sewer': 5590, 'sews': 5591, 'shabby': 5592, 'shacking': 5593, 'shadowy': 5594, 'shampoo': 5595, 'shawls': 5596, 'shell': 5597, 'shepard': 5598, 'shift': 5599, 'shine': 5600, 'shined': 5601, 'shipping': 5602, 'shish': 5603, 'shoelaces': 5604, 'shots': 5605, 'should': 5606, 'shouts': 5607, 'showcasing': 5608, 'showers': 5609, 'showgirl': 5610, 'shrine': 5611, 'shrubbery': 5612, 'shuffles': 5613, 'sibling': 5614, 'sideline': 5615, 'sidewalks': 5616, 'silverware': 5617, 'simple': 5618, 'simply': 5619, 'simultaneously': 5620, 'sisters': 5621, 'sites': 5622, 'situation': 5623, 'size': 5624, 'sketch': 5625, 'skiiers': 5626, 'skim': 5627, 'skit': 5628, 'skulls': 5629, 'skyscraper': 5630, 'slalom': 5631, 'slamming': 5632, 'sledgehammer': 5633, 'sleepy': 5634, 'sliced': 5635, 'slim': 5636, 'sling': 5637, 'slingshot': 5638, 'slips': 5639, 'slow': 5640, 'slumped': 5641, 'slung': 5642, 'smear': 5643, 'smelling': 5644, 'smock': 5645, 'snail': 5646, 'snarling': 5647, 'snoopy': 5648, 'snorkeling': 5649, 'snowdrift': 5650, 'snowflakes': 5651, 'snowmobile': 5652, 'snowmobiling': 5653, 'snowshoe': 5654, 'snowstorm': 5655, 'snowsuits': 5656, 'snuggling': 5657, 'soaked': 5658, 'soaking': 5659, 'soapy': 5660, 'sodas': 5661, 'softly': 5662, 'solid': 5663, 'source': 5664, 'sous': 5665, 'southeast': 5666, 'spa': 5667, 'spaghetti': 5668, 'spare': 5669, 'sparsely': 5670, 'spattered': 5671, 'specialized': 5672, 'specific': 5673, 'speckled': 5674, 'spend': 5675, 'spending': 5676, 'spiky': 5677, 'spinner': 5678, 'spirit': 5679, 'splits': 5680, 'spoons': 5681, 'spotlights': 5682, 'spout': 5683, 'squash': 5684, 'squirrel': 5685, 'squirted': 5686, 'squirts': 5687, 'stainless': 5688, 'stake': 5689, 'starfish': 5690, 'started': 5691, 'steal': 5692, 'steals': 5693, 'steeplechase': 5694, 'steering': 5695, 'stem': 5696, 'stitch': 5697, 'stock': 5698, 'stoops': 5699, 'stopping': 5700, 'stories': 5701, 'stout': 5702, 'streamers': 5703, 'streaming': 5704, 'stricken': 5705, 'strips': 5706, 'struggle': 5707, 'strums': 5708, 'strung': 5709, 'stumbling': 5710, 'stunning': 5711, 'styled': 5712, 'styling': 5713, 'stylist': 5714, 'subject': 5715, 'submerges': 5716, 'sucker': 5717, 'sunday': 5718, 'sunflower': 5719, 'super': 5720, 'superior': 5721, 'supervision': 5722, 'supported': 5723, 'supports': 5724, 'surfboarder': 5725, 'surprised': 5726, 'sushi': 5727, 'suspect': 5728, 'suspension': 5729, 'sveral': 5730, 'swaddled': 5731, 'swallowing': 5732, 'swamp': 5733, 'swans': 5734, 'sweat': 5735, 'sweatpants': 5736, 'sweets': 5737, 'swerves': 5738, 'swoops': 5739, 'swung': 5740, 'symphony': 5741, 'syrup': 5742, 'tackler': 5743, 'tae': 5744, 'tambourines': 5745, 'taped': 5746, 'taping': 5747, 'targets': 5748, 'teachers': 5749, 'teaches': 5750, 'tear': 5751, 'tears': 5752, 'tech': 5753, 'technical': 5754, 'technician': 5755, 'teeter': 5756, 'tell': 5757, 'terminals': 5758, 'tests': 5759, 'textile': 5760, 'thai': 5761, 'thatched': 5762, 'thing': 5763, 'thomas': 5764, 'thong': 5765, 'thorugh': 5766, 'thousands': 5767, 'throat': 5768, 'throughout': 5769, 'thursday': 5770, 'tilted': 5771, 'tilts': 5772, 'tim': 5773, 'timber': 5774, 'tin': 5775, 'tinsel': 5776, 'tinted': 5777, 'tipped': 5778, 'tipping': 5779, 'toenails': 5780, 'toes': 5781, 'toil': 5782, 'toll': 5783, 'tongues': 5784, 'tortillas': 5785, 'tote': 5786, 'toting': 5787, 'trade': 5788, 'trading': 5789, 'trails': 5790, 'transformer': 5791, 'travelling': 5792, 'traverse': 5793, 'treads': 5794, 'treatment': 5795, 'treed': 5796, 'treeless': 5797, 'trekking': 5798, 'trendy': 5799, 'tress': 5800, 'trim': 5801, 'trinkets': 5802, 'troop': 5803, 'trooper': 5804, 'true': 5805, 'tucked': 5806, 'tugs': 5807, 'turbulent': 5808, 'turf': 5809, 'turkeys': 5810, 'tux': 5811, 'twenty': 5812, 'twin': 5813, 'twins': 5814, 'twos': 5815, 'u.s.': 5816, 'ufc': 5817, 'underside': 5818, 'unfriendly': 5819, 'unkempt': 5820, 'unload': 5821, 'unwraps': 5822, 'upraised': 5823, 'upstairs': 5824, 'upturned': 5825, 'urinal': 5826, 'v': 5827, 'varied': 5828, 'vase': 5829, 'vault': 5830, 'version': 5831, 'vessel': 5832, 'victim': 5833, 'viewed': 5834, 'vikings': 5835, 'vine': 5836, 'violence': 5837, 'violet': 5838, 'vision': 5839, 'visit': 5840, 'visitors': 5841, 'voice': 5842, 'volcano': 5843, 'volunteer': 5844, 'vw': 5845, 'waffle': 5846, 'wagons': 5847, 'wakeboarding': 5848, 'wakeboards': 5849, 'walkman': 5850, 'wand': 5851, 'wands': 5852, 'wanting': 5853, 'wants': 5854, 'warmers': 5855, 'washers': 5856, 'watered': 5857, 'waterfalls': 5858, 'waterproof': 5859, 'watery': 5860, 'wavy': 5861, 'weights': 5862, 'welder': 5863, 'wells': 5864, 'wetland': 5865, 'whatever': 5866, 'whisking': 5867, 'wielding': 5868, 'wildfire': 5869, 'windowsill': 5870, 'winds': 5871, 'windsurfer': 5872, 'wineglass': 5873, 'winks': 5874, 'wits': 5875, 'wok': 5876, 'wondering': 5877, 'worked': 5878, 'worn': 5879, 'worried': 5880, 'would': 5881, 'wounds': 5882, 'wrangle': 5883, 'wrench': 5884, 'wrestles': 5885, 'wristband': 5886, 'wrists': 5887, 'yells': 5888, 'ymca': 5889, 'zigzag': 5890, 'zooms': 5891, 'zune': 5892})\n"
     ]
    }
   ],
   "source": [
    "print(TRG.vocab.stoi)"
   ]
  },
  {
   "cell_type": "markdown",
   "id": "62d44e3a",
   "metadata": {},
   "source": [
    "* 데이터로더 만들기\n",
    "    * 데이터로더: 데이터셋에서 미니 배치만큼 데이터를 로드하게 만들어주는 역할\n",
    "    * Iterator로 데이터로더를 만듦."
   ]
  },
  {
   "cell_type": "code",
   "execution_count": 12,
   "id": "0b4a4258",
   "metadata": {},
   "outputs": [],
   "source": [
    "device = torch.device('cuda:1' if torch.cuda.is_available() else 'cpu')\n",
    "\n",
    "BATCH_SIZE = 128 # 배치 크기(batch size): 128\n",
    "\n",
    "train_iterator, valid_iterator, test_iterator = BucketIterator.splits(\n",
    "    (train_data, valid_data, test_data), \n",
    "     batch_size = BATCH_SIZE,\n",
    "     device = device)"
   ]
  },
  {
   "cell_type": "code",
   "execution_count": 13,
   "id": "97aef640",
   "metadata": {
    "scrolled": true
   },
   "outputs": [
    {
     "name": "stdout",
     "output_type": "stream",
     "text": [
      "첫 번째 배치 크기: torch.Size([128, 23])\n"
     ]
    }
   ],
   "source": [
    "for i, batch in enumerate(train_iterator):\n",
    "\n",
    "    src = batch.src\n",
    "    trg = batch.trg\n",
    "    \n",
    "    print(f\"첫 번째 배치 크기: {src.shape}\")\n",
    "    break # 첫 번째 배치만 확인"
   ]
  },
  {
   "cell_type": "code",
   "execution_count": 14,
   "id": "a1608da0",
   "metadata": {},
   "outputs": [
    {
     "name": "stdout",
     "output_type": "stream",
     "text": [
      "<class 'torchtext.data.batch.Batch'>\n",
      "\n",
      "[torchtext.data.batch.Batch of size 128 from MULTI30K]\n",
      "\t[.src]:[torch.cuda.LongTensor of size 128x33 (GPU 1)]\n",
      "\t[.trg]:[torch.cuda.LongTensor of size 128x35 (GPU 1)]\n",
      "torch.Size([128, 33])\n"
     ]
    },
    {
     "data": {
      "text/plain": [
       "tensor([[ 2,  8, 67,  ...,  1,  1,  1],\n",
       "        [ 2, 43, 41,  ...,  1,  1,  1],\n",
       "        [ 2,  8, 16,  ...,  1,  1,  1],\n",
       "        ...,\n",
       "        [ 2,  8, 36,  ...,  1,  1,  1],\n",
       "        [ 2,  5, 13,  ...,  1,  1,  1],\n",
       "        [ 2,  8, 16,  ...,  1,  1,  1]], device='cuda:1')"
      ]
     },
     "execution_count": 14,
     "metadata": {},
     "output_type": "execute_result"
    }
   ],
   "source": [
    "# src 정의하기\n",
    "batch = next(iter(train_iterator))\n",
    "print(type(batch))\n",
    "print(batch)\n",
    "src = batch.src\n",
    "src\n",
    "x=src\n",
    "print(x.shape)\n",
    "x.is_cuda\n",
    "x"
   ]
  },
  {
   "cell_type": "markdown",
   "id": "26636f63",
   "metadata": {},
   "source": [
    "# 2. model 만들기\n",
    "그 전에 필요한 코드 먼저 돌리기"
   ]
  },
  {
   "cell_type": "code",
   "execution_count": 15,
   "id": "1c05d959",
   "metadata": {},
   "outputs": [],
   "source": [
    "# 정의\n",
    "INPUT_DIM = len(SRC.vocab)\n",
    "OUTPUT_DIM = len(TRG.vocab)\n",
    "HID_DIM = 256\n",
    "ENC_LAYERS = 3\n",
    "DEC_LAYERS = 3\n",
    "ENC_HEADS = 8\n",
    "DEC_HEADS = 8\n",
    "ENC_PF_DIM = 512\n",
    "DEC_PF_DIM = 512\n",
    "ENC_DROPOUT = 0.1\n",
    "DEC_DROPOUT = 0.1\n",
    "\n",
    "input_dim=INPUT_DIM\n",
    "hid_dim=HID_DIM\n",
    "n_layers=ENC_LAYERS\n",
    "n_heads=ENC_HEADS\n",
    "pf_dim=ENC_PF_DIM\n",
    "dropout=ENC_DROPOUT\n",
    "device=device\n",
    "max_length = 100 # position embedding의 'vocabulary' size가 100이어서 100 토큰 길이까지 문장을 수용함"
   ]
  },
  {
   "cell_type": "code",
   "execution_count": 16,
   "id": "f9143dbc",
   "metadata": {},
   "outputs": [],
   "source": [
    "class EncoderLayer(nn.Module):\n",
    "    def __init__(self, hid_dim, n_heads, pf_dim,dropout, device):\n",
    "        super().__init__()\n",
    "        self.self_attn_layer_norm = nn.LayerNorm(hid_dim)\n",
    "        self.self_attention = MultiHeadAttentionLayer(hid_dim, n_heads, dropout, device) # 멀티-헤드 어텐션\n",
    "        self.positionwise_feedforward = PositionwiseFeedforwardLayer(hid_dim, pf_dim, dropout) # 위치인코더 -> 위치 인코딩       \n",
    "        self.ff_layer_norm = nn.LayerNorm(hid_dim) # 덧셈과 계층 정규화 \n",
    "        self.dropout = nn.Dropout(dropout)\n",
    "          \n",
    "    def forward(self, src, src_mask):\n",
    "        _src, _ = self.self_attention(src, src, src, src_mask) ##########\n",
    "        src = self.self_attn_layer_norm(src + self.dropout(_src))\n",
    "        _src = self.positionwise_feedforward(src)\n",
    "        src = self.ff_layer_norm(src + self.dropout(_src))\n",
    "        return src"
   ]
  },
  {
   "cell_type": "code",
   "execution_count": 17,
   "id": "388a0185",
   "metadata": {},
   "outputs": [],
   "source": [
    "class MultiHeadAttentionLayer(nn.Module):\n",
    "    def __init__(self, hid_dim, n_heads, dropout, device):\n",
    "        super().__init__()        \n",
    "        assert hid_dim % n_heads == 0    # assert: 가정 설정문, 뒤의 조건이 True가 아니면 error를 발생시킴\n",
    "        self.hid_dim = hid_dim \n",
    "        self.n_heads = n_heads\n",
    "        self.head_dim = hid_dim // n_heads # d_model의 차원을 n_heads개로 나누어서 병렬 어텐션 수행.\n",
    "        self.fc_q = nn.Linear(hid_dim, hid_dim)\n",
    "        self.fc_k = nn.Linear(hid_dim, hid_dim)\n",
    "        self.fc_v = nn.Linear(hid_dim, hid_dim)        \n",
    "        self.fc_o = nn.Linear(hid_dim, hid_dim) # WO(weight matrix)에 해당하는 밀집층 정의        \n",
    "        self.dropout = nn.Dropout(dropout)        \n",
    "        self.scale = torch.sqrt(torch.FloatTensor([self.head_dim])).to(device)    \n",
    "        \n",
    "    def forward(self, query, key, value, mask = None): #######        \n",
    "        batch_size = query.shape[0]                \n",
    "        Q = self.fc_q(query)\n",
    "        K = self.fc_k(key)\n",
    "        V = self.fc_v(value)\n",
    "        Q = Q.view(batch_size, -1, self.n_heads, self.head_dim).permute(0, 2, 1, 3)\n",
    "        K = K.view(batch_size, -1, self.n_heads, self.head_dim).permute(0, 2, 1, 3)\n",
    "        V = V.view(batch_size, -1, self.n_heads, self.head_dim).permute(0, 2, 1, 3)\n",
    "        energy = torch.matmul(Q, K.permute(0, 1, 3, 2)) / self.scale # Attention Energy 계산    \n",
    "        if mask is not None:\n",
    "            energy = energy.masked_fill(mask == 0, -1e10)\n",
    "        attention = torch.softmax(energy, dim = -1)\n",
    "        x = torch.matmul(self.dropout(attention), V)\n",
    "        x = x.permute(0, 2, 1, 3).contiguous()\n",
    "        x = x.view(batch_size, -1, self.hid_dim)\n",
    "        x = self.fc_o(x)\n",
    "        return x, attention"
   ]
  },
  {
   "cell_type": "code",
   "execution_count": 18,
   "id": "de063522",
   "metadata": {},
   "outputs": [],
   "source": [
    "class PositionwiseFeedforwardLayer(nn.Module):\n",
    "    def __init__(self, hid_dim, pf_dim, dropout):\n",
    "        super().__init__()        \n",
    "        self.fc_1 = nn.Linear(hid_dim, pf_dim)\n",
    "        self.fc_2 = nn.Linear(pf_dim, hid_dim) # fc를 두 번 거쳐서 입력과 출력 차원이 동일하도록(인풋의 shape를 그대로 유지함) 해줌        \n",
    "        self.dropout = nn.Dropout(dropout)        \n",
    "    def forward(self, x):\n",
    "        x = self.dropout(torch.relu(self.fc_1(x)))\n",
    "        x = self.fc_2(x)\n",
    "        return x"
   ]
  },
  {
   "cell_type": "code",
   "execution_count": 19,
   "id": "80fefea6",
   "metadata": {},
   "outputs": [],
   "source": [
    "class DecoderLayer(nn.Module):\n",
    "    def __init__(self, hid_dim, n_heads, pf_dim, dropout, device):\n",
    "        super().__init__()\n",
    "        self.self_attn_layer_norm = nn.LayerNorm(hid_dim)\n",
    "        self.self_attention = MultiHeadAttentionLayer(hid_dim, n_heads, dropout, device)\n",
    "        self.encoder_attention = MultiHeadAttentionLayer(hid_dim, n_heads, dropout, device)\n",
    "        self.enc_attn_layer_norm = nn.LayerNorm(hid_dim)       \n",
    "        self.positionwise_feedforward = PositionwiseFeedforwardLayer(hid_dim, pf_dim, dropout)        \n",
    "        self.ff_layer_norm = nn.LayerNorm(hid_dim)        \n",
    "        self.dropout = nn.Dropout(dropout)\n",
    "\n",
    "    def forward(self, trg, enc_src, trg_mask, src_mask):\n",
    "        _trg, _ = self.self_attention(trg, trg, trg, trg_mask)\n",
    "        trg = self.self_attn_layer_norm(trg + self.dropout(_trg))\n",
    "        _trg, attention = self.encoder_attention(trg, enc_src, enc_src, src_mask)\n",
    "        trg = self.enc_attn_layer_norm(trg + self.dropout(_trg))\n",
    "        _trg = self.positionwise_feedforward(trg)\n",
    "        trg = self.ff_layer_norm(trg + self.dropout(_trg))\n",
    "        return trg, attention"
   ]
  },
  {
   "cell_type": "markdown",
   "id": "bc871342",
   "metadata": {},
   "source": [
    "## 2.1 인코더 아키텍처"
   ]
  },
  {
   "cell_type": "code",
   "execution_count": 20,
   "id": "55f1d48c",
   "metadata": {},
   "outputs": [],
   "source": [
    "class Encoder(nn.Module):\n",
    "    def __init__(self,input_dim, hid_dim, n_layers, n_heads, pf_dim,dropout, device, max_length = 100):\n",
    "        super().__init__()\n",
    "\n",
    "        self.device = device\n",
    "        \n",
    "        self.tok_embedding = nn.Embedding(input_dim, hid_dim)\n",
    "        self.pos_embedding = nn.Embedding(max_length, hid_dim)\n",
    "        \n",
    "        self.layers = nn.ModuleList([EncoderLayer(hid_dim, n_heads, pf_dim,dropout, device) for _ in range(n_layers)])\n",
    "        \n",
    "        self.dropout = nn.Dropout(dropout)\n",
    "        \n",
    "        self.scale = torch.sqrt(torch.FloatTensor([hid_dim])).to(device)\n",
    "        \n",
    "    def forward(self, src, src_mask):\n",
    "        \n",
    "        #src = [batch size, src len]\n",
    "        #src_mask = [batch size, 1, 1, src len]\n",
    "        \n",
    "        batch_size = src.shape[0]\n",
    "        src_len = src.shape[1]\n",
    "        \n",
    "        pos = torch.arange(0, src_len).unsqueeze(0).repeat(batch_size, 1).to(self.device)\n",
    "        \n",
    "        #pos = [batch size, src len]\n",
    "        \n",
    "        # src 문장의 embedding vector와 positional vector를 더해줌\n",
    "        src = self.dropout((self.tok_embedding(src) * self.scale) + self.pos_embedding(pos))\n",
    "        \n",
    "        #src = [batch size, src len, hid dim]\n",
    "        \n",
    "        # 모든 인코더 레이어를 차례대로 거치면서 순전파(forward) 수행\n",
    "        for layer in self.layers:\n",
    "            src = layer(src, src_mask)\n",
    "            \n",
    "        #src = [batch size, src len, hid dim]\n",
    "            \n",
    "        return src # 마지막 레이어의 출력을 반환"
   ]
  },
  {
   "cell_type": "markdown",
   "id": "a81e52c2",
   "metadata": {},
   "source": [
    "def __init__(self,input_dim, hid_dim, n_layers, n_heads, pf_dim,dropout, device,max_length = 100):"
   ]
  },
  {
   "cell_type": "code",
   "execution_count": 21,
   "id": "77374648",
   "metadata": {},
   "outputs": [],
   "source": [
    "# 정의\n",
    "device = device\n",
    "tok_embedding = nn.Embedding(input_dim, hid_dim).to(device) # Embedding(7853, 256)\n",
    "pos_embedding = nn.Embedding(max_length, hid_dim).to(device) # Embedding(100, 256)\n",
    "layers = nn.ModuleList([EncoderLayer(hid_dim, n_heads, pf_dim,0.1, device) for _ in range(n_layers)]).to(device) \n",
    "dropout = nn.Dropout(0.1).to(device) # Dropout(p=0.1, inplace=False)\n",
    "scale = torch.sqrt(torch.FloatTensor([hid_dim])).to(device) # tensor([16.])"
   ]
  },
  {
   "cell_type": "markdown",
   "id": "d81d872c",
   "metadata": {},
   "source": [
    "* 소스 문장의 <pad> 토큰에 대하여 마스크(mask) 값을 0으로 설정    \n",
    "    def make_src_mask(self, src):"
   ]
  },
  {
   "cell_type": "code",
   "execution_count": 22,
   "id": "e7464360",
   "metadata": {},
   "outputs": [
    {
     "data": {
      "text/plain": [
       "1"
      ]
     },
     "execution_count": 22,
     "metadata": {},
     "output_type": "execute_result"
    }
   ],
   "source": [
    "# src_mask 정의하기\n",
    "SRC_PAD_IDX = SRC.vocab.stoi[SRC.pad_token]\n",
    "src_pad_idx=SRC_PAD_IDX\n",
    "SRC_PAD_IDX"
   ]
  },
  {
   "cell_type": "code",
   "execution_count": 23,
   "id": "bfe56699",
   "metadata": {
    "scrolled": false
   },
   "outputs": [
    {
     "name": "stdout",
     "output_type": "stream",
     "text": [
      "torch.Size([128, 33])\n"
     ]
    },
    {
     "data": {
      "text/plain": [
       "tensor([[ 2,  8, 67,  ...,  1,  1,  1],\n",
       "        [ 2, 43, 41,  ...,  1,  1,  1],\n",
       "        [ 2,  8, 16,  ...,  1,  1,  1],\n",
       "        ...,\n",
       "        [ 2,  8, 36,  ...,  1,  1,  1],\n",
       "        [ 2,  5, 13,  ...,  1,  1,  1],\n",
       "        [ 2,  8, 16,  ...,  1,  1,  1]], device='cuda:1')"
      ]
     },
     "execution_count": 23,
     "metadata": {},
     "output_type": "execute_result"
    }
   ],
   "source": [
    "print(src.shape)\n",
    "src # PAD가 1"
   ]
  },
  {
   "cell_type": "markdown",
   "id": "f1b02795",
   "metadata": {},
   "source": [
    "* 언스퀴즈(Unsqueeze) -특정 위치에 1인 차원을 추가하기\n",
    "    * https://wikidocs.net/52846"
   ]
  },
  {
   "cell_type": "code",
   "execution_count": 24,
   "id": "8f66417e",
   "metadata": {},
   "outputs": [
    {
     "name": "stdout",
     "output_type": "stream",
     "text": [
      "tensor([0., 1., 2.])\n",
      "torch.Size([3])\n",
      "tensor([[0., 1., 2.]])\n",
      "torch.Size([1, 3])\n"
     ]
    }
   ],
   "source": [
    "# 예>\n",
    "ft = torch.Tensor([0, 1, 2])\n",
    "print(ft)\n",
    "print(ft.shape) # 차원이 1개인 1차원 벡터\n",
    "\n",
    "# 첫번째 차원에 1인 차원을 추가하기. \n",
    "# 첫번째 차원의 인덱스를 의미하는 숫자 0을 인자로 넣으면 첫번째 차원에 1인 차원이 추가됨\n",
    "print(ft.unsqueeze(0)) # 인덱스가 0부터 시작해서 0은 첫번째 차원임.\n",
    "print(ft.unsqueeze(0).shape) #  (3,)의 크기를 가졌던 1차원 벡터가 (1, 3)의 2차원 텐서로 변경"
   ]
  },
  {
   "cell_type": "code",
   "execution_count": 25,
   "id": "898bbb75",
   "metadata": {},
   "outputs": [
    {
     "name": "stdout",
     "output_type": "stream",
     "text": [
      "torch.Size([1, 128, 33])\n",
      "torch.Size([128, 1, 33])\n",
      "torch.Size([1, 1, 128, 33])\n"
     ]
    }
   ],
   "source": [
    "# 변경해서 shape 확인해보기 \n",
    "print((src != src_pad_idx).unsqueeze(0).shape)\n",
    "print((src != src_pad_idx).unsqueeze(1).shape)\n",
    "\n",
    "print((src != src_pad_idx).unsqueeze(0).unsqueeze(1).shape)"
   ]
  },
  {
   "cell_type": "code",
   "execution_count": 26,
   "id": "a689f078",
   "metadata": {},
   "outputs": [
    {
     "name": "stdout",
     "output_type": "stream",
     "text": [
      "torch.Size([128, 1, 1, 33])\n"
     ]
    },
    {
     "data": {
      "text/plain": [
       "tensor([[[[ True,  True,  True,  ..., False, False, False]]],\n",
       "\n",
       "\n",
       "        [[[ True,  True,  True,  ..., False, False, False]]],\n",
       "\n",
       "\n",
       "        [[[ True,  True,  True,  ..., False, False, False]]],\n",
       "\n",
       "\n",
       "        ...,\n",
       "\n",
       "\n",
       "        [[[ True,  True,  True,  ..., False, False, False]]],\n",
       "\n",
       "\n",
       "        [[[ True,  True,  True,  ..., False, False, False]]],\n",
       "\n",
       "\n",
       "        [[[ True,  True,  True,  ..., False, False, False]]]], device='cuda:1')"
      ]
     },
     "execution_count": 26,
     "metadata": {},
     "output_type": "execute_result"
    }
   ],
   "source": [
    "# src_mask 정의하기\n",
    "src_mask = (src != src_pad_idx).unsqueeze(1).unsqueeze(2)\n",
    "print(src_mask.shape)  #src_mask = [batch size, 1, 1, src len]\n",
    "src_mask"
   ]
  },
  {
   "cell_type": "code",
   "execution_count": 27,
   "id": "6ab9c28c",
   "metadata": {},
   "outputs": [
    {
     "data": {
      "text/plain": [
       "tensor([[[ True,  True,  True,  True,  True,  True,  True,  True,  True,  True,\n",
       "           True,  True,  True,  True,  True,  True,  True,  True,  True,  True,\n",
       "           True,  True,  True, False, False, False, False, False, False, False,\n",
       "          False, False, False]]], device='cuda:1')"
      ]
     },
     "execution_count": 27,
     "metadata": {},
     "output_type": "execute_result"
    }
   ],
   "source": [
    "# 어떻게 생겼는지 확인해보기\n",
    "src_mask[1]"
   ]
  },
  {
   "cell_type": "markdown",
   "id": "9b72aa97",
   "metadata": {},
   "source": [
    "def forward(self, src, src_mask):"
   ]
  },
  {
   "cell_type": "code",
   "execution_count": 28,
   "id": "bc1081e6",
   "metadata": {},
   "outputs": [
    {
     "name": "stdout",
     "output_type": "stream",
     "text": [
      "torch.Size([128, 33])\n",
      "torch.Size([128, 1, 1, 33])\n"
     ]
    }
   ],
   "source": [
    "# forward 진행 전에 shape 맞는지 확인하기\n",
    "print(src.shape)        #src = [batch size, src len]\n",
    "print(src_mask.shape)   #src_mask = [batch size, 1, 1, src len]"
   ]
  },
  {
   "cell_type": "code",
   "execution_count": 29,
   "id": "5d9f23bb",
   "metadata": {
    "scrolled": true
   },
   "outputs": [
    {
     "name": "stdout",
     "output_type": "stream",
     "text": [
      "128\n",
      "33\n"
     ]
    }
   ],
   "source": [
    "# 1.\n",
    "batch_size = src.shape[0] # 128\n",
    "print(batch_size)\n",
    "src_len = src.shape[1]\n",
    "print(src_len)"
   ]
  },
  {
   "cell_type": "code",
   "execution_count": 30,
   "id": "d87a3077",
   "metadata": {},
   "outputs": [
    {
     "name": "stdout",
     "output_type": "stream",
     "text": [
      "torch.Size([33])\n",
      "tensor([ 0,  1,  2,  3,  4,  5,  6,  7,  8,  9, 10, 11, 12, 13, 14, 15, 16, 17,\n",
      "        18, 19, 20, 21, 22, 23, 24, 25, 26, 27, 28, 29, 30, 31, 32])\n",
      "torch.Size([1, 33])\n",
      "tensor([[ 0,  1,  2,  3,  4,  5,  6,  7,  8,  9, 10, 11, 12, 13, 14, 15, 16, 17,\n",
      "         18, 19, 20, 21, 22, 23, 24, 25, 26, 27, 28, 29, 30, 31, 32]])\n",
      "torch.Size([128, 33])\n",
      "tensor([[ 0,  1,  2,  ..., 30, 31, 32],\n",
      "        [ 0,  1,  2,  ..., 30, 31, 32],\n",
      "        [ 0,  1,  2,  ..., 30, 31, 32],\n",
      "        ...,\n",
      "        [ 0,  1,  2,  ..., 30, 31, 32],\n",
      "        [ 0,  1,  2,  ..., 30, 31, 32],\n",
      "        [ 0,  1,  2,  ..., 30, 31, 32]])\n"
     ]
    }
   ],
   "source": [
    "# pos 정의하기 전에 구조 확인하기\n",
    "print(torch.arange(0, src_len).shape)\n",
    "print(torch.arange(0, src_len))\n",
    "\n",
    "print(torch.arange(0, src_len).unsqueeze(0).shape) # unsqueeze(0)을 추가하면\n",
    "print(torch.arange(0, src_len).unsqueeze(0))\n",
    "\n",
    "print(torch.arange(0, src_len).unsqueeze(0).repeat(batch_size, 1).shape) # repeat(batch_size, 1)을 추가하면\n",
    "print(torch.arange(0, src_len).unsqueeze(0).repeat(batch_size, 1))"
   ]
  },
  {
   "cell_type": "markdown",
   "id": "c6e7a44f",
   "metadata": {},
   "source": [
    "* torch에서의 repeat"
   ]
  },
  {
   "cell_type": "code",
   "execution_count": 31,
   "id": "34e2b5c9",
   "metadata": {
    "scrolled": true
   },
   "outputs": [
    {
     "name": "stdout",
     "output_type": "stream",
     "text": [
      "tensor([1, 2, 3])\n"
     ]
    },
    {
     "data": {
      "text/plain": [
       "tensor([[1, 2, 3, 1, 2, 3],\n",
       "        [1, 2, 3, 1, 2, 3],\n",
       "        [1, 2, 3, 1, 2, 3],\n",
       "        [1, 2, 3, 1, 2, 3]])"
      ]
     },
     "execution_count": 31,
     "metadata": {},
     "output_type": "execute_result"
    }
   ],
   "source": [
    "# 예>\n",
    "a = torch.tensor([1, 2, 3])\n",
    "print(a)\n",
    "a.repeat(4, 2)"
   ]
  },
  {
   "cell_type": "code",
   "execution_count": 32,
   "id": "5393f260",
   "metadata": {},
   "outputs": [
    {
     "name": "stdout",
     "output_type": "stream",
     "text": [
      "torch.Size([128, 33])\n"
     ]
    }
   ],
   "source": [
    "# 2. \n",
    "pos = torch.arange(0, src_len).unsqueeze(0).repeat(batch_size, 1).to(device)\n",
    "print(pos.shape) #pos = [batch size, src len]"
   ]
  },
  {
   "cell_type": "markdown",
   "id": "96cdd13d",
   "metadata": {},
   "source": [
    "https://moondol-ai.tistory.com/460\n",
    "\n",
    "* 트랜스포머는 단어 입력을 순차적으로 받지 않아서, 단어의 위치 정보를 알려줄 필요가 있다. 이때, 각 단어의 임베딩 벡터에 위치 정보들을 더해 모델의 입력으로 쓰는데 이것이 포지셔널 인코딩이다.\n",
    "* 입력으로 사용되는 임베딩 벡터들이 트랜스포머에 입력으로 쓰이기 전에 포지셔널 인코딩 값이 더해진다\n",
    "* 결론적으로 임베딩 벡터와 포지셔널 인코딩의 덧셈은 사실, 임베딩 벡터가 모여 만들어진 문장 벡터 행렬과 포지셔널 인코딩 행렬의 덧셈연산으로 이루어지는 것이다"
   ]
  },
  {
   "cell_type": "code",
   "execution_count": 33,
   "id": "3fc7f584",
   "metadata": {},
   "outputs": [
    {
     "name": "stdout",
     "output_type": "stream",
     "text": [
      "torch.Size([128, 33, 256])\n",
      "torch.Size([128, 33, 256])\n"
     ]
    }
   ],
   "source": [
    "print(pos_embedding(pos).shape)\n",
    "print(tok_embedding(src).shape)"
   ]
  },
  {
   "cell_type": "code",
   "execution_count": 34,
   "id": "1c0cedcc",
   "metadata": {},
   "outputs": [
    {
     "data": {
      "text/plain": [
       "torch.Size([128, 33, 256])"
      ]
     },
     "execution_count": 34,
     "metadata": {},
     "output_type": "execute_result"
    }
   ],
   "source": [
    "# 3.\n",
    "# src 문장의 embedding vector와 positional vector를 더해줌\n",
    "src = dropout((tok_embedding(src) * scale) + pos_embedding(pos))\n",
    "src.shape #src = [batch size, src len, hid dim]\n",
    "# multihead attention layer에서 nn.linear에서 input 차원과 같도록 shape를 조정해줌 torch.Size([batch size, src len, 256 -> hid_dim])"
   ]
  },
  {
   "cell_type": "code",
   "execution_count": 35,
   "id": "a47789fb",
   "metadata": {},
   "outputs": [
    {
     "data": {
      "text/plain": [
       "torch.Size([128, 33, 256])"
      ]
     },
     "execution_count": 35,
     "metadata": {},
     "output_type": "execute_result"
    }
   ],
   "source": [
    "# 4. \n",
    "# 모든 인코더 레이어를 차례대로 거치면서 순전파(forward) 수행\n",
    "for layer in layers:\n",
    "    src = layer(src, src_mask)\n",
    "src # 마지막 레이어의 출력을 반환\n",
    "src.shape #src = [batch size, src len, hid dim]"
   ]
  },
  {
   "cell_type": "markdown",
   "id": "4c6ab8a1",
   "metadata": {},
   "source": [
    "## 2.2 MultiHeadAttentionLayer\n",
    "* 한 번의 어텐션보다 어텐션을 병렬로 여러번 사용하는 것이 더 효과적일 것이다!\n",
    "* 어텐션(attention)의 세 입력 요소\n",
    "    * 쿼리(queries), 키(keys), 값(values)\n",
    "* 하이퍼 파라미터(hyperparameter)\n",
    "    * hidden_dim: 하나의 단어에 대한 임베딩 차원\n",
    "    * n_heads: 헤드(head)의 개수 = scaled dot-product attention의 개수\n",
    "    * dropout_ratio: 드롭아웃(dropout) 비율\n",
    "    \n",
    "- h=8 parallel attention layers or heads\n",
    "- 각 헤드마다 dk = dv = dmodel/h = 64(512/8)의 차원을 설정.\n",
    "\n",
    "- encoderlayer에서 self.self_attention = MultiHeadAttentionLayer(hid_dim, n_heads, dropout, device) 다음과 같이 쓰임"
   ]
  },
  {
   "cell_type": "code",
   "execution_count": 36,
   "id": "3b7cd84f",
   "metadata": {},
   "outputs": [],
   "source": [
    "class MultiHeadAttentionLayer(nn.Module):\n",
    "    def __init__(self, hid_dim, n_heads, dropout, device):\n",
    "        super().__init__()\n",
    "        \n",
    "        assert hid_dim % n_heads == 0    # assert: 가정 설정문, 뒤의 조건이 True가 아니면 error를 발생시킴\n",
    "        \n",
    "        self.hid_dim = hid_dim \n",
    "        self.n_heads = n_heads\n",
    "        self.head_dim = hid_dim // n_heads # d_model의 차원을 n_heads개로 나누어서 병렬 어텐션 수행.\n",
    "        \n",
    "        # WQ, WK, WV에 해당하는 밀집층 정의\n",
    "        self.fc_q = nn.Linear(hid_dim, hid_dim)\n",
    "        self.fc_k = nn.Linear(hid_dim, hid_dim)\n",
    "        self.fc_v = nn.Linear(hid_dim, hid_dim)\n",
    "        \n",
    "        self.fc_o = nn.Linear(hid_dim, hid_dim) # WO(weight matrix)에 해당하는 밀집층 정의\n",
    "        \n",
    "        self.dropout = nn.Dropout(dropout)\n",
    "        \n",
    "        self.scale = torch.sqrt(torch.FloatTensor([self.head_dim])).to(device)\n",
    "        \n",
    "    def forward(self, query, key, value, mask = None): #######\n",
    "        \n",
    "        batch_size = query.shape[0]\n",
    "        \n",
    "        #query = [batch size, query len, hid dim]\n",
    "        #key = [batch size, key len, hid dim]\n",
    "        #value = [batch size, value len, hid dim]\n",
    "                \n",
    "        Q = self.fc_q(query)\n",
    "        K = self.fc_k(key)\n",
    "        V = self.fc_v(value)\n",
    "        \n",
    "        #Q = [batch size, query len, hid dim]\n",
    "        #K = [batch size, key len, hid dim]\n",
    "        #V = [batch size, value len, hid dim]\n",
    "        \n",
    "        # hidden_dim → n_heads X head_dim 형태로 변형\n",
    "        # n_heads(h)개의 서로 다른 어텐션(attention) 컨셉을 학습하도록 유도, permute를 통해 순서를 변경, scaled dot product 연산시 데이터 입력 순서가 달라서\n",
    "        Q = Q.view(batch_size, -1, self.n_heads, self.head_dim).permute(0, 2, 1, 3)\n",
    "        K = K.view(batch_size, -1, self.n_heads, self.head_dim).permute(0, 2, 1, 3)\n",
    "        V = V.view(batch_size, -1, self.n_heads, self.head_dim).permute(0, 2, 1, 3)\n",
    "        \n",
    "        #Q = [batch size, n heads, query len, head dim]\n",
    "        #K = [batch size, n heads, key len, head dim]\n",
    "        #V = [batch size, n heads, value len, head dim]\n",
    "        \n",
    "        # Q와 K에 대해서 행렬곱해준 후 scale 진행\n",
    "        energy = torch.matmul(Q, K.permute(0, 1, 3, 2)) / self.scale # Attention Energy 계산    \n",
    "        \n",
    "        #energy = [batch size, n heads, query len, key len]\n",
    "        \n",
    "        # 마스크(mask)를 사용하는 경우\n",
    "        if mask is not None:\n",
    "            # 마스크(mask) 값이 0인 부분을 -1e10으로 채우기, 입력 문장에 <PAD>토큰이 있을 경우 어텐션에서 제외하기 위한 연산 -> <PAD>의 경우, 실질적인 의미를 가진 단어가 아니어서 유사도를 구하지 않도록 마스킹해줌.\n",
    "            energy = energy.masked_fill(mask == 0, -1e10)\n",
    "        \n",
    "        # 어텐션(attention) 스코어 계산: 각 단어에 대한 확률 값\n",
    "        attention = torch.softmax(energy, dim = -1)\n",
    "                \n",
    "        #attention = [batch size, n heads, query len, key len]\n",
    "        \n",
    "        # Scaled Dot-Product Attention을 계산\n",
    "        x = torch.matmul(self.dropout(attention), V)\n",
    "        \n",
    "        #x = [batch size, n heads, query len, head dim]\n",
    "        \n",
    "        x = x.permute(0, 2, 1, 3).contiguous()\n",
    "        \n",
    "        #x = [batch size, query len, n heads, head dim]\n",
    "        \n",
    "        x = x.view(batch_size, -1, self.hid_dim)\n",
    "        \n",
    "        #x = [batch size, query len, hid dim]\n",
    "        \n",
    "        x = self.fc_o(x)\n",
    "        \n",
    "        #x = [batch size, query len, hid dim]\n",
    "        \n",
    "        return x, attention"
   ]
  },
  {
   "cell_type": "markdown",
   "id": "a04f4b80",
   "metadata": {},
   "source": [
    "def __init__(self, hid_dim, n_heads, dropout, device):"
   ]
  },
  {
   "cell_type": "code",
   "execution_count": 37,
   "id": "fc83ea3f",
   "metadata": {},
   "outputs": [],
   "source": [
    "# 정의\n",
    "assert hid_dim % n_heads == 0  \n",
    "\n",
    "hid_dim = hid_dim # 임베딩 차원, 256\n",
    "n_heads = n_heads # 헤드(head)의 개수: 서로 다른 어텐션(attention) 컨셉의 수, 8\n",
    "head_dim = hid_dim // n_heads # 각 헤드(head)에서의 임베딩 차원, 32\n",
    "\n",
    "# 선형회귀모델 nn.Linear(input_dim,output_dim)\n",
    "fc_q = nn.Linear(hid_dim, hid_dim).to(device) # Query 값에 적용될 FC 레이어, Linear(in_features=256, out_features=256, bias=True)\n",
    "fc_k = nn.Linear(hid_dim, hid_dim).to(device) # Key 값에 적용될 FC 레이어, Linear(in_features=256, out_features=256, bias=True)\n",
    "fc_v = nn.Linear(hid_dim, hid_dim).to(device) # Value 값에 적용될 FC 레이어, Linear(in_features=256, out_features=256, bias=True)\n",
    "fc_o = nn.Linear(hid_dim, hid_dim).to(device) # Linear(in_features=256, out_features=256, bias=True)\n",
    "\n",
    "dropout = nn.Dropout(0.1).to(device) # Dropout(p=0.1, inplace=False)\n",
    "\n",
    "scale = torch.sqrt(torch.FloatTensor([head_dim])).to(device)"
   ]
  },
  {
   "cell_type": "markdown",
   "id": "80446ec4",
   "metadata": {},
   "source": [
    "def forward(self, query, key, value, mask = None):"
   ]
  },
  {
   "cell_type": "code",
   "execution_count": 38,
   "id": "6be00deb",
   "metadata": {},
   "outputs": [
    {
     "name": "stdout",
     "output_type": "stream",
     "text": [
      "torch.Size([128, 33, 256])\n",
      "torch.Size([128, 33, 256])\n",
      "torch.Size([128, 33, 256])\n"
     ]
    }
   ],
   "source": [
    "# query, key, value, mask = None 정의하기\n",
    "query=src\n",
    "print(query.shape) #query = [batch size, query len, hid dim]\n",
    "key=src\n",
    "print(key.shape) #key = [batch size, key len, hid dim]\n",
    "value=src\n",
    "print(value.shape) #value = [batch size, value len, hid dim]\n",
    "mask = None"
   ]
  },
  {
   "cell_type": "markdown",
   "id": "fae0aa35",
   "metadata": {},
   "source": [
    "def forward(self, query, key, value, mask = None):"
   ]
  },
  {
   "cell_type": "code",
   "execution_count": 39,
   "id": "64c3c4e0",
   "metadata": {},
   "outputs": [
    {
     "data": {
      "text/plain": [
       "128"
      ]
     },
     "execution_count": 39,
     "metadata": {},
     "output_type": "execute_result"
    }
   ],
   "source": [
    "# 1.\n",
    "batch_size = query.shape[0]\n",
    "batch_size # 128"
   ]
  },
  {
   "cell_type": "code",
   "execution_count": 40,
   "id": "49224bdd",
   "metadata": {
    "scrolled": true
   },
   "outputs": [
    {
     "name": "stdout",
     "output_type": "stream",
     "text": [
      "torch.Size([128, 33, 256])\n",
      "tensor([[[-3.0326e-01, -2.3057e-03, -9.2200e-02,  ...,  7.8596e-01,\n",
      "          -1.4714e-01, -2.8933e-03],\n",
      "         [ 8.3807e-02, -5.6867e-01, -1.1365e+00,  ...,  6.9740e-01,\n",
      "           1.1024e+00,  3.5360e-01],\n",
      "         [-2.7398e-01, -8.3326e-01, -7.3765e-01,  ...,  5.2766e-01,\n",
      "           2.0044e-01, -4.3675e-01],\n",
      "         ...,\n",
      "         [-1.0129e+00,  8.9158e-02, -1.6086e-01,  ...,  5.1141e-01,\n",
      "          -3.5899e-01, -3.8408e-01],\n",
      "         [-1.0339e+00,  5.2001e-01, -5.7130e-02,  ...,  5.8669e-01,\n",
      "          -7.9526e-01, -1.9262e-01],\n",
      "         [-9.4813e-01,  7.5911e-01, -4.1976e-01,  ...,  7.6736e-01,\n",
      "          -6.2036e-01, -4.0017e-01]],\n",
      "\n",
      "        [[-1.3844e-01,  2.0960e-01, -9.2511e-02,  ...,  8.4334e-01,\n",
      "          -1.8276e-02,  3.1615e-01],\n",
      "         [-6.5478e-01,  2.6433e-01,  5.1745e-01,  ...,  6.0186e-02,\n",
      "          -7.7943e-01,  1.8775e-01],\n",
      "         [ 9.4951e-01, -1.2799e-01, -2.8777e-01,  ...,  3.0459e-01,\n",
      "           6.5994e-01, -3.8879e-01],\n",
      "         ...,\n",
      "         [-1.0124e+00,  2.6342e-01,  3.2733e-04,  ...,  5.9067e-01,\n",
      "          -3.5236e-01, -3.1574e-01],\n",
      "         [-7.5884e-01,  1.6406e-01,  7.4856e-02,  ...,  7.2057e-01,\n",
      "          -6.2663e-01, -7.2373e-01],\n",
      "         [-1.1177e+00,  7.9999e-01,  3.4642e-01,  ...,  5.6704e-01,\n",
      "          -1.7032e-01, -4.9042e-01]],\n",
      "\n",
      "        [[-3.6610e-01,  2.7144e-01, -1.4007e-01,  ...,  5.2152e-01,\n",
      "           1.8366e-01, -3.5227e-02],\n",
      "         [ 3.3401e-01,  4.0245e-01, -9.6088e-01,  ...,  6.4292e-01,\n",
      "           1.1916e+00,  1.7752e-01],\n",
      "         [-9.3024e-02, -8.7536e-01,  3.0609e-01,  ..., -5.7505e-02,\n",
      "           8.0705e-01,  1.5102e-01],\n",
      "         ...,\n",
      "         [-3.1146e-01, -1.0001e-01,  1.3103e-01,  ...,  8.1319e-01,\n",
      "          -7.3124e-01,  3.8627e-02],\n",
      "         [-3.4306e-01,  6.8633e-01,  3.6450e-01,  ...,  2.7660e-01,\n",
      "          -6.0001e-01, -5.1756e-01],\n",
      "         [-7.2206e-01, -2.8042e-01,  4.3288e-01,  ..., -3.7635e-01,\n",
      "          -1.0328e+00, -5.9708e-01]],\n",
      "\n",
      "        ...,\n",
      "\n",
      "        [[-3.0870e-01, -2.8414e-01, -1.9194e-01,  ...,  3.6275e-01,\n",
      "          -1.8168e-02,  1.0638e-01],\n",
      "         [-1.3120e-01, -2.6070e-01, -7.2571e-01,  ...,  8.1903e-01,\n",
      "           1.1122e+00, -4.3985e-01],\n",
      "         [-1.7460e-01,  1.3404e-01,  2.3391e-01,  ..., -3.4597e-01,\n",
      "           1.8351e-01,  9.7222e-01],\n",
      "         ...,\n",
      "         [-1.0105e+00,  3.5822e-01,  3.1393e-01,  ...,  3.6427e-01,\n",
      "          -7.3122e-01, -3.2175e-01],\n",
      "         [-7.7409e-01,  3.7822e-01,  1.1075e-03,  ...,  4.5921e-01,\n",
      "          -4.7459e-01, -1.0190e+00],\n",
      "         [-1.6296e+00,  3.8297e-01,  2.9534e-01,  ...,  6.0923e-01,\n",
      "          -1.0362e+00, -1.7627e-02]],\n",
      "\n",
      "        [[-6.7812e-01,  6.2045e-01, -3.5681e-01,  ...,  6.1224e-01,\n",
      "           1.1058e-01,  2.1266e-01],\n",
      "         [ 8.2971e-01,  3.5112e-01, -1.0189e-01,  ..., -1.1177e+00,\n",
      "           1.8045e-01, -7.5807e-01],\n",
      "         [ 1.7799e-01,  2.0413e-01,  3.5726e-01,  ...,  3.6368e-01,\n",
      "           2.7452e-01, -2.4383e-01],\n",
      "         ...,\n",
      "         [-4.4838e-01,  3.2830e-01, -4.5841e-01,  ...,  9.9107e-01,\n",
      "          -4.0712e-01, -5.3423e-01],\n",
      "         [-6.0238e-01,  4.7513e-01,  1.1269e-01,  ...,  7.2581e-01,\n",
      "          -7.8814e-01, -3.1851e-01],\n",
      "         [-5.0821e-01,  3.2415e-01,  6.5062e-01,  ...,  7.3625e-01,\n",
      "          -4.1549e-01, -1.8066e-01]],\n",
      "\n",
      "        [[ 7.5913e-01,  2.9811e-01,  6.3868e-02,  ...,  3.0082e-01,\n",
      "          -2.3863e-01, -1.0566e-02],\n",
      "         [ 2.5942e-01,  7.7893e-02, -3.5054e-01,  ...,  4.4188e-01,\n",
      "           8.2478e-01,  9.5661e-02],\n",
      "         [-4.4215e-01, -5.4329e-01,  1.3564e-01,  ...,  7.8310e-03,\n",
      "           8.2286e-01, -4.3758e-03],\n",
      "         ...,\n",
      "         [-7.8541e-01,  3.9907e-01,  4.2054e-01,  ...,  4.5885e-01,\n",
      "          -3.8672e-01, -3.4279e-01],\n",
      "         [-5.5352e-01,  1.3021e-01,  5.8225e-02,  ...,  6.2523e-01,\n",
      "          -3.7925e-01, -5.6976e-01],\n",
      "         [-1.1765e+00,  2.6418e-01, -3.8564e-01,  ...,  6.7928e-01,\n",
      "          -2.7990e-01, -2.9827e-01]]], device='cuda:1', grad_fn=<AddBackward0>)\n",
      "torch.Size([128, 33, 256])\n",
      "torch.Size([128, 33, 256])\n"
     ]
    }
   ],
   "source": [
    "# 2.\n",
    "Q = fc_q(query)\n",
    "print(Q.shape) #Q = [batch size, query len, hid dim]\n",
    "print(Q)\n",
    "K = fc_k(key)\n",
    "print(K.shape) #K = [batch size, key len, hid dim]\n",
    "V = fc_v(value)\n",
    "print(V.shape) #V = [batch size, value len, hid dim]      "
   ]
  },
  {
   "cell_type": "markdown",
   "id": "35e9bef6",
   "metadata": {},
   "source": [
    "* pytorch view\n",
    "    * 기본적으로 변경 전과 변경 후의 텐서 안의 원소의 개수가 유지되어야 함"
   ]
  },
  {
   "cell_type": "code",
   "execution_count": 41,
   "id": "13638c1c",
   "metadata": {
    "scrolled": true
   },
   "outputs": [
    {
     "data": {
      "text/plain": [
       "torch.Size([128, 33, 8, 32])"
      ]
     },
     "execution_count": 41,
     "metadata": {},
     "output_type": "execute_result"
    }
   ],
   "source": [
    "Q.view(batch_size, -1, n_heads, head_dim).shape # 256이 8, 32로 나누어짐"
   ]
  },
  {
   "cell_type": "markdown",
   "id": "c5558053",
   "metadata": {},
   "source": [
    "* pytorch permutate\n",
    "    * 순서 바뀜"
   ]
  },
  {
   "cell_type": "code",
   "execution_count": 42,
   "id": "e7213a07",
   "metadata": {
    "scrolled": true
   },
   "outputs": [
    {
     "name": "stdout",
     "output_type": "stream",
     "text": [
      "torch.Size([128, 8, 33, 32])\n",
      "torch.Size([32, 8, 33, 128])\n"
     ]
    }
   ],
   "source": [
    "print(Q.view(batch_size, -1, n_heads, head_dim).permute(0, 2, 1, 3).shape)\n",
    "# 0,1,2,3 이 0,2,1,3 으로 가운데 두 값의 순서가 바뀜\n",
    "print(Q.view(batch_size, -1, n_heads, head_dim).permute(3, 2, 1, 0).shape)"
   ]
  },
  {
   "cell_type": "markdown",
   "id": "31d6f4af",
   "metadata": {},
   "source": [
    "* multi-head attention\n",
    "    * hidden_dim(256) → n_heads(8) X head_dim(32) 형태로 변형\n",
    "    * n_heads(h)개의 서로 다른 어텐션(attention) 컨셉을 학습하도록 유도     \n",
    "    * permute를 통해 순서를 변경, scaled dot product 연산시 데이터 입력 순서가 달라서"
   ]
  },
  {
   "cell_type": "code",
   "execution_count": 43,
   "id": "cb88f617",
   "metadata": {
    "scrolled": true
   },
   "outputs": [
    {
     "name": "stdout",
     "output_type": "stream",
     "text": [
      "torch.Size([128, 8, 33, 32])\n",
      "torch.Size([128, 8, 33, 32])\n",
      "torch.Size([128, 8, 33, 32])\n"
     ]
    }
   ],
   "source": [
    "# 3.\n",
    "Q = Q.view(batch_size, -1, n_heads, head_dim).permute(0, 2, 1, 3)\n",
    "print(Q.shape) #Q = [batch size, n heads, query len, head dim]\n",
    "K = K.view(batch_size, -1, n_heads, head_dim).permute(0, 2, 1, 3)\n",
    "print(K.shape) #K = [batch size, n heads, key len, head dim]\n",
    "V = V.view(batch_size, -1, n_heads, head_dim).permute(0, 2, 1, 3)\n",
    "print(V.shape) #V = [batch size, n heads, value len, head dim]"
   ]
  },
  {
   "cell_type": "code",
   "execution_count": 44,
   "id": "a940b275",
   "metadata": {},
   "outputs": [
    {
     "name": "stdout",
     "output_type": "stream",
     "text": [
      "torch.Size([128, 8, 33, 32])\n",
      "torch.Size([128, 8, 32, 33])\n"
     ]
    }
   ],
   "source": [
    "print(Q.shape)\n",
    "print(K.permute(0, 1, 3, 2).shape) # 행렬곱 위해서 순서 바꿈(permutate 사용 이유)"
   ]
  },
  {
   "cell_type": "markdown",
   "id": "8a8899a1",
   "metadata": {},
   "source": [
    "1.2.1 Scaled Dot-Product Attention\n",
    "* scaling\n",
    "    * attention function으로서 dot-product attention을 채택.\n",
    "        * (더 빠르고 공간효율적)\n",
    "    * 이 때, 1/√dk로 scaling 해줌 -> 모든 값들이 0 근처에 옴\n",
    " * softmax\n",
    "     *  values에 대한 weights를 얻고자 softmax function 시행"
   ]
  },
  {
   "cell_type": "code",
   "execution_count": 45,
   "id": "a1bb0e28",
   "metadata": {},
   "outputs": [
    {
     "name": "stdout",
     "output_type": "stream",
     "text": [
      "torch.Size([128, 8, 33, 33])\n"
     ]
    }
   ],
   "source": [
    "# 4. \n",
    "# Q와 K에 대해서 행렬곱해준 후 scale 진행, attention energy 계산\n",
    "energy = torch.matmul(Q, K.permute(0, 1, 3, 2)) / scale \n",
    "print(energy.shape) #energy = [batch size, n heads, query len, key len]"
   ]
  },
  {
   "cell_type": "code",
   "execution_count": 46,
   "id": "373205fb",
   "metadata": {},
   "outputs": [],
   "source": [
    "# 5. \n",
    "# 마스크(mask)를 사용하는 경우\n",
    "if mask is not None:\n",
    "    # 마스크(mask) 값이 0인 부분을 -1e10으로 채우기, 입력 문장에 <PAD>토큰이 있을 경우 어텐션에서 제외하기 위한 연산 -> <PAD>의 경우, 실질적인 의미를 가진 단어가 아니어서 유사도를 구하지 않도록 마스킹해줌.\n",
    "    energy = energy.masked_fill(mask == 0, -1e10)"
   ]
  },
  {
   "cell_type": "code",
   "execution_count": 47,
   "id": "db222bcb",
   "metadata": {},
   "outputs": [
    {
     "name": "stdout",
     "output_type": "stream",
     "text": [
      "torch.Size([128, 8, 33, 33])\n"
     ]
    }
   ],
   "source": [
    "# 6. \n",
    "# 어텐션(attention) 스코어 계산: 각 단어에 대한 확률 값\n",
    "attention = torch.softmax(energy, dim = -1)  \n",
    "print(attention.shape) #attention = [batch size, n heads, query len, key len]"
   ]
  },
  {
   "cell_type": "code",
   "execution_count": 48,
   "id": "1c6d7aaa",
   "metadata": {},
   "outputs": [
    {
     "name": "stdout",
     "output_type": "stream",
     "text": [
      "torch.Size([128, 8, 33, 33])\n",
      "torch.Size([128, 8, 33, 32])\n"
     ]
    }
   ],
   "source": [
    "# 행렬곱\n",
    "print(dropout(attention).shape)\n",
    "print(V.shape)"
   ]
  },
  {
   "cell_type": "code",
   "execution_count": 49,
   "id": "1bf21bcc",
   "metadata": {},
   "outputs": [
    {
     "name": "stdout",
     "output_type": "stream",
     "text": [
      "torch.Size([128, 33])\n",
      "torch.Size([128, 8, 33, 32])\n"
     ]
    }
   ],
   "source": [
    "print(x.shape) # x=[batch size, src len] __ 아예 처음 불러온 값\n",
    "\n",
    "# 7. \n",
    "# Scaled Dot-Product Attention을 계산\n",
    "x = torch.matmul(dropout(attention), V)\n",
    "print(x.shape) #x = [batch size, n heads, query len, head dim]"
   ]
  },
  {
   "cell_type": "markdown",
   "id": "cbee5384",
   "metadata": {},
   "source": [
    "## contiguous 더 자세하게 . 다른 것과 비교도 같이"
   ]
  },
  {
   "cell_type": "markdown",
   "id": "0b7c1398",
   "metadata": {},
   "source": [
    "* contiguous\n",
    "    * 메모리 저장 상태를 바꾸는 것\n",
    "    * 새로운 메모리 공간에 데이터를 복사해 주소값 연속성을 가변적이게 만들어줌"
   ]
  },
  {
   "cell_type": "code",
   "execution_count": 50,
   "id": "b0422312",
   "metadata": {},
   "outputs": [
    {
     "name": "stdout",
     "output_type": "stream",
     "text": [
      "torch.Size([128, 33, 8, 32])\n"
     ]
    }
   ],
   "source": [
    "# 8.\n",
    "x = x.permute(0, 2, 1, 3).contiguous()  #x = [batch size, query len, n heads, head dim]\n",
    "print(x.shape)"
   ]
  },
  {
   "cell_type": "code",
   "execution_count": 51,
   "id": "13fab80b",
   "metadata": {},
   "outputs": [
    {
     "name": "stdout",
     "output_type": "stream",
     "text": [
      "torch.Size([128, 33, 256])\n"
     ]
    }
   ],
   "source": [
    "# 9.\n",
    "x = x.view(batch_size, -1, hid_dim) \n",
    "print(x.shape) #x = [batch size, query len, hid dim]"
   ]
  },
  {
   "cell_type": "code",
   "execution_count": 52,
   "id": "7a70b8ce",
   "metadata": {
    "scrolled": true
   },
   "outputs": [
    {
     "name": "stdout",
     "output_type": "stream",
     "text": [
      "torch.Size([128, 33, 256])\n"
     ]
    }
   ],
   "source": [
    "# 10.\n",
    "x = fc_o(x) # 선형회귀모델 거침\n",
    "print(x.shape) #x = [batch size, query len, hid dim]"
   ]
  },
  {
   "cell_type": "code",
   "execution_count": 53,
   "id": "d8fd48fe",
   "metadata": {
    "scrolled": true
   },
   "outputs": [
    {
     "name": "stdout",
     "output_type": "stream",
     "text": [
      "torch.Size([128, 33, 256])\n",
      "torch.Size([128, 8, 33, 33])\n"
     ]
    }
   ],
   "source": [
    "# 최종 return 값\n",
    "print(x.shape)\n",
    "print(attention.shape)"
   ]
  },
  {
   "cell_type": "markdown",
   "id": "e6091db3",
   "metadata": {},
   "source": [
    "## 2.4 PositionwiseFeedforwardLayer\n",
    "\n",
    "* 인코더, 디코더에서 공통적으로 가지는 층으로 완전 연결(FFNN, Fully-connected)을 적용하는 부분으로 position(각 단어)마다 적용되기 때문에 position-wise라 불림\n",
    "\n",
    "- encoder layer에서 self.positionwise_feedforward = PositionwiseFeedforwardLayer(hid_dim, pf_dim, dropout)\n",
    "\n",
    "- 2개의 FC layer를 가짐\n",
    "- 하이퍼 파라미터(hyperparameter)\n",
    "    * hidden_dim: 하나의 단어에 대한 임베딩 차원\n",
    "    * pf_dim: Feedforward 레이어에서의 내부 임베딩 차원\n",
    "    * dropout_ratio: 드롭아웃(dropout) 비율\n",
    "- Multi-Head Attention Layer의 output을 input으로 받아 연산을 수행하고, 다음 Encoder에게 output을 넘겨줌. 첫번째 FC Layer의 output에 ReLU를 적용"
   ]
  },
  {
   "cell_type": "code",
   "execution_count": 54,
   "id": "fc9971f5",
   "metadata": {},
   "outputs": [],
   "source": [
    "class PositionwiseFeedforwardLayer(nn.Module):\n",
    "    def __init__(self, hid_dim, pf_dim, dropout):\n",
    "        super().__init__()\n",
    "        \n",
    "        self.fc_1 = nn.Linear(hid_dim, pf_dim)\n",
    "        self.fc_2 = nn.Linear(pf_dim, hid_dim) # fc를 두 번 거쳐서 입력과 출력 차원이 동일하도록(인풋의 shape를 그대로 유지함) 해줌\n",
    "        \n",
    "        self.dropout = nn.Dropout(dropout)\n",
    "        \n",
    "    def forward(self, x):\n",
    "        \n",
    "        #x = [batch size, seq len, hid dim]\n",
    "        \n",
    "        x = self.dropout(torch.relu(self.fc_1(x)))\n",
    "        \n",
    "        #x = [batch size, seq len, pf dim]\n",
    "        \n",
    "        x = self.fc_2(x)\n",
    "        \n",
    "        #x = [batch size, seq len, hid dim]\n",
    "        \n",
    "        return x"
   ]
  },
  {
   "cell_type": "markdown",
   "id": "deea1479",
   "metadata": {},
   "source": [
    " def __init__(self, hid_dim, pf_dim, dropout):"
   ]
  },
  {
   "cell_type": "code",
   "execution_count": 55,
   "id": "7608ac9a",
   "metadata": {},
   "outputs": [],
   "source": [
    "# 정의\n",
    "fc_1 = nn.Linear(hid_dim, pf_dim).to(device) # Linear(in_features=256, out_features=512, bias=True)\n",
    "fc_2 = nn.Linear(pf_dim, hid_dim).to(device) # Linear(in_features=512, out_features=256, bias=True)\n",
    "dropout = nn.Dropout(0.1).to(device) # Dropout(p=0.1, inplace=False)"
   ]
  },
  {
   "cell_type": "code",
   "execution_count": 56,
   "id": "fde17f1e",
   "metadata": {
    "scrolled": true
   },
   "outputs": [
    {
     "name": "stdout",
     "output_type": "stream",
     "text": [
      "torch.Size([128, 33, 256])\n"
     ]
    }
   ],
   "source": [
    "# Multi-Head Attention Layer의 output을 input으로 받아 연산을 수행\n",
    "print(x.shape) #x = [batch size, seq len, hid dim] , multihead_atttention을 거쳐 나온 x값"
   ]
  },
  {
   "cell_type": "markdown",
   "id": "e5516866",
   "metadata": {},
   "source": [
    "def forward(self, x):"
   ]
  },
  {
   "cell_type": "code",
   "execution_count": 57,
   "id": "5a0ac4f6",
   "metadata": {
    "scrolled": true
   },
   "outputs": [
    {
     "data": {
      "text/plain": [
       "tensor([[[ 1.2092e-01, -9.6780e-03,  2.1375e-01,  ..., -4.0775e-02,\n",
       "          -1.6421e-02,  9.6035e-02],\n",
       "         [ 1.2328e-01, -9.5611e-03,  1.8613e-01,  ..., -5.3108e-02,\n",
       "           1.1142e-03,  1.3111e-01],\n",
       "         [ 9.8520e-02, -3.4071e-03,  1.9743e-01,  ..., -6.5517e-02,\n",
       "           3.8334e-02,  8.0034e-02],\n",
       "         ...,\n",
       "         [ 9.6879e-02, -3.0070e-02,  1.9713e-01,  ..., -7.1215e-02,\n",
       "           3.9438e-02,  8.9874e-02],\n",
       "         [ 1.1846e-01, -3.4520e-02,  2.3427e-01,  ..., -7.9383e-02,\n",
       "           1.7571e-02,  9.7180e-02],\n",
       "         [ 1.1914e-01, -3.8673e-02,  2.4439e-01,  ..., -9.1326e-02,\n",
       "           3.5123e-02,  1.1855e-01]],\n",
       "\n",
       "        [[ 2.8158e-02,  2.5383e-02,  1.6788e-01,  ..., -3.6718e-02,\n",
       "           1.3788e-01,  8.7554e-03],\n",
       "         [-2.6828e-04,  2.3287e-02,  1.7942e-01,  ..., -7.9074e-02,\n",
       "           1.2574e-01,  2.6135e-02],\n",
       "         [ 3.9010e-02, -3.5542e-02,  1.8451e-01,  ..., -3.4474e-02,\n",
       "           1.2946e-01, -1.7323e-02],\n",
       "         ...,\n",
       "         [ 2.9507e-02, -1.7164e-02,  1.7448e-01,  ..., -5.9759e-02,\n",
       "           1.2578e-01,  2.2026e-02],\n",
       "         [ 4.4693e-02, -1.9502e-02,  1.9786e-01,  ..., -7.6205e-02,\n",
       "           1.2207e-01,  5.0757e-03],\n",
       "         [ 2.1097e-03, -6.5666e-03,  1.8140e-01,  ..., -4.2610e-02,\n",
       "           1.1401e-01,  2.8501e-02]],\n",
       "\n",
       "        [[ 4.8215e-02, -9.9066e-02,  1.3114e-01,  ...,  9.8700e-03,\n",
       "          -4.3237e-02,  1.7364e-01],\n",
       "         [ 3.4119e-02, -7.4688e-02,  1.2843e-01,  ..., -2.9847e-02,\n",
       "          -1.9304e-02,  1.7542e-01],\n",
       "         [ 5.0688e-02, -7.3087e-02,  1.6345e-01,  ..., -2.5514e-02,\n",
       "          -5.1918e-02,  1.6055e-01],\n",
       "         ...,\n",
       "         [ 5.4265e-02, -9.2224e-02,  1.6401e-01,  ..., -2.9626e-02,\n",
       "          -3.9803e-02,  1.9756e-01],\n",
       "         [ 5.7304e-02, -8.6974e-02,  1.5948e-01,  ..., -3.9246e-03,\n",
       "          -3.3782e-02,  1.9783e-01],\n",
       "         [ 2.8529e-02, -6.5770e-02,  1.5184e-01,  ..., -2.0638e-02,\n",
       "          -2.6145e-02,  1.7654e-01]],\n",
       "\n",
       "        ...,\n",
       "\n",
       "        [[ 1.5579e-01, -3.2717e-02,  1.6762e-01,  ..., -1.1596e-01,\n",
       "           3.2615e-02,  1.5499e-01],\n",
       "         [ 1.9202e-01, -4.3862e-02,  1.5785e-01,  ..., -1.1335e-01,\n",
       "           9.3593e-02,  2.0368e-01],\n",
       "         [ 1.5822e-01, -1.1602e-02,  1.7207e-01,  ..., -1.1917e-01,\n",
       "           7.4387e-02,  1.5703e-01],\n",
       "         ...,\n",
       "         [ 1.3635e-01,  2.1361e-04,  1.8560e-01,  ..., -1.3426e-01,\n",
       "           5.0814e-02,  1.6342e-01],\n",
       "         [ 1.4576e-01, -5.9054e-02,  1.9746e-01,  ..., -1.3593e-01,\n",
       "           7.1555e-02,  1.8446e-01],\n",
       "         [ 1.6081e-01, -1.2721e-02,  2.0067e-01,  ..., -1.5036e-01,\n",
       "           3.8745e-02,  1.5751e-01]],\n",
       "\n",
       "        [[ 1.0500e-01,  8.9398e-05,  1.1540e-01,  ..., -1.2606e-02,\n",
       "           8.1932e-02,  5.6661e-02],\n",
       "         [ 1.4056e-01, -9.8485e-03,  1.3398e-01,  ..., -1.0888e-02,\n",
       "           7.9276e-02,  9.3634e-02],\n",
       "         [ 1.3715e-01, -8.1846e-03,  1.4285e-01,  ..., -3.0596e-02,\n",
       "           8.5643e-02,  5.2167e-02],\n",
       "         ...,\n",
       "         [ 1.1405e-01,  1.2170e-02,  1.5046e-01,  ..., -3.3237e-02,\n",
       "           1.0334e-01,  6.4803e-02],\n",
       "         [ 1.0549e-01,  3.4413e-02,  1.3863e-01,  ..., -3.4274e-02,\n",
       "           1.1682e-01,  8.4985e-02],\n",
       "         [ 1.2051e-01,  3.0402e-02,  1.2552e-01,  ..., -2.6285e-02,\n",
       "           1.1535e-01,  8.0051e-02]],\n",
       "\n",
       "        [[ 1.4353e-01, -4.5862e-02,  1.4508e-01,  ...,  3.2774e-02,\n",
       "           4.3212e-02,  4.3955e-02],\n",
       "         [ 1.3109e-01, -3.9545e-02,  1.4120e-01,  ...,  6.9653e-03,\n",
       "           7.1583e-02,  4.7609e-02],\n",
       "         [ 1.3346e-01, -1.9031e-02,  1.6631e-01,  ..., -2.1162e-02,\n",
       "           5.6763e-02,  2.1209e-02],\n",
       "         ...,\n",
       "         [ 1.5409e-01, -3.5680e-02,  1.4689e-01,  ..., -1.4507e-02,\n",
       "           8.7959e-02,  3.8159e-02],\n",
       "         [ 1.3154e-01, -1.9009e-02,  1.5903e-01,  ...,  1.9355e-02,\n",
       "           5.1910e-02,  4.2892e-02],\n",
       "         [ 1.4105e-01, -4.0477e-02,  1.5546e-01,  ..., -7.8229e-03,\n",
       "           5.1763e-02,  3.6114e-02]]], device='cuda:1', grad_fn=<AddBackward0>)"
      ]
     },
     "execution_count": 57,
     "metadata": {},
     "output_type": "execute_result"
    }
   ],
   "source": [
    "fc_1(x)"
   ]
  },
  {
   "cell_type": "code",
   "execution_count": 58,
   "id": "b96fae6e",
   "metadata": {
    "scrolled": true
   },
   "outputs": [
    {
     "data": {
      "text/plain": [
       "tensor([[[1.2092e-01, 0.0000e+00, 2.1375e-01,  ..., 0.0000e+00,\n",
       "          0.0000e+00, 9.6035e-02],\n",
       "         [1.2328e-01, 0.0000e+00, 1.8613e-01,  ..., 0.0000e+00,\n",
       "          1.1142e-03, 1.3111e-01],\n",
       "         [9.8520e-02, 0.0000e+00, 1.9743e-01,  ..., 0.0000e+00,\n",
       "          3.8334e-02, 8.0034e-02],\n",
       "         ...,\n",
       "         [9.6879e-02, 0.0000e+00, 1.9713e-01,  ..., 0.0000e+00,\n",
       "          3.9438e-02, 8.9874e-02],\n",
       "         [1.1846e-01, 0.0000e+00, 2.3427e-01,  ..., 0.0000e+00,\n",
       "          1.7571e-02, 9.7180e-02],\n",
       "         [1.1914e-01, 0.0000e+00, 2.4439e-01,  ..., 0.0000e+00,\n",
       "          3.5123e-02, 1.1855e-01]],\n",
       "\n",
       "        [[2.8158e-02, 2.5383e-02, 1.6788e-01,  ..., 0.0000e+00,\n",
       "          1.3788e-01, 8.7554e-03],\n",
       "         [0.0000e+00, 2.3287e-02, 1.7942e-01,  ..., 0.0000e+00,\n",
       "          1.2574e-01, 2.6135e-02],\n",
       "         [3.9010e-02, 0.0000e+00, 1.8451e-01,  ..., 0.0000e+00,\n",
       "          1.2946e-01, 0.0000e+00],\n",
       "         ...,\n",
       "         [2.9507e-02, 0.0000e+00, 1.7448e-01,  ..., 0.0000e+00,\n",
       "          1.2578e-01, 2.2026e-02],\n",
       "         [4.4693e-02, 0.0000e+00, 1.9786e-01,  ..., 0.0000e+00,\n",
       "          1.2207e-01, 5.0757e-03],\n",
       "         [2.1097e-03, 0.0000e+00, 1.8140e-01,  ..., 0.0000e+00,\n",
       "          1.1401e-01, 2.8501e-02]],\n",
       "\n",
       "        [[4.8215e-02, 0.0000e+00, 1.3114e-01,  ..., 9.8700e-03,\n",
       "          0.0000e+00, 1.7364e-01],\n",
       "         [3.4119e-02, 0.0000e+00, 1.2843e-01,  ..., 0.0000e+00,\n",
       "          0.0000e+00, 1.7542e-01],\n",
       "         [5.0688e-02, 0.0000e+00, 1.6345e-01,  ..., 0.0000e+00,\n",
       "          0.0000e+00, 1.6055e-01],\n",
       "         ...,\n",
       "         [5.4265e-02, 0.0000e+00, 1.6401e-01,  ..., 0.0000e+00,\n",
       "          0.0000e+00, 1.9756e-01],\n",
       "         [5.7304e-02, 0.0000e+00, 1.5948e-01,  ..., 0.0000e+00,\n",
       "          0.0000e+00, 1.9783e-01],\n",
       "         [2.8529e-02, 0.0000e+00, 1.5184e-01,  ..., 0.0000e+00,\n",
       "          0.0000e+00, 1.7654e-01]],\n",
       "\n",
       "        ...,\n",
       "\n",
       "        [[1.5579e-01, 0.0000e+00, 1.6762e-01,  ..., 0.0000e+00,\n",
       "          3.2615e-02, 1.5499e-01],\n",
       "         [1.9202e-01, 0.0000e+00, 1.5785e-01,  ..., 0.0000e+00,\n",
       "          9.3593e-02, 2.0368e-01],\n",
       "         [1.5822e-01, 0.0000e+00, 1.7207e-01,  ..., 0.0000e+00,\n",
       "          7.4387e-02, 1.5703e-01],\n",
       "         ...,\n",
       "         [1.3635e-01, 2.1361e-04, 1.8560e-01,  ..., 0.0000e+00,\n",
       "          5.0814e-02, 1.6342e-01],\n",
       "         [1.4576e-01, 0.0000e+00, 1.9746e-01,  ..., 0.0000e+00,\n",
       "          7.1555e-02, 1.8446e-01],\n",
       "         [1.6081e-01, 0.0000e+00, 2.0067e-01,  ..., 0.0000e+00,\n",
       "          3.8745e-02, 1.5751e-01]],\n",
       "\n",
       "        [[1.0500e-01, 8.9398e-05, 1.1540e-01,  ..., 0.0000e+00,\n",
       "          8.1932e-02, 5.6661e-02],\n",
       "         [1.4056e-01, 0.0000e+00, 1.3398e-01,  ..., 0.0000e+00,\n",
       "          7.9276e-02, 9.3634e-02],\n",
       "         [1.3715e-01, 0.0000e+00, 1.4285e-01,  ..., 0.0000e+00,\n",
       "          8.5643e-02, 5.2167e-02],\n",
       "         ...,\n",
       "         [1.1405e-01, 1.2170e-02, 1.5046e-01,  ..., 0.0000e+00,\n",
       "          1.0334e-01, 6.4803e-02],\n",
       "         [1.0549e-01, 3.4413e-02, 1.3863e-01,  ..., 0.0000e+00,\n",
       "          1.1682e-01, 8.4985e-02],\n",
       "         [1.2051e-01, 3.0402e-02, 1.2552e-01,  ..., 0.0000e+00,\n",
       "          1.1535e-01, 8.0051e-02]],\n",
       "\n",
       "        [[1.4353e-01, 0.0000e+00, 1.4508e-01,  ..., 3.2774e-02,\n",
       "          4.3212e-02, 4.3955e-02],\n",
       "         [1.3109e-01, 0.0000e+00, 1.4120e-01,  ..., 6.9653e-03,\n",
       "          7.1583e-02, 4.7609e-02],\n",
       "         [1.3346e-01, 0.0000e+00, 1.6631e-01,  ..., 0.0000e+00,\n",
       "          5.6763e-02, 2.1209e-02],\n",
       "         ...,\n",
       "         [1.5409e-01, 0.0000e+00, 1.4689e-01,  ..., 0.0000e+00,\n",
       "          8.7959e-02, 3.8159e-02],\n",
       "         [1.3154e-01, 0.0000e+00, 1.5903e-01,  ..., 1.9355e-02,\n",
       "          5.1910e-02, 4.2892e-02],\n",
       "         [1.4105e-01, 0.0000e+00, 1.5546e-01,  ..., 0.0000e+00,\n",
       "          5.1763e-02, 3.6114e-02]]], device='cuda:1', grad_fn=<ReluBackward0>)"
      ]
     },
     "execution_count": 58,
     "metadata": {},
     "output_type": "execute_result"
    }
   ],
   "source": [
    "torch.relu(fc_1(x)) # relu 시행시 값이 어떻게 바뀌는지 확인"
   ]
  },
  {
   "cell_type": "code",
   "execution_count": 59,
   "id": "466592ed",
   "metadata": {},
   "outputs": [
    {
     "data": {
      "text/plain": [
       "torch.Size([128, 33, 512])"
      ]
     },
     "execution_count": 59,
     "metadata": {},
     "output_type": "execute_result"
    }
   ],
   "source": [
    "# 1.\n",
    "x = dropout(torch.relu(fc_1(x)))\n",
    "x.shape #x = [batch size, seq len, pf dim]"
   ]
  },
  {
   "cell_type": "code",
   "execution_count": 60,
   "id": "8616f6b9",
   "metadata": {},
   "outputs": [
    {
     "data": {
      "text/plain": [
       "torch.Size([128, 33, 256])"
      ]
     },
     "execution_count": 60,
     "metadata": {},
     "output_type": "execute_result"
    }
   ],
   "source": [
    "# 2.\n",
    "x = fc_2(x)\n",
    "# fc를 두 번 거쳐서 입력과 출력 차원이 동일하도록(인풋의 shape를 그대로 유지함) 해줌\n",
    "       \n",
    "# return 값\n",
    "x.shape #x = [batch size, seq len, hid dim]"
   ]
  },
  {
   "cell_type": "markdown",
   "id": "7e41cc99",
   "metadata": {},
   "source": [
    "## 2.5 인코더레이어\n",
    "* 하나의 인코더 레이어에 대해\n",
    "    * 입력, 출력의 차원이 같음.\n",
    "    * -> 이를 이용해 트랜스포머의 인코더는 인코더 레이어를 여러 번 중첩해 사용.\n",
    "* 역할\n",
    "    * 인풋으로 들어오는 벡터에 대해 더 높은 차원(넓은 관점)에서의 context를 담음\n",
    "* 하이퍼 파라미터(hyperparameter)\n",
    "    * hidden_dim: 하나의 단어에 대한 임베딩 차원\n",
    "    * n_heads: 헤드(head)의 개수 = scaled dot-product attention의 개수\n",
    "    * pf_dim: Feedforward 레이어에서의 내부 임베딩 차원\n",
    "    * dropout_ratio: 드롭아웃(dropout) 비율\n",
    "* pad 토큰에 대하여 마스크(mask) 값을 0으로 설정."
   ]
  },
  {
   "cell_type": "code",
   "execution_count": 61,
   "id": "939c6f23",
   "metadata": {},
   "outputs": [],
   "source": [
    "class EncoderLayer(nn.Module):\n",
    "    def __init__(self, hid_dim, n_heads, pf_dim,dropout, device):\n",
    "        super().__init__()\n",
    "        \n",
    "        ''' Multi Head self-Attention '''   \n",
    "        self.self_attn_layer_norm = nn.LayerNorm(hid_dim)\n",
    "        self.self_attention = MultiHeadAttentionLayer(hid_dim, n_heads, dropout, device) # 멀티-헤드 어텐션\n",
    "        \n",
    "        ''' Positional FeedForward Layer'''\n",
    "        self.positionwise_feedforward = PositionwiseFeedforwardLayer(hid_dim, pf_dim, dropout) # 위치인코더 -> 위치 인코딩\n",
    "        \n",
    "        self.ff_layer_norm = nn.LayerNorm(hid_dim) # 덧셈과 계층 정규화 \n",
    "        \n",
    "        self.dropout = nn.Dropout(dropout)\n",
    "        \n",
    "    # 하나의 임베딩이 복제되어 Query, Key, Value로 입력되는 방식    \n",
    "    def forward(self, src, src_mask):\n",
    "        \n",
    "        #src = [batch size, src len, hid dim]\n",
    "        #src_mask = [batch size, 1, 1, src len] \n",
    "                \n",
    "        #self attention\n",
    "        # 필요한 경우 마스크(mask) 행렬을 이용하여 어텐션(attention)할 단어를 조절 가능\n",
    "        _src, _ = self.self_attention(src, src, src, src_mask) ##########\n",
    "        \n",
    "        #dropout, residual connection and layer norm\n",
    "        src = self.self_attn_layer_norm(src + self.dropout(_src))\n",
    "        \n",
    "        #src = [batch size, src len, hid dim]\n",
    "        \n",
    "        #positionwise feedforward\n",
    "        _src = self.positionwise_feedforward(src)\n",
    "        \n",
    "        #dropout, residual and layer norm\n",
    "        src = self.ff_layer_norm(src + self.dropout(_src))\n",
    "        \n",
    "        #src = [batch size, src len, hid dim]\n",
    "        \n",
    "        return src"
   ]
  },
  {
   "cell_type": "markdown",
   "id": "236946e8",
   "metadata": {},
   "source": [
    "def __init__(self, hid_dim, n_heads, pf_dim,dropout, device):"
   ]
  },
  {
   "cell_type": "code",
   "execution_count": 62,
   "id": "5b2353c1",
   "metadata": {},
   "outputs": [],
   "source": [
    "# 정의\n",
    "self_attn_layer_norm = nn.LayerNorm(hid_dim).to(device) # LayerNorm((256,), eps=1e-05, elementwise_affine=True)\n",
    "ff_layer_norm = nn.LayerNorm(hid_dim).to(device) # LayerNorm((256,), eps=1e-05, elementwise_affine=True)\n",
    "self_attention = MultiHeadAttentionLayer(hid_dim, n_heads, 0.1, device).to(device)\n",
    "positionwise_feedforward = PositionwiseFeedforwardLayer(hid_dim, pf_dim, 0.1).to(device)\n",
    "dropout = nn.Dropout(0.1).to(device)"
   ]
  },
  {
   "cell_type": "markdown",
   "id": "955804bd",
   "metadata": {},
   "source": [
    "def forward(self, src, src_mask):"
   ]
  },
  {
   "cell_type": "code",
   "execution_count": 63,
   "id": "087a0dc3",
   "metadata": {
    "scrolled": false
   },
   "outputs": [
    {
     "name": "stdout",
     "output_type": "stream",
     "text": [
      "torch.Size([128, 33, 256])\n",
      "torch.Size([128, 1, 1, 33])\n"
     ]
    }
   ],
   "source": [
    "# forward 시행 전 shape 확인\n",
    "print(src.shape)        #src = [batch size, src len, hid dim]\n",
    "print(src_mask.shape)        #src_mask = [batch size, 1, 1, src len] "
   ]
  },
  {
   "cell_type": "code",
   "execution_count": 64,
   "id": "6214f973",
   "metadata": {
    "scrolled": true
   },
   "outputs": [
    {
     "data": {
      "text/plain": [
       "tensor([[[ 0.1421,  2.1862,  1.2786,  ...,  0.8169, -0.8156,  0.9939],\n",
       "         [ 0.1398, -0.7816, -0.4919,  ...,  0.4420,  1.0236,  0.8938],\n",
       "         [-0.8042,  1.5627,  1.3480,  ..., -1.2275,  0.6387,  0.1244],\n",
       "         ...,\n",
       "         [-0.4649,  0.1771,  0.2606,  ...,  0.6818, -0.8742, -0.6000],\n",
       "         [-1.1260,  0.1893,  0.3192,  ...,  1.1765, -1.0056, -0.6380],\n",
       "         [-0.8556,  0.7348,  0.4981,  ...,  0.9201, -0.4887, -0.6634]],\n",
       "\n",
       "        [[ 1.0013,  1.4606,  1.0953,  ...,  1.2089, -0.4154,  0.4112],\n",
       "         [-0.4665,  0.5787,  1.9497,  ...,  0.4934,  0.3069, -1.0587],\n",
       "         [ 0.0818,  2.4000,  1.0493,  ..., -0.1271,  1.0192,  1.4516],\n",
       "         ...,\n",
       "         [-2.2811, -0.2598,  0.8500,  ...,  0.7258, -0.7214, -0.2559],\n",
       "         [-1.5202,  0.1499,  0.4923,  ...,  1.3702, -0.6123, -1.1193],\n",
       "         [-1.9052,  0.2877,  0.6039,  ...,  1.2162, -0.1249, -0.8511]],\n",
       "\n",
       "        [[ 0.1270,  2.1402,  0.1093,  ...,  1.7408,  0.6339,  0.6054],\n",
       "         [ 0.8079, -0.6077,  0.4818,  ..., -0.6837, -0.2653,  0.4728],\n",
       "         [-0.0340, -1.5715,  0.4482,  ...,  1.8072,  1.1834,  1.1442],\n",
       "         ...,\n",
       "         [-1.4673,  0.1714, -0.2129,  ..., -0.2175, -0.2297, -0.6456],\n",
       "         [-1.3813,  0.2100,  0.9000,  ...,  0.9434, -0.6605, -0.8209],\n",
       "         [-1.1947,  0.0846,  0.3027,  ...,  1.1231, -0.1521, -0.5124]],\n",
       "\n",
       "        ...,\n",
       "\n",
       "        [[ 0.2027,  1.5461,  1.6647,  ...,  1.1845,  0.4470, -0.0788],\n",
       "         [ 1.2852, -1.3688, -0.3541,  ..., -0.6645, -0.0701,  1.4673],\n",
       "         [-0.4070, -0.2967,  0.5435,  ...,  0.2029, -0.8520,  2.2596],\n",
       "         ...,\n",
       "         [-2.0830, -0.1325,  0.4506,  ...,  1.4865, -0.4927, -0.2648],\n",
       "         [ 0.2037,  0.6245,  0.9301,  ...,  1.8330, -0.2775, -0.8035],\n",
       "         [-1.7130,  0.1684,  0.4847,  ..., -0.3489, -0.8816, -0.8393]],\n",
       "\n",
       "        [[-0.1949,  2.1890,  0.8053,  ...,  1.5828,  0.5604, -0.0800],\n",
       "         [-0.1759,  1.1063,  0.7372,  ..., -0.2429,  0.2315,  2.2555],\n",
       "         [-1.3139, -0.5957,  0.2216,  ..., -0.7286,  0.1668,  0.1038],\n",
       "         ...,\n",
       "         [-2.1807,  0.9221,  0.3001,  ...,  1.2159, -0.3540, -1.0454],\n",
       "         [-0.7849,  0.5125,  0.0696,  ...,  1.6622, -0.1586, -0.7606],\n",
       "         [-1.9762, -0.3825, -0.5676,  ...,  1.9647, -0.2180, -0.9678]],\n",
       "\n",
       "        [[-0.2306,  2.5142,  1.0633,  ...,  1.5492, -0.1964, -0.3353],\n",
       "         [ 0.8677, -1.1251, -0.7293,  ..., -0.5501,  1.6155,  0.7192],\n",
       "         [-0.1704, -1.7105, -0.0467,  ...,  1.9273,  1.5970,  0.7696],\n",
       "         ...,\n",
       "         [-1.4592,  0.0976,  0.3073,  ...,  1.3412, -0.7583, -0.4714],\n",
       "         [-1.0374,  0.8431,  0.4612,  ...,  1.1788,  0.0491,  0.0765],\n",
       "         [-1.1668,  0.9900,  0.3314,  ...,  1.4729, -0.4659,  0.2006]]],\n",
       "       device='cuda:1', grad_fn=<NativeLayerNormBackward>)"
      ]
     },
     "execution_count": 64,
     "metadata": {},
     "output_type": "execute_result"
    }
   ],
   "source": [
    "src"
   ]
  },
  {
   "cell_type": "code",
   "execution_count": 65,
   "id": "fc4c501d",
   "metadata": {
    "scrolled": true
   },
   "outputs": [
    {
     "data": {
      "text/plain": [
       "tensor([[[[ True,  True,  True,  ..., False, False, False]]],\n",
       "\n",
       "\n",
       "        [[[ True,  True,  True,  ..., False, False, False]]],\n",
       "\n",
       "\n",
       "        [[[ True,  True,  True,  ..., False, False, False]]],\n",
       "\n",
       "\n",
       "        ...,\n",
       "\n",
       "\n",
       "        [[[ True,  True,  True,  ..., False, False, False]]],\n",
       "\n",
       "\n",
       "        [[[ True,  True,  True,  ..., False, False, False]]],\n",
       "\n",
       "\n",
       "        [[[ True,  True,  True,  ..., False, False, False]]]], device='cuda:1')"
      ]
     },
     "execution_count": 65,
     "metadata": {},
     "output_type": "execute_result"
    }
   ],
   "source": [
    "src_mask"
   ]
  },
  {
   "cell_type": "markdown",
   "id": "5d36172c",
   "metadata": {},
   "source": [
    "* self attention\n",
    "* class MultiHeadAttentionLayer(nn.Module):\n",
    "    * def __init__(self, hid_dim, n_heads, dropout, device):\n",
    "    \n",
    "* class EncoderLayer(nn.Module):\n",
    "    * def __init__(self, hid_dim, n_heads, pf_dim,dropout, device):\n",
    "        * self.self_attention = MultiHeadAttentionLayer(hid_dim, n_heads, dropout, device)"
   ]
  },
  {
   "cell_type": "markdown",
   "id": "3b08f41b",
   "metadata": {},
   "source": [
    "* 인코더의 셀프어텐션\n",
    "    * Query =Key= Value가 모두 같음(모두 인코더에서 가져옴)\n",
    "    * 필요한 경우 마스크(mask) 행렬을 이용하여 어텐션(attention)할 단어를 조절 가능 -- src_mask라고 뒤에 설정하는 이유\n",
    "    * -> src, src, srcf라고 둠"
   ]
  },
  {
   "cell_type": "code",
   "execution_count": 66,
   "id": "4e7efc32",
   "metadata": {
    "scrolled": true
   },
   "outputs": [
    {
     "data": {
      "text/plain": [
       "MultiHeadAttentionLayer(\n",
       "  (fc_q): Linear(in_features=256, out_features=256, bias=True)\n",
       "  (fc_k): Linear(in_features=256, out_features=256, bias=True)\n",
       "  (fc_v): Linear(in_features=256, out_features=256, bias=True)\n",
       "  (fc_o): Linear(in_features=256, out_features=256, bias=True)\n",
       "  (dropout): Dropout(p=0.1, inplace=False)\n",
       ")"
      ]
     },
     "execution_count": 66,
     "metadata": {},
     "output_type": "execute_result"
    }
   ],
   "source": [
    "self_attention"
   ]
  },
  {
   "cell_type": "code",
   "execution_count": 67,
   "id": "5998b38d",
   "metadata": {
    "scrolled": true
   },
   "outputs": [
    {
     "name": "stdout",
     "output_type": "stream",
     "text": [
      "torch.Size([128, 33, 256])\n"
     ]
    }
   ],
   "source": [
    "# 1.\n",
    "_src, _ = self_attention(src, src, src, src_mask)\n",
    "print(_src.shape)"
   ]
  },
  {
   "cell_type": "code",
   "execution_count": 68,
   "id": "dad63e62",
   "metadata": {
    "scrolled": true
   },
   "outputs": [
    {
     "data": {
      "text/plain": [
       "tensor([[[-0.0707,  0.2216, -0.1377,  ..., -0.2040,  0.0182, -0.3989],\n",
       "         [-0.0554,  0.2112, -0.0661,  ..., -0.1924,  0.1150, -0.3144],\n",
       "         [-0.0478,  0.1968, -0.0787,  ..., -0.1731, -0.0521, -0.3144],\n",
       "         ...,\n",
       "         [-0.1214,  0.2350, -0.1124,  ..., -0.2113,  0.0686, -0.3812],\n",
       "         [-0.1392,  0.2145, -0.0693,  ..., -0.2185,  0.0169, -0.3544],\n",
       "         [-0.1021,  0.2488, -0.1169,  ..., -0.1837,  0.0098, -0.3277]],\n",
       "\n",
       "        [[ 0.0233,  0.1583,  0.0265,  ..., -0.2480,  0.1666, -0.3592],\n",
       "         [ 0.0411,  0.2017,  0.0151,  ..., -0.2439,  0.1154, -0.2769],\n",
       "         [ 0.0393,  0.1774,  0.0433,  ..., -0.2254,  0.0909, -0.2616],\n",
       "         ...,\n",
       "         [ 0.0530,  0.1711, -0.0253,  ..., -0.2256,  0.0871, -0.2711],\n",
       "         [ 0.0674,  0.1612, -0.0396,  ..., -0.2035,  0.0803, -0.2230],\n",
       "         [ 0.0701,  0.1705, -0.0051,  ..., -0.2236,  0.0587, -0.2890]],\n",
       "\n",
       "        [[ 0.0201,  0.1924, -0.0083,  ..., -0.3083,  0.2567, -0.0573],\n",
       "         [ 0.0083,  0.2459,  0.0486,  ..., -0.2578,  0.2801, -0.0728],\n",
       "         [ 0.0203,  0.1833,  0.1094,  ..., -0.2885,  0.2391, -0.1170],\n",
       "         ...,\n",
       "         [ 0.0010,  0.2003,  0.0451,  ..., -0.3237,  0.2909, -0.0787],\n",
       "         [ 0.0187,  0.1940,  0.0763,  ..., -0.2601,  0.2187, -0.0866],\n",
       "         [ 0.0337,  0.1550,  0.0189,  ..., -0.3085,  0.1939, -0.2140]],\n",
       "\n",
       "        ...,\n",
       "\n",
       "        [[-0.2187,  0.2283, -0.0911,  ..., -0.1113,  0.2450, -0.3507],\n",
       "         [-0.2565,  0.2867, -0.0782,  ..., -0.1855,  0.2499, -0.2860],\n",
       "         [-0.2496,  0.2598, -0.0803,  ..., -0.0968,  0.2247, -0.2810],\n",
       "         ...,\n",
       "         [-0.2192,  0.2900, -0.0602,  ..., -0.1579,  0.2690, -0.2577],\n",
       "         [-0.1953,  0.2767, -0.1126,  ..., -0.1298,  0.2864, -0.2463],\n",
       "         [-0.2470,  0.3147, -0.0625,  ..., -0.0581,  0.2694, -0.2196]],\n",
       "\n",
       "        [[-0.0118,  0.1615, -0.0453,  ..., -0.0767,  0.0531, -0.4097],\n",
       "         [-0.0128,  0.2211, -0.0333,  ..., -0.1044,  0.0364, -0.4673],\n",
       "         [-0.0196,  0.2344, -0.0266,  ..., -0.1225,  0.0733, -0.4104],\n",
       "         ...,\n",
       "         [-0.0317,  0.2431, -0.0659,  ..., -0.0799,  0.1398, -0.4209],\n",
       "         [ 0.0161,  0.2643, -0.0097,  ..., -0.1275,  0.1088, -0.3649],\n",
       "         [-0.0414,  0.2258, -0.0631,  ..., -0.0843,  0.1179, -0.4562]],\n",
       "\n",
       "        [[-0.0626,  0.3026, -0.0006,  ..., -0.1906,  0.1895, -0.1805],\n",
       "         [-0.0307,  0.2628,  0.0206,  ..., -0.1793,  0.1884, -0.1717],\n",
       "         [-0.0673,  0.2892, -0.0244,  ..., -0.2270,  0.1525, -0.2119],\n",
       "         ...,\n",
       "         [ 0.0153,  0.2726, -0.0413,  ..., -0.1989,  0.1584, -0.1888],\n",
       "         [ 0.0397,  0.2814, -0.0415,  ..., -0.2316,  0.1880, -0.2415],\n",
       "         [ 0.0082,  0.2968,  0.0127,  ..., -0.1971,  0.2033, -0.1995]]],\n",
       "       device='cuda:1', grad_fn=<AddBackward0>)"
      ]
     },
     "execution_count": 68,
     "metadata": {},
     "output_type": "execute_result"
    }
   ],
   "source": [
    "_src"
   ]
  },
  {
   "cell_type": "code",
   "execution_count": 69,
   "id": "b60f6a7c",
   "metadata": {},
   "outputs": [
    {
     "data": {
      "text/plain": [
       "LayerNorm((256,), eps=1e-05, elementwise_affine=True)"
      ]
     },
     "execution_count": 69,
     "metadata": {},
     "output_type": "execute_result"
    }
   ],
   "source": [
    "self_attn_layer_norm"
   ]
  },
  {
   "cell_type": "code",
   "execution_count": 70,
   "id": "4b5817bb",
   "metadata": {},
   "outputs": [
    {
     "name": "stdout",
     "output_type": "stream",
     "text": [
      "torch.Size([128, 33, 256])\n"
     ]
    }
   ],
   "source": [
    "# 2.\n",
    "# 드롭아웃, 잔차연결, 정규화 진행\n",
    "src = self_attn_layer_norm(src + dropout(_src)) # LayerNorm((256,), eps=1e-05, elementwise_affine=True)\n",
    "print(src.shape) #src = [batch size, src len, hid dim]"
   ]
  },
  {
   "cell_type": "markdown",
   "id": "ff4b3eb3",
   "metadata": {},
   "source": [
    "* position-wise feed forward\n",
    "    * 인풋, 아웃풋 차원은 256\n",
    "    * attention과 함께 쓰이는 fully connected feed-forward network"
   ]
  },
  {
   "cell_type": "code",
   "execution_count": 71,
   "id": "13345035",
   "metadata": {},
   "outputs": [
    {
     "data": {
      "text/plain": [
       "PositionwiseFeedforwardLayer(\n",
       "  (fc_1): Linear(in_features=256, out_features=512, bias=True)\n",
       "  (fc_2): Linear(in_features=512, out_features=256, bias=True)\n",
       "  (dropout): Dropout(p=0.1, inplace=False)\n",
       ")"
      ]
     },
     "execution_count": 71,
     "metadata": {},
     "output_type": "execute_result"
    }
   ],
   "source": [
    "positionwise_feedforward"
   ]
  },
  {
   "cell_type": "code",
   "execution_count": 72,
   "id": "e437140a",
   "metadata": {},
   "outputs": [
    {
     "name": "stdout",
     "output_type": "stream",
     "text": [
      "torch.Size([128, 33, 256])\n"
     ]
    }
   ],
   "source": [
    "# 3. \n",
    "# positionwise feedforward\n",
    "_src = positionwise_feedforward(src)\n",
    "print(_src.shape) "
   ]
  },
  {
   "cell_type": "code",
   "execution_count": 73,
   "id": "2364f842",
   "metadata": {
    "scrolled": true
   },
   "outputs": [
    {
     "data": {
      "text/plain": [
       "LayerNorm((256,), eps=1e-05, elementwise_affine=True)"
      ]
     },
     "execution_count": 73,
     "metadata": {},
     "output_type": "execute_result"
    }
   ],
   "source": [
    "ff_layer_norm"
   ]
  },
  {
   "cell_type": "code",
   "execution_count": 74,
   "id": "c057e37d",
   "metadata": {},
   "outputs": [
    {
     "name": "stdout",
     "output_type": "stream",
     "text": [
      "torch.Size([128, 33, 256])\n"
     ]
    }
   ],
   "source": [
    "# 4. \n",
    "# 드롭아웃, 잔차연결, 정규화 진행\n",
    "src = ff_layer_norm(src + dropout(_src))\n",
    "\n",
    "# return\n",
    "print(src.shape) #src = [batch size, src len, hid dim]"
   ]
  }
 ],
 "metadata": {
  "kernelspec": {
   "display_name": "hyolim_py38",
   "language": "python",
   "name": "hyolim_py38"
  },
  "language_info": {
   "codemirror_mode": {
    "name": "ipython",
    "version": 3
   },
   "file_extension": ".py",
   "mimetype": "text/x-python",
   "name": "python",
   "nbconvert_exporter": "python",
   "pygments_lexer": "ipython3",
   "version": "3.8.10"
  }
 },
 "nbformat": 4,
 "nbformat_minor": 5
}
